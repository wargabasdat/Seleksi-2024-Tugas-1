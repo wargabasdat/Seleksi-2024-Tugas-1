{
  "cells": [
    {
      "cell_type": "markdown",
      "source": [
        "## **Nama** : Farah Aulia <br>\n",
        "## **NIM** : 18222096"
      ],
      "metadata": {
        "id": "oCfHt1lm9m35"
      },
      "id": "oCfHt1lm9m35"
    },
    {
      "cell_type": "markdown",
      "id": "2729eea1",
      "metadata": {
        "id": "2729eea1"
      },
      "source": [
        "# Scraping Data"
      ]
    },
    {
      "cell_type": "code",
      "execution_count": 1,
      "id": "27e83112",
      "metadata": {
        "id": "27e83112"
      },
      "outputs": [],
      "source": [
        "from bs4 import BeautifulSoup\n",
        "import requests"
      ]
    },
    {
      "cell_type": "code",
      "execution_count": 2,
      "id": "b40dce12",
      "metadata": {
        "id": "b40dce12"
      },
      "outputs": [],
      "source": [
        "url = 'https://en.wikipedia.org/wiki/List_of_largest_companies_in_the_United_States_by_revenue'\n",
        "\n",
        "page = requests.get(url)\n",
        "\n",
        "soup = BeautifulSoup(page.text, 'html')"
      ]
    },
    {
      "cell_type": "code",
      "execution_count": 3,
      "id": "24a2cf59",
      "metadata": {
        "id": "24a2cf59"
      },
      "outputs": [],
      "source": [
        "table = soup.find_all('table')[1]"
      ]
    },
    {
      "cell_type": "code",
      "execution_count": 4,
      "id": "6328f94e",
      "metadata": {
        "id": "6328f94e"
      },
      "outputs": [],
      "source": [
        "world_titles = table.find_all('th')"
      ]
    },
    {
      "cell_type": "code",
      "execution_count": 5,
      "id": "b948397a",
      "metadata": {
        "colab": {
          "base_uri": "https://localhost:8080/"
        },
        "id": "b948397a",
        "outputId": "a1a829fe-ba20-4a11-ddf4-1214ea0517ed"
      },
      "outputs": [
        {
          "output_type": "stream",
          "name": "stdout",
          "text": [
            "['Rank', 'Name', 'Industry', 'Revenue (USD millions)', 'Revenue growth', 'Employees', 'Headquarters']\n"
          ]
        }
      ],
      "source": [
        "world_table_titles = [title.text.strip() for title in world_titles]\n",
        "\n",
        "print(world_table_titles)"
      ]
    },
    {
      "cell_type": "code",
      "execution_count": 6,
      "id": "7a2a61b3",
      "metadata": {
        "id": "7a2a61b3"
      },
      "outputs": [],
      "source": [
        "import pandas as pd"
      ]
    },
    {
      "cell_type": "code",
      "execution_count": 7,
      "id": "20171246",
      "metadata": {
        "colab": {
          "base_uri": "https://localhost:8080/",
          "height": 89
        },
        "id": "20171246",
        "outputId": "e1376722-4288-4b54-df37-04e5f695313d"
      },
      "outputs": [
        {
          "output_type": "execute_result",
          "data": {
            "text/plain": [
              "Empty DataFrame\n",
              "Columns: [Rank, Name, Industry, Revenue (USD millions), Revenue growth, Employees, Headquarters]\n",
              "Index: []"
            ],
            "text/html": [
              "\n",
              "  <div id=\"df-8377ff81-d327-4980-96e2-2e9e48160d41\" class=\"colab-df-container\">\n",
              "    <div>\n",
              "<style scoped>\n",
              "    .dataframe tbody tr th:only-of-type {\n",
              "        vertical-align: middle;\n",
              "    }\n",
              "\n",
              "    .dataframe tbody tr th {\n",
              "        vertical-align: top;\n",
              "    }\n",
              "\n",
              "    .dataframe thead th {\n",
              "        text-align: right;\n",
              "    }\n",
              "</style>\n",
              "<table border=\"1\" class=\"dataframe\">\n",
              "  <thead>\n",
              "    <tr style=\"text-align: right;\">\n",
              "      <th></th>\n",
              "      <th>Rank</th>\n",
              "      <th>Name</th>\n",
              "      <th>Industry</th>\n",
              "      <th>Revenue (USD millions)</th>\n",
              "      <th>Revenue growth</th>\n",
              "      <th>Employees</th>\n",
              "      <th>Headquarters</th>\n",
              "    </tr>\n",
              "  </thead>\n",
              "  <tbody>\n",
              "  </tbody>\n",
              "</table>\n",
              "</div>\n",
              "    <div class=\"colab-df-buttons\">\n",
              "\n",
              "  <div class=\"colab-df-container\">\n",
              "    <button class=\"colab-df-convert\" onclick=\"convertToInteractive('df-8377ff81-d327-4980-96e2-2e9e48160d41')\"\n",
              "            title=\"Convert this dataframe to an interactive table.\"\n",
              "            style=\"display:none;\">\n",
              "\n",
              "  <svg xmlns=\"http://www.w3.org/2000/svg\" height=\"24px\" viewBox=\"0 -960 960 960\">\n",
              "    <path d=\"M120-120v-720h720v720H120Zm60-500h600v-160H180v160Zm220 220h160v-160H400v160Zm0 220h160v-160H400v160ZM180-400h160v-160H180v160Zm440 0h160v-160H620v160ZM180-180h160v-160H180v160Zm440 0h160v-160H620v160Z\"/>\n",
              "  </svg>\n",
              "    </button>\n",
              "\n",
              "  <style>\n",
              "    .colab-df-container {\n",
              "      display:flex;\n",
              "      gap: 12px;\n",
              "    }\n",
              "\n",
              "    .colab-df-convert {\n",
              "      background-color: #E8F0FE;\n",
              "      border: none;\n",
              "      border-radius: 50%;\n",
              "      cursor: pointer;\n",
              "      display: none;\n",
              "      fill: #1967D2;\n",
              "      height: 32px;\n",
              "      padding: 0 0 0 0;\n",
              "      width: 32px;\n",
              "    }\n",
              "\n",
              "    .colab-df-convert:hover {\n",
              "      background-color: #E2EBFA;\n",
              "      box-shadow: 0px 1px 2px rgba(60, 64, 67, 0.3), 0px 1px 3px 1px rgba(60, 64, 67, 0.15);\n",
              "      fill: #174EA6;\n",
              "    }\n",
              "\n",
              "    .colab-df-buttons div {\n",
              "      margin-bottom: 4px;\n",
              "    }\n",
              "\n",
              "    [theme=dark] .colab-df-convert {\n",
              "      background-color: #3B4455;\n",
              "      fill: #D2E3FC;\n",
              "    }\n",
              "\n",
              "    [theme=dark] .colab-df-convert:hover {\n",
              "      background-color: #434B5C;\n",
              "      box-shadow: 0px 1px 3px 1px rgba(0, 0, 0, 0.15);\n",
              "      filter: drop-shadow(0px 1px 2px rgba(0, 0, 0, 0.3));\n",
              "      fill: #FFFFFF;\n",
              "    }\n",
              "  </style>\n",
              "\n",
              "    <script>\n",
              "      const buttonEl =\n",
              "        document.querySelector('#df-8377ff81-d327-4980-96e2-2e9e48160d41 button.colab-df-convert');\n",
              "      buttonEl.style.display =\n",
              "        google.colab.kernel.accessAllowed ? 'block' : 'none';\n",
              "\n",
              "      async function convertToInteractive(key) {\n",
              "        const element = document.querySelector('#df-8377ff81-d327-4980-96e2-2e9e48160d41');\n",
              "        const dataTable =\n",
              "          await google.colab.kernel.invokeFunction('convertToInteractive',\n",
              "                                                    [key], {});\n",
              "        if (!dataTable) return;\n",
              "\n",
              "        const docLinkHtml = 'Like what you see? Visit the ' +\n",
              "          '<a target=\"_blank\" href=https://colab.research.google.com/notebooks/data_table.ipynb>data table notebook</a>'\n",
              "          + ' to learn more about interactive tables.';\n",
              "        element.innerHTML = '';\n",
              "        dataTable['output_type'] = 'display_data';\n",
              "        await google.colab.output.renderOutput(dataTable, element);\n",
              "        const docLink = document.createElement('div');\n",
              "        docLink.innerHTML = docLinkHtml;\n",
              "        element.appendChild(docLink);\n",
              "      }\n",
              "    </script>\n",
              "  </div>\n",
              "\n",
              "\n",
              "  <div id=\"id_086387a4-5d60-4a64-9044-aa4ac08e8287\">\n",
              "    <style>\n",
              "      .colab-df-generate {\n",
              "        background-color: #E8F0FE;\n",
              "        border: none;\n",
              "        border-radius: 50%;\n",
              "        cursor: pointer;\n",
              "        display: none;\n",
              "        fill: #1967D2;\n",
              "        height: 32px;\n",
              "        padding: 0 0 0 0;\n",
              "        width: 32px;\n",
              "      }\n",
              "\n",
              "      .colab-df-generate:hover {\n",
              "        background-color: #E2EBFA;\n",
              "        box-shadow: 0px 1px 2px rgba(60, 64, 67, 0.3), 0px 1px 3px 1px rgba(60, 64, 67, 0.15);\n",
              "        fill: #174EA6;\n",
              "      }\n",
              "\n",
              "      [theme=dark] .colab-df-generate {\n",
              "        background-color: #3B4455;\n",
              "        fill: #D2E3FC;\n",
              "      }\n",
              "\n",
              "      [theme=dark] .colab-df-generate:hover {\n",
              "        background-color: #434B5C;\n",
              "        box-shadow: 0px 1px 3px 1px rgba(0, 0, 0, 0.15);\n",
              "        filter: drop-shadow(0px 1px 2px rgba(0, 0, 0, 0.3));\n",
              "        fill: #FFFFFF;\n",
              "      }\n",
              "    </style>\n",
              "    <button class=\"colab-df-generate\" onclick=\"generateWithVariable('df')\"\n",
              "            title=\"Generate code using this dataframe.\"\n",
              "            style=\"display:none;\">\n",
              "\n",
              "  <svg xmlns=\"http://www.w3.org/2000/svg\" height=\"24px\"viewBox=\"0 0 24 24\"\n",
              "       width=\"24px\">\n",
              "    <path d=\"M7,19H8.4L18.45,9,17,7.55,7,17.6ZM5,21V16.75L18.45,3.32a2,2,0,0,1,2.83,0l1.4,1.43a1.91,1.91,0,0,1,.58,1.4,1.91,1.91,0,0,1-.58,1.4L9.25,21ZM18.45,9,17,7.55Zm-12,3A5.31,5.31,0,0,0,4.9,8.1,5.31,5.31,0,0,0,1,6.5,5.31,5.31,0,0,0,4.9,4.9,5.31,5.31,0,0,0,6.5,1,5.31,5.31,0,0,0,8.1,4.9,5.31,5.31,0,0,0,12,6.5,5.46,5.46,0,0,0,6.5,12Z\"/>\n",
              "  </svg>\n",
              "    </button>\n",
              "    <script>\n",
              "      (() => {\n",
              "      const buttonEl =\n",
              "        document.querySelector('#id_086387a4-5d60-4a64-9044-aa4ac08e8287 button.colab-df-generate');\n",
              "      buttonEl.style.display =\n",
              "        google.colab.kernel.accessAllowed ? 'block' : 'none';\n",
              "\n",
              "      buttonEl.onclick = () => {\n",
              "        google.colab.notebook.generateWithVariable('df');\n",
              "      }\n",
              "      })();\n",
              "    </script>\n",
              "  </div>\n",
              "\n",
              "    </div>\n",
              "  </div>\n"
            ],
            "application/vnd.google.colaboratory.intrinsic+json": {
              "type": "dataframe",
              "variable_name": "df",
              "repr_error": "Out of range float values are not JSON compliant: nan"
            }
          },
          "metadata": {},
          "execution_count": 7
        }
      ],
      "source": [
        "df = pd.DataFrame(columns = world_table_titles)\n",
        "\n",
        "df"
      ]
    },
    {
      "cell_type": "code",
      "execution_count": 8,
      "id": "fdaccd2e",
      "metadata": {
        "id": "fdaccd2e"
      },
      "outputs": [],
      "source": [
        "column_data = table.find_all('tr')"
      ]
    },
    {
      "cell_type": "code",
      "execution_count": 9,
      "id": "150fae0c",
      "metadata": {
        "id": "150fae0c"
      },
      "outputs": [],
      "source": [
        "for row in column_data[1:]:\n",
        "    row_data = row.find_all('td')\n",
        "    individual_row_data = [data.text.strip() for data in row_data]\n",
        "\n",
        "    length = len(df)\n",
        "    df.loc[length] = individual_row_data"
      ]
    },
    {
      "cell_type": "code",
      "execution_count": 10,
      "id": "13567f2e",
      "metadata": {
        "colab": {
          "base_uri": "https://localhost:8080/",
          "height": 424
        },
        "id": "13567f2e",
        "outputId": "54c61bcf-3171-41d3-d784-3b710a29a0fb"
      },
      "outputs": [
        {
          "output_type": "execute_result",
          "data": {
            "text/plain": [
              "   Rank                      Name                    Industry  \\\n",
              "0     1                   Walmart                      Retail   \n",
              "1     2                    Amazon  Retail and cloud computing   \n",
              "2     3                ExxonMobil          Petroleum industry   \n",
              "3     4                     Apple        Electronics industry   \n",
              "4     5        UnitedHealth Group                  Healthcare   \n",
              "..  ...                       ...                         ...   \n",
              "95   96                  Best Buy                      Retail   \n",
              "96   97      Bristol-Myers Squibb     Pharmaceutical industry   \n",
              "97   98           United Airlines                     Airline   \n",
              "98   99  Thermo Fisher Scientific      Laboratory instruments   \n",
              "99  100                  Qualcomm                  Technology   \n",
              "\n",
              "   Revenue (USD millions) Revenue growth  Employees             Headquarters  \n",
              "0                 611,289           6.7%  2,100,000    Bentonville, Arkansas  \n",
              "1                 513,983           9.4%  1,540,000      Seattle, Washington  \n",
              "2                 413,680          44.8%     62,000            Spring, Texas  \n",
              "3                 394,328           7.8%    164,000    Cupertino, California  \n",
              "4                 324,162          12.7%    400,000    Minnetonka, Minnesota  \n",
              "..                    ...            ...        ...                      ...  \n",
              "95                 46,298          10.6%     71,100     Richfield, Minnesota  \n",
              "96                 46,159           0.5%     34,300  New York City, New York  \n",
              "97                 44,955          82.5%     92,795        Chicago, Illinois  \n",
              "98                 44,915          14.5%    130,000   Waltham, Massachusetts  \n",
              "99                 44,200          31.7%     51,000    San Diego, California  \n",
              "\n",
              "[100 rows x 7 columns]"
            ],
            "text/html": [
              "\n",
              "  <div id=\"df-9961d4aa-715d-4afc-aefe-7621d3283b24\" class=\"colab-df-container\">\n",
              "    <div>\n",
              "<style scoped>\n",
              "    .dataframe tbody tr th:only-of-type {\n",
              "        vertical-align: middle;\n",
              "    }\n",
              "\n",
              "    .dataframe tbody tr th {\n",
              "        vertical-align: top;\n",
              "    }\n",
              "\n",
              "    .dataframe thead th {\n",
              "        text-align: right;\n",
              "    }\n",
              "</style>\n",
              "<table border=\"1\" class=\"dataframe\">\n",
              "  <thead>\n",
              "    <tr style=\"text-align: right;\">\n",
              "      <th></th>\n",
              "      <th>Rank</th>\n",
              "      <th>Name</th>\n",
              "      <th>Industry</th>\n",
              "      <th>Revenue (USD millions)</th>\n",
              "      <th>Revenue growth</th>\n",
              "      <th>Employees</th>\n",
              "      <th>Headquarters</th>\n",
              "    </tr>\n",
              "  </thead>\n",
              "  <tbody>\n",
              "    <tr>\n",
              "      <th>0</th>\n",
              "      <td>1</td>\n",
              "      <td>Walmart</td>\n",
              "      <td>Retail</td>\n",
              "      <td>611,289</td>\n",
              "      <td>6.7%</td>\n",
              "      <td>2,100,000</td>\n",
              "      <td>Bentonville, Arkansas</td>\n",
              "    </tr>\n",
              "    <tr>\n",
              "      <th>1</th>\n",
              "      <td>2</td>\n",
              "      <td>Amazon</td>\n",
              "      <td>Retail and cloud computing</td>\n",
              "      <td>513,983</td>\n",
              "      <td>9.4%</td>\n",
              "      <td>1,540,000</td>\n",
              "      <td>Seattle, Washington</td>\n",
              "    </tr>\n",
              "    <tr>\n",
              "      <th>2</th>\n",
              "      <td>3</td>\n",
              "      <td>ExxonMobil</td>\n",
              "      <td>Petroleum industry</td>\n",
              "      <td>413,680</td>\n",
              "      <td>44.8%</td>\n",
              "      <td>62,000</td>\n",
              "      <td>Spring, Texas</td>\n",
              "    </tr>\n",
              "    <tr>\n",
              "      <th>3</th>\n",
              "      <td>4</td>\n",
              "      <td>Apple</td>\n",
              "      <td>Electronics industry</td>\n",
              "      <td>394,328</td>\n",
              "      <td>7.8%</td>\n",
              "      <td>164,000</td>\n",
              "      <td>Cupertino, California</td>\n",
              "    </tr>\n",
              "    <tr>\n",
              "      <th>4</th>\n",
              "      <td>5</td>\n",
              "      <td>UnitedHealth Group</td>\n",
              "      <td>Healthcare</td>\n",
              "      <td>324,162</td>\n",
              "      <td>12.7%</td>\n",
              "      <td>400,000</td>\n",
              "      <td>Minnetonka, Minnesota</td>\n",
              "    </tr>\n",
              "    <tr>\n",
              "      <th>...</th>\n",
              "      <td>...</td>\n",
              "      <td>...</td>\n",
              "      <td>...</td>\n",
              "      <td>...</td>\n",
              "      <td>...</td>\n",
              "      <td>...</td>\n",
              "      <td>...</td>\n",
              "    </tr>\n",
              "    <tr>\n",
              "      <th>95</th>\n",
              "      <td>96</td>\n",
              "      <td>Best Buy</td>\n",
              "      <td>Retail</td>\n",
              "      <td>46,298</td>\n",
              "      <td>10.6%</td>\n",
              "      <td>71,100</td>\n",
              "      <td>Richfield, Minnesota</td>\n",
              "    </tr>\n",
              "    <tr>\n",
              "      <th>96</th>\n",
              "      <td>97</td>\n",
              "      <td>Bristol-Myers Squibb</td>\n",
              "      <td>Pharmaceutical industry</td>\n",
              "      <td>46,159</td>\n",
              "      <td>0.5%</td>\n",
              "      <td>34,300</td>\n",
              "      <td>New York City, New York</td>\n",
              "    </tr>\n",
              "    <tr>\n",
              "      <th>97</th>\n",
              "      <td>98</td>\n",
              "      <td>United Airlines</td>\n",
              "      <td>Airline</td>\n",
              "      <td>44,955</td>\n",
              "      <td>82.5%</td>\n",
              "      <td>92,795</td>\n",
              "      <td>Chicago, Illinois</td>\n",
              "    </tr>\n",
              "    <tr>\n",
              "      <th>98</th>\n",
              "      <td>99</td>\n",
              "      <td>Thermo Fisher Scientific</td>\n",
              "      <td>Laboratory instruments</td>\n",
              "      <td>44,915</td>\n",
              "      <td>14.5%</td>\n",
              "      <td>130,000</td>\n",
              "      <td>Waltham, Massachusetts</td>\n",
              "    </tr>\n",
              "    <tr>\n",
              "      <th>99</th>\n",
              "      <td>100</td>\n",
              "      <td>Qualcomm</td>\n",
              "      <td>Technology</td>\n",
              "      <td>44,200</td>\n",
              "      <td>31.7%</td>\n",
              "      <td>51,000</td>\n",
              "      <td>San Diego, California</td>\n",
              "    </tr>\n",
              "  </tbody>\n",
              "</table>\n",
              "<p>100 rows × 7 columns</p>\n",
              "</div>\n",
              "    <div class=\"colab-df-buttons\">\n",
              "\n",
              "  <div class=\"colab-df-container\">\n",
              "    <button class=\"colab-df-convert\" onclick=\"convertToInteractive('df-9961d4aa-715d-4afc-aefe-7621d3283b24')\"\n",
              "            title=\"Convert this dataframe to an interactive table.\"\n",
              "            style=\"display:none;\">\n",
              "\n",
              "  <svg xmlns=\"http://www.w3.org/2000/svg\" height=\"24px\" viewBox=\"0 -960 960 960\">\n",
              "    <path d=\"M120-120v-720h720v720H120Zm60-500h600v-160H180v160Zm220 220h160v-160H400v160Zm0 220h160v-160H400v160ZM180-400h160v-160H180v160Zm440 0h160v-160H620v160ZM180-180h160v-160H180v160Zm440 0h160v-160H620v160Z\"/>\n",
              "  </svg>\n",
              "    </button>\n",
              "\n",
              "  <style>\n",
              "    .colab-df-container {\n",
              "      display:flex;\n",
              "      gap: 12px;\n",
              "    }\n",
              "\n",
              "    .colab-df-convert {\n",
              "      background-color: #E8F0FE;\n",
              "      border: none;\n",
              "      border-radius: 50%;\n",
              "      cursor: pointer;\n",
              "      display: none;\n",
              "      fill: #1967D2;\n",
              "      height: 32px;\n",
              "      padding: 0 0 0 0;\n",
              "      width: 32px;\n",
              "    }\n",
              "\n",
              "    .colab-df-convert:hover {\n",
              "      background-color: #E2EBFA;\n",
              "      box-shadow: 0px 1px 2px rgba(60, 64, 67, 0.3), 0px 1px 3px 1px rgba(60, 64, 67, 0.15);\n",
              "      fill: #174EA6;\n",
              "    }\n",
              "\n",
              "    .colab-df-buttons div {\n",
              "      margin-bottom: 4px;\n",
              "    }\n",
              "\n",
              "    [theme=dark] .colab-df-convert {\n",
              "      background-color: #3B4455;\n",
              "      fill: #D2E3FC;\n",
              "    }\n",
              "\n",
              "    [theme=dark] .colab-df-convert:hover {\n",
              "      background-color: #434B5C;\n",
              "      box-shadow: 0px 1px 3px 1px rgba(0, 0, 0, 0.15);\n",
              "      filter: drop-shadow(0px 1px 2px rgba(0, 0, 0, 0.3));\n",
              "      fill: #FFFFFF;\n",
              "    }\n",
              "  </style>\n",
              "\n",
              "    <script>\n",
              "      const buttonEl =\n",
              "        document.querySelector('#df-9961d4aa-715d-4afc-aefe-7621d3283b24 button.colab-df-convert');\n",
              "      buttonEl.style.display =\n",
              "        google.colab.kernel.accessAllowed ? 'block' : 'none';\n",
              "\n",
              "      async function convertToInteractive(key) {\n",
              "        const element = document.querySelector('#df-9961d4aa-715d-4afc-aefe-7621d3283b24');\n",
              "        const dataTable =\n",
              "          await google.colab.kernel.invokeFunction('convertToInteractive',\n",
              "                                                    [key], {});\n",
              "        if (!dataTable) return;\n",
              "\n",
              "        const docLinkHtml = 'Like what you see? Visit the ' +\n",
              "          '<a target=\"_blank\" href=https://colab.research.google.com/notebooks/data_table.ipynb>data table notebook</a>'\n",
              "          + ' to learn more about interactive tables.';\n",
              "        element.innerHTML = '';\n",
              "        dataTable['output_type'] = 'display_data';\n",
              "        await google.colab.output.renderOutput(dataTable, element);\n",
              "        const docLink = document.createElement('div');\n",
              "        docLink.innerHTML = docLinkHtml;\n",
              "        element.appendChild(docLink);\n",
              "      }\n",
              "    </script>\n",
              "  </div>\n",
              "\n",
              "\n",
              "<div id=\"df-68528ccb-f2de-42b5-a367-ab05005b8459\">\n",
              "  <button class=\"colab-df-quickchart\" onclick=\"quickchart('df-68528ccb-f2de-42b5-a367-ab05005b8459')\"\n",
              "            title=\"Suggest charts\"\n",
              "            style=\"display:none;\">\n",
              "\n",
              "<svg xmlns=\"http://www.w3.org/2000/svg\" height=\"24px\"viewBox=\"0 0 24 24\"\n",
              "     width=\"24px\">\n",
              "    <g>\n",
              "        <path d=\"M19 3H5c-1.1 0-2 .9-2 2v14c0 1.1.9 2 2 2h14c1.1 0 2-.9 2-2V5c0-1.1-.9-2-2-2zM9 17H7v-7h2v7zm4 0h-2V7h2v10zm4 0h-2v-4h2v4z\"/>\n",
              "    </g>\n",
              "</svg>\n",
              "  </button>\n",
              "\n",
              "<style>\n",
              "  .colab-df-quickchart {\n",
              "      --bg-color: #E8F0FE;\n",
              "      --fill-color: #1967D2;\n",
              "      --hover-bg-color: #E2EBFA;\n",
              "      --hover-fill-color: #174EA6;\n",
              "      --disabled-fill-color: #AAA;\n",
              "      --disabled-bg-color: #DDD;\n",
              "  }\n",
              "\n",
              "  [theme=dark] .colab-df-quickchart {\n",
              "      --bg-color: #3B4455;\n",
              "      --fill-color: #D2E3FC;\n",
              "      --hover-bg-color: #434B5C;\n",
              "      --hover-fill-color: #FFFFFF;\n",
              "      --disabled-bg-color: #3B4455;\n",
              "      --disabled-fill-color: #666;\n",
              "  }\n",
              "\n",
              "  .colab-df-quickchart {\n",
              "    background-color: var(--bg-color);\n",
              "    border: none;\n",
              "    border-radius: 50%;\n",
              "    cursor: pointer;\n",
              "    display: none;\n",
              "    fill: var(--fill-color);\n",
              "    height: 32px;\n",
              "    padding: 0;\n",
              "    width: 32px;\n",
              "  }\n",
              "\n",
              "  .colab-df-quickchart:hover {\n",
              "    background-color: var(--hover-bg-color);\n",
              "    box-shadow: 0 1px 2px rgba(60, 64, 67, 0.3), 0 1px 3px 1px rgba(60, 64, 67, 0.15);\n",
              "    fill: var(--button-hover-fill-color);\n",
              "  }\n",
              "\n",
              "  .colab-df-quickchart-complete:disabled,\n",
              "  .colab-df-quickchart-complete:disabled:hover {\n",
              "    background-color: var(--disabled-bg-color);\n",
              "    fill: var(--disabled-fill-color);\n",
              "    box-shadow: none;\n",
              "  }\n",
              "\n",
              "  .colab-df-spinner {\n",
              "    border: 2px solid var(--fill-color);\n",
              "    border-color: transparent;\n",
              "    border-bottom-color: var(--fill-color);\n",
              "    animation:\n",
              "      spin 1s steps(1) infinite;\n",
              "  }\n",
              "\n",
              "  @keyframes spin {\n",
              "    0% {\n",
              "      border-color: transparent;\n",
              "      border-bottom-color: var(--fill-color);\n",
              "      border-left-color: var(--fill-color);\n",
              "    }\n",
              "    20% {\n",
              "      border-color: transparent;\n",
              "      border-left-color: var(--fill-color);\n",
              "      border-top-color: var(--fill-color);\n",
              "    }\n",
              "    30% {\n",
              "      border-color: transparent;\n",
              "      border-left-color: var(--fill-color);\n",
              "      border-top-color: var(--fill-color);\n",
              "      border-right-color: var(--fill-color);\n",
              "    }\n",
              "    40% {\n",
              "      border-color: transparent;\n",
              "      border-right-color: var(--fill-color);\n",
              "      border-top-color: var(--fill-color);\n",
              "    }\n",
              "    60% {\n",
              "      border-color: transparent;\n",
              "      border-right-color: var(--fill-color);\n",
              "    }\n",
              "    80% {\n",
              "      border-color: transparent;\n",
              "      border-right-color: var(--fill-color);\n",
              "      border-bottom-color: var(--fill-color);\n",
              "    }\n",
              "    90% {\n",
              "      border-color: transparent;\n",
              "      border-bottom-color: var(--fill-color);\n",
              "    }\n",
              "  }\n",
              "</style>\n",
              "\n",
              "  <script>\n",
              "    async function quickchart(key) {\n",
              "      const quickchartButtonEl =\n",
              "        document.querySelector('#' + key + ' button');\n",
              "      quickchartButtonEl.disabled = true;  // To prevent multiple clicks.\n",
              "      quickchartButtonEl.classList.add('colab-df-spinner');\n",
              "      try {\n",
              "        const charts = await google.colab.kernel.invokeFunction(\n",
              "            'suggestCharts', [key], {});\n",
              "      } catch (error) {\n",
              "        console.error('Error during call to suggestCharts:', error);\n",
              "      }\n",
              "      quickchartButtonEl.classList.remove('colab-df-spinner');\n",
              "      quickchartButtonEl.classList.add('colab-df-quickchart-complete');\n",
              "    }\n",
              "    (() => {\n",
              "      let quickchartButtonEl =\n",
              "        document.querySelector('#df-68528ccb-f2de-42b5-a367-ab05005b8459 button');\n",
              "      quickchartButtonEl.style.display =\n",
              "        google.colab.kernel.accessAllowed ? 'block' : 'none';\n",
              "    })();\n",
              "  </script>\n",
              "</div>\n",
              "\n",
              "  <div id=\"id_3fd22cf4-d0c7-44c5-b47b-bc0b4fc80d0e\">\n",
              "    <style>\n",
              "      .colab-df-generate {\n",
              "        background-color: #E8F0FE;\n",
              "        border: none;\n",
              "        border-radius: 50%;\n",
              "        cursor: pointer;\n",
              "        display: none;\n",
              "        fill: #1967D2;\n",
              "        height: 32px;\n",
              "        padding: 0 0 0 0;\n",
              "        width: 32px;\n",
              "      }\n",
              "\n",
              "      .colab-df-generate:hover {\n",
              "        background-color: #E2EBFA;\n",
              "        box-shadow: 0px 1px 2px rgba(60, 64, 67, 0.3), 0px 1px 3px 1px rgba(60, 64, 67, 0.15);\n",
              "        fill: #174EA6;\n",
              "      }\n",
              "\n",
              "      [theme=dark] .colab-df-generate {\n",
              "        background-color: #3B4455;\n",
              "        fill: #D2E3FC;\n",
              "      }\n",
              "\n",
              "      [theme=dark] .colab-df-generate:hover {\n",
              "        background-color: #434B5C;\n",
              "        box-shadow: 0px 1px 3px 1px rgba(0, 0, 0, 0.15);\n",
              "        filter: drop-shadow(0px 1px 2px rgba(0, 0, 0, 0.3));\n",
              "        fill: #FFFFFF;\n",
              "      }\n",
              "    </style>\n",
              "    <button class=\"colab-df-generate\" onclick=\"generateWithVariable('df')\"\n",
              "            title=\"Generate code using this dataframe.\"\n",
              "            style=\"display:none;\">\n",
              "\n",
              "  <svg xmlns=\"http://www.w3.org/2000/svg\" height=\"24px\"viewBox=\"0 0 24 24\"\n",
              "       width=\"24px\">\n",
              "    <path d=\"M7,19H8.4L18.45,9,17,7.55,7,17.6ZM5,21V16.75L18.45,3.32a2,2,0,0,1,2.83,0l1.4,1.43a1.91,1.91,0,0,1,.58,1.4,1.91,1.91,0,0,1-.58,1.4L9.25,21ZM18.45,9,17,7.55Zm-12,3A5.31,5.31,0,0,0,4.9,8.1,5.31,5.31,0,0,0,1,6.5,5.31,5.31,0,0,0,4.9,4.9,5.31,5.31,0,0,0,6.5,1,5.31,5.31,0,0,0,8.1,4.9,5.31,5.31,0,0,0,12,6.5,5.46,5.46,0,0,0,6.5,12Z\"/>\n",
              "  </svg>\n",
              "    </button>\n",
              "    <script>\n",
              "      (() => {\n",
              "      const buttonEl =\n",
              "        document.querySelector('#id_3fd22cf4-d0c7-44c5-b47b-bc0b4fc80d0e button.colab-df-generate');\n",
              "      buttonEl.style.display =\n",
              "        google.colab.kernel.accessAllowed ? 'block' : 'none';\n",
              "\n",
              "      buttonEl.onclick = () => {\n",
              "        google.colab.notebook.generateWithVariable('df');\n",
              "      }\n",
              "      })();\n",
              "    </script>\n",
              "  </div>\n",
              "\n",
              "    </div>\n",
              "  </div>\n"
            ],
            "application/vnd.google.colaboratory.intrinsic+json": {
              "type": "dataframe",
              "variable_name": "df",
              "summary": "{\n  \"name\": \"df\",\n  \"rows\": 100,\n  \"fields\": [\n    {\n      \"column\": \"Rank\",\n      \"properties\": {\n        \"dtype\": \"string\",\n        \"num_unique_values\": 100,\n        \"samples\": [\n          \"84\",\n          \"54\",\n          \"71\"\n        ],\n        \"semantic_type\": \"\",\n        \"description\": \"\"\n      }\n    },\n    {\n      \"column\": \"Name\",\n      \"properties\": {\n        \"dtype\": \"string\",\n        \"num_unique_values\": 100,\n        \"samples\": [\n          \"Cisco\",\n          \"General Electric\",\n          \"Merck & Co.\"\n        ],\n        \"semantic_type\": \"\",\n        \"description\": \"\"\n      }\n    },\n    {\n      \"column\": \"Industry\",\n      \"properties\": {\n        \"dtype\": \"category\",\n        \"num_unique_values\": 39,\n        \"samples\": [\n          \"Agriculture manufacturing\",\n          \"Agriculture cooperative\",\n          \"Healthcare\"\n        ],\n        \"semantic_type\": \"\",\n        \"description\": \"\"\n      }\n    },\n    {\n      \"column\": \"Revenue (USD millions)\",\n      \"properties\": {\n        \"dtype\": \"string\",\n        \"num_unique_values\": 99,\n        \"samples\": [\n          \"65,936\",\n          \"93,512\",\n          \"46,159\"\n        ],\n        \"semantic_type\": \"\",\n        \"description\": \"\"\n      }\n    },\n    {\n      \"column\": \"Revenue growth\",\n      \"properties\": {\n        \"dtype\": \"string\",\n        \"num_unique_values\": 92,\n        \"samples\": [\n          \"33.3%\",\n          \"7.5%\",\n          \"13.7%\"\n        ],\n        \"semantic_type\": \"\",\n        \"description\": \"\"\n      }\n    },\n    {\n      \"column\": \"Employees\",\n      \"properties\": {\n        \"dtype\": \"string\",\n        \"num_unique_values\": 97,\n        \"samples\": [\n          \"58,000\",\n          \"518,249\",\n          \"34,300\"\n        ],\n        \"semantic_type\": \"\",\n        \"description\": \"\"\n      }\n    },\n    {\n      \"column\": \"Headquarters\",\n      \"properties\": {\n        \"dtype\": \"string\",\n        \"num_unique_values\": 76,\n        \"samples\": [\n          \"Minnetonka, Minnesota\",\n          \"New Brunswick, New Jersey\",\n          \"Chesterbrook, Pennsylvania\"\n        ],\n        \"semantic_type\": \"\",\n        \"description\": \"\"\n      }\n    }\n  ]\n}"
            }
          },
          "metadata": {},
          "execution_count": 10
        }
      ],
      "source": [
        "df"
      ]
    },
    {
      "cell_type": "markdown",
      "metadata": {
        "id": "vhd95ok6wJ8q"
      },
      "source": [
        "# Preprocessing Data\n",
        "<br>\n",
        "1. Menghapus tanda kutip pada angka di kolom Revenue (USD millions) dan Employees. <br>\n",
        "2. Mengubah tipe data pada kolom Revenue (USD millions), Revenue growth, dan Employees ke tipe data yang sesuai. <br>\n",
        "3. Memisahkan kota dan negara bagian di kolom Headquarters menjadi dua kolom terpisah."
      ],
      "id": "vhd95ok6wJ8q"
    },
    {
      "cell_type": "code",
      "source": [
        "df['Revenue (USD millions)'] = df['Revenue (USD millions)'].astype(str)\n",
        "df['Revenue growth'] = df['Revenue growth'].astype(str)\n",
        "df['Employees'] = df['Employees'].astype(str)\n",
        "df['Headquarters'] = df['Headquarters'].astype(str)\n"
      ],
      "metadata": {
        "id": "8odDOgmJHOLu"
      },
      "id": "8odDOgmJHOLu",
      "execution_count": 11,
      "outputs": []
    },
    {
      "source": [
        "#1. Hapus tanda koma dan ubah ke float untuk tabel Revenue\n",
        "df['Revenue (USD millions)'] = df['Revenue (USD millions)'].astype(str).str.replace(',', '')\n",
        "df['Revenue (USD millions)'] = df['Revenue (USD millions)'].astype(float)\n"
      ],
      "cell_type": "code",
      "metadata": {
        "id": "uuf9fUKPEQ-G"
      },
      "id": "uuf9fUKPEQ-G",
      "execution_count": 12,
      "outputs": []
    },
    {
      "source": [
        "# 2. Hapus tanda persen dan ubah tipe data pada kolom `Revenue growth`\n",
        "df['Revenue growth'] = df['Revenue growth'].astype(str).str.rstrip('%').astype(float)"
      ],
      "cell_type": "code",
      "metadata": {
        "id": "892XbAeEFcka"
      },
      "id": "892XbAeEFcka",
      "execution_count": 13,
      "outputs": []
    },
    {
      "source": [
        "# 3. Hapus tanda koma dan ubah ke int untuk tabel Employees\n",
        "df['Employees'] = df['Employees'].astype(str).str.replace(',', '')\n",
        "df['Employees'] = df['Employees'].str.extract('(\\d+)').astype(int)"
      ],
      "cell_type": "code",
      "metadata": {
        "id": "_EWqa1UgF9SJ"
      },
      "id": "_EWqa1UgF9SJ",
      "execution_count": 14,
      "outputs": []
    },
    {
      "source": [
        "# 4. Pisahkan kolom `Headquarters` menjadi dua kolom: `City` dan `State`\n",
        "df[['City', 'State']] = df['Headquarters'].str.split(', ', n=1, expand=True)\n",
        "df = df.drop(columns=['Headquarters'])"
      ],
      "cell_type": "code",
      "metadata": {
        "id": "cFBFgqD6GEx0"
      },
      "id": "cFBFgqD6GEx0",
      "execution_count": 15,
      "outputs": []
    },
    {
      "cell_type": "code",
      "source": [
        "# Menampilkan DataFrame hasil preprocessing\n",
        "print(df)"
      ],
      "metadata": {
        "colab": {
          "base_uri": "https://localhost:8080/"
        },
        "id": "RDaDDBL-FzRf",
        "outputId": "4ee1c4af-1a71-4abc-8e67-b8b5128e52fe"
      },
      "id": "RDaDDBL-FzRf",
      "execution_count": 16,
      "outputs": [
        {
          "output_type": "stream",
          "name": "stdout",
          "text": [
            "   Rank                      Name                    Industry  \\\n",
            "0     1                   Walmart                      Retail   \n",
            "1     2                    Amazon  Retail and cloud computing   \n",
            "2     3                ExxonMobil          Petroleum industry   \n",
            "3     4                     Apple        Electronics industry   \n",
            "4     5        UnitedHealth Group                  Healthcare   \n",
            "..  ...                       ...                         ...   \n",
            "95   96                  Best Buy                      Retail   \n",
            "96   97      Bristol-Myers Squibb     Pharmaceutical industry   \n",
            "97   98           United Airlines                     Airline   \n",
            "98   99  Thermo Fisher Scientific      Laboratory instruments   \n",
            "99  100                  Qualcomm                  Technology   \n",
            "\n",
            "    Revenue (USD millions)  Revenue growth  Employees           City  \\\n",
            "0                 611289.0             6.7    2100000    Bentonville   \n",
            "1                 513983.0             9.4    1540000        Seattle   \n",
            "2                 413680.0            44.8      62000         Spring   \n",
            "3                 394328.0             7.8     164000      Cupertino   \n",
            "4                 324162.0            12.7     400000     Minnetonka   \n",
            "..                     ...             ...        ...            ...   \n",
            "95                 46298.0            10.6      71100      Richfield   \n",
            "96                 46159.0             0.5      34300  New York City   \n",
            "97                 44955.0            82.5      92795        Chicago   \n",
            "98                 44915.0            14.5     130000        Waltham   \n",
            "99                 44200.0            31.7      51000      San Diego   \n",
            "\n",
            "            State  \n",
            "0        Arkansas  \n",
            "1      Washington  \n",
            "2           Texas  \n",
            "3      California  \n",
            "4       Minnesota  \n",
            "..            ...  \n",
            "95      Minnesota  \n",
            "96       New York  \n",
            "97       Illinois  \n",
            "98  Massachusetts  \n",
            "99     California  \n",
            "\n",
            "[100 rows x 8 columns]\n"
          ]
        }
      ]
    },
    {
      "cell_type": "code",
      "execution_count": 17,
      "id": "16a23da9",
      "metadata": {
        "id": "16a23da9"
      },
      "outputs": [],
      "source": [
        "from google.colab import files\n"
      ]
    },
    {
      "cell_type": "code",
      "execution_count": 18,
      "id": "482ad616",
      "metadata": {
        "id": "482ad616",
        "colab": {
          "base_uri": "https://localhost:8080/",
          "height": 17
        },
        "outputId": "ee4c6dc3-1e6b-4a79-cf42-d1702127d8ad"
      },
      "outputs": [
        {
          "output_type": "display_data",
          "data": {
            "text/plain": [
              "<IPython.core.display.Javascript object>"
            ],
            "application/javascript": [
              "\n",
              "    async function download(id, filename, size) {\n",
              "      if (!google.colab.kernel.accessAllowed) {\n",
              "        return;\n",
              "      }\n",
              "      const div = document.createElement('div');\n",
              "      const label = document.createElement('label');\n",
              "      label.textContent = `Downloading \"${filename}\": `;\n",
              "      div.appendChild(label);\n",
              "      const progress = document.createElement('progress');\n",
              "      progress.max = size;\n",
              "      div.appendChild(progress);\n",
              "      document.body.appendChild(div);\n",
              "\n",
              "      const buffers = [];\n",
              "      let downloaded = 0;\n",
              "\n",
              "      const channel = await google.colab.kernel.comms.open(id);\n",
              "      // Send a message to notify the kernel that we're ready.\n",
              "      channel.send({})\n",
              "\n",
              "      for await (const message of channel.messages) {\n",
              "        // Send a message to notify the kernel that we're ready.\n",
              "        channel.send({})\n",
              "        if (message.buffers) {\n",
              "          for (const buffer of message.buffers) {\n",
              "            buffers.push(buffer);\n",
              "            downloaded += buffer.byteLength;\n",
              "            progress.value = downloaded;\n",
              "          }\n",
              "        }\n",
              "      }\n",
              "      const blob = new Blob(buffers, {type: 'application/binary'});\n",
              "      const a = document.createElement('a');\n",
              "      a.href = window.URL.createObjectURL(blob);\n",
              "      a.download = filename;\n",
              "      div.appendChild(a);\n",
              "      a.click();\n",
              "      div.remove();\n",
              "    }\n",
              "  "
            ]
          },
          "metadata": {}
        },
        {
          "output_type": "display_data",
          "data": {
            "text/plain": [
              "<IPython.core.display.Javascript object>"
            ],
            "application/javascript": [
              "download(\"download_6455e789-6f15-4c5c-861d-c84f61312cb2\", \"Companies.json\", 25945)"
            ]
          },
          "metadata": {}
        }
      ],
      "source": [
        "#Unduh Data File JSON\n",
        "df.to_json('Companies.json', orient='records', lines=False, indent=4)\n",
        "\n",
        "files.download('Companies.json')"
      ]
    },
    {
      "cell_type": "code",
      "execution_count": null,
      "id": "442f6303",
      "metadata": {
        "id": "442f6303"
      },
      "outputs": [],
      "source": []
    },
    {
      "cell_type": "code",
      "execution_count": null,
      "id": "59cc8336",
      "metadata": {
        "id": "59cc8336"
      },
      "outputs": [],
      "source": []
    },
    {
      "cell_type": "code",
      "execution_count": null,
      "id": "2b9ccbdd",
      "metadata": {
        "id": "2b9ccbdd"
      },
      "outputs": [],
      "source": []
    },
    {
      "cell_type": "code",
      "execution_count": null,
      "id": "6c16c0c9",
      "metadata": {
        "id": "6c16c0c9"
      },
      "outputs": [],
      "source": []
    },
    {
      "cell_type": "code",
      "execution_count": null,
      "id": "3158658d",
      "metadata": {
        "id": "3158658d"
      },
      "outputs": [],
      "source": []
    },
    {
      "cell_type": "code",
      "execution_count": null,
      "id": "0b4c7f0b",
      "metadata": {
        "id": "0b4c7f0b"
      },
      "outputs": [],
      "source": []
    },
    {
      "cell_type": "code",
      "execution_count": null,
      "id": "937a152a",
      "metadata": {
        "id": "937a152a"
      },
      "outputs": [],
      "source": []
    },
    {
      "cell_type": "code",
      "execution_count": null,
      "id": "55f3d851",
      "metadata": {
        "id": "55f3d851"
      },
      "outputs": [],
      "source": []
    },
    {
      "cell_type": "code",
      "execution_count": null,
      "id": "3cf9745c",
      "metadata": {
        "id": "3cf9745c"
      },
      "outputs": [],
      "source": []
    },
    {
      "cell_type": "code",
      "execution_count": null,
      "id": "5a1e63b5",
      "metadata": {
        "id": "5a1e63b5"
      },
      "outputs": [],
      "source": []
    },
    {
      "cell_type": "code",
      "execution_count": null,
      "id": "d8d03186",
      "metadata": {
        "id": "d8d03186"
      },
      "outputs": [],
      "source": []
    },
    {
      "cell_type": "code",
      "execution_count": null,
      "id": "d78ac4ce",
      "metadata": {
        "id": "d78ac4ce"
      },
      "outputs": [],
      "source": []
    },
    {
      "cell_type": "code",
      "execution_count": null,
      "id": "157303e8",
      "metadata": {
        "id": "157303e8"
      },
      "outputs": [],
      "source": []
    },
    {
      "cell_type": "code",
      "execution_count": null,
      "id": "4c35ac47",
      "metadata": {
        "id": "4c35ac47"
      },
      "outputs": [],
      "source": []
    },
    {
      "cell_type": "code",
      "execution_count": null,
      "id": "e918db4b",
      "metadata": {
        "id": "e918db4b"
      },
      "outputs": [],
      "source": []
    },
    {
      "cell_type": "code",
      "execution_count": null,
      "id": "de3c7471",
      "metadata": {
        "id": "de3c7471"
      },
      "outputs": [],
      "source": []
    },
    {
      "cell_type": "code",
      "execution_count": null,
      "id": "f29c7713",
      "metadata": {
        "id": "f29c7713"
      },
      "outputs": [],
      "source": []
    },
    {
      "cell_type": "code",
      "execution_count": null,
      "id": "7b0dcc3b",
      "metadata": {
        "id": "7b0dcc3b"
      },
      "outputs": [],
      "source": []
    },
    {
      "cell_type": "code",
      "execution_count": null,
      "id": "fbfc799f",
      "metadata": {
        "id": "fbfc799f"
      },
      "outputs": [],
      "source": []
    },
    {
      "cell_type": "code",
      "execution_count": null,
      "id": "974d66fb",
      "metadata": {
        "id": "974d66fb"
      },
      "outputs": [],
      "source": []
    },
    {
      "cell_type": "code",
      "execution_count": null,
      "id": "c5bd6f98",
      "metadata": {
        "id": "c5bd6f98"
      },
      "outputs": [],
      "source": []
    },
    {
      "cell_type": "code",
      "execution_count": null,
      "id": "f8b1b936",
      "metadata": {
        "id": "f8b1b936"
      },
      "outputs": [],
      "source": []
    },
    {
      "cell_type": "code",
      "execution_count": null,
      "id": "717ba2f6",
      "metadata": {
        "id": "717ba2f6"
      },
      "outputs": [],
      "source": []
    },
    {
      "cell_type": "code",
      "execution_count": null,
      "id": "aa39eebf",
      "metadata": {
        "id": "aa39eebf"
      },
      "outputs": [],
      "source": []
    },
    {
      "cell_type": "code",
      "execution_count": null,
      "id": "28f9409a",
      "metadata": {
        "id": "28f9409a"
      },
      "outputs": [],
      "source": []
    },
    {
      "cell_type": "code",
      "execution_count": null,
      "id": "9870c439",
      "metadata": {
        "id": "9870c439"
      },
      "outputs": [],
      "source": []
    },
    {
      "cell_type": "code",
      "execution_count": null,
      "id": "4a6c7c30",
      "metadata": {
        "id": "4a6c7c30"
      },
      "outputs": [],
      "source": []
    },
    {
      "cell_type": "code",
      "execution_count": null,
      "id": "69aea2f6",
      "metadata": {
        "id": "69aea2f6"
      },
      "outputs": [],
      "source": []
    },
    {
      "cell_type": "code",
      "execution_count": null,
      "id": "fa01d681",
      "metadata": {
        "id": "fa01d681"
      },
      "outputs": [],
      "source": []
    },
    {
      "cell_type": "code",
      "execution_count": null,
      "id": "841d2c8a",
      "metadata": {
        "id": "841d2c8a"
      },
      "outputs": [],
      "source": []
    },
    {
      "cell_type": "code",
      "execution_count": null,
      "id": "e340044a",
      "metadata": {
        "id": "e340044a"
      },
      "outputs": [],
      "source": []
    },
    {
      "cell_type": "code",
      "execution_count": null,
      "id": "82d51273",
      "metadata": {
        "id": "82d51273"
      },
      "outputs": [],
      "source": []
    },
    {
      "cell_type": "code",
      "execution_count": null,
      "id": "a426de83",
      "metadata": {
        "id": "a426de83"
      },
      "outputs": [],
      "source": []
    },
    {
      "cell_type": "code",
      "execution_count": null,
      "id": "a1a56235",
      "metadata": {
        "id": "a1a56235"
      },
      "outputs": [],
      "source": []
    }
  ],
  "metadata": {
    "kernelspec": {
      "display_name": "Python 3 (ipykernel)",
      "language": "python",
      "name": "python3"
    },
    "language_info": {
      "codemirror_mode": {
        "name": "ipython",
        "version": 3
      },
      "file_extension": ".py",
      "mimetype": "text/x-python",
      "name": "python",
      "nbconvert_exporter": "python",
      "pygments_lexer": "ipython3",
      "version": "3.9.13"
    },
    "colab": {
      "provenance": []
    }
  },
  "nbformat": 4,
  "nbformat_minor": 5
}