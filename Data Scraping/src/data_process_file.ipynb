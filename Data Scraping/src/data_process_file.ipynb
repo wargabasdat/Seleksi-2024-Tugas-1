{
 "cells": [
  {
   "cell_type": "code",
   "execution_count": 2,
   "metadata": {},
   "outputs": [
    {
     "name": "stdout",
     "output_type": "stream",
     "text": [
      "DataFrame berhasil dibersihkan dan disimpan ke 'modified_spion_motor_honda.csv'.\n"
     ]
    }
   ],
   "source": [
    "import pandas as pd\n",
    "from data_processing import data_process\n",
    "\n",
    "# Membaca file CSV\n",
    "file_path = 'spion_motor_honda.csv'\n",
    "df = pd.read_csv(file_path, delimiter=';', encoding='utf-8-sig')\n",
    "\n",
    "# Menggunakan fungsi data_process untuk membersihkan DataFrame\n",
    "df_cleaned = data_process(df)\n",
    "\n",
    "# Simpan DataFrame yang sudah dibersihkan ke file CSV baru\n",
    "df_cleaned.to_csv('modified_spion_motor_honda.csv', index=False, sep=';', encoding='utf-8-sig')\n",
    "\n",
    "print(\"DataFrame berhasil dibersihkan dan disimpan ke 'modified_spion_motor_honda.csv'.\")\n"
   ]
  },
  {
   "cell_type": "code",
   "execution_count": 3,
   "metadata": {},
   "outputs": [
    {
     "name": "stdout",
     "output_type": "stream",
     "text": [
      "DataFrame berhasil dibersihkan dan disimpan ke 'modified_cover_body_motor_honda.csv'.\n"
     ]
    }
   ],
   "source": [
    "import pandas as pd\n",
    "from data_processing import data_process\n",
    "\n",
    "# Membaca file CSV\n",
    "file_path = 'cover_body_motor_honda.csv'\n",
    "df = pd.read_csv(file_path, delimiter=';', encoding='utf-8-sig')\n",
    "\n",
    "# Menggunakan fungsi data_process untuk membersihkan DataFrame\n",
    "df_cleaned = data_process(df)\n",
    "\n",
    "# Simpan DataFrame yang sudah dibersihkan ke file CSV baru\n",
    "df_cleaned.to_csv('modified_cover_body_motor_honda.csv', index=False, sep=';', encoding='utf-8-sig')\n",
    "\n",
    "print(\"DataFrame berhasil dibersihkan dan disimpan ke 'modified_cover_body_motor_honda.csv'.\")\n"
   ]
  },
  {
   "cell_type": "code",
   "execution_count": 4,
   "metadata": {},
   "outputs": [
    {
     "name": "stdout",
     "output_type": "stream",
     "text": [
      "DataFrame berhasil dibersihkan dan disimpan ke 'modified_key_set_motor_honda.csv'.\n"
     ]
    }
   ],
   "source": [
    "import pandas as pd\n",
    "from data_processing import data_process\n",
    "\n",
    "# Membaca file CSV\n",
    "file_path = 'key_set_motor_honda.csv'\n",
    "df = pd.read_csv(file_path, delimiter=';', encoding='utf-8-sig')\n",
    "\n",
    "# Menggunakan fungsi data_process untuk membersihkan DataFrame\n",
    "df_cleaned = data_process(df)\n",
    "\n",
    "# Simpan DataFrame yang sudah dibersihkan ke file CSV baru\n",
    "df_cleaned.to_csv('modified_key_set_motor_honda.csv', index=False, sep=';', encoding='utf-8-sig')\n",
    "\n",
    "print(\"DataFrame berhasil dibersihkan dan disimpan ke 'modified_key_set_motor_honda.csv'.\")\n"
   ]
  },
  {
   "cell_type": "code",
   "execution_count": 5,
   "metadata": {},
   "outputs": [
    {
     "name": "stdout",
     "output_type": "stream",
     "text": [
      "DataFrame berhasil dibersihkan dan disimpan ke 'modified_winker_motor_honda.csv'.\n"
     ]
    }
   ],
   "source": [
    "import pandas as pd\n",
    "from data_processing import data_process\n",
    "\n",
    "# Membaca file CSV\n",
    "file_path = 'winker_motor_honda.csv'\n",
    "df = pd.read_csv(file_path, delimiter=';', encoding='utf-8-sig')\n",
    "\n",
    "# Menggunakan fungsi data_process untuk membersihkan DataFrame\n",
    "df_cleaned = data_process(df)\n",
    "\n",
    "# Simpan DataFrame yang sudah dibersihkan ke file CSV baru\n",
    "df_cleaned.to_csv('modified_winker_motor_honda.csv', index=False, sep=';', encoding='utf-8-sig')\n",
    "\n",
    "print(\"DataFrame berhasil dibersihkan dan disimpan ke 'modified_winker_motor_honda.csv'.\")\n"
   ]
  },
  {
   "cell_type": "code",
   "execution_count": 7,
   "metadata": {},
   "outputs": [
    {
     "name": "stdout",
     "output_type": "stream",
     "text": [
      "DataFrame berhasil dibersihkan dan disimpan ke 'modified_oli.csv'.\n"
     ]
    }
   ],
   "source": [
    "import pandas as pd\n",
    "from data_processing2 import data_process_oli\n",
    "\n",
    "# Membaca file CSV\n",
    "file_path = 'oli.csv'\n",
    "da = pd.read_csv(file_path, delimiter=';', encoding='utf-8-sig')\n",
    "\n",
    "# Menggunakan fungsi data_process_oli untuk membersihkan DataFrame\n",
    "df_cleaned = data_process_oli(da)\n",
    "\n",
    "# Simpan DataFrame yang sudah dibersihkan ke file CSV baru\n",
    "df_cleaned.to_csv('modified_oli.csv', index=False, sep=';', encoding='utf-8-sig')\n",
    "\n",
    "print(\"DataFrame berhasil dibersihkan dan disimpan ke 'modified_oli.csv'.\")\n"
   ]
  },
  {
   "cell_type": "code",
   "execution_count": null,
   "metadata": {},
   "outputs": [
    {
     "name": "stdout",
     "output_type": "stream",
     "text": [
      "DataFrame berhasil dibersihkan dan disimpan ke 'modified_motor.csv'.\n"
     ]
    }
   ],
   "source": [
    "import pandas as pd\n",
    "from data_processing3 import data_process_motor\n",
    "\n",
    "# Membaca file CSV\n",
    "file_path = 'motor.csv'\n",
    "da = pd.read_csv(file_path, delimiter=';', encoding='utf-8-sig')\n",
    "\n",
    "# Menggunakan fungsi data_process_motor untuk membersihkan DataFrame\n",
    "df_cleaned = data_process_oli(da)\n",
    "\n",
    "# Simpan DataFrame yang sudah dibersihkan ke file CSV baru\n",
    "df_cleaned.to_csv('modified_motor.csv', index=False, sep=';', encoding='utf-8-sig')\n",
    "\n",
    "print(\"DataFrame berhasil dibersihkan dan disimpan ke 'modified_motor.csv'.\")"
   ]
  },
  {
   "cell_type": "code",
   "execution_count": null,
   "metadata": {},
   "outputs": [
    {
     "name": "stdout",
     "output_type": "stream",
     "text": [
      "DataFrame berhasil dibersihkan dan disimpan ke 'modified_produk_diskon.csv'.\n"
     ]
    }
   ],
   "source": [
    "import pandas as pd\n",
    "from data_processing4 import data_process_discount_products\n",
    "\n",
    "# Membaca file CSV\n",
    "file_path = 'produk_diskon.csv'\n",
    "da = pd.read_csv(file_path, delimiter=';', encoding='utf-8-sig')\n",
    "\n",
    "# Menggunakan fungsi data_process_motor untuk membersihkan DataFrame\n",
    "df_cleaned = data_process_oli(da)\n",
    "\n",
    "# Simpan DataFrame yang sudah dibersihkan ke file CSV baru\n",
    "df_cleaned.to_csv('modified_produk_diskon.csv', index=False, sep=';', encoding='utf-8-sig')\n",
    "\n",
    "print(\"DataFrame berhasil dibersihkan dan disimpan ke 'modified_produk_diskon.csv'.\")"
   ]
  }
 ],
 "metadata": {
  "kernelspec": {
   "display_name": "base",
   "language": "python",
   "name": "python3"
  },
  "language_info": {
   "codemirror_mode": {
    "name": "ipython",
    "version": 3
   },
   "file_extension": ".py",
   "mimetype": "text/x-python",
   "name": "python",
   "nbconvert_exporter": "python",
   "pygments_lexer": "ipython3",
   "version": "3.9.13"
  }
 },
 "nbformat": 4,
 "nbformat_minor": 2
}
