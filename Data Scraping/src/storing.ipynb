{
 "cells": [
  {
   "cell_type": "markdown",
   "metadata": {},
   "source": [
    "<div align=\"center\">\n",
    "  <h1>Data Storing</h1>\n",
    "  <h2>Data Hunian Rumah dan Apartemen di Jakarta Pusat</h2>\n",
    "</div>"
   ]
  },
  {
   "cell_type": "markdown",
   "metadata": {},
   "source": [
    "- Install dan import library"
   ]
  },
  {
   "cell_type": "code",
   "execution_count": 1,
   "metadata": {},
   "outputs": [],
   "source": [
    "# # jika packages berikut belum terinstall, un-comment dan jalankan cell ini untuk menginstallnya\n",
    "# %pip install --upgrade pip\n",
    "# %pip install mysqlclient --quiet\n",
    "\n",
    "# note: jika ada yang belum terinstall lakukan command di cell baru:\n",
    "# %pip install <nama package>"
   ]
  },
  {
   "cell_type": "code",
   "execution_count": 2,
   "metadata": {},
   "outputs": [],
   "source": [
    "import MySQLdb, os, json, subprocess"
   ]
  },
  {
   "cell_type": "markdown",
   "metadata": {},
   "source": [
    "- Definisi user dbms dan load data json yang telah di-preprocess"
   ]
  },
  {
   "cell_type": "code",
   "execution_count": 3,
   "metadata": {},
   "outputs": [],
   "source": [
    "__HOST__        = \"localhost\"\n",
    "__USER__        = \"root\"\n",
    "__PASSWORD__    = \"1234\"\n",
    "__DATABASE__    = \"property\"\n",
    "\n",
    "__RED__     = '\\033[91m'\n",
    "__GREEN__   = '\\033[92m'\n",
    "__RESET__   = '\\033[0m'\n",
    "\n",
    "__CURRENT_DIRECTORY__   = os.getenv('CURRENT_DIR', os.getcwd())\n",
    "__PATH_FOLDER__         = os.path.abspath(os.path.join(__CURRENT_DIRECTORY__, '..', 'data'))\n",
    "\n",
    "perusahaan_path =  os.path.join(__PATH_FOLDER__, 'perusahaan.json')\n",
    "agen_path       =  os.path.join(__PATH_FOLDER__, 'agen.json')\n",
    "hunian_path     =  os.path.join(__PATH_FOLDER__, 'hunian.json')\n",
    "rumah_path      =  os.path.join(__PATH_FOLDER__, 'rumah.json')\n",
    "apartemen_path  =  os.path.join(__PATH_FOLDER__, 'apartemen.json')\n",
    "\n",
    "with open(perusahaan_path)  as file: perusahaan_data = json.load(file)\n",
    "with open(agen_path)        as file: agen_data = json.load(file)\n",
    "with open(hunian_path)      as file: hunian_data = json.load(file)\n",
    "with open(rumah_path)       as file: rumah_data = json.load(file)\n",
    "with open(apartemen_path)   as file: apartemen_data = json.load(file)"
   ]
  },
  {
   "cell_type": "markdown",
   "metadata": {},
   "source": [
    "- Membuat basis data dan schema tabel basis data"
   ]
  },
  {
   "cell_type": "code",
   "execution_count": 4,
   "metadata": {},
   "outputs": [],
   "source": [
    "drop_database   = f\"DROP DATABASE IF EXISTS {__DATABASE__};\"\n",
    "create_database = f\"CREATE DATABASE IF NOT EXISTS {__DATABASE__};\"\n",
    "setchar         = f\"ALTER DATABASE {__DATABASE__} CHARACTER SET = utf8mb4 COLLATE = utf8mb4_unicode_ci;\"\n",
    "use_database    = f\"USE {__DATABASE__}\"\n",
    "\n",
    "perusahaan_schema = \"\"\" \n",
    "CREATE TABLE IF NOT EXISTS `perusahaan` (\n",
    "    `nama_perusahaan` VARCHAR(100),\n",
    "    `alamat` VARCHAR(255) NOT NULL,\n",
    "    PRIMARY KEY(`nama_perusahaan`)\n",
    ")\n",
    "\"\"\"\n",
    "\n",
    "agen_schema = \"\"\"\n",
    "CREATE TABLE IF NOT EXISTS `agen` (\n",
    "    `id_agen` INT NOT NULL,\n",
    "    `nama_agen` VARCHAR(255) NOT NULL,\n",
    "    `nomor_telepon` BIGINT NOT NULL,\n",
    "    `terjual` INT NOT NULL,\n",
    "    `tersewa` INT NOT NULL,\n",
    "    `nama_perusahaan` VARCHAR(100),\n",
    "    PRIMARY KEY (`id_agen`),\n",
    "    FOREIGN KEY (`nama_perusahaan`) REFERENCES `perusahaan`(`nama_perusahaan`) ON DELETE CASCADE\n",
    ")\n",
    "\"\"\"\n",
    "\n",
    "hunian_schema = \"\"\"\n",
    "CREATE TABLE IF NOT EXISTS `hunian` (\n",
    "    `id_iklan` VARCHAR(20) NOT NULL,\n",
    "    `tipe_properti` ENUM('Rumah', 'Apartemen') NOT NULL,\n",
    "    `luas_bangunan` INT NOT NULL,\n",
    "    `kamar_tidur` INT NOT NULL,\n",
    "    `kamar_mandi` INT NOT NULL,\n",
    "    `lokasi` VARCHAR(50) NOT NULL,\n",
    "    `sertifikat` VARCHAR(50) NOT NULL,\n",
    "    `tipe_iklan` ENUM('jual', 'sewa') NOT NULL,\n",
    "    `periode_kepemilikan` ENUM('Pemilik', 'Tahunan', 'Bulanan', 'Harian') NOT NULL,\n",
    "    `harga` BIGINT NOT NULL,\n",
    "    `diperbarui` DATE NOT NULL,\n",
    "    `id_agen` INT NOT NULL,\n",
    "    PRIMARY KEY (`id_iklan`),\n",
    "    FOREIGN KEY(`id_agen`) REFERENCES `agen`(id_agen) ON DELETE CASCADE\n",
    ")\n",
    "\"\"\"\n",
    "\n",
    "rumah_schema = \"\"\"\n",
    "CREATE TABLE IF NOT EXISTS `rumah` (\n",
    "    `id_iklan` VARCHAR(20) NOT NULL,\n",
    "    `luas_tanah` INT NOT NULL,\n",
    "    `carport` INT NOT NULL,\n",
    "    `taman` ENUM('Ya', 'Tidak') NOT NULL,\n",
    "    PRIMARY KEY (`id_iklan`),\n",
    "    FOREIGN KEY(`id_iklan`) REFERENCES `hunian`(`id_iklan`) ON DELETE CASCADE\n",
    ")\n",
    "\"\"\"\n",
    "\n",
    "apartemen_schema = \"\"\"\n",
    "CREATE TABLE IF NOT EXISTS `apartemen` (\n",
    "    `id_iklan` VARCHAR(20) NOT NULL,\n",
    "    `kondisi_properti` VARCHAR(20) NOT NULL,\n",
    "    `kondisi_perabotan` VARCHAR(20) NOT NULL,\n",
    "    PRIMARY KEY (`id_iklan`),\n",
    "    FOREIGN KEY(`id_iklan`) REFERENCES `hunian`(`id_iklan`) ON DELETE CASCADE\n",
    ")\n",
    "\"\"\"\n",
    "\n",
    "customer_schema = \"\"\"\n",
    "CREATE TABLE IF NOT EXISTS `customer` (\n",
    "    `id_customer` INT NOT NULL,\n",
    "    `nama_customer` VARCHAR(255) NOT NULL,\n",
    "    `nomor_telepon` BIGINT NOT NULL,\n",
    "    `pekerjaan` VARCHAR(255) NOT NULL,\n",
    "    `pendapatan` BIGINT NOT NULL,\n",
    "    PRIMARY KEY (`id_customer`)\n",
    ")\n",
    "\"\"\"\n",
    "\n",
    "membeli_schema = \"\"\"\n",
    "CREATE TABLE IF NOT EXISTS `membeli` (\n",
    "    `id_customer` INT NOT NULL,\n",
    "    `id_iklan` VARCHAR(20) NOT NULL,\n",
    "    `waktu` DATETIME NOT NULL,\n",
    "    `metode_pembayaran` VARCHAR(255) NOT NULL,\n",
    "    PRIMARY KEY (`id_customer`, `id_iklan`),\n",
    "    FOREIGN KEY (`id_customer`) REFERENCES `customer`(`id_customer`) ON DELETE CASCADE,\n",
    "    FOREIGN KEY (`id_iklan`) REFERENCES `hunian`(`id_iklan`) ON DELETE CASCADE\n",
    ")\n",
    "\"\"\""
   ]
  },
  {
   "cell_type": "markdown",
   "metadata": {},
   "source": [
    "- Insert atau update data hasil scraping ke tabel schema"
   ]
  },
  {
   "cell_type": "code",
   "execution_count": 5,
   "metadata": {},
   "outputs": [],
   "source": [
    "# melihat data dari fetch cursor MySQLdb\n",
    "def show_instance(instance):\n",
    "    print(\"\\n\".join(str(row) for row in instance))\n",
    "\n",
    "insert_perusahaan = \"\"\"\n",
    "INSERT INTO `perusahaan` (nama_perusahaan, alamat) \n",
    "    VALUES (%s, %s) \n",
    "    ON DUPLICATE KEY UPDATE \n",
    "        alamat = VALUES(alamat);\n",
    "\"\"\"\n",
    "\n",
    "insert_agen = \"\"\"\n",
    "INSERT INTO `agen` \n",
    "    (id_agen, nama_agen, nomor_telepon, terjual, tersewa, nama_perusahaan) \n",
    "    VALUES (%s, %s, %s, %s, %s, %s) \n",
    "    ON DUPLICATE KEY UPDATE \n",
    "        nama_agen = VALUES(nama_agen), \n",
    "        nomor_telepon = VALUES(nomor_telepon), \n",
    "        terjual = VALUES(terjual), \n",
    "        tersewa = VALUES(tersewa), \n",
    "        nama_perusahaan = VALUES(nama_perusahaan);\n",
    "\"\"\"\n",
    "\n",
    "insert_hunian = \"\"\"\n",
    "INSERT INTO `hunian` \n",
    "    (id_iklan, tipe_properti, luas_bangunan, kamar_tidur, kamar_mandi, lokasi,\n",
    "      sertifikat, tipe_iklan, periode_kepemilikan, harga, diperbarui, id_agen) \n",
    "    VALUES (%s, %s, %s, %s, %s, %s, %s, %s, %s, %s, %s, %s) \n",
    "    ON DUPLICATE KEY UPDATE \n",
    "        tipe_properti = VALUES(tipe_properti),\n",
    "        luas_bangunan = VALUES(luas_bangunan),\n",
    "        kamar_tidur = VALUES(kamar_tidur),\n",
    "        kamar_mandi = VALUES(kamar_mandi),\n",
    "        lokasi = VALUES(lokasi),\n",
    "        sertifikat = VALUES(sertifikat),\n",
    "        tipe_iklan = VALUES(tipe_iklan),\n",
    "        periode_kepemilikan = VALUES(periode_kepemilikan),\n",
    "        harga = VALUES(harga),\n",
    "        diperbarui = VALUES(diperbarui),\n",
    "        id_agen = VALUES(id_agen);\n",
    "\"\"\"\n",
    "\n",
    "insert_rumah = \"\"\"\n",
    "INSERT INTO `rumah` \n",
    "    (id_iklan, luas_tanah, carport, taman) \n",
    "    VALUES (%s, %s, %s, %s) \n",
    "    ON DUPLICATE KEY UPDATE \n",
    "        luas_tanah = VALUES(luas_tanah),\n",
    "        carport = VALUES(carport),\n",
    "        taman = VALUES(taman);\n",
    "\"\"\"\n",
    "\n",
    "insert_apartemen = \"\"\"\n",
    "INSERT INTO `apartemen` \n",
    "    (id_iklan, kondisi_properti, kondisi_perabotan) \n",
    "    VALUES (%s, %s, %s) \n",
    "    ON DUPLICATE KEY UPDATE \n",
    "        kondisi_properti = VALUES(kondisi_properti),\n",
    "        kondisi_perabotan = VALUES(kondisi_perabotan);\n",
    "\"\"\""
   ]
  },
  {
   "cell_type": "markdown",
   "metadata": {},
   "source": [
    "- Connect to MySQLdb dan memasukkan query schema tabel"
   ]
  },
  {
   "cell_type": "code",
   "execution_count": 6,
   "metadata": {},
   "outputs": [],
   "source": [
    "conn = MySQLdb.connect(\n",
    "        host        =__HOST__,\n",
    "        user        =__USER__,\n",
    "        password    =__PASSWORD__\n",
    "    )\n",
    "\n",
    "cursor = conn.cursor()\n",
    "cursor.execute(drop_database)\n",
    "cursor.execute(create_database)\n",
    "cursor.execute(setchar)\n",
    "cursor.execute(use_database)\n",
    "cursor.execute(perusahaan_schema)\n",
    "cursor.execute(agen_schema)\n",
    "cursor.execute(hunian_schema)\n",
    "cursor.execute(rumah_schema)\n",
    "cursor.execute(apartemen_schema)\n",
    "cursor.execute(customer_schema)\n",
    "cursor.execute(membeli_schema)\n",
    "\n",
    "conn.commit()"
   ]
  },
  {
   "cell_type": "markdown",
   "metadata": {},
   "source": [
    "- Insert data dari hasil scraping ke tabel"
   ]
  },
  {
   "cell_type": "code",
   "execution_count": 7,
   "metadata": {},
   "outputs": [
    {
     "name": "stdout",
     "output_type": "stream",
     "text": [
      "(' Brighton Akasia Cengkareng, Jakarta Barat', 'Komplek Perum Citra 2 Ext Blok BD 1 A Nomor 8, Kel. Pegadungan, Kec. Kalideres, Kota Jakarta Barat')\n",
      "(' Brighton Priority Sunter, Jakarta Utara', 'Ruko Sunter Paradise, Blok K No.33, Sunter Agung, Kec. Tj. Priok')\n",
      "(' ERA Mulia Kelapa Cengkir Branch', 'Jl. Kelapa Gading Boulevard Blok WA2 No.9 , Kelapa Gading')\n",
      "(' EZ Land ', 'Ruko Taman Cemara Blok U6 No 11, Harapan Indah , Bekasi.')\n",
      "(' Icon Property PIK', 'Ruko Golf island Boulevard blok a nomor 71')\n",
      "(' IPROPER', 'Jalan Casablanca, Menteng Dalam, Tebet, Jakarta Selatan')\n",
      "(' Luxury home property', 'Jl Swadaya Raya,Duren Sawit,Jakarta Timur\\t')\n",
      "(' Max Properti JGC', 'La Seine F5 no 110. Jakarta garden city  Cakung - Jakarta Timur')\n",
      "(' Stars Realty', 'Ruko Graha Boulevard Summarecon Serpong, Jln Gading Serpong Boulevard BVA1, Curug Sangereng, Kec. Klp. Dua, Tangerang, Banten 15810')\n",
      "('Abie Property', 'Citilofts Sudirman Unit 22. 02, Jl. KH. Mas Mansyur no. 121 Jakarta Pusat')\n"
     ]
    }
   ],
   "source": [
    "for item in perusahaan_data:\n",
    "    data = (\n",
    "        item['nama_perusahaan'],\n",
    "        item['alamat']\n",
    "    )\n",
    "    cursor.execute(insert_perusahaan, data)\n",
    "cursor.execute(\"\"\" SELECT * FROM `perusahaan` LIMIT 10\"\"\")\n",
    "conn.commit()\n",
    "\n",
    "# cek apakah sudah tersimpan\n",
    "show_instance(cursor)"
   ]
  },
  {
   "cell_type": "code",
   "execution_count": 8,
   "metadata": {},
   "outputs": [
    {
     "name": "stdout",
     "output_type": "stream",
     "text": [
      "(231, 'JIMMY SARAGIH', 6281317585282, 11, 15, 'bintang gemilang')\n",
      "(383, 'Budi Helmi', 622183783588, 6, 1, 'Graha2000')\n",
      "(438, 'Lidia Suhendra', 628121306688, 0, 0, None)\n",
      "(542, 'Rudy Cen', 6281574800080, 0, 1, 'FRAN RUIZ Property')\n",
      "(545, 'Wira Sinaga', 62217198012, 0, 3, 'RE/MAX DESTINY')\n",
      "(567, 'Wienny Novita', 62816814779, 138, 899, 'XP & Co')\n",
      "(794, 'Lisa Hafrizal', 6281213000233, 138, 0, 'ERA Star')\n",
      "(1004, 'Isni ', 6281380802121, 21, 54, 'IS PRO')\n",
      "(1332, 'Rustam Chen', 62816933583, 10, 5, 'MYPRO')\n",
      "(1666, 'Riniwati Yakaria', 628161842149, 0, 0, 'Giovanna Realty')\n"
     ]
    }
   ],
   "source": [
    "for item in agen_data:\n",
    "    data = (\n",
    "        item['id_agen'],\n",
    "        item['nama_agen'],\n",
    "        item['nomor_telepon'],\n",
    "        item['terjual'],\n",
    "        item['tersewa'],\n",
    "        item['nama_perusahaan']\n",
    "    )            \n",
    "    cursor.execute(insert_agen, data)\n",
    "cursor.execute(\"\"\" SELECT * FROM `agen` LIMIT 10\"\"\")\n",
    "conn.commit()\n",
    "\n",
    "# cek apakah sudah tersimpan\n",
    "show_instance(cursor)"
   ]
  },
  {
   "cell_type": "code",
   "execution_count": 9,
   "metadata": {},
   "outputs": [
    {
     "name": "stdout",
     "output_type": "stream",
     "text": [
      "('apr1487673', 'Apartemen', 94, 4, 3, 'Cempaka Putih', 'SHM - Sertifikat Hak Milik', 'sewa', 'Tahunan', 70000000, datetime.date(2024, 3, 19), 567567)\n",
      "('apr1519894', 'Apartemen', 33, 2, 1, 'Cempaka Putih', 'Strata', 'sewa', 'Harian', 4700000, datetime.date(2024, 2, 20), 36837)\n",
      "('apr1519922', 'Apartemen', 33, 2, 1, 'Cempaka Putih', 'Strata', 'sewa', 'Bulanan', 5000000, datetime.date(2024, 2, 20), 36837)\n",
      "('apr1546666', 'Apartemen', 33, 2, 1, 'Cempaka Putih', 'HGB - Hak Guna Bangunan', 'sewa', 'Bulanan', 4500000, datetime.date(2024, 7, 29), 75980)\n",
      "('apr1549701', 'Apartemen', 73, 1, 1, 'Kemayoran', 'SHM - Sertifikat Hak Milik', 'sewa', 'Tahunan', 80000000, datetime.date(2024, 7, 20), 62713)\n",
      "('apr1550418', 'Apartemen', 34, 2, 1, 'Cempaka Putih', 'HGB - Hak Guna Bangunan', 'sewa', 'Tahunan', 18000000, datetime.date(2024, 7, 29), 75980)\n",
      "('apr1556324', 'Apartemen', 21, 1, 1, 'Cempaka Putih', 'HGB - Hak Guna Bangunan', 'sewa', 'Tahunan', 13000000, datetime.date(2024, 7, 29), 75980)\n",
      "('apr1559700', 'Apartemen', 33, 2, 1, 'Cempaka Putih', 'HGB - Hak Guna Bangunan', 'sewa', 'Tahunan', 25000000, datetime.date(2024, 7, 29), 75980)\n",
      "('apr1576433', 'Apartemen', 33, 2, 1, 'Cempaka Putih', 'Strata', 'sewa', 'Bulanan', 6000000, datetime.date(2024, 2, 20), 36837)\n",
      "('apr1582096', 'Apartemen', 58, 2, 1, 'Kemayoran', 'Lainnya (PPJB,Girik,Adat,dll)', 'sewa', 'Tahunan', 65000000, datetime.date(2024, 7, 1), 685503)\n"
     ]
    }
   ],
   "source": [
    "for item in hunian_data:\n",
    "    data = (\n",
    "        item['id_iklan'],\n",
    "        item['tipe_properti'],\n",
    "        item['luas_bangunan'],\n",
    "        item['kamar_tidur'],\n",
    "        item['kamar_mandi'],\n",
    "        item['lokasi'],\n",
    "        item['sertifikat'],\n",
    "        item['tipe_iklan'],\n",
    "        item['periode_kepemilikan'],\n",
    "        item['harga'],\n",
    "        item['diperbarui'],\n",
    "        item['id_agen']\n",
    "    )\n",
    "    cursor.execute(insert_hunian, data)\n",
    "cursor.execute(\"\"\" SELECT * FROM `hunian` LIMIT 10\"\"\")\n",
    "conn.commit()\n",
    "\n",
    "# cek apakah sudah tersimpan\n",
    "show_instance(cursor)"
   ]
  },
  {
   "cell_type": "code",
   "execution_count": 10,
   "metadata": {},
   "outputs": [
    {
     "name": "stdout",
     "output_type": "stream",
     "text": [
      "('hor10047873', 192, 0, 'Ya')\n",
      "('hor10138471', 1360, 10, 'Tidak')\n",
      "('hor10143630', 185, 0, 'Ya')\n",
      "('hor10279272', 626, 1, 'Ya')\n",
      "('hor10358695', 661, 2, 'Ya')\n",
      "('hor10410810', 821, 4, 'Tidak')\n",
      "('hor10509468', 75, 1, 'Ya')\n",
      "('hor10678524', 225, 1, 'Ya')\n",
      "('hor10701720', 1000, 2, 'Ya')\n",
      "('hor10703127', 1360, 2, 'Ya')\n"
     ]
    }
   ],
   "source": [
    "for item in rumah_data:\n",
    "    data = (\n",
    "        item['id_iklan'],\n",
    "        item['luas_tanah'],\n",
    "        item['carport'],\n",
    "        item['taman']\n",
    "    )\n",
    "    cursor.execute(insert_rumah, data)\n",
    "cursor.execute(\"\"\" SELECT * FROM `rumah` LIMIT 10\"\"\")\n",
    "conn.commit()\n",
    "\n",
    "# cek apakah sudah tersimpan\n",
    "show_instance(cursor)"
   ]
  },
  {
   "cell_type": "code",
   "execution_count": 11,
   "metadata": {},
   "outputs": [
    {
     "name": "stdout",
     "output_type": "stream",
     "text": [
      "('apr1487673', 'Bagus', 'Semi Furnished')\n",
      "('apr1519894', 'unknown', 'unknown')\n",
      "('apr1519922', 'unknown', 'unknown')\n",
      "('apr1546666', 'Bagus', 'Furnished')\n",
      "('apr1549701', 'Bagus', 'Furnished')\n",
      "('apr1550418', 'Bagus', 'Unfurnished')\n",
      "('apr1556324', 'Bagus', 'Unfurnished')\n",
      "('apr1559700', 'Bagus', 'Furnished')\n",
      "('apr1576433', 'unknown', 'unknown')\n",
      "('apr1582096', 'Baru', 'Furnished')\n"
     ]
    }
   ],
   "source": [
    "for item in apartemen_data:\n",
    "    data = (\n",
    "        item['id_iklan'],\n",
    "        item['kondisi_properti'],\n",
    "        item['kondisi_perabotan']\n",
    "    )\n",
    "    cursor.execute(insert_apartemen, data)\n",
    "cursor.execute(\"\"\" SELECT * FROM `apartemen` LIMIT 10\"\"\")\n",
    "conn.commit()\n",
    "\n",
    "# cek apakah sudah tersimpan\n",
    "show_instance(cursor)"
   ]
  },
  {
   "cell_type": "markdown",
   "metadata": {},
   "source": [
    "- Constraints check"
   ]
  },
  {
   "cell_type": "code",
   "execution_count": 12,
   "metadata": {},
   "outputs": [],
   "source": [
    "cursor.execute(\"\"\"\n",
    "ALTER TABLE `perusahaan`\n",
    "    ADD CONSTRAINT IF NOT EXISTS `nonempty_alamat` CHECK (LENGTH(`alamat`) > 0);\n",
    "\"\"\")\n",
    "conn.commit()\n",
    "\n",
    "cursor.execute(\"\"\"\n",
    "ALTER TABLE `agen`\n",
    "    ADD CONSTRAINT IF NOT EXISTS `length_telp_agen` CHECK (LENGTH(CAST(`nomor_telepon` AS CHAR)) BETWEEN 5 AND 15);\n",
    "\"\"\")\n",
    "conn.commit()\n",
    "\n",
    "cursor.execute(\"\"\"\n",
    "ALTER TABLE `agen`\n",
    "    ADD CONSTRAINT IF NOT EXISTS `posint_terjual` CHECK (`terjual` >= 0);\n",
    "\"\"\")\n",
    "conn.commit()\n",
    "\n",
    "cursor.execute(\"\"\"\n",
    "ALTER TABLE `agen`\n",
    "    ADD CONSTRAINT IF NOT EXISTS `posint_tersewa` CHECK (`tersewa` >= 0);\n",
    "\"\"\")\n",
    "conn.commit()\n",
    "\n",
    "cursor.execute(\"\"\"\n",
    "ALTER TABLE `hunian`\n",
    "    ADD CONSTRAINT IF NOT EXISTS `posint_luas_bangunan` CHECK (`luas_bangunan` > 0);\n",
    "\"\"\")\n",
    "conn.commit()\n",
    "\n",
    "cursor.execute(\"\"\"\n",
    "ALTER TABLE `hunian`\n",
    "    ADD CONSTRAINT IF NOT EXISTS `count_kamar_tidur` CHECK (`kamar_tidur` >= 0);\n",
    "\"\"\")\n",
    "conn.commit()\n",
    "\n",
    "cursor.execute(\"\"\"\n",
    "ALTER TABLE `hunian`\n",
    "    ADD CONSTRAINT IF NOT EXISTS `count_kamar_mandi` CHECK (`kamar_mandi` >= 0);\n",
    "\"\"\")\n",
    "conn.commit()\n",
    "\n",
    "cursor.execute(\"\"\"\n",
    "ALTER TABLE `hunian`\n",
    "    ADD CONSTRAINT IF NOT EXISTS `posint_harga` CHECK (`harga` >= 0);\n",
    "\"\"\")\n",
    "conn.commit()\n",
    "\n",
    "cursor.execute(\"\"\"\n",
    "ALTER TABLE `rumah`\n",
    "    ADD CONSTRAINT IF NOT EXISTS `posint_luas_tanah` CHECK (`luas_tanah` > 0);\n",
    "\"\"\")\n",
    "conn.commit()\n",
    "\n",
    "cursor.execute(\"\"\"\n",
    "ALTER TABLE `rumah`\n",
    "    ADD CONSTRAINT IF NOT EXISTS `posint_carport` CHECK (`carport` >= 0);\n",
    "\"\"\")\n",
    "conn.commit()\n",
    "\n",
    "cursor.execute(\"\"\"\n",
    "ALTER TABLE `customer`\n",
    "    ADD CONSTRAINT IF NOT EXISTS `length_telp_customer` CHECK (LENGTH(CAST(`nomor_telepon` AS CHAR)) BETWEEN 8 AND 15);\n",
    "\"\"\")\n",
    "conn.commit()\n",
    "\n",
    "cursor.execute(\"\"\"\n",
    "ALTER TABLE `customer`\n",
    "    ADD CONSTRAINT IF NOT EXISTS `posint_pendapatan` CHECK (`pendapatan` >= 0);\n",
    "\"\"\")\n",
    "conn.commit()\n",
    "\n",
    "cursor.execute(\"\"\"\n",
    "ALTER TABLE `customer`\n",
    "    ADD CONSTRAINT `unique_nomor_telepon_customer` UNIQUE(`nomor_telepon`);\n",
    "\"\"\")\n",
    "conn.commit()"
   ]
  },
  {
   "cell_type": "markdown",
   "metadata": {},
   "source": [
    "- Triggers"
   ]
  },
  {
   "cell_type": "code",
   "execution_count": 13,
   "metadata": {},
   "outputs": [],
   "source": [
    "drop_trigger_diperbarui_date = \"\"\"DROP TRIGGER IF EXISTS trigger_diperbarui_date;\"\"\"\n",
    "trigger_diperbarui_date = \"\"\"\n",
    "CREATE TRIGGER trigger_diperbarui_date\n",
    "BEFORE UPDATE ON hunian\n",
    "FOR EACH ROW\n",
    "BEGIN\n",
    "    IF NEW.diperbarui < OLD.diperbarui THEN\n",
    "        SIGNAL SQLSTATE '45000' \n",
    "        SET MESSAGE_TEXT = 'Tanggal diperbarui tidak boleh lebih kecil dari tanggal sebelumnya.';\n",
    "    END IF;\n",
    "END;\n",
    "\"\"\"\n",
    "\n",
    "drop_trigger_insert_rumah = \"\"\"DROP TRIGGER IF EXISTS trigger_insert_rumah;\"\"\"\n",
    "trigger_insert_rumah = \"\"\"\n",
    "CREATE TRIGGER trigger_insert_rumah\n",
    "BEFORE INSERT ON rumah\n",
    "FOR EACH ROW\n",
    "BEGIN\n",
    "    DECLARE v_tipe_properti ENUM('Rumah', 'Apartemen');\n",
    "    SELECT tipe_properti INTO v_tipe_properti FROM hunian WHERE id_iklan = NEW.id_iklan;\n",
    "    IF v_tipe_properti <> 'Rumah' THEN\n",
    "        SIGNAL SQLSTATE '45000' SET MESSAGE_TEXT = 'Cannot insert into rumah: tipe_properti must be Rumah';\n",
    "    END IF;\n",
    "END;\n",
    "\"\"\"\n",
    "\n",
    "drop_trigger_insert_apartemen = \"\"\"DROP TRIGGER IF EXISTS trigger_insert_apartemen;\"\"\"\n",
    "trigger_insert_apartemen = \"\"\"\n",
    "CREATE TRIGGER trigger_insert_apartemen\n",
    "BEFORE INSERT ON apartemen\n",
    "FOR EACH ROW\n",
    "BEGIN\n",
    "    DECLARE v_tipe_properti ENUM('Rumah', 'Apartemen');\n",
    "    SELECT tipe_properti INTO v_tipe_properti FROM hunian WHERE id_iklan = NEW.id_iklan;\n",
    "    IF v_tipe_properti <> 'Apartemen' THEN\n",
    "        SIGNAL SQLSTATE '45000' SET MESSAGE_TEXT = 'Cannot insert into apartemen: tipe_properti must be Apartemen';\n",
    "    END IF;\n",
    "END;\n",
    "\"\"\"\n",
    "\n",
    "drop_trigger_update_agen = \"\"\"DROP TRIGGER IF EXISTS trigger_update_agen;\"\"\"\n",
    "trigger_update_agen = \"\"\"\n",
    "CREATE TRIGGER trigger_update_agen\n",
    "AFTER INSERT ON membeli\n",
    "FOR EACH ROW\n",
    "BEGIN\n",
    "    DECLARE v_tipe_iklan ENUM('jual', 'sewa');\n",
    "\n",
    "    SELECT tipe_iklan INTO v_tipe_iklan\n",
    "    FROM hunian\n",
    "    WHERE id_iklan = NEW.id_iklan;\n",
    "\n",
    "    IF v_tipe_iklan = 'jual' THEN\n",
    "        UPDATE agen\n",
    "        INNER JOIN hunian ON agen.id_agen = hunian.id_agen\n",
    "        SET agen.terjual = agen.terjual + 1\n",
    "        WHERE hunian.id_iklan = NEW.id_iklan;\n",
    "    END IF;\n",
    "\n",
    "    IF v_tipe_iklan = 'sewa' THEN\n",
    "        UPDATE agen\n",
    "        INNER JOIN hunian ON agen.id_agen = hunian.id_agen\n",
    "        SET agen.tersewa = agen.tersewa + 1\n",
    "        WHERE hunian.id_iklan = NEW.id_iklan;\n",
    "    END IF;\n",
    "END\n",
    "\"\"\""
   ]
  },
  {
   "cell_type": "markdown",
   "metadata": {},
   "source": [
    "- Execute query triggers"
   ]
  },
  {
   "cell_type": "code",
   "execution_count": 14,
   "metadata": {},
   "outputs": [],
   "source": [
    "cursor.execute(drop_trigger_diperbarui_date)\n",
    "conn.commit()\n",
    "cursor.execute(trigger_diperbarui_date)\n",
    "conn.commit()\n",
    "cursor.execute(drop_trigger_insert_rumah)\n",
    "conn.commit()\n",
    "cursor.execute(trigger_insert_rumah)\n",
    "conn.commit()\n",
    "cursor.execute(drop_trigger_insert_apartemen)\n",
    "conn.commit()\n",
    "cursor.execute(trigger_insert_apartemen)\n",
    "conn.commit()\n",
    "cursor.execute(drop_trigger_update_agen)\n",
    "conn.commit()\n",
    "cursor.execute(trigger_update_agen)\n",
    "conn.commit()"
   ]
  },
  {
   "cell_type": "markdown",
   "metadata": {},
   "source": [
    "- Close MySQLdb"
   ]
  },
  {
   "cell_type": "code",
   "execution_count": 15,
   "metadata": {},
   "outputs": [],
   "source": [
    "cursor.close()\n",
    "conn.close()"
   ]
  },
  {
   "cell_type": "markdown",
   "metadata": {},
   "source": [
    "- Dump database"
   ]
  },
  {
   "cell_type": "code",
   "execution_count": 16,
   "metadata": {},
   "outputs": [],
   "source": [
    "def dump_database(user, password, db_name, output_file):\n",
    "    data_storing_folder = os.path.join(__CURRENT_DIRECTORY__, '..', '..', 'Data Storing\\\\export')\n",
    "    if not os.path.exists(data_storing_folder):\n",
    "        os.makedirs(data_storing_folder)\n",
    "\n",
    "    full_output_file = os.path.join(data_storing_folder, output_file)\n",
    "    escaped_output_file = f'\"{full_output_file}\"'\n",
    "    command = f\"mysqldump -u {user} -p{password} {db_name} > {escaped_output_file}\"\n",
    "    \n",
    "    try:\n",
    "        subprocess.run(command, shell=True, check=True)\n",
    "        log_message = (\n",
    "            f'{__RED__}............................{__RESET__}\\n'\n",
    "            f'............................\\n'\n",
    "            f'{__GREEN__}............................{__RESET__}\\n'\n",
    "            f'{__GREEN__}Data storing has been completed!{__RESET__}\\n\\n'\n",
    "            f\"Database {db_name} has been dumped to:\\n '{full_output_file}'\"\n",
    "        )\n",
    "        print(log_message)\n",
    "\n",
    "    except Exception:\n",
    "        log_message = (\n",
    "            f'............................\\n'\n",
    "            f'{__RED__}............................{__RESET__}\\n'\n",
    "            f\"{__RED__}An error occurred while dumping the database!{__RESET__}\"\n",
    "        )\n",
    "        print(log_message)"
   ]
  },
  {
   "cell_type": "code",
   "execution_count": 17,
   "metadata": {},
   "outputs": [
    {
     "name": "stdout",
     "output_type": "stream",
     "text": [
      "\u001b[91m............................\u001b[0m\n",
      "............................\n",
      "\u001b[92m............................\u001b[0m\n",
      "\u001b[92mData storing has been completed!\u001b[0m\n",
      "\n",
      "Database property has been dumped to:\n",
      " 'c:\\Users\\naufn\\Documents\\gitHub\\Seleksi-2024-Tugas-1\\Data Scraping\\src\\..\\..\\Data Storing\\export\\property.sql'\n"
     ]
    }
   ],
   "source": [
    "dump_database(__USER__, __PASSWORD__, __DATABASE__, f\"{__DATABASE__}.sql\")"
   ]
  }
 ],
 "metadata": {
  "kernelspec": {
   "display_name": "Python 3",
   "language": "python",
   "name": "python3"
  },
  "language_info": {
   "codemirror_mode": {
    "name": "ipython",
    "version": 3
   },
   "file_extension": ".py",
   "mimetype": "text/x-python",
   "name": "python",
   "nbconvert_exporter": "python",
   "pygments_lexer": "ipython3",
   "version": "3.12.0"
  }
 },
 "nbformat": 4,
 "nbformat_minor": 2
}
