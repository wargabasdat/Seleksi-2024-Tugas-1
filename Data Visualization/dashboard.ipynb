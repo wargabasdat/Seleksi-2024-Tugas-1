{
 "cells": [
  {
   "cell_type": "markdown",
   "metadata": {},
   "source": [
    "<div align=\"center\">\n",
    "  <h1>Dashboard</h1>\n",
    "  <h2>Data Hunian Rumah dan Apartemen di Jakarta Pusat</h2>\n",
    "</div>"
   ]
  },
  {
   "cell_type": "code",
   "execution_count": 1,
   "metadata": {},
   "outputs": [],
   "source": [
    "## jika packages berikut belum terinstall, un-comment dan jalankan cell ini untuk menginstallnya\n",
    "# %pip install pandas numpy plotly\n",
    "\n",
    "# note: jika ada yang belum terinstall lakukan command di cell baru:\n",
    "# %pip install <nama package>"
   ]
  },
  {
   "cell_type": "code",
   "execution_count": 2,
   "metadata": {},
   "outputs": [],
   "source": [
    "import pandas as pd\n",
    "import numpy as np\n",
    "import plotly.express as px\n",
    "from IPython.display import display, Markdown"
   ]
  },
  {
   "cell_type": "markdown",
   "metadata": {},
   "source": [
    "<div align=\"center\">\n",
    "  <h3>OVERVIEW</h3>\n",
    "</div>"
   ]
  },
  {
   "cell_type": "markdown",
   "metadata": {},
   "source": [
    "- Data hunian"
   ]
  },
  {
   "cell_type": "code",
   "execution_count": 3,
   "metadata": {},
   "outputs": [
    {
     "data": {
      "text/html": [
       "<div>\n",
       "<style scoped>\n",
       "    .dataframe tbody tr th:only-of-type {\n",
       "        vertical-align: middle;\n",
       "    }\n",
       "\n",
       "    .dataframe tbody tr th {\n",
       "        vertical-align: top;\n",
       "    }\n",
       "\n",
       "    .dataframe thead th {\n",
       "        text-align: right;\n",
       "    }\n",
       "</style>\n",
       "<table border=\"1\" class=\"dataframe\">\n",
       "  <thead>\n",
       "    <tr style=\"text-align: right;\">\n",
       "      <th></th>\n",
       "      <th>id_iklan</th>\n",
       "      <th>tipe_properti</th>\n",
       "      <th>luas_bangunan</th>\n",
       "      <th>kamar_tidur</th>\n",
       "      <th>kamar_mandi</th>\n",
       "      <th>lokasi</th>\n",
       "      <th>sertifikat</th>\n",
       "      <th>tipe_iklan</th>\n",
       "      <th>periode_kepemilikan</th>\n",
       "      <th>harga</th>\n",
       "      <th>diperbarui</th>\n",
       "      <th>id_agen</th>\n",
       "    </tr>\n",
       "  </thead>\n",
       "  <tbody>\n",
       "    <tr>\n",
       "      <th>0</th>\n",
       "      <td>aps3187118</td>\n",
       "      <td>Apartemen</td>\n",
       "      <td>112</td>\n",
       "      <td>3</td>\n",
       "      <td>2</td>\n",
       "      <td>Menteng</td>\n",
       "      <td>SHM - Sertifikat Hak Milik</td>\n",
       "      <td>jual</td>\n",
       "      <td>Pemilik</td>\n",
       "      <td>5500000000</td>\n",
       "      <td>2024-05-27</td>\n",
       "      <td>1859657</td>\n",
       "    </tr>\n",
       "    <tr>\n",
       "      <th>1</th>\n",
       "      <td>aps3187337</td>\n",
       "      <td>Apartemen</td>\n",
       "      <td>33</td>\n",
       "      <td>2</td>\n",
       "      <td>1</td>\n",
       "      <td>Cempaka Putih</td>\n",
       "      <td>Lainnya (PPJB,Girik,Adat,dll)</td>\n",
       "      <td>jual</td>\n",
       "      <td>Pemilik</td>\n",
       "      <td>550000000</td>\n",
       "      <td>2024-05-09</td>\n",
       "      <td>947615</td>\n",
       "    </tr>\n",
       "    <tr>\n",
       "      <th>2</th>\n",
       "      <td>aps3187554</td>\n",
       "      <td>Apartemen</td>\n",
       "      <td>50</td>\n",
       "      <td>2</td>\n",
       "      <td>1</td>\n",
       "      <td>Sawah Besar</td>\n",
       "      <td>Lainnya (PPJB,Girik,Adat,dll)</td>\n",
       "      <td>jual</td>\n",
       "      <td>Pemilik</td>\n",
       "      <td>800000000</td>\n",
       "      <td>2024-02-02</td>\n",
       "      <td>1527108</td>\n",
       "    </tr>\n",
       "    <tr>\n",
       "      <th>3</th>\n",
       "      <td>aps3187588</td>\n",
       "      <td>Apartemen</td>\n",
       "      <td>79</td>\n",
       "      <td>1</td>\n",
       "      <td>1</td>\n",
       "      <td>Kemayoran</td>\n",
       "      <td>SHM - Sertifikat Hak Milik</td>\n",
       "      <td>jual</td>\n",
       "      <td>Pemilik</td>\n",
       "      <td>2400000000</td>\n",
       "      <td>2024-02-02</td>\n",
       "      <td>48760</td>\n",
       "    </tr>\n",
       "    <tr>\n",
       "      <th>4</th>\n",
       "      <td>hos16255795</td>\n",
       "      <td>Rumah</td>\n",
       "      <td>80</td>\n",
       "      <td>3</td>\n",
       "      <td>3</td>\n",
       "      <td>Gunung Sahari</td>\n",
       "      <td>SHM - Sertifikat Hak Milik</td>\n",
       "      <td>jual</td>\n",
       "      <td>Pemilik</td>\n",
       "      <td>1000000000</td>\n",
       "      <td>2024-02-02</td>\n",
       "      <td>1356696</td>\n",
       "    </tr>\n",
       "  </tbody>\n",
       "</table>\n",
       "</div>"
      ],
      "text/plain": [
       "      id_iklan tipe_properti  luas_bangunan  kamar_tidur  kamar_mandi  \\\n",
       "0   aps3187118     Apartemen            112            3            2   \n",
       "1   aps3187337     Apartemen             33            2            1   \n",
       "2   aps3187554     Apartemen             50            2            1   \n",
       "3   aps3187588     Apartemen             79            1            1   \n",
       "4  hos16255795         Rumah             80            3            3   \n",
       "\n",
       "          lokasi                     sertifikat tipe_iklan  \\\n",
       "0        Menteng     SHM - Sertifikat Hak Milik       jual   \n",
       "1  Cempaka Putih  Lainnya (PPJB,Girik,Adat,dll)       jual   \n",
       "2    Sawah Besar  Lainnya (PPJB,Girik,Adat,dll)       jual   \n",
       "3      Kemayoran     SHM - Sertifikat Hak Milik       jual   \n",
       "4  Gunung Sahari     SHM - Sertifikat Hak Milik       jual   \n",
       "\n",
       "  periode_kepemilikan       harga  diperbarui  id_agen  \n",
       "0             Pemilik  5500000000  2024-05-27  1859657  \n",
       "1             Pemilik   550000000  2024-05-09   947615  \n",
       "2             Pemilik   800000000  2024-02-02  1527108  \n",
       "3             Pemilik  2400000000  2024-02-02    48760  \n",
       "4             Pemilik  1000000000  2024-02-02  1356696  "
      ]
     },
     "execution_count": 3,
     "metadata": {},
     "output_type": "execute_result"
    }
   ],
   "source": [
    "hunian = pd.read_json('../Data Scraping/data/hunian.json')\n",
    "hunian.head(5)"
   ]
  },
  {
   "cell_type": "markdown",
   "metadata": {},
   "source": [
    "- Data rumah"
   ]
  },
  {
   "cell_type": "code",
   "execution_count": 4,
   "metadata": {},
   "outputs": [
    {
     "data": {
      "text/html": [
       "<div>\n",
       "<style scoped>\n",
       "    .dataframe tbody tr th:only-of-type {\n",
       "        vertical-align: middle;\n",
       "    }\n",
       "\n",
       "    .dataframe tbody tr th {\n",
       "        vertical-align: top;\n",
       "    }\n",
       "\n",
       "    .dataframe thead th {\n",
       "        text-align: right;\n",
       "    }\n",
       "</style>\n",
       "<table border=\"1\" class=\"dataframe\">\n",
       "  <thead>\n",
       "    <tr style=\"text-align: right;\">\n",
       "      <th></th>\n",
       "      <th>id_iklan</th>\n",
       "      <th>luas_tanah</th>\n",
       "      <th>carport</th>\n",
       "      <th>taman</th>\n",
       "    </tr>\n",
       "  </thead>\n",
       "  <tbody>\n",
       "    <tr>\n",
       "      <th>0</th>\n",
       "      <td>hos16255795</td>\n",
       "      <td>49</td>\n",
       "      <td>1</td>\n",
       "      <td>Tidak</td>\n",
       "    </tr>\n",
       "    <tr>\n",
       "      <th>1</th>\n",
       "      <td>hos16255835</td>\n",
       "      <td>400</td>\n",
       "      <td>2</td>\n",
       "      <td>Tidak</td>\n",
       "    </tr>\n",
       "    <tr>\n",
       "      <th>2</th>\n",
       "      <td>hos16251736</td>\n",
       "      <td>378</td>\n",
       "      <td>0</td>\n",
       "      <td>Ya</td>\n",
       "    </tr>\n",
       "    <tr>\n",
       "      <th>3</th>\n",
       "      <td>hos16252133</td>\n",
       "      <td>376</td>\n",
       "      <td>1</td>\n",
       "      <td>Tidak</td>\n",
       "    </tr>\n",
       "    <tr>\n",
       "      <th>4</th>\n",
       "      <td>hos16252488</td>\n",
       "      <td>515</td>\n",
       "      <td>0</td>\n",
       "      <td>Tidak</td>\n",
       "    </tr>\n",
       "  </tbody>\n",
       "</table>\n",
       "</div>"
      ],
      "text/plain": [
       "      id_iklan  luas_tanah  carport  taman\n",
       "0  hos16255795          49        1  Tidak\n",
       "1  hos16255835         400        2  Tidak\n",
       "2  hos16251736         378        0     Ya\n",
       "3  hos16252133         376        1  Tidak\n",
       "4  hos16252488         515        0  Tidak"
      ]
     },
     "execution_count": 4,
     "metadata": {},
     "output_type": "execute_result"
    }
   ],
   "source": [
    "rumah = pd.read_json('../Data Scraping/data/rumah.json')\n",
    "rumah.head(5)"
   ]
  },
  {
   "cell_type": "markdown",
   "metadata": {},
   "source": [
    "- Data apartemen"
   ]
  },
  {
   "cell_type": "code",
   "execution_count": 5,
   "metadata": {},
   "outputs": [
    {
     "data": {
      "text/html": [
       "<div>\n",
       "<style scoped>\n",
       "    .dataframe tbody tr th:only-of-type {\n",
       "        vertical-align: middle;\n",
       "    }\n",
       "\n",
       "    .dataframe tbody tr th {\n",
       "        vertical-align: top;\n",
       "    }\n",
       "\n",
       "    .dataframe thead th {\n",
       "        text-align: right;\n",
       "    }\n",
       "</style>\n",
       "<table border=\"1\" class=\"dataframe\">\n",
       "  <thead>\n",
       "    <tr style=\"text-align: right;\">\n",
       "      <th></th>\n",
       "      <th>id_iklan</th>\n",
       "      <th>kondisi_properti</th>\n",
       "      <th>kondisi_perabotan</th>\n",
       "    </tr>\n",
       "  </thead>\n",
       "  <tbody>\n",
       "    <tr>\n",
       "      <th>0</th>\n",
       "      <td>aps3187118</td>\n",
       "      <td>Bagus</td>\n",
       "      <td>Furnished</td>\n",
       "    </tr>\n",
       "    <tr>\n",
       "      <th>1</th>\n",
       "      <td>aps3187337</td>\n",
       "      <td>Bagus</td>\n",
       "      <td>Furnished</td>\n",
       "    </tr>\n",
       "    <tr>\n",
       "      <th>2</th>\n",
       "      <td>aps3187554</td>\n",
       "      <td>Bagus</td>\n",
       "      <td>Furnished</td>\n",
       "    </tr>\n",
       "    <tr>\n",
       "      <th>3</th>\n",
       "      <td>aps3187588</td>\n",
       "      <td>Bagus</td>\n",
       "      <td>Furnished</td>\n",
       "    </tr>\n",
       "    <tr>\n",
       "      <th>4</th>\n",
       "      <td>aps3187135</td>\n",
       "      <td>Bagus</td>\n",
       "      <td>Furnished</td>\n",
       "    </tr>\n",
       "  </tbody>\n",
       "</table>\n",
       "</div>"
      ],
      "text/plain": [
       "     id_iklan kondisi_properti kondisi_perabotan\n",
       "0  aps3187118            Bagus         Furnished\n",
       "1  aps3187337            Bagus         Furnished\n",
       "2  aps3187554            Bagus         Furnished\n",
       "3  aps3187588            Bagus         Furnished\n",
       "4  aps3187135            Bagus         Furnished"
      ]
     },
     "execution_count": 5,
     "metadata": {},
     "output_type": "execute_result"
    }
   ],
   "source": [
    "apartemen = pd.read_json('../Data Scraping/data/apartemen.json')\n",
    "apartemen.head(5)"
   ]
  },
  {
   "cell_type": "markdown",
   "metadata": {},
   "source": [
    "- Data agen"
   ]
  },
  {
   "cell_type": "code",
   "execution_count": 6,
   "metadata": {},
   "outputs": [
    {
     "data": {
      "text/html": [
       "<div>\n",
       "<style scoped>\n",
       "    .dataframe tbody tr th:only-of-type {\n",
       "        vertical-align: middle;\n",
       "    }\n",
       "\n",
       "    .dataframe tbody tr th {\n",
       "        vertical-align: top;\n",
       "    }\n",
       "\n",
       "    .dataframe thead th {\n",
       "        text-align: right;\n",
       "    }\n",
       "</style>\n",
       "<table border=\"1\" class=\"dataframe\">\n",
       "  <thead>\n",
       "    <tr style=\"text-align: right;\">\n",
       "      <th></th>\n",
       "      <th>id_agen</th>\n",
       "      <th>nama_agen</th>\n",
       "      <th>nomor_telepon</th>\n",
       "      <th>terjual</th>\n",
       "      <th>tersewa</th>\n",
       "      <th>nama_perusahaan</th>\n",
       "    </tr>\n",
       "  </thead>\n",
       "  <tbody>\n",
       "    <tr>\n",
       "      <th>0</th>\n",
       "      <td>1859657</td>\n",
       "      <td>Grace</td>\n",
       "      <td>6287736666636</td>\n",
       "      <td>0</td>\n",
       "      <td>0</td>\n",
       "      <td>Xavier Marks Menteng</td>\n",
       "    </tr>\n",
       "    <tr>\n",
       "      <th>1</th>\n",
       "      <td>947615</td>\n",
       "      <td>Junison Siagian</td>\n",
       "      <td>6282368494901</td>\n",
       "      <td>41</td>\n",
       "      <td>61</td>\n",
       "      <td>WM PRO</td>\n",
       "    </tr>\n",
       "    <tr>\n",
       "      <th>2</th>\n",
       "      <td>1527108</td>\n",
       "      <td>maria lie</td>\n",
       "      <td>62811135705</td>\n",
       "      <td>3</td>\n",
       "      <td>3</td>\n",
       "      <td>Asia One Harapan Indah</td>\n",
       "    </tr>\n",
       "    <tr>\n",
       "      <th>3</th>\n",
       "      <td>48760</td>\n",
       "      <td>Vemby Intan</td>\n",
       "      <td>628996060307</td>\n",
       "      <td>2</td>\n",
       "      <td>0</td>\n",
       "      <td>Dream Home</td>\n",
       "    </tr>\n",
       "    <tr>\n",
       "      <th>4</th>\n",
       "      <td>1356696</td>\n",
       "      <td>novie asiaonehi asiaonehi</td>\n",
       "      <td>6287810000275</td>\n",
       "      <td>1</td>\n",
       "      <td>1</td>\n",
       "      <td>Asia One Harapan Indah</td>\n",
       "    </tr>\n",
       "  </tbody>\n",
       "</table>\n",
       "</div>"
      ],
      "text/plain": [
       "   id_agen                  nama_agen  nomor_telepon  terjual  tersewa  \\\n",
       "0  1859657                     Grace   6287736666636        0        0   \n",
       "1   947615           Junison Siagian   6282368494901       41       61   \n",
       "2  1527108                  maria lie    62811135705        3        3   \n",
       "3    48760                Vemby Intan   628996060307        2        0   \n",
       "4  1356696  novie asiaonehi asiaonehi  6287810000275        1        1   \n",
       "\n",
       "          nama_perusahaan  \n",
       "0    Xavier Marks Menteng  \n",
       "1                  WM PRO  \n",
       "2  Asia One Harapan Indah  \n",
       "3              Dream Home  \n",
       "4  Asia One Harapan Indah  "
      ]
     },
     "execution_count": 6,
     "metadata": {},
     "output_type": "execute_result"
    }
   ],
   "source": [
    "agen = pd.read_json('../Data Scraping/data/agen.json')\n",
    "agen.head(5)"
   ]
  },
  {
   "cell_type": "markdown",
   "metadata": {},
   "source": [
    "- Data perusahaan"
   ]
  },
  {
   "cell_type": "code",
   "execution_count": 7,
   "metadata": {},
   "outputs": [
    {
     "data": {
      "text/html": [
       "<div>\n",
       "<style scoped>\n",
       "    .dataframe tbody tr th:only-of-type {\n",
       "        vertical-align: middle;\n",
       "    }\n",
       "\n",
       "    .dataframe tbody tr th {\n",
       "        vertical-align: top;\n",
       "    }\n",
       "\n",
       "    .dataframe thead th {\n",
       "        text-align: right;\n",
       "    }\n",
       "</style>\n",
       "<table border=\"1\" class=\"dataframe\">\n",
       "  <thead>\n",
       "    <tr style=\"text-align: right;\">\n",
       "      <th></th>\n",
       "      <th>nama_perusahaan</th>\n",
       "      <th>alamat</th>\n",
       "    </tr>\n",
       "  </thead>\n",
       "  <tbody>\n",
       "    <tr>\n",
       "      <th>0</th>\n",
       "      <td>Xavier Marks Menteng</td>\n",
       "      <td>Jl. Cikini Raya No.121C, RW.4, Cikini, Kec. Me...</td>\n",
       "    </tr>\n",
       "    <tr>\n",
       "      <th>1</th>\n",
       "      <td>WM PRO</td>\n",
       "      <td>Apartemen Taman Rasuna Kawasan Epicentrum,Kuni...</td>\n",
       "    </tr>\n",
       "    <tr>\n",
       "      <th>2</th>\n",
       "      <td>Asia One Harapan Indah</td>\n",
       "      <td>Rukan Mega Bulevard Blok RV-2 No. 6A, Medan Sa...</td>\n",
       "    </tr>\n",
       "    <tr>\n",
       "      <th>3</th>\n",
       "      <td>Dream Home</td>\n",
       "      <td>Ruko Alexandrite Blok ALX 3 No. 17 Gading Serp...</td>\n",
       "    </tr>\n",
       "    <tr>\n",
       "      <th>4</th>\n",
       "      <td>ThayProperty</td>\n",
       "      <td>Jl. Pondok Kelapa, Duren Sawit, Jakarta Timur</td>\n",
       "    </tr>\n",
       "  </tbody>\n",
       "</table>\n",
       "</div>"
      ],
      "text/plain": [
       "          nama_perusahaan                                             alamat\n",
       "0    Xavier Marks Menteng  Jl. Cikini Raya No.121C, RW.4, Cikini, Kec. Me...\n",
       "1                  WM PRO  Apartemen Taman Rasuna Kawasan Epicentrum,Kuni...\n",
       "2  Asia One Harapan Indah  Rukan Mega Bulevard Blok RV-2 No. 6A, Medan Sa...\n",
       "3              Dream Home  Ruko Alexandrite Blok ALX 3 No. 17 Gading Serp...\n",
       "4            ThayProperty     Jl. Pondok Kelapa, Duren Sawit, Jakarta Timur "
      ]
     },
     "execution_count": 7,
     "metadata": {},
     "output_type": "execute_result"
    }
   ],
   "source": [
    "perusahaan = pd.read_json('../Data Scraping/data/perusahaan.json')\n",
    "perusahaan.head(5)"
   ]
  },
  {
   "cell_type": "markdown",
   "metadata": {},
   "source": [
    "<div align=\"center\">\n",
    "  <h3>VISUALIZATION</h3>\n",
    "</div>"
   ]
  },
  {
   "cell_type": "code",
   "execution_count": 8,
   "metadata": {},
   "outputs": [],
   "source": [
    "def calculate_harga_per_bulan(row):\n",
    "    if row['periode_kepemilikan'] == 'Harian':\n",
    "        return row['harga'] * 30\n",
    "    elif row['periode_kepemilikan'] == 'Tahunan':\n",
    "        return row['harga'] / 12\n",
    "    else:\n",
    "        return row['harga']\n",
    "    \n",
    "def bar(df, column1, column2, x_, title):\n",
    "    dist = df.groupby([column1, column2]).size().reset_index(name='count')\n",
    "    fig = px.bar(dist, x=column1, y='count', color=column2, title=title + ' - snip untuk zoom agar lebih jelas',\n",
    "                labels={column1: x_, 'count': 'Count', column2:'Property Type'},\n",
    "                color_discrete_sequence=px.colors.qualitative.Pastel1)\n",
    "    fig.show()\n",
    "\n",
    "def pie(df, column, donut, title):\n",
    "    dist = df[column].value_counts().reset_index()\n",
    "    dist.columns = [column, 'count']\n",
    "\n",
    "    fig = px.pie(dist, names=column, values='count', title=title,\n",
    "                color_discrete_sequence=px.colors.sequential.Redor)\n",
    "    fig.update_traces(textinfo='label+percent', textposition='outside',\n",
    "                      pull=[0.1] * len(dist), hole=0.5)\n",
    "    fig.update_layout(showlegend=False, annotations=[dict(text=donut, font_size=20, showarrow=False)])\n",
    "    fig.show()\n",
    "\n",
    "def scatter(df, title, x_, color_):\n",
    "    fig = px.scatter(df, x=x_, y='harga_per_bulan', color=color_, \n",
    "                    title=title + ' - snip untuk zoom agar lebih jelas', \n",
    "                    labels={'luas_bangunan': 'Building Area (m\\u00b2)', 'harga_per_bulan': 'Price', 'tipe_properti': 'Property Type'})\n",
    "    fig.show()\n",
    "\n",
    "def boxplot(df, column, title):\n",
    "    fig = px.box(df, y=column, title=title + ' - snip untuk zoom agar lebih jelas',)\n",
    "    fig.update_layout(yaxis_title='Area (m²)')\n",
    "    fig.show()"
   ]
  },
  {
   "cell_type": "code",
   "execution_count": 9,
   "metadata": {},
   "outputs": [
    {
     "data": {
      "text/markdown": [
       "<div align='center'><h2>====================</h2></div>"
      ],
      "text/plain": [
       "<IPython.core.display.Markdown object>"
      ]
     },
     "metadata": {},
     "output_type": "display_data"
    },
    {
     "data": {
      "text/markdown": [
       "<div align='center'><h2>Informasi Hunian</h2></div>"
      ],
      "text/plain": [
       "<IPython.core.display.Markdown object>"
      ]
     },
     "metadata": {},
     "output_type": "display_data"
    },
    {
     "data": {
      "application/vnd.plotly.v1+json": {
       "config": {
        "plotlyServerURL": "https://plot.ly"
       },
       "data": [
        {
         "alignmentgroup": "True",
         "hovertemplate": "luas_bangunan=%{y}<extra></extra>",
         "legendgroup": "",
         "marker": {
          "color": "#636efa"
         },
         "name": "",
         "notched": false,
         "offsetgroup": "",
         "orientation": "v",
         "showlegend": false,
         "type": "box",
         "x0": " ",
         "xaxis": "x",
         "y": [
          112,
          33,
          50,
          79,
          80,
          200,
          800,
          157,
          6500,
          470,
          520,
          261,
          42,
          800,
          261,
          56,
          1305,
          1000,
          1000,
          260,
          283,
          24,
          42,
          1000,
          600,
          280,
          520,
          400,
          221,
          340,
          2000,
          348,
          94,
          132,
          1200,
          950,
          264,
          39,
          57,
          32,
          48,
          520,
          2000,
          213,
          32,
          619,
          548,
          520,
          197,
          756,
          160,
          657,
          1050,
          90,
          536,
          400,
          252,
          350,
          80,
          391,
          31,
          65,
          700,
          210,
          57,
          1600,
          2478,
          470,
          500,
          300,
          169,
          55,
          42,
          30,
          115,
          33,
          600,
          167,
          33,
          115,
          88,
          55,
          33,
          42,
          42,
          73,
          74,
          700,
          58,
          30,
          55,
          31,
          55,
          600,
          55,
          105,
          114,
          105,
          79,
          300,
          285,
          162,
          51,
          51,
          49,
          103,
          115,
          33,
          28,
          150,
          800,
          168,
          168,
          147,
          28,
          150,
          150,
          382,
          147,
          147,
          168,
          150,
          168,
          28,
          28,
          147,
          30,
          70,
          70,
          42,
          73,
          70,
          40,
          500,
          132,
          113,
          120,
          70,
          260,
          200,
          30,
          70,
          96,
          225,
          148,
          67,
          49,
          65,
          150,
          64,
          28,
          131,
          126,
          48,
          300,
          58,
          25,
          86,
          55,
          180,
          28,
          168,
          48,
          147,
          58,
          48,
          28,
          35,
          150,
          150,
          33,
          221,
          49,
          220,
          33,
          200,
          350,
          42,
          390,
          1000,
          85,
          121,
          125,
          250,
          400,
          100,
          85,
          55,
          41,
          950,
          300,
          247,
          650,
          85,
          268,
          72,
          150,
          53,
          33,
          297,
          103,
          42,
          275,
          280,
          84,
          42,
          42,
          71,
          38,
          33,
          297,
          200,
          42,
          42,
          42,
          42,
          50,
          50,
          60,
          363,
          48,
          60,
          214,
          800,
          42,
          105,
          85,
          48,
          36,
          680,
          165,
          888,
          85,
          298,
          500,
          600,
          650,
          841,
          841,
          275,
          100,
          600,
          1200,
          226,
          594,
          36,
          1200,
          550,
          880,
          462,
          70,
          800,
          180,
          260,
          58,
          268,
          268,
          85,
          33,
          42,
          79,
          91,
          48,
          130,
          250,
          160,
          268,
          41,
          58,
          51,
          49,
          94,
          130,
          35,
          480,
          35,
          42,
          96,
          88,
          38,
          94,
          40,
          48,
          38,
          49,
          76,
          36,
          200,
          96,
          96,
          70,
          49,
          57,
          33,
          600,
          95,
          141,
          260,
          31,
          89,
          49,
          40,
          135,
          300,
          45,
          460,
          288,
          49,
          55,
          320,
          65,
          74,
          80,
          217,
          520,
          33,
          35,
          77,
          508,
          74,
          35,
          725,
          42,
          193,
          1000,
          46,
          32,
          147,
          58,
          168,
          33,
          28,
          145,
          58,
          48,
          33,
          160,
          21,
          145,
          168,
          95,
          181,
          800,
          21,
          600,
          115,
          71,
          85,
          70,
          167,
          100,
          200,
          90,
          160,
          265,
          180,
          48,
          200,
          980,
          39,
          95,
          150,
          49,
          285,
          1200,
          148,
          381,
          200,
          33,
          600,
          500,
          150,
          36,
          1000,
          500,
          520,
          335,
          400,
          900,
          38,
          488,
          80,
          400,
          800,
          160,
          200,
          282,
          500,
          490,
          500,
          920,
          450,
          600,
          450,
          800,
          79,
          1584,
          700,
          800,
          26,
          62,
          600,
          1040,
          1000,
          38,
          350,
          308,
          70,
          600,
          1046,
          400,
          84,
          125,
          60,
          220,
          280,
          95,
          340,
          430,
          600,
          2478,
          200,
          52,
          1500,
          32,
          52,
          200,
          1500,
          700,
          1500,
          800,
          80,
          700,
          500,
          52,
          150,
          1500,
          800,
          1000,
          87,
          500,
          600,
          80,
          65,
          79,
          38,
          190,
          66,
          58,
          38,
          65,
          77,
          46,
          65,
          42,
          65,
          58,
          69,
          100,
          38,
          55,
          21,
          150,
          1000,
          1000,
          105,
          38,
          33,
          646,
          135,
          135,
          298,
          600,
          33,
          65,
          36,
          78,
          154,
          42,
          600,
          40,
          44,
          160,
          508,
          52,
          65,
          49,
          33,
          51,
          74,
          800,
          78,
          500,
          225,
          70,
          58,
          33,
          27,
          33,
          55,
          1400,
          58,
          28,
          52,
          78,
          27,
          43,
          43,
          508,
          42,
          700,
          91,
          45,
          144,
          115,
          48,
          42,
          268,
          100,
          58,
          97,
          42,
          117,
          108,
          88,
          55,
          83,
          103,
          183,
          49,
          376,
          55,
          70,
          150,
          168,
          38,
          250,
          700,
          40,
          336,
          700,
          1585,
          262,
          400,
          71,
          550,
          350,
          90,
          120,
          390,
          51,
          600,
          1553,
          400,
          650,
          385,
          1100,
          303,
          1000,
          1170,
          200,
          80,
          250,
          300,
          128,
          300,
          350,
          600,
          580,
          90,
          237,
          116,
          1000,
          250,
          27,
          61,
          1500,
          105,
          196,
          300,
          28,
          500,
          400,
          33,
          272,
          600,
          1200,
          820,
          414,
          392,
          290,
          40,
          167,
          350,
          550,
          64,
          400,
          400,
          196,
          83,
          1000,
          1000,
          196,
          150,
          500,
          196,
          1000,
          75,
          200,
          388,
          250,
          1200,
          800,
          450,
          193,
          196,
          350,
          364,
          800,
          192,
          450,
          1400,
          119,
          168,
          392,
          240,
          270,
          30,
          109,
          76,
          55,
          800,
          190,
          600,
          73,
          374,
          225,
          33,
          74,
          700,
          49,
          300,
          228,
          38,
          126,
          1500,
          127,
          57,
          72,
          260,
          800,
          90,
          176,
          131,
          32,
          46,
          94,
          65,
          600,
          42,
          650,
          45,
          260,
          38,
          74,
          92,
          92,
          60,
          103,
          1500,
          47,
          38,
          82,
          40,
          72,
          71,
          47,
          62,
          103,
          103,
          71,
          85,
          72,
          29,
          21,
          850,
          40,
          34,
          36,
          225,
          200,
          73,
          33,
          165,
          122,
          114,
          252,
          165,
          800,
          33,
          73,
          73,
          500,
          33,
          58,
          530,
          33,
          400,
          119,
          73,
          33,
          45,
          21,
          96,
          34,
          80,
          33,
          100,
          36,
          36,
          100,
          36,
          36,
          58,
          282,
          506,
          850,
          36,
          127,
          95,
          450,
          640,
          200,
          1100,
          522,
          506,
          450,
          506,
          224,
          120,
          344,
          285,
          100,
          127,
          240,
          344,
          1500,
          506,
          300,
          506,
          344,
          344,
          500,
          183,
          40,
          600,
          33,
          559,
          1553,
          80,
          72,
          200,
          62,
          200,
          200,
          600,
          72,
          56,
          200,
          33,
          217,
          56,
          62,
          150,
          275,
          800,
          522,
          325,
          61,
          424,
          99,
          348,
          60,
          800,
          600,
          260,
          1200,
          150,
          177,
          337,
          312,
          1020,
          382,
          119,
          60,
          500,
          1,
          800,
          400,
          1724,
          183,
          1400,
          1400,
          410,
          400,
          600,
          42,
          85,
          250,
          1000,
          200,
          1400,
          337,
          52,
          1400,
          61,
          268,
          61,
          33,
          61,
          161,
          73,
          104,
          61,
          33,
          120,
          61,
          88,
          89,
          105,
          61,
          61,
          42,
          61,
          73,
          42,
          42,
          103,
          52,
          86,
          103,
          60,
          300,
          113,
          55,
          33,
          60,
          28,
          196,
          115,
          42,
          115,
          61,
          61,
          79,
          28,
          400,
          58,
          91,
          300,
          135,
          72,
          65,
          603,
          90,
          80,
          450,
          115,
          110,
          21,
          141,
          153,
          65,
          45,
          150,
          508,
          260,
          186,
          28,
          91,
          260,
          60,
          153,
          100,
          150,
          40,
          126,
          65,
          950,
          150,
          42,
          38,
          28,
          74,
          268,
          70,
          77,
          52,
          49,
          33,
          65,
          38,
          125,
          133,
          107,
          76,
          42,
          58,
          93,
          64,
          33,
          178,
          75,
          58,
          90,
          1400,
          1400,
          64,
          48,
          350,
          160,
          324,
          52,
          600,
          350,
          720,
          736,
          64,
          150,
          200,
          300,
          127,
          250,
          600,
          210,
          48,
          106,
          200,
          548,
          250,
          600,
          506,
          186,
          134,
          150,
          200,
          506,
          1000,
          400,
          40,
          48,
          23,
          506,
          200,
          400,
          95,
          250,
          800,
          1000,
          800,
          1000,
          353,
          519,
          210,
          120,
          681,
          695,
          700,
          200,
          400,
          45,
          1500,
          144,
          72,
          299,
          45,
          45,
          225,
          45,
          77,
          370,
          45,
          45,
          45,
          74,
          45,
          45,
          550,
          300,
          45,
          250,
          204,
          300,
          271,
          700,
          250,
          160,
          150,
          275,
          400,
          99,
          86,
          155,
          200,
          1100,
          1000,
          550,
          390,
          1000,
          56,
          1000,
          750,
          182,
          66,
          56,
          56,
          56,
          38,
          56,
          71,
          182,
          56,
          400,
          50,
          71,
          36,
          36,
          1000,
          42,
          76,
          73,
          21,
          63,
          103,
          21,
          21,
          131,
          74,
          33,
          21,
          40,
          106,
          42,
          27,
          38,
          21,
          800,
          200,
          320,
          51,
          28,
          42,
          159,
          39,
          28,
          320,
          28,
          49,
          28,
          28,
          61,
          65,
          800,
          28,
          131,
          28,
          28,
          61,
          33,
          80,
          28,
          65,
          60,
          58,
          103,
          90,
          182,
          42,
          148,
          300,
          75,
          440,
          500,
          40,
          73,
          1200,
          49,
          182,
          520,
          42,
          800,
          1000,
          65,
          1980,
          400,
          58,
          103,
          440,
          300,
          374,
          42,
          65,
          230,
          440,
          65,
          38,
          1000,
          65,
          600,
          49,
          200,
          57,
          73,
          67,
          45,
          72,
          62,
          33,
          76,
          33,
          141,
          495,
          390,
          1585,
          1585,
          550,
          1585,
          200,
          220,
          97,
          420,
          400,
          260,
          200,
          2460,
          72,
          330,
          49,
          49,
          453,
          750,
          49,
          261,
          225,
          230,
          65,
          100,
          221,
          800,
          150,
          550,
          453,
          42,
          400,
          65,
          34,
          29,
          157,
          51,
          65,
          260,
          61,
          2,
          114,
          76,
          140,
          83,
          33,
          73,
          400,
          140,
          650,
          26000,
          61,
          500,
          550,
          68,
          118,
          55,
          85,
          95,
          52,
          33,
          240,
          42,
          60,
          73,
          360,
          508,
          33,
          85,
          118,
          64,
          44,
          180,
          60,
          1000,
          125,
          800,
          268,
          21,
          103,
          45,
          55,
          90,
          34,
          28,
          115,
          240,
          55,
          228,
          183,
          55,
          183,
          123,
          55,
          55,
          650,
          33,
          183,
          93,
          38,
          100,
          118,
          196,
          49,
          168,
          35,
          65,
          115,
          167,
          38,
          65,
          95,
          48,
          132,
          103,
          33,
          175,
          105,
          23,
          100,
          520,
          126,
          119,
          65,
          42,
          42,
          53,
          120,
          58,
          42,
          520,
          36,
          105,
          33,
          33,
          58,
          80,
          38,
          33,
          40,
          55,
          45,
          58,
          77,
          130,
          40,
          38,
          157,
          58,
          78,
          55,
          33,
          105,
          33,
          45,
          83,
          55,
          48,
          100,
          49,
          48,
          115,
          115,
          48,
          55,
          55,
          80,
          55,
          52,
          77,
          115,
          36,
          55,
          400,
          49,
          282,
          480,
          1500,
          400,
          96,
          122,
          500,
          48,
          70,
          85,
          750,
          348,
          180,
          300,
          300,
          231,
          103,
          400,
          308,
          62,
          285,
          40,
          400,
          120,
          450,
          400,
          300,
          700,
          41,
          480,
          400,
          74,
          378,
          400,
          389,
          290,
          194,
          180,
          104,
          700,
          275,
          2478,
          200,
          24,
          700,
          62,
          97,
          455,
          180,
          308,
          38,
          800,
          126,
          185,
          750,
          530,
          389,
          657,
          42,
          100,
          100,
          276,
          1400,
          739,
          350,
          600,
          700,
          336,
          550,
          300,
          150,
          276,
          400,
          200,
          150,
          522,
          38,
          178,
          414,
          73,
          87,
          924,
          150,
          300,
          145,
          38,
          450,
          200,
          81,
          389,
          315,
          30,
          1400,
          475,
          351,
          157,
          158,
          225,
          150,
          126,
          158,
          1000,
          55,
          351,
          300,
          175,
          157,
          1100,
          93,
          268,
          175,
          221,
          174,
          351,
          153,
          96,
          663,
          800,
          440,
          800,
          1170,
          149,
          400,
          900,
          1500,
          260,
          270,
          50,
          75,
          77,
          104,
          115,
          104,
          89,
          88,
          115,
          45,
          63,
          82,
          62,
          900,
          34,
          52,
          145,
          182,
          76,
          62,
          57,
          46,
          55,
          57,
          30,
          55,
          104,
          536,
          55,
          115,
          115,
          55,
          115,
          183,
          217,
          33,
          800,
          115,
          115,
          115,
          182,
          268,
          700,
          55,
          183,
          38,
          183,
          147,
          109,
          65,
          55,
          38,
          75,
          65,
          103,
          38,
          130,
          55,
          168,
          103,
          166,
          95,
          42,
          33,
          103,
          206,
          160,
          280,
          450,
          300,
          522,
          650,
          271,
          300,
          231,
          300,
          800,
          522,
          650,
          231,
          150,
          380,
          380,
          76,
          400,
          280,
          400,
          282,
          800,
          297,
          600,
          198,
          800,
          500,
          150,
          60,
          450,
          48,
          76,
          200,
          150,
          800,
          390,
          73,
          123,
          800,
          1800,
          150,
          64,
          115,
          100,
          500,
          160,
          1000,
          94,
          400,
          200,
          105,
          58,
          140,
          350,
          250,
          400,
          400,
          58,
          100,
          58,
          382,
          101,
          27,
          152,
          800,
          39,
          58,
          55,
          280,
          138,
          67,
          65,
          270,
          324,
          239,
          265,
          150,
          280,
          650,
          1585,
          90,
          200,
          390,
          250,
          105,
          165,
          3000,
          77,
          42,
          58,
          103,
          38,
          38,
          77,
          182,
          65,
          65,
          320,
          38,
          38,
          42,
          15,
          65,
          15,
          38,
          65,
          103,
          33,
          230,
          90,
          65,
          15,
          56,
          55,
          44,
          53,
          45,
          285,
          61,
          43,
          65,
          260,
          208,
          57,
          15,
          26,
          33,
          81,
          76,
          115,
          725,
          109,
          55,
          1500,
          157,
          88,
          109,
          115,
          49,
          76,
          390,
          1500,
          126,
          74,
          33,
          36,
          200,
          90,
          130,
          285,
          73,
          61,
          42,
          74,
          53,
          60,
          86,
          32,
          115,
          87,
          61,
          68,
          261,
          35,
          52,
          62,
          147,
          62,
          73,
          1600,
          33,
          147,
          130,
          58,
          133,
          217,
          87,
          105,
          196,
          70,
          118,
          147,
          118,
          268,
          131,
          155,
          186,
          650,
          122,
          320,
          209,
          450,
          62,
          196,
          380,
          440,
          115,
          450,
          94,
          150,
          234,
          250,
          160,
          250,
          49,
          76,
          800,
          250,
          150,
          175,
          132,
          122,
          98,
          200,
          440,
          150,
          231,
          500,
          250,
          120,
          102,
          300,
          170,
          80,
          180,
          150,
          280,
          160,
          300,
          250,
          200,
          35,
          150,
          212,
          1400,
          150,
          680,
          200,
          493,
          800,
          60,
          160,
          1100,
          48,
          500,
          49,
          80,
          600,
          120,
          1000,
          28,
          53,
          72,
          470,
          83,
          340,
          600,
          1000,
          600,
          209,
          402,
          450,
          1200,
          400,
          402,
          54,
          100,
          402,
          1200,
          402,
          150,
          105,
          225,
          402,
          35,
          402,
          420,
          48,
          62,
          103,
          260,
          64,
          58,
          44,
          217,
          147,
          182,
          42,
          100,
          40,
          73,
          58,
          252,
          73,
          54,
          260,
          42,
          40,
          200,
          80,
          33,
          700,
          147,
          48,
          250,
          55,
          48,
          119,
          28,
          2000,
          33,
          33,
          225,
          30,
          33,
          360,
          550,
          288,
          38,
          45,
          65,
          122,
          88,
          122,
          33,
          122,
          42,
          76,
          65,
          40,
          33,
          122,
          40,
          33,
          600,
          65,
          58,
          58,
          58,
          42,
          65,
          38,
          42,
          65,
          104,
          58,
          65,
          77,
          38,
          375,
          1200,
          36,
          330,
          250,
          36,
          100,
          76,
          38,
          650,
          180,
          1170,
          120,
          31,
          64,
          43,
          260,
          350,
          33,
          100,
          350,
          200,
          500,
          58,
          96,
          300,
          45,
          500,
          790,
          180,
          58,
          500,
          686,
          153,
          200,
          73,
          200,
          61,
          61,
          1200,
          61,
          350,
          144,
          56,
          336,
          522,
          61,
          85,
          36,
          61,
          500,
          61,
          226,
          300,
          456,
          157,
          30,
          73,
          1500,
          450,
          300,
          200,
          150,
          150,
          230,
          105,
          200,
          299,
          56,
          400,
          292,
          61,
          365,
          148,
          128,
          186,
          341,
          88,
          220,
          185,
          500,
          185,
          360,
          170,
          300,
          300,
          193,
          280,
          103,
          374,
          300,
          99,
          38,
          38,
          38,
          101,
          440,
          38,
          42,
          300,
          112,
          115,
          35,
          113,
          111,
          90,
          29,
          65,
          100,
          32,
          123,
          42,
          65,
          56,
          260,
          105,
          73,
          77,
          35,
          58,
          84,
          85,
          260,
          38,
          54,
          55,
          72,
          76,
          151,
          351,
          2400,
          2000,
          327,
          1400,
          75,
          350,
          400,
          250,
          640,
          35,
          74,
          520,
          65,
          600,
          100,
          193,
          330,
          600,
          48,
          640,
          33,
          400,
          800,
          12000,
          170,
          522,
          60,
          200,
          240,
          391,
          140,
          90,
          140,
          22,
          153,
          63,
          1200,
          55,
          450,
          221,
          130,
          300,
          38,
          150,
          400,
          250,
          103,
          77,
          33,
          114,
          231,
          96,
          65,
          1000,
          60,
          225,
          500,
          65,
          38,
          402,
          74,
          38,
          85,
          77,
          1000,
          200,
          48,
          800,
          1100,
          200,
          72,
          400,
          400,
          300,
          87,
          327,
          300,
          150,
          90,
          64,
          150,
          33,
          64,
          350,
          70,
          350,
          80,
          36,
          640,
          105,
          33,
          57,
          168,
          196,
          105,
          90,
          168,
          36,
          90,
          49,
          35,
          35,
          55,
          58,
          90,
          70,
          55,
          55,
          86,
          120,
          56,
          122,
          33,
          1500,
          42,
          38,
          38,
          60,
          36,
          38,
          217,
          76,
          115,
          48,
          115,
          167,
          56,
          115,
          55,
          182,
          55,
          46,
          81,
          77,
          61,
          115,
          55,
          120,
          157,
          55,
          96,
          30,
          131,
          66,
          48,
          131,
          268,
          44,
          42,
          75,
          35,
          131,
          30,
          90,
          131,
          48,
          100,
          76,
          127,
          50,
          99,
          35,
          44,
          42,
          65,
          104,
          48,
          74,
          48,
          49,
          58,
          133,
          104,
          40,
          58,
          80,
          74,
          75,
          65,
          110,
          42,
          150,
          26,
          52,
          86,
          37,
          60,
          95,
          97,
          350,
          57,
          556,
          402,
          55,
          1250,
          44,
          33,
          23,
          42,
          200,
          76,
          144,
          74,
          44,
          210,
          312,
          256,
          60,
          150,
          250,
          222,
          150,
          44,
          86,
          402,
          500,
          256,
          200,
          1200,
          44,
          44,
          360,
          402,
          78,
          97,
          382,
          85,
          44,
          402,
          402,
          200,
          150,
          66,
          33,
          42,
          375,
          200,
          30,
          105,
          23,
          900,
          105,
          402,
          147,
          44,
          63,
          900,
          222,
          73,
          52,
          250,
          58,
          402,
          194,
          73,
          33,
          280,
          45,
          420,
          260,
          33,
          300,
          35,
          94,
          256,
          180,
          66,
          363,
          90,
          64,
          33,
          52,
          29,
          800,
          400,
          402,
          1400,
          127,
          48,
          240,
          280,
          200,
          140,
          424,
          42,
          103,
          28,
          65,
          42,
          68,
          71,
          58,
          55,
          38,
          38,
          38,
          33,
          520,
          55,
          77,
          240,
          240,
          520,
          33,
          48,
          42,
          33,
          42,
          55,
          38,
          520,
          50,
          49,
          38,
          45,
          550,
          55,
          73,
          70,
          200,
          155,
          71,
          55,
          49,
          119,
          150,
          105,
          35,
          225,
          600,
          65,
          119,
          450,
          159,
          186,
          70,
          77,
          77,
          184,
          186,
          140,
          58,
          186,
          89,
          42,
          28,
          700,
          42,
          49,
          186,
          43,
          79,
          115,
          72,
          52,
          42,
          42,
          29,
          42,
          42,
          70,
          74,
          200,
          42,
          65,
          52,
          65,
          76,
          73,
          65,
          55,
          73,
          65,
          123,
          380,
          300,
          1585,
          51,
          81,
          35,
          620,
          200,
          193,
          45,
          1200,
          200,
          260,
          640,
          1500,
          332,
          350,
          150,
          49,
          788,
          181,
          250,
          224,
          400,
          1200,
          650,
          180,
          400,
          800,
          95,
          430,
          58,
          500,
          60,
          200,
          778,
          300,
          150,
          410,
          252,
          125,
          200,
          160,
          33,
          217,
          250,
          374,
          73,
          400,
          209,
          100,
          280,
          248,
          700,
          250,
          500,
          250,
          120,
          35,
          252,
          72,
          45,
          800,
          50,
          33,
          150,
          200,
          200,
          129,
          300,
          140,
          250,
          1000,
          150,
          212,
          80,
          50,
          750,
          365,
          843,
          800,
          542,
          788,
          600,
          250,
          220,
          1000,
          400,
          1000,
          100,
          300,
          21,
          100,
          1100,
          80,
          77,
          48,
          1585,
          60,
          45,
          42,
          40,
          73,
          114,
          38,
          57,
          27,
          55,
          150,
          60,
          60,
          125,
          260,
          79,
          61,
          220,
          400,
          500,
          400,
          90,
          1500,
          48,
          300,
          105,
          33,
          400,
          400,
          600,
          38,
          350,
          80,
          245,
          36,
          225,
          36,
          36,
          98,
          150,
          200,
          36,
          193,
          147,
          44,
          250,
          73,
          40,
          44,
          200,
          75,
          77,
          119,
          65,
          650,
          70,
          57,
          85,
          28,
          61,
          76,
          42,
          33,
          50,
          88,
          35,
          78,
          600,
          35,
          24,
          600,
          196,
          55,
          1000,
          79,
          36,
          78,
          33,
          49,
          508,
          45,
          86,
          580,
          300,
          78,
          70,
          96,
          1000,
          36,
          45,
          646,
          336,
          160,
          440,
          400,
          150,
          250,
          53,
          196,
          64,
          400,
          120,
          440,
          42,
          42,
          381,
          150,
          80,
          300,
          150,
          745,
          141,
          200,
          150,
          150,
          80,
          390,
          150,
          33,
          150,
          64,
          721,
          381,
          390,
          400,
          3000,
          74,
          800,
          100,
          96,
          47,
          82,
          518,
          42,
          95,
          436,
          800,
          42,
          168,
          286,
          350,
          350,
          28,
          1000,
          300,
          76,
          600,
          76,
          46,
          299,
          150,
          94,
          49,
          280,
          140,
          40,
          49,
          95,
          105,
          550,
          45,
          70,
          47,
          1400,
          60,
          75,
          250,
          650,
          200,
          42,
          372,
          35,
          40,
          47,
          580,
          300,
          47,
          1400,
          141,
          34,
          88,
          42,
          65,
          58,
          91,
          58,
          48,
          48,
          38,
          38,
          255,
          58,
          58,
          58,
          58,
          96,
          40,
          58,
          58,
          65,
          35,
          90,
          196,
          38,
          55,
          74,
          103,
          56,
          33,
          250,
          65,
          650,
          392,
          300,
          600,
          40,
          87,
          55,
          33,
          28,
          105,
          33,
          58,
          76,
          58,
          61,
          61,
          260,
          122,
          55,
          70,
          600,
          48,
          162,
          193,
          800,
          170,
          168,
          510,
          204,
          250,
          180,
          450,
          644,
          64,
          221,
          260,
          351,
          55,
          500,
          180,
          200,
          130,
          175,
          150,
          115,
          324,
          500,
          460,
          39,
          52,
          97,
          39,
          225,
          500,
          250,
          1585,
          500,
          500,
          52,
          300,
          52,
          230,
          261,
          38,
          640,
          28,
          115,
          35,
          261,
          800,
          88,
          156,
          21,
          250,
          1000,
          81,
          300,
          44,
          98,
          115,
          65,
          200,
          332,
          120,
          120,
          300,
          27,
          38,
          112,
          33,
          160,
          200,
          300,
          404,
          73,
          65,
          98,
          400,
          60,
          500,
          76,
          285,
          250,
          120,
          280,
          323,
          109,
          1200,
          170,
          120,
          34,
          323,
          33,
          300,
          600,
          60,
          520,
          96,
          48,
          177,
          55,
          88,
          48,
          800,
          57,
          48,
          28,
          57,
          55,
          250,
          250,
          76,
          29,
          40,
          74,
          300,
          60,
          55,
          55,
          217,
          60,
          260,
          55,
          157,
          33,
          60,
          42,
          32,
          49,
          38,
          100,
          104,
          177,
          93,
          115,
          99,
          800,
          157,
          58,
          157,
          77,
          113,
          33,
          110,
          73,
          340,
          42,
          131,
          73,
          500,
          49,
          132,
          88,
          90,
          65,
          3,
          28,
          300,
          60,
          400,
          90,
          150,
          120,
          150,
          37,
          90,
          90,
          33,
          200,
          90,
          90,
          280,
          33,
          260,
          252,
          55,
          55,
          28,
          23,
          85,
          105,
          340,
          230,
          73,
          75,
          57,
          50,
          32,
          26,
          77,
          93,
          41,
          28,
          71,
          54,
          144,
          210,
          46,
          103,
          220,
          182,
          300,
          218,
          110,
          657,
          41,
          104,
          165,
          85,
          300,
          138,
          450,
          330,
          225,
          680,
          225,
          60,
          380,
          600,
          234,
          73,
          330,
          198,
          560,
          250,
          5189,
          200,
          212,
          450,
          60,
          300,
          700,
          240,
          70,
          39,
          1100,
          300,
          147,
          600,
          300,
          500,
          27,
          33,
          59,
          1200,
          56,
          117,
          115,
          33,
          239,
          96,
          250,
          350,
          300,
          1390,
          416,
          400,
          350,
          540,
          1388,
          300,
          220,
          120,
          30,
          327,
          42,
          450,
          112,
          33,
          48,
          445,
          115,
          120,
          300,
          650,
          600,
          375,
          182,
          225,
          700,
          1800,
          180,
          400,
          33,
          150,
          330,
          330,
          60,
          28,
          56,
          60,
          28,
          110,
          42,
          42,
          66,
          198,
          40,
          103,
          36,
          60,
          400,
          200,
          36,
          42,
          48,
          65,
          42,
          35,
          70,
          76,
          700,
          42,
          65,
          31,
          36,
          42,
          42,
          36,
          65,
          58,
          42,
          42,
          42,
          67,
          65,
          65,
          76,
          800,
          127,
          92,
          28,
          126,
          48,
          260,
          62,
          65,
          67,
          33,
          42,
          100,
          60,
          370,
          74,
          90,
          300,
          72,
          50,
          30,
          85,
          25,
          1400,
          800,
          1200,
          1500,
          25,
          50,
          33,
          25,
          290,
          600,
          76,
          1400,
          1200,
          450,
          400,
          500,
          1300,
          1000,
          48,
          300,
          500,
          700,
          72,
          600,
          150,
          400,
          148,
          450,
          61,
          220,
          121,
          926,
          300,
          75,
          108,
          780,
          115,
          210,
          200,
          294,
          230,
          32,
          160,
          330,
          60,
          62,
          62,
          150,
          330,
          330,
          119,
          330,
          315,
          490,
          33,
          144,
          75,
          300,
          600,
          600,
          33,
          73,
          400,
          300,
          300,
          75,
          107,
          318,
          35,
          127,
          80,
          140,
          168,
          158,
          500,
          600,
          1000,
          49,
          216,
          450,
          62,
          62,
          270,
          300,
          389,
          389,
          251,
          45,
          500,
          396,
          330,
          90,
          1000,
          352,
          478,
          554,
          160,
          193,
          38,
          135,
          1100,
          103,
          295,
          38,
          500,
          28,
          150,
          150,
          180,
          500,
          103,
          92,
          292,
          500,
          31,
          252,
          33,
          33,
          33,
          33,
          31,
          33,
          33,
          33,
          33,
          33,
          42,
          33,
          33,
          33,
          800,
          33,
          33,
          33,
          33,
          33,
          77,
          103,
          77,
          61,
          114,
          1500,
          26,
          35,
          64,
          75,
          33,
          103,
          65,
          42,
          41,
          48,
          600,
          33,
          27,
          73,
          43,
          112,
          500,
          500,
          109,
          64,
          94,
          73,
          90,
          45,
          51,
          48,
          41,
          35,
          175,
          35,
          48,
          131,
          72,
          100,
          48,
          58,
          52,
          225,
          39,
          48,
          115,
          54,
          210,
          77,
          600,
          33,
          73,
          402,
          180,
          58,
          51,
          61,
          130,
          282,
          85,
          200,
          200,
          59,
          700,
          73,
          600,
          180,
          64,
          400,
          53,
          450,
          76,
          289,
          130,
          12431,
          200,
          103,
          252,
          64,
          99,
          225,
          600,
          256,
          298,
          97,
          150,
          252,
          157,
          300,
          252,
          279,
          70,
          612,
          275,
          180,
          100,
          49,
          225,
          220,
          400,
          400,
          103,
          72,
          100,
          38,
          925,
          84,
          300,
          508,
          90,
          220,
          400,
          90,
          140,
          59,
          200,
          495,
          100,
          341,
          300,
          650,
          72,
          220,
          180,
          95,
          300,
          1585,
          350,
          70,
          280,
          35,
          640,
          77,
          195,
          40,
          400,
          345,
          48,
          365,
          108,
          600,
          150,
          230,
          36,
          48,
          100,
          90,
          124,
          168,
          91,
          58,
          225,
          45,
          42,
          9,
          33,
          50,
          125,
          25,
          179,
          36,
          85,
          76,
          35,
          45,
          160,
          78,
          233,
          122,
          27,
          49,
          50,
          38,
          58,
          35,
          500,
          48,
          45,
          55,
          850,
          225,
          260,
          225,
          80,
          35,
          40,
          62,
          62,
          48,
          250,
          40,
          1000,
          35,
          65,
          45,
          32,
          40,
          400,
          159,
          62,
          46,
          109,
          350,
          76,
          38,
          200,
          58,
          79,
          1300,
          50,
          95,
          100,
          122,
          95,
          91,
          160,
          850,
          1000,
          600,
          49,
          70,
          131,
          35,
          45,
          159,
          105,
          141,
          120,
          74,
          105,
          110,
          44,
          350,
          37,
          60,
          226,
          70,
          250,
          36,
          141,
          700,
          400,
          75,
          104,
          49,
          94,
          226,
          76,
          60,
          57,
          216,
          83,
          200,
          120,
          400,
          99,
          200,
          70,
          77,
          1585,
          800,
          72,
          2100,
          90,
          56,
          363,
          1200,
          220,
          200,
          200,
          180,
          150,
          1585,
          85,
          309,
          73,
          99,
          78,
          35,
          180,
          73,
          85,
          73,
          42,
          1500,
          57,
          220,
          400,
          7000,
          108,
          391,
          104,
          380,
          141,
          173,
          575,
          600,
          150,
          120,
          226,
          100,
          200,
          460,
          391,
          600,
          150,
          260,
          493,
          300,
          1585,
          62,
          96,
          150,
          173,
          105,
          182,
          350,
          1724,
          62,
          500,
          250,
          600,
          500,
          250,
          76,
          300,
          315,
          780,
          300,
          600,
          450,
          405,
          38,
          580,
          42,
          49,
          43,
          150,
          65,
          150,
          38,
          38,
          77,
          80,
          49,
          65,
          646,
          38,
          38,
          110,
          38,
          38,
          1000,
          217,
          600,
          61,
          38,
          157,
          150,
          300,
          52,
          38,
          43,
          104,
          128,
          260,
          55,
          60,
          42,
          43,
          43,
          700,
          5,
          135,
          40,
          45,
          36,
          600,
          700,
          33,
          45,
          131,
          78,
          1585,
          700,
          520,
          33,
          500,
          102,
          500,
          36,
          149,
          800,
          70,
          400,
          110,
          200,
          41,
          800,
          80,
          800,
          25,
          41,
          35,
          76,
          42,
          42,
          1200,
          63,
          100,
          39,
          800,
          250,
          214,
          73,
          59,
          39,
          98,
          90,
          94,
          32,
          71,
          200,
          99,
          314,
          170,
          98,
          115,
          39,
          99,
          531,
          85,
          1000,
          600,
          41,
          94,
          1000,
          73,
          196,
          55,
          98,
          115,
          619,
          1585,
          763,
          322,
          76,
          522,
          94,
          39,
          94,
          96,
          119,
          100,
          97,
          94,
          97,
          73,
          94,
          71,
          99,
          69,
          100,
          73,
          1400,
          48,
          33,
          39,
          76,
          99,
          600,
          85,
          39,
          115,
          101,
          500,
          37,
          400,
          94,
          239,
          99,
          115,
          97,
          73,
          33,
          76,
          100,
          73,
          70,
          73,
          1585,
          185,
          132,
          73,
          94,
          900,
          120,
          109,
          350,
          62,
          48,
          76,
          29,
          500,
          100,
          99,
          44,
          40,
          58,
          160,
          105,
          35,
          64,
          25,
          55,
          800,
          50,
          182,
          34,
          343,
          55,
          182,
          25,
          73,
          63,
          210,
          86,
          35,
          65,
          93,
          400,
          30,
          70,
          670,
          21,
          1500,
          115,
          40,
          168,
          80,
          600,
          115,
          33,
          132,
          95,
          73,
          49,
          70,
          196,
          283,
          141,
          49,
          28,
          70,
          580,
          193,
          600,
          76,
          76,
          62,
          126,
          245,
          73,
          74,
          250,
          160,
          31,
          126,
          57,
          400,
          33,
          33,
          120,
          200,
          33,
          168,
          33,
          143,
          86,
          200,
          33,
          33,
          33,
          68,
          35,
          21,
          33,
          38,
          34,
          60,
          70,
          55,
          55,
          50,
          58,
          41,
          70,
          517,
          70,
          97,
          115,
          34,
          548,
          99,
          73,
          70,
          255,
          55,
          500,
          300,
          33,
          103,
          225,
          94,
          100,
          33,
          30,
          55,
          33,
          32,
          31,
          109,
          280,
          53,
          76,
          53,
          33,
          1000,
          76,
          109,
          375,
          120,
          650,
          94,
          37,
          76,
          115,
          115,
          255,
          73,
          650
         ],
         "y0": " ",
         "yaxis": "y"
        }
       ],
       "layout": {
        "boxmode": "group",
        "legend": {
         "tracegroupgap": 0
        },
        "template": {
         "data": {
          "bar": [
           {
            "error_x": {
             "color": "#2a3f5f"
            },
            "error_y": {
             "color": "#2a3f5f"
            },
            "marker": {
             "line": {
              "color": "#E5ECF6",
              "width": 0.5
             },
             "pattern": {
              "fillmode": "overlay",
              "size": 10,
              "solidity": 0.2
             }
            },
            "type": "bar"
           }
          ],
          "barpolar": [
           {
            "marker": {
             "line": {
              "color": "#E5ECF6",
              "width": 0.5
             },
             "pattern": {
              "fillmode": "overlay",
              "size": 10,
              "solidity": 0.2
             }
            },
            "type": "barpolar"
           }
          ],
          "carpet": [
           {
            "aaxis": {
             "endlinecolor": "#2a3f5f",
             "gridcolor": "white",
             "linecolor": "white",
             "minorgridcolor": "white",
             "startlinecolor": "#2a3f5f"
            },
            "baxis": {
             "endlinecolor": "#2a3f5f",
             "gridcolor": "white",
             "linecolor": "white",
             "minorgridcolor": "white",
             "startlinecolor": "#2a3f5f"
            },
            "type": "carpet"
           }
          ],
          "choropleth": [
           {
            "colorbar": {
             "outlinewidth": 0,
             "ticks": ""
            },
            "type": "choropleth"
           }
          ],
          "contour": [
           {
            "colorbar": {
             "outlinewidth": 0,
             "ticks": ""
            },
            "colorscale": [
             [
              0,
              "#0d0887"
             ],
             [
              0.1111111111111111,
              "#46039f"
             ],
             [
              0.2222222222222222,
              "#7201a8"
             ],
             [
              0.3333333333333333,
              "#9c179e"
             ],
             [
              0.4444444444444444,
              "#bd3786"
             ],
             [
              0.5555555555555556,
              "#d8576b"
             ],
             [
              0.6666666666666666,
              "#ed7953"
             ],
             [
              0.7777777777777778,
              "#fb9f3a"
             ],
             [
              0.8888888888888888,
              "#fdca26"
             ],
             [
              1,
              "#f0f921"
             ]
            ],
            "type": "contour"
           }
          ],
          "contourcarpet": [
           {
            "colorbar": {
             "outlinewidth": 0,
             "ticks": ""
            },
            "type": "contourcarpet"
           }
          ],
          "heatmap": [
           {
            "colorbar": {
             "outlinewidth": 0,
             "ticks": ""
            },
            "colorscale": [
             [
              0,
              "#0d0887"
             ],
             [
              0.1111111111111111,
              "#46039f"
             ],
             [
              0.2222222222222222,
              "#7201a8"
             ],
             [
              0.3333333333333333,
              "#9c179e"
             ],
             [
              0.4444444444444444,
              "#bd3786"
             ],
             [
              0.5555555555555556,
              "#d8576b"
             ],
             [
              0.6666666666666666,
              "#ed7953"
             ],
             [
              0.7777777777777778,
              "#fb9f3a"
             ],
             [
              0.8888888888888888,
              "#fdca26"
             ],
             [
              1,
              "#f0f921"
             ]
            ],
            "type": "heatmap"
           }
          ],
          "heatmapgl": [
           {
            "colorbar": {
             "outlinewidth": 0,
             "ticks": ""
            },
            "colorscale": [
             [
              0,
              "#0d0887"
             ],
             [
              0.1111111111111111,
              "#46039f"
             ],
             [
              0.2222222222222222,
              "#7201a8"
             ],
             [
              0.3333333333333333,
              "#9c179e"
             ],
             [
              0.4444444444444444,
              "#bd3786"
             ],
             [
              0.5555555555555556,
              "#d8576b"
             ],
             [
              0.6666666666666666,
              "#ed7953"
             ],
             [
              0.7777777777777778,
              "#fb9f3a"
             ],
             [
              0.8888888888888888,
              "#fdca26"
             ],
             [
              1,
              "#f0f921"
             ]
            ],
            "type": "heatmapgl"
           }
          ],
          "histogram": [
           {
            "marker": {
             "pattern": {
              "fillmode": "overlay",
              "size": 10,
              "solidity": 0.2
             }
            },
            "type": "histogram"
           }
          ],
          "histogram2d": [
           {
            "colorbar": {
             "outlinewidth": 0,
             "ticks": ""
            },
            "colorscale": [
             [
              0,
              "#0d0887"
             ],
             [
              0.1111111111111111,
              "#46039f"
             ],
             [
              0.2222222222222222,
              "#7201a8"
             ],
             [
              0.3333333333333333,
              "#9c179e"
             ],
             [
              0.4444444444444444,
              "#bd3786"
             ],
             [
              0.5555555555555556,
              "#d8576b"
             ],
             [
              0.6666666666666666,
              "#ed7953"
             ],
             [
              0.7777777777777778,
              "#fb9f3a"
             ],
             [
              0.8888888888888888,
              "#fdca26"
             ],
             [
              1,
              "#f0f921"
             ]
            ],
            "type": "histogram2d"
           }
          ],
          "histogram2dcontour": [
           {
            "colorbar": {
             "outlinewidth": 0,
             "ticks": ""
            },
            "colorscale": [
             [
              0,
              "#0d0887"
             ],
             [
              0.1111111111111111,
              "#46039f"
             ],
             [
              0.2222222222222222,
              "#7201a8"
             ],
             [
              0.3333333333333333,
              "#9c179e"
             ],
             [
              0.4444444444444444,
              "#bd3786"
             ],
             [
              0.5555555555555556,
              "#d8576b"
             ],
             [
              0.6666666666666666,
              "#ed7953"
             ],
             [
              0.7777777777777778,
              "#fb9f3a"
             ],
             [
              0.8888888888888888,
              "#fdca26"
             ],
             [
              1,
              "#f0f921"
             ]
            ],
            "type": "histogram2dcontour"
           }
          ],
          "mesh3d": [
           {
            "colorbar": {
             "outlinewidth": 0,
             "ticks": ""
            },
            "type": "mesh3d"
           }
          ],
          "parcoords": [
           {
            "line": {
             "colorbar": {
              "outlinewidth": 0,
              "ticks": ""
             }
            },
            "type": "parcoords"
           }
          ],
          "pie": [
           {
            "automargin": true,
            "type": "pie"
           }
          ],
          "scatter": [
           {
            "fillpattern": {
             "fillmode": "overlay",
             "size": 10,
             "solidity": 0.2
            },
            "type": "scatter"
           }
          ],
          "scatter3d": [
           {
            "line": {
             "colorbar": {
              "outlinewidth": 0,
              "ticks": ""
             }
            },
            "marker": {
             "colorbar": {
              "outlinewidth": 0,
              "ticks": ""
             }
            },
            "type": "scatter3d"
           }
          ],
          "scattercarpet": [
           {
            "marker": {
             "colorbar": {
              "outlinewidth": 0,
              "ticks": ""
             }
            },
            "type": "scattercarpet"
           }
          ],
          "scattergeo": [
           {
            "marker": {
             "colorbar": {
              "outlinewidth": 0,
              "ticks": ""
             }
            },
            "type": "scattergeo"
           }
          ],
          "scattergl": [
           {
            "marker": {
             "colorbar": {
              "outlinewidth": 0,
              "ticks": ""
             }
            },
            "type": "scattergl"
           }
          ],
          "scattermapbox": [
           {
            "marker": {
             "colorbar": {
              "outlinewidth": 0,
              "ticks": ""
             }
            },
            "type": "scattermapbox"
           }
          ],
          "scatterpolar": [
           {
            "marker": {
             "colorbar": {
              "outlinewidth": 0,
              "ticks": ""
             }
            },
            "type": "scatterpolar"
           }
          ],
          "scatterpolargl": [
           {
            "marker": {
             "colorbar": {
              "outlinewidth": 0,
              "ticks": ""
             }
            },
            "type": "scatterpolargl"
           }
          ],
          "scatterternary": [
           {
            "marker": {
             "colorbar": {
              "outlinewidth": 0,
              "ticks": ""
             }
            },
            "type": "scatterternary"
           }
          ],
          "surface": [
           {
            "colorbar": {
             "outlinewidth": 0,
             "ticks": ""
            },
            "colorscale": [
             [
              0,
              "#0d0887"
             ],
             [
              0.1111111111111111,
              "#46039f"
             ],
             [
              0.2222222222222222,
              "#7201a8"
             ],
             [
              0.3333333333333333,
              "#9c179e"
             ],
             [
              0.4444444444444444,
              "#bd3786"
             ],
             [
              0.5555555555555556,
              "#d8576b"
             ],
             [
              0.6666666666666666,
              "#ed7953"
             ],
             [
              0.7777777777777778,
              "#fb9f3a"
             ],
             [
              0.8888888888888888,
              "#fdca26"
             ],
             [
              1,
              "#f0f921"
             ]
            ],
            "type": "surface"
           }
          ],
          "table": [
           {
            "cells": {
             "fill": {
              "color": "#EBF0F8"
             },
             "line": {
              "color": "white"
             }
            },
            "header": {
             "fill": {
              "color": "#C8D4E3"
             },
             "line": {
              "color": "white"
             }
            },
            "type": "table"
           }
          ]
         },
         "layout": {
          "annotationdefaults": {
           "arrowcolor": "#2a3f5f",
           "arrowhead": 0,
           "arrowwidth": 1
          },
          "autotypenumbers": "strict",
          "coloraxis": {
           "colorbar": {
            "outlinewidth": 0,
            "ticks": ""
           }
          },
          "colorscale": {
           "diverging": [
            [
             0,
             "#8e0152"
            ],
            [
             0.1,
             "#c51b7d"
            ],
            [
             0.2,
             "#de77ae"
            ],
            [
             0.3,
             "#f1b6da"
            ],
            [
             0.4,
             "#fde0ef"
            ],
            [
             0.5,
             "#f7f7f7"
            ],
            [
             0.6,
             "#e6f5d0"
            ],
            [
             0.7,
             "#b8e186"
            ],
            [
             0.8,
             "#7fbc41"
            ],
            [
             0.9,
             "#4d9221"
            ],
            [
             1,
             "#276419"
            ]
           ],
           "sequential": [
            [
             0,
             "#0d0887"
            ],
            [
             0.1111111111111111,
             "#46039f"
            ],
            [
             0.2222222222222222,
             "#7201a8"
            ],
            [
             0.3333333333333333,
             "#9c179e"
            ],
            [
             0.4444444444444444,
             "#bd3786"
            ],
            [
             0.5555555555555556,
             "#d8576b"
            ],
            [
             0.6666666666666666,
             "#ed7953"
            ],
            [
             0.7777777777777778,
             "#fb9f3a"
            ],
            [
             0.8888888888888888,
             "#fdca26"
            ],
            [
             1,
             "#f0f921"
            ]
           ],
           "sequentialminus": [
            [
             0,
             "#0d0887"
            ],
            [
             0.1111111111111111,
             "#46039f"
            ],
            [
             0.2222222222222222,
             "#7201a8"
            ],
            [
             0.3333333333333333,
             "#9c179e"
            ],
            [
             0.4444444444444444,
             "#bd3786"
            ],
            [
             0.5555555555555556,
             "#d8576b"
            ],
            [
             0.6666666666666666,
             "#ed7953"
            ],
            [
             0.7777777777777778,
             "#fb9f3a"
            ],
            [
             0.8888888888888888,
             "#fdca26"
            ],
            [
             1,
             "#f0f921"
            ]
           ]
          },
          "colorway": [
           "#636efa",
           "#EF553B",
           "#00cc96",
           "#ab63fa",
           "#FFA15A",
           "#19d3f3",
           "#FF6692",
           "#B6E880",
           "#FF97FF",
           "#FECB52"
          ],
          "font": {
           "color": "#2a3f5f"
          },
          "geo": {
           "bgcolor": "white",
           "lakecolor": "white",
           "landcolor": "#E5ECF6",
           "showlakes": true,
           "showland": true,
           "subunitcolor": "white"
          },
          "hoverlabel": {
           "align": "left"
          },
          "hovermode": "closest",
          "mapbox": {
           "style": "light"
          },
          "paper_bgcolor": "white",
          "plot_bgcolor": "#E5ECF6",
          "polar": {
           "angularaxis": {
            "gridcolor": "white",
            "linecolor": "white",
            "ticks": ""
           },
           "bgcolor": "#E5ECF6",
           "radialaxis": {
            "gridcolor": "white",
            "linecolor": "white",
            "ticks": ""
           }
          },
          "scene": {
           "xaxis": {
            "backgroundcolor": "#E5ECF6",
            "gridcolor": "white",
            "gridwidth": 2,
            "linecolor": "white",
            "showbackground": true,
            "ticks": "",
            "zerolinecolor": "white"
           },
           "yaxis": {
            "backgroundcolor": "#E5ECF6",
            "gridcolor": "white",
            "gridwidth": 2,
            "linecolor": "white",
            "showbackground": true,
            "ticks": "",
            "zerolinecolor": "white"
           },
           "zaxis": {
            "backgroundcolor": "#E5ECF6",
            "gridcolor": "white",
            "gridwidth": 2,
            "linecolor": "white",
            "showbackground": true,
            "ticks": "",
            "zerolinecolor": "white"
           }
          },
          "shapedefaults": {
           "line": {
            "color": "#2a3f5f"
           }
          },
          "ternary": {
           "aaxis": {
            "gridcolor": "white",
            "linecolor": "white",
            "ticks": ""
           },
           "baxis": {
            "gridcolor": "white",
            "linecolor": "white",
            "ticks": ""
           },
           "bgcolor": "#E5ECF6",
           "caxis": {
            "gridcolor": "white",
            "linecolor": "white",
            "ticks": ""
           }
          },
          "title": {
           "x": 0.05
          },
          "xaxis": {
           "automargin": true,
           "gridcolor": "white",
           "linecolor": "white",
           "ticks": "",
           "title": {
            "standoff": 15
           },
           "zerolinecolor": "white",
           "zerolinewidth": 2
          },
          "yaxis": {
           "automargin": true,
           "gridcolor": "white",
           "linecolor": "white",
           "ticks": "",
           "title": {
            "standoff": 15
           },
           "zerolinecolor": "white",
           "zerolinewidth": 2
          }
         }
        },
        "title": {
         "text": "Boxplot Luas Bangunan Hunian - snip untuk zoom agar lebih jelas"
        },
        "xaxis": {
         "anchor": "y",
         "domain": [
          0,
          1
         ]
        },
        "yaxis": {
         "anchor": "x",
         "domain": [
          0,
          1
         ],
         "title": {
          "text": "Area (m²)"
         }
        }
       }
      }
     },
     "metadata": {},
     "output_type": "display_data"
    },
    {
     "data": {
      "application/vnd.plotly.v1+json": {
       "config": {
        "plotlyServerURL": "https://plot.ly"
       },
       "data": [
        {
         "alignmentgroup": "True",
         "hovertemplate": "Property Type=Apartemen<br>Bedrooms=%{x}<br>Count=%{y}<extra></extra>",
         "legendgroup": "Apartemen",
         "marker": {
          "color": "rgb(251,180,174)",
          "pattern": {
           "shape": ""
          }
         },
         "name": "Apartemen",
         "offsetgroup": "Apartemen",
         "orientation": "v",
         "showlegend": true,
         "textposition": "auto",
         "type": "bar",
         "x": [
          1,
          2,
          3,
          4,
          5,
          6
         ],
         "xaxis": "x",
         "y": [
          651,
          1055,
          439,
          39,
          1,
          4
         ],
         "yaxis": "y"
        },
        {
         "alignmentgroup": "True",
         "hovertemplate": "Property Type=Rumah<br>Bedrooms=%{x}<br>Count=%{y}<extra></extra>",
         "legendgroup": "Rumah",
         "marker": {
          "color": "rgb(179,205,227)",
          "pattern": {
           "shape": ""
          }
         },
         "name": "Rumah",
         "offsetgroup": "Rumah",
         "orientation": "v",
         "showlegend": true,
         "textposition": "auto",
         "type": "bar",
         "x": [
          1,
          2,
          3,
          4,
          5,
          6,
          7,
          8,
          9,
          10,
          11,
          12,
          13,
          14,
          15,
          16,
          17,
          18,
          19,
          20,
          21,
          22,
          23,
          24,
          25,
          27,
          28,
          30,
          32,
          33,
          40,
          42,
          44,
          45,
          48,
          60,
          99,
          106,
          141,
          544
         ],
         "xaxis": "x",
         "y": [
          37,
          114,
          302,
          375,
          298,
          127,
          68,
          47,
          44,
          25,
          14,
          26,
          9,
          8,
          11,
          3,
          7,
          7,
          2,
          11,
          2,
          6,
          21,
          6,
          3,
          2,
          2,
          2,
          10,
          2,
          2,
          1,
          5,
          2,
          2,
          2,
          5,
          1,
          1,
          1
         ],
         "yaxis": "y"
        }
       ],
       "layout": {
        "barmode": "relative",
        "legend": {
         "title": {
          "text": "Property Type"
         },
         "tracegroupgap": 0
        },
        "template": {
         "data": {
          "bar": [
           {
            "error_x": {
             "color": "#2a3f5f"
            },
            "error_y": {
             "color": "#2a3f5f"
            },
            "marker": {
             "line": {
              "color": "#E5ECF6",
              "width": 0.5
             },
             "pattern": {
              "fillmode": "overlay",
              "size": 10,
              "solidity": 0.2
             }
            },
            "type": "bar"
           }
          ],
          "barpolar": [
           {
            "marker": {
             "line": {
              "color": "#E5ECF6",
              "width": 0.5
             },
             "pattern": {
              "fillmode": "overlay",
              "size": 10,
              "solidity": 0.2
             }
            },
            "type": "barpolar"
           }
          ],
          "carpet": [
           {
            "aaxis": {
             "endlinecolor": "#2a3f5f",
             "gridcolor": "white",
             "linecolor": "white",
             "minorgridcolor": "white",
             "startlinecolor": "#2a3f5f"
            },
            "baxis": {
             "endlinecolor": "#2a3f5f",
             "gridcolor": "white",
             "linecolor": "white",
             "minorgridcolor": "white",
             "startlinecolor": "#2a3f5f"
            },
            "type": "carpet"
           }
          ],
          "choropleth": [
           {
            "colorbar": {
             "outlinewidth": 0,
             "ticks": ""
            },
            "type": "choropleth"
           }
          ],
          "contour": [
           {
            "colorbar": {
             "outlinewidth": 0,
             "ticks": ""
            },
            "colorscale": [
             [
              0,
              "#0d0887"
             ],
             [
              0.1111111111111111,
              "#46039f"
             ],
             [
              0.2222222222222222,
              "#7201a8"
             ],
             [
              0.3333333333333333,
              "#9c179e"
             ],
             [
              0.4444444444444444,
              "#bd3786"
             ],
             [
              0.5555555555555556,
              "#d8576b"
             ],
             [
              0.6666666666666666,
              "#ed7953"
             ],
             [
              0.7777777777777778,
              "#fb9f3a"
             ],
             [
              0.8888888888888888,
              "#fdca26"
             ],
             [
              1,
              "#f0f921"
             ]
            ],
            "type": "contour"
           }
          ],
          "contourcarpet": [
           {
            "colorbar": {
             "outlinewidth": 0,
             "ticks": ""
            },
            "type": "contourcarpet"
           }
          ],
          "heatmap": [
           {
            "colorbar": {
             "outlinewidth": 0,
             "ticks": ""
            },
            "colorscale": [
             [
              0,
              "#0d0887"
             ],
             [
              0.1111111111111111,
              "#46039f"
             ],
             [
              0.2222222222222222,
              "#7201a8"
             ],
             [
              0.3333333333333333,
              "#9c179e"
             ],
             [
              0.4444444444444444,
              "#bd3786"
             ],
             [
              0.5555555555555556,
              "#d8576b"
             ],
             [
              0.6666666666666666,
              "#ed7953"
             ],
             [
              0.7777777777777778,
              "#fb9f3a"
             ],
             [
              0.8888888888888888,
              "#fdca26"
             ],
             [
              1,
              "#f0f921"
             ]
            ],
            "type": "heatmap"
           }
          ],
          "heatmapgl": [
           {
            "colorbar": {
             "outlinewidth": 0,
             "ticks": ""
            },
            "colorscale": [
             [
              0,
              "#0d0887"
             ],
             [
              0.1111111111111111,
              "#46039f"
             ],
             [
              0.2222222222222222,
              "#7201a8"
             ],
             [
              0.3333333333333333,
              "#9c179e"
             ],
             [
              0.4444444444444444,
              "#bd3786"
             ],
             [
              0.5555555555555556,
              "#d8576b"
             ],
             [
              0.6666666666666666,
              "#ed7953"
             ],
             [
              0.7777777777777778,
              "#fb9f3a"
             ],
             [
              0.8888888888888888,
              "#fdca26"
             ],
             [
              1,
              "#f0f921"
             ]
            ],
            "type": "heatmapgl"
           }
          ],
          "histogram": [
           {
            "marker": {
             "pattern": {
              "fillmode": "overlay",
              "size": 10,
              "solidity": 0.2
             }
            },
            "type": "histogram"
           }
          ],
          "histogram2d": [
           {
            "colorbar": {
             "outlinewidth": 0,
             "ticks": ""
            },
            "colorscale": [
             [
              0,
              "#0d0887"
             ],
             [
              0.1111111111111111,
              "#46039f"
             ],
             [
              0.2222222222222222,
              "#7201a8"
             ],
             [
              0.3333333333333333,
              "#9c179e"
             ],
             [
              0.4444444444444444,
              "#bd3786"
             ],
             [
              0.5555555555555556,
              "#d8576b"
             ],
             [
              0.6666666666666666,
              "#ed7953"
             ],
             [
              0.7777777777777778,
              "#fb9f3a"
             ],
             [
              0.8888888888888888,
              "#fdca26"
             ],
             [
              1,
              "#f0f921"
             ]
            ],
            "type": "histogram2d"
           }
          ],
          "histogram2dcontour": [
           {
            "colorbar": {
             "outlinewidth": 0,
             "ticks": ""
            },
            "colorscale": [
             [
              0,
              "#0d0887"
             ],
             [
              0.1111111111111111,
              "#46039f"
             ],
             [
              0.2222222222222222,
              "#7201a8"
             ],
             [
              0.3333333333333333,
              "#9c179e"
             ],
             [
              0.4444444444444444,
              "#bd3786"
             ],
             [
              0.5555555555555556,
              "#d8576b"
             ],
             [
              0.6666666666666666,
              "#ed7953"
             ],
             [
              0.7777777777777778,
              "#fb9f3a"
             ],
             [
              0.8888888888888888,
              "#fdca26"
             ],
             [
              1,
              "#f0f921"
             ]
            ],
            "type": "histogram2dcontour"
           }
          ],
          "mesh3d": [
           {
            "colorbar": {
             "outlinewidth": 0,
             "ticks": ""
            },
            "type": "mesh3d"
           }
          ],
          "parcoords": [
           {
            "line": {
             "colorbar": {
              "outlinewidth": 0,
              "ticks": ""
             }
            },
            "type": "parcoords"
           }
          ],
          "pie": [
           {
            "automargin": true,
            "type": "pie"
           }
          ],
          "scatter": [
           {
            "fillpattern": {
             "fillmode": "overlay",
             "size": 10,
             "solidity": 0.2
            },
            "type": "scatter"
           }
          ],
          "scatter3d": [
           {
            "line": {
             "colorbar": {
              "outlinewidth": 0,
              "ticks": ""
             }
            },
            "marker": {
             "colorbar": {
              "outlinewidth": 0,
              "ticks": ""
             }
            },
            "type": "scatter3d"
           }
          ],
          "scattercarpet": [
           {
            "marker": {
             "colorbar": {
              "outlinewidth": 0,
              "ticks": ""
             }
            },
            "type": "scattercarpet"
           }
          ],
          "scattergeo": [
           {
            "marker": {
             "colorbar": {
              "outlinewidth": 0,
              "ticks": ""
             }
            },
            "type": "scattergeo"
           }
          ],
          "scattergl": [
           {
            "marker": {
             "colorbar": {
              "outlinewidth": 0,
              "ticks": ""
             }
            },
            "type": "scattergl"
           }
          ],
          "scattermapbox": [
           {
            "marker": {
             "colorbar": {
              "outlinewidth": 0,
              "ticks": ""
             }
            },
            "type": "scattermapbox"
           }
          ],
          "scatterpolar": [
           {
            "marker": {
             "colorbar": {
              "outlinewidth": 0,
              "ticks": ""
             }
            },
            "type": "scatterpolar"
           }
          ],
          "scatterpolargl": [
           {
            "marker": {
             "colorbar": {
              "outlinewidth": 0,
              "ticks": ""
             }
            },
            "type": "scatterpolargl"
           }
          ],
          "scatterternary": [
           {
            "marker": {
             "colorbar": {
              "outlinewidth": 0,
              "ticks": ""
             }
            },
            "type": "scatterternary"
           }
          ],
          "surface": [
           {
            "colorbar": {
             "outlinewidth": 0,
             "ticks": ""
            },
            "colorscale": [
             [
              0,
              "#0d0887"
             ],
             [
              0.1111111111111111,
              "#46039f"
             ],
             [
              0.2222222222222222,
              "#7201a8"
             ],
             [
              0.3333333333333333,
              "#9c179e"
             ],
             [
              0.4444444444444444,
              "#bd3786"
             ],
             [
              0.5555555555555556,
              "#d8576b"
             ],
             [
              0.6666666666666666,
              "#ed7953"
             ],
             [
              0.7777777777777778,
              "#fb9f3a"
             ],
             [
              0.8888888888888888,
              "#fdca26"
             ],
             [
              1,
              "#f0f921"
             ]
            ],
            "type": "surface"
           }
          ],
          "table": [
           {
            "cells": {
             "fill": {
              "color": "#EBF0F8"
             },
             "line": {
              "color": "white"
             }
            },
            "header": {
             "fill": {
              "color": "#C8D4E3"
             },
             "line": {
              "color": "white"
             }
            },
            "type": "table"
           }
          ]
         },
         "layout": {
          "annotationdefaults": {
           "arrowcolor": "#2a3f5f",
           "arrowhead": 0,
           "arrowwidth": 1
          },
          "autotypenumbers": "strict",
          "coloraxis": {
           "colorbar": {
            "outlinewidth": 0,
            "ticks": ""
           }
          },
          "colorscale": {
           "diverging": [
            [
             0,
             "#8e0152"
            ],
            [
             0.1,
             "#c51b7d"
            ],
            [
             0.2,
             "#de77ae"
            ],
            [
             0.3,
             "#f1b6da"
            ],
            [
             0.4,
             "#fde0ef"
            ],
            [
             0.5,
             "#f7f7f7"
            ],
            [
             0.6,
             "#e6f5d0"
            ],
            [
             0.7,
             "#b8e186"
            ],
            [
             0.8,
             "#7fbc41"
            ],
            [
             0.9,
             "#4d9221"
            ],
            [
             1,
             "#276419"
            ]
           ],
           "sequential": [
            [
             0,
             "#0d0887"
            ],
            [
             0.1111111111111111,
             "#46039f"
            ],
            [
             0.2222222222222222,
             "#7201a8"
            ],
            [
             0.3333333333333333,
             "#9c179e"
            ],
            [
             0.4444444444444444,
             "#bd3786"
            ],
            [
             0.5555555555555556,
             "#d8576b"
            ],
            [
             0.6666666666666666,
             "#ed7953"
            ],
            [
             0.7777777777777778,
             "#fb9f3a"
            ],
            [
             0.8888888888888888,
             "#fdca26"
            ],
            [
             1,
             "#f0f921"
            ]
           ],
           "sequentialminus": [
            [
             0,
             "#0d0887"
            ],
            [
             0.1111111111111111,
             "#46039f"
            ],
            [
             0.2222222222222222,
             "#7201a8"
            ],
            [
             0.3333333333333333,
             "#9c179e"
            ],
            [
             0.4444444444444444,
             "#bd3786"
            ],
            [
             0.5555555555555556,
             "#d8576b"
            ],
            [
             0.6666666666666666,
             "#ed7953"
            ],
            [
             0.7777777777777778,
             "#fb9f3a"
            ],
            [
             0.8888888888888888,
             "#fdca26"
            ],
            [
             1,
             "#f0f921"
            ]
           ]
          },
          "colorway": [
           "#636efa",
           "#EF553B",
           "#00cc96",
           "#ab63fa",
           "#FFA15A",
           "#19d3f3",
           "#FF6692",
           "#B6E880",
           "#FF97FF",
           "#FECB52"
          ],
          "font": {
           "color": "#2a3f5f"
          },
          "geo": {
           "bgcolor": "white",
           "lakecolor": "white",
           "landcolor": "#E5ECF6",
           "showlakes": true,
           "showland": true,
           "subunitcolor": "white"
          },
          "hoverlabel": {
           "align": "left"
          },
          "hovermode": "closest",
          "mapbox": {
           "style": "light"
          },
          "paper_bgcolor": "white",
          "plot_bgcolor": "#E5ECF6",
          "polar": {
           "angularaxis": {
            "gridcolor": "white",
            "linecolor": "white",
            "ticks": ""
           },
           "bgcolor": "#E5ECF6",
           "radialaxis": {
            "gridcolor": "white",
            "linecolor": "white",
            "ticks": ""
           }
          },
          "scene": {
           "xaxis": {
            "backgroundcolor": "#E5ECF6",
            "gridcolor": "white",
            "gridwidth": 2,
            "linecolor": "white",
            "showbackground": true,
            "ticks": "",
            "zerolinecolor": "white"
           },
           "yaxis": {
            "backgroundcolor": "#E5ECF6",
            "gridcolor": "white",
            "gridwidth": 2,
            "linecolor": "white",
            "showbackground": true,
            "ticks": "",
            "zerolinecolor": "white"
           },
           "zaxis": {
            "backgroundcolor": "#E5ECF6",
            "gridcolor": "white",
            "gridwidth": 2,
            "linecolor": "white",
            "showbackground": true,
            "ticks": "",
            "zerolinecolor": "white"
           }
          },
          "shapedefaults": {
           "line": {
            "color": "#2a3f5f"
           }
          },
          "ternary": {
           "aaxis": {
            "gridcolor": "white",
            "linecolor": "white",
            "ticks": ""
           },
           "baxis": {
            "gridcolor": "white",
            "linecolor": "white",
            "ticks": ""
           },
           "bgcolor": "#E5ECF6",
           "caxis": {
            "gridcolor": "white",
            "linecolor": "white",
            "ticks": ""
           }
          },
          "title": {
           "x": 0.05
          },
          "xaxis": {
           "automargin": true,
           "gridcolor": "white",
           "linecolor": "white",
           "ticks": "",
           "title": {
            "standoff": 15
           },
           "zerolinecolor": "white",
           "zerolinewidth": 2
          },
          "yaxis": {
           "automargin": true,
           "gridcolor": "white",
           "linecolor": "white",
           "ticks": "",
           "title": {
            "standoff": 15
           },
           "zerolinecolor": "white",
           "zerolinewidth": 2
          }
         }
        },
        "title": {
         "text": "Distribusi Jumlah Kamar Tidur di Hunian - snip untuk zoom agar lebih jelas"
        },
        "xaxis": {
         "anchor": "y",
         "domain": [
          0,
          1
         ],
         "title": {
          "text": "Bedrooms"
         }
        },
        "yaxis": {
         "anchor": "x",
         "domain": [
          0,
          1
         ],
         "title": {
          "text": "Count"
         }
        }
       }
      }
     },
     "metadata": {},
     "output_type": "display_data"
    },
    {
     "data": {
      "application/vnd.plotly.v1+json": {
       "config": {
        "plotlyServerURL": "https://plot.ly"
       },
       "data": [
        {
         "alignmentgroup": "True",
         "hovertemplate": "Property Type=Apartemen<br>Bathrooms=%{x}<br>Count=%{y}<extra></extra>",
         "legendgroup": "Apartemen",
         "marker": {
          "color": "rgb(251,180,174)",
          "pattern": {
           "shape": ""
          }
         },
         "name": "Apartemen",
         "offsetgroup": "Apartemen",
         "orientation": "v",
         "showlegend": true,
         "textposition": "auto",
         "type": "bar",
         "x": [
          1,
          2,
          3,
          4,
          5,
          6,
          10
         ],
         "xaxis": "x",
         "y": [
          1350,
          631,
          182,
          22,
          2,
          1,
          1
         ],
         "yaxis": "y"
        },
        {
         "alignmentgroup": "True",
         "hovertemplate": "Property Type=Rumah<br>Bathrooms=%{x}<br>Count=%{y}<extra></extra>",
         "legendgroup": "Rumah",
         "marker": {
          "color": "rgb(179,205,227)",
          "pattern": {
           "shape": ""
          }
         },
         "name": "Rumah",
         "offsetgroup": "Rumah",
         "orientation": "v",
         "showlegend": true,
         "textposition": "auto",
         "type": "bar",
         "x": [
          1,
          2,
          3,
          4,
          5,
          6,
          7,
          8,
          9,
          10,
          11,
          12,
          13,
          14,
          15,
          16,
          17,
          18,
          19,
          20,
          21,
          22,
          23,
          24,
          25,
          27,
          28,
          30,
          32,
          33,
          37,
          44,
          46,
          48,
          51,
          60,
          99,
          127,
          250
         ],
         "xaxis": "x",
         "y": [
          110,
          298,
          415,
          292,
          188,
          87,
          34,
          28,
          26,
          17,
          6,
          11,
          10,
          1,
          3,
          2,
          1,
          5,
          4,
          11,
          2,
          2,
          22,
          3,
          3,
          2,
          2,
          2,
          9,
          1,
          1,
          5,
          1,
          2,
          2,
          1,
          2,
          1,
          1
         ],
         "yaxis": "y"
        }
       ],
       "layout": {
        "barmode": "relative",
        "legend": {
         "title": {
          "text": "Property Type"
         },
         "tracegroupgap": 0
        },
        "template": {
         "data": {
          "bar": [
           {
            "error_x": {
             "color": "#2a3f5f"
            },
            "error_y": {
             "color": "#2a3f5f"
            },
            "marker": {
             "line": {
              "color": "#E5ECF6",
              "width": 0.5
             },
             "pattern": {
              "fillmode": "overlay",
              "size": 10,
              "solidity": 0.2
             }
            },
            "type": "bar"
           }
          ],
          "barpolar": [
           {
            "marker": {
             "line": {
              "color": "#E5ECF6",
              "width": 0.5
             },
             "pattern": {
              "fillmode": "overlay",
              "size": 10,
              "solidity": 0.2
             }
            },
            "type": "barpolar"
           }
          ],
          "carpet": [
           {
            "aaxis": {
             "endlinecolor": "#2a3f5f",
             "gridcolor": "white",
             "linecolor": "white",
             "minorgridcolor": "white",
             "startlinecolor": "#2a3f5f"
            },
            "baxis": {
             "endlinecolor": "#2a3f5f",
             "gridcolor": "white",
             "linecolor": "white",
             "minorgridcolor": "white",
             "startlinecolor": "#2a3f5f"
            },
            "type": "carpet"
           }
          ],
          "choropleth": [
           {
            "colorbar": {
             "outlinewidth": 0,
             "ticks": ""
            },
            "type": "choropleth"
           }
          ],
          "contour": [
           {
            "colorbar": {
             "outlinewidth": 0,
             "ticks": ""
            },
            "colorscale": [
             [
              0,
              "#0d0887"
             ],
             [
              0.1111111111111111,
              "#46039f"
             ],
             [
              0.2222222222222222,
              "#7201a8"
             ],
             [
              0.3333333333333333,
              "#9c179e"
             ],
             [
              0.4444444444444444,
              "#bd3786"
             ],
             [
              0.5555555555555556,
              "#d8576b"
             ],
             [
              0.6666666666666666,
              "#ed7953"
             ],
             [
              0.7777777777777778,
              "#fb9f3a"
             ],
             [
              0.8888888888888888,
              "#fdca26"
             ],
             [
              1,
              "#f0f921"
             ]
            ],
            "type": "contour"
           }
          ],
          "contourcarpet": [
           {
            "colorbar": {
             "outlinewidth": 0,
             "ticks": ""
            },
            "type": "contourcarpet"
           }
          ],
          "heatmap": [
           {
            "colorbar": {
             "outlinewidth": 0,
             "ticks": ""
            },
            "colorscale": [
             [
              0,
              "#0d0887"
             ],
             [
              0.1111111111111111,
              "#46039f"
             ],
             [
              0.2222222222222222,
              "#7201a8"
             ],
             [
              0.3333333333333333,
              "#9c179e"
             ],
             [
              0.4444444444444444,
              "#bd3786"
             ],
             [
              0.5555555555555556,
              "#d8576b"
             ],
             [
              0.6666666666666666,
              "#ed7953"
             ],
             [
              0.7777777777777778,
              "#fb9f3a"
             ],
             [
              0.8888888888888888,
              "#fdca26"
             ],
             [
              1,
              "#f0f921"
             ]
            ],
            "type": "heatmap"
           }
          ],
          "heatmapgl": [
           {
            "colorbar": {
             "outlinewidth": 0,
             "ticks": ""
            },
            "colorscale": [
             [
              0,
              "#0d0887"
             ],
             [
              0.1111111111111111,
              "#46039f"
             ],
             [
              0.2222222222222222,
              "#7201a8"
             ],
             [
              0.3333333333333333,
              "#9c179e"
             ],
             [
              0.4444444444444444,
              "#bd3786"
             ],
             [
              0.5555555555555556,
              "#d8576b"
             ],
             [
              0.6666666666666666,
              "#ed7953"
             ],
             [
              0.7777777777777778,
              "#fb9f3a"
             ],
             [
              0.8888888888888888,
              "#fdca26"
             ],
             [
              1,
              "#f0f921"
             ]
            ],
            "type": "heatmapgl"
           }
          ],
          "histogram": [
           {
            "marker": {
             "pattern": {
              "fillmode": "overlay",
              "size": 10,
              "solidity": 0.2
             }
            },
            "type": "histogram"
           }
          ],
          "histogram2d": [
           {
            "colorbar": {
             "outlinewidth": 0,
             "ticks": ""
            },
            "colorscale": [
             [
              0,
              "#0d0887"
             ],
             [
              0.1111111111111111,
              "#46039f"
             ],
             [
              0.2222222222222222,
              "#7201a8"
             ],
             [
              0.3333333333333333,
              "#9c179e"
             ],
             [
              0.4444444444444444,
              "#bd3786"
             ],
             [
              0.5555555555555556,
              "#d8576b"
             ],
             [
              0.6666666666666666,
              "#ed7953"
             ],
             [
              0.7777777777777778,
              "#fb9f3a"
             ],
             [
              0.8888888888888888,
              "#fdca26"
             ],
             [
              1,
              "#f0f921"
             ]
            ],
            "type": "histogram2d"
           }
          ],
          "histogram2dcontour": [
           {
            "colorbar": {
             "outlinewidth": 0,
             "ticks": ""
            },
            "colorscale": [
             [
              0,
              "#0d0887"
             ],
             [
              0.1111111111111111,
              "#46039f"
             ],
             [
              0.2222222222222222,
              "#7201a8"
             ],
             [
              0.3333333333333333,
              "#9c179e"
             ],
             [
              0.4444444444444444,
              "#bd3786"
             ],
             [
              0.5555555555555556,
              "#d8576b"
             ],
             [
              0.6666666666666666,
              "#ed7953"
             ],
             [
              0.7777777777777778,
              "#fb9f3a"
             ],
             [
              0.8888888888888888,
              "#fdca26"
             ],
             [
              1,
              "#f0f921"
             ]
            ],
            "type": "histogram2dcontour"
           }
          ],
          "mesh3d": [
           {
            "colorbar": {
             "outlinewidth": 0,
             "ticks": ""
            },
            "type": "mesh3d"
           }
          ],
          "parcoords": [
           {
            "line": {
             "colorbar": {
              "outlinewidth": 0,
              "ticks": ""
             }
            },
            "type": "parcoords"
           }
          ],
          "pie": [
           {
            "automargin": true,
            "type": "pie"
           }
          ],
          "scatter": [
           {
            "fillpattern": {
             "fillmode": "overlay",
             "size": 10,
             "solidity": 0.2
            },
            "type": "scatter"
           }
          ],
          "scatter3d": [
           {
            "line": {
             "colorbar": {
              "outlinewidth": 0,
              "ticks": ""
             }
            },
            "marker": {
             "colorbar": {
              "outlinewidth": 0,
              "ticks": ""
             }
            },
            "type": "scatter3d"
           }
          ],
          "scattercarpet": [
           {
            "marker": {
             "colorbar": {
              "outlinewidth": 0,
              "ticks": ""
             }
            },
            "type": "scattercarpet"
           }
          ],
          "scattergeo": [
           {
            "marker": {
             "colorbar": {
              "outlinewidth": 0,
              "ticks": ""
             }
            },
            "type": "scattergeo"
           }
          ],
          "scattergl": [
           {
            "marker": {
             "colorbar": {
              "outlinewidth": 0,
              "ticks": ""
             }
            },
            "type": "scattergl"
           }
          ],
          "scattermapbox": [
           {
            "marker": {
             "colorbar": {
              "outlinewidth": 0,
              "ticks": ""
             }
            },
            "type": "scattermapbox"
           }
          ],
          "scatterpolar": [
           {
            "marker": {
             "colorbar": {
              "outlinewidth": 0,
              "ticks": ""
             }
            },
            "type": "scatterpolar"
           }
          ],
          "scatterpolargl": [
           {
            "marker": {
             "colorbar": {
              "outlinewidth": 0,
              "ticks": ""
             }
            },
            "type": "scatterpolargl"
           }
          ],
          "scatterternary": [
           {
            "marker": {
             "colorbar": {
              "outlinewidth": 0,
              "ticks": ""
             }
            },
            "type": "scatterternary"
           }
          ],
          "surface": [
           {
            "colorbar": {
             "outlinewidth": 0,
             "ticks": ""
            },
            "colorscale": [
             [
              0,
              "#0d0887"
             ],
             [
              0.1111111111111111,
              "#46039f"
             ],
             [
              0.2222222222222222,
              "#7201a8"
             ],
             [
              0.3333333333333333,
              "#9c179e"
             ],
             [
              0.4444444444444444,
              "#bd3786"
             ],
             [
              0.5555555555555556,
              "#d8576b"
             ],
             [
              0.6666666666666666,
              "#ed7953"
             ],
             [
              0.7777777777777778,
              "#fb9f3a"
             ],
             [
              0.8888888888888888,
              "#fdca26"
             ],
             [
              1,
              "#f0f921"
             ]
            ],
            "type": "surface"
           }
          ],
          "table": [
           {
            "cells": {
             "fill": {
              "color": "#EBF0F8"
             },
             "line": {
              "color": "white"
             }
            },
            "header": {
             "fill": {
              "color": "#C8D4E3"
             },
             "line": {
              "color": "white"
             }
            },
            "type": "table"
           }
          ]
         },
         "layout": {
          "annotationdefaults": {
           "arrowcolor": "#2a3f5f",
           "arrowhead": 0,
           "arrowwidth": 1
          },
          "autotypenumbers": "strict",
          "coloraxis": {
           "colorbar": {
            "outlinewidth": 0,
            "ticks": ""
           }
          },
          "colorscale": {
           "diverging": [
            [
             0,
             "#8e0152"
            ],
            [
             0.1,
             "#c51b7d"
            ],
            [
             0.2,
             "#de77ae"
            ],
            [
             0.3,
             "#f1b6da"
            ],
            [
             0.4,
             "#fde0ef"
            ],
            [
             0.5,
             "#f7f7f7"
            ],
            [
             0.6,
             "#e6f5d0"
            ],
            [
             0.7,
             "#b8e186"
            ],
            [
             0.8,
             "#7fbc41"
            ],
            [
             0.9,
             "#4d9221"
            ],
            [
             1,
             "#276419"
            ]
           ],
           "sequential": [
            [
             0,
             "#0d0887"
            ],
            [
             0.1111111111111111,
             "#46039f"
            ],
            [
             0.2222222222222222,
             "#7201a8"
            ],
            [
             0.3333333333333333,
             "#9c179e"
            ],
            [
             0.4444444444444444,
             "#bd3786"
            ],
            [
             0.5555555555555556,
             "#d8576b"
            ],
            [
             0.6666666666666666,
             "#ed7953"
            ],
            [
             0.7777777777777778,
             "#fb9f3a"
            ],
            [
             0.8888888888888888,
             "#fdca26"
            ],
            [
             1,
             "#f0f921"
            ]
           ],
           "sequentialminus": [
            [
             0,
             "#0d0887"
            ],
            [
             0.1111111111111111,
             "#46039f"
            ],
            [
             0.2222222222222222,
             "#7201a8"
            ],
            [
             0.3333333333333333,
             "#9c179e"
            ],
            [
             0.4444444444444444,
             "#bd3786"
            ],
            [
             0.5555555555555556,
             "#d8576b"
            ],
            [
             0.6666666666666666,
             "#ed7953"
            ],
            [
             0.7777777777777778,
             "#fb9f3a"
            ],
            [
             0.8888888888888888,
             "#fdca26"
            ],
            [
             1,
             "#f0f921"
            ]
           ]
          },
          "colorway": [
           "#636efa",
           "#EF553B",
           "#00cc96",
           "#ab63fa",
           "#FFA15A",
           "#19d3f3",
           "#FF6692",
           "#B6E880",
           "#FF97FF",
           "#FECB52"
          ],
          "font": {
           "color": "#2a3f5f"
          },
          "geo": {
           "bgcolor": "white",
           "lakecolor": "white",
           "landcolor": "#E5ECF6",
           "showlakes": true,
           "showland": true,
           "subunitcolor": "white"
          },
          "hoverlabel": {
           "align": "left"
          },
          "hovermode": "closest",
          "mapbox": {
           "style": "light"
          },
          "paper_bgcolor": "white",
          "plot_bgcolor": "#E5ECF6",
          "polar": {
           "angularaxis": {
            "gridcolor": "white",
            "linecolor": "white",
            "ticks": ""
           },
           "bgcolor": "#E5ECF6",
           "radialaxis": {
            "gridcolor": "white",
            "linecolor": "white",
            "ticks": ""
           }
          },
          "scene": {
           "xaxis": {
            "backgroundcolor": "#E5ECF6",
            "gridcolor": "white",
            "gridwidth": 2,
            "linecolor": "white",
            "showbackground": true,
            "ticks": "",
            "zerolinecolor": "white"
           },
           "yaxis": {
            "backgroundcolor": "#E5ECF6",
            "gridcolor": "white",
            "gridwidth": 2,
            "linecolor": "white",
            "showbackground": true,
            "ticks": "",
            "zerolinecolor": "white"
           },
           "zaxis": {
            "backgroundcolor": "#E5ECF6",
            "gridcolor": "white",
            "gridwidth": 2,
            "linecolor": "white",
            "showbackground": true,
            "ticks": "",
            "zerolinecolor": "white"
           }
          },
          "shapedefaults": {
           "line": {
            "color": "#2a3f5f"
           }
          },
          "ternary": {
           "aaxis": {
            "gridcolor": "white",
            "linecolor": "white",
            "ticks": ""
           },
           "baxis": {
            "gridcolor": "white",
            "linecolor": "white",
            "ticks": ""
           },
           "bgcolor": "#E5ECF6",
           "caxis": {
            "gridcolor": "white",
            "linecolor": "white",
            "ticks": ""
           }
          },
          "title": {
           "x": 0.05
          },
          "xaxis": {
           "automargin": true,
           "gridcolor": "white",
           "linecolor": "white",
           "ticks": "",
           "title": {
            "standoff": 15
           },
           "zerolinecolor": "white",
           "zerolinewidth": 2
          },
          "yaxis": {
           "automargin": true,
           "gridcolor": "white",
           "linecolor": "white",
           "ticks": "",
           "title": {
            "standoff": 15
           },
           "zerolinecolor": "white",
           "zerolinewidth": 2
          }
         }
        },
        "title": {
         "text": "Distribusi Jumlah Kamar Mandi di Hunian - snip untuk zoom agar lebih jelas"
        },
        "xaxis": {
         "anchor": "y",
         "domain": [
          0,
          1
         ],
         "title": {
          "text": "Bathrooms"
         }
        },
        "yaxis": {
         "anchor": "x",
         "domain": [
          0,
          1
         ],
         "title": {
          "text": "Count"
         }
        }
       }
      }
     },
     "metadata": {},
     "output_type": "display_data"
    },
    {
     "data": {
      "application/vnd.plotly.v1+json": {
       "config": {
        "plotlyServerURL": "https://plot.ly"
       },
       "data": [
        {
         "alignmentgroup": "True",
         "hovertemplate": "Property Type=Apartemen<br>Certificate=%{x}<br>Count=%{y}<extra></extra>",
         "legendgroup": "Apartemen",
         "marker": {
          "color": "rgb(251,180,174)",
          "pattern": {
           "shape": ""
          }
         },
         "name": "Apartemen",
         "offsetgroup": "Apartemen",
         "orientation": "v",
         "showlegend": true,
         "textposition": "auto",
         "type": "bar",
         "x": [
          "HGB - Hak Guna Bangunan",
          "HP - Hak Pakai",
          "HS - Hak Sewa",
          "Lainnya (PPJB,Girik,Adat,dll)",
          "SHM - Sertifikat Hak Milik",
          "Strata",
          "unknown"
         ],
         "xaxis": "x",
         "y": [
          533,
          25,
          65,
          588,
          873,
          65,
          40
         ],
         "yaxis": "y"
        },
        {
         "alignmentgroup": "True",
         "hovertemplate": "Property Type=Rumah<br>Certificate=%{x}<br>Count=%{y}<extra></extra>",
         "legendgroup": "Rumah",
         "marker": {
          "color": "rgb(179,205,227)",
          "pattern": {
           "shape": ""
          }
         },
         "name": "Rumah",
         "offsetgroup": "Rumah",
         "orientation": "v",
         "showlegend": true,
         "textposition": "auto",
         "type": "bar",
         "x": [
          "HGB - Hak Guna Bangunan",
          "HP - Hak Pakai",
          "HS - Hak Sewa",
          "Lainnya (PPJB,Girik,Adat,dll)",
          "SHM - Sertifikat Hak Milik",
          "Strata",
          "unknown"
         ],
         "xaxis": "x",
         "y": [
          123,
          1,
          5,
          46,
          1420,
          2,
          16
         ],
         "yaxis": "y"
        }
       ],
       "layout": {
        "barmode": "relative",
        "legend": {
         "title": {
          "text": "Property Type"
         },
         "tracegroupgap": 0
        },
        "template": {
         "data": {
          "bar": [
           {
            "error_x": {
             "color": "#2a3f5f"
            },
            "error_y": {
             "color": "#2a3f5f"
            },
            "marker": {
             "line": {
              "color": "#E5ECF6",
              "width": 0.5
             },
             "pattern": {
              "fillmode": "overlay",
              "size": 10,
              "solidity": 0.2
             }
            },
            "type": "bar"
           }
          ],
          "barpolar": [
           {
            "marker": {
             "line": {
              "color": "#E5ECF6",
              "width": 0.5
             },
             "pattern": {
              "fillmode": "overlay",
              "size": 10,
              "solidity": 0.2
             }
            },
            "type": "barpolar"
           }
          ],
          "carpet": [
           {
            "aaxis": {
             "endlinecolor": "#2a3f5f",
             "gridcolor": "white",
             "linecolor": "white",
             "minorgridcolor": "white",
             "startlinecolor": "#2a3f5f"
            },
            "baxis": {
             "endlinecolor": "#2a3f5f",
             "gridcolor": "white",
             "linecolor": "white",
             "minorgridcolor": "white",
             "startlinecolor": "#2a3f5f"
            },
            "type": "carpet"
           }
          ],
          "choropleth": [
           {
            "colorbar": {
             "outlinewidth": 0,
             "ticks": ""
            },
            "type": "choropleth"
           }
          ],
          "contour": [
           {
            "colorbar": {
             "outlinewidth": 0,
             "ticks": ""
            },
            "colorscale": [
             [
              0,
              "#0d0887"
             ],
             [
              0.1111111111111111,
              "#46039f"
             ],
             [
              0.2222222222222222,
              "#7201a8"
             ],
             [
              0.3333333333333333,
              "#9c179e"
             ],
             [
              0.4444444444444444,
              "#bd3786"
             ],
             [
              0.5555555555555556,
              "#d8576b"
             ],
             [
              0.6666666666666666,
              "#ed7953"
             ],
             [
              0.7777777777777778,
              "#fb9f3a"
             ],
             [
              0.8888888888888888,
              "#fdca26"
             ],
             [
              1,
              "#f0f921"
             ]
            ],
            "type": "contour"
           }
          ],
          "contourcarpet": [
           {
            "colorbar": {
             "outlinewidth": 0,
             "ticks": ""
            },
            "type": "contourcarpet"
           }
          ],
          "heatmap": [
           {
            "colorbar": {
             "outlinewidth": 0,
             "ticks": ""
            },
            "colorscale": [
             [
              0,
              "#0d0887"
             ],
             [
              0.1111111111111111,
              "#46039f"
             ],
             [
              0.2222222222222222,
              "#7201a8"
             ],
             [
              0.3333333333333333,
              "#9c179e"
             ],
             [
              0.4444444444444444,
              "#bd3786"
             ],
             [
              0.5555555555555556,
              "#d8576b"
             ],
             [
              0.6666666666666666,
              "#ed7953"
             ],
             [
              0.7777777777777778,
              "#fb9f3a"
             ],
             [
              0.8888888888888888,
              "#fdca26"
             ],
             [
              1,
              "#f0f921"
             ]
            ],
            "type": "heatmap"
           }
          ],
          "heatmapgl": [
           {
            "colorbar": {
             "outlinewidth": 0,
             "ticks": ""
            },
            "colorscale": [
             [
              0,
              "#0d0887"
             ],
             [
              0.1111111111111111,
              "#46039f"
             ],
             [
              0.2222222222222222,
              "#7201a8"
             ],
             [
              0.3333333333333333,
              "#9c179e"
             ],
             [
              0.4444444444444444,
              "#bd3786"
             ],
             [
              0.5555555555555556,
              "#d8576b"
             ],
             [
              0.6666666666666666,
              "#ed7953"
             ],
             [
              0.7777777777777778,
              "#fb9f3a"
             ],
             [
              0.8888888888888888,
              "#fdca26"
             ],
             [
              1,
              "#f0f921"
             ]
            ],
            "type": "heatmapgl"
           }
          ],
          "histogram": [
           {
            "marker": {
             "pattern": {
              "fillmode": "overlay",
              "size": 10,
              "solidity": 0.2
             }
            },
            "type": "histogram"
           }
          ],
          "histogram2d": [
           {
            "colorbar": {
             "outlinewidth": 0,
             "ticks": ""
            },
            "colorscale": [
             [
              0,
              "#0d0887"
             ],
             [
              0.1111111111111111,
              "#46039f"
             ],
             [
              0.2222222222222222,
              "#7201a8"
             ],
             [
              0.3333333333333333,
              "#9c179e"
             ],
             [
              0.4444444444444444,
              "#bd3786"
             ],
             [
              0.5555555555555556,
              "#d8576b"
             ],
             [
              0.6666666666666666,
              "#ed7953"
             ],
             [
              0.7777777777777778,
              "#fb9f3a"
             ],
             [
              0.8888888888888888,
              "#fdca26"
             ],
             [
              1,
              "#f0f921"
             ]
            ],
            "type": "histogram2d"
           }
          ],
          "histogram2dcontour": [
           {
            "colorbar": {
             "outlinewidth": 0,
             "ticks": ""
            },
            "colorscale": [
             [
              0,
              "#0d0887"
             ],
             [
              0.1111111111111111,
              "#46039f"
             ],
             [
              0.2222222222222222,
              "#7201a8"
             ],
             [
              0.3333333333333333,
              "#9c179e"
             ],
             [
              0.4444444444444444,
              "#bd3786"
             ],
             [
              0.5555555555555556,
              "#d8576b"
             ],
             [
              0.6666666666666666,
              "#ed7953"
             ],
             [
              0.7777777777777778,
              "#fb9f3a"
             ],
             [
              0.8888888888888888,
              "#fdca26"
             ],
             [
              1,
              "#f0f921"
             ]
            ],
            "type": "histogram2dcontour"
           }
          ],
          "mesh3d": [
           {
            "colorbar": {
             "outlinewidth": 0,
             "ticks": ""
            },
            "type": "mesh3d"
           }
          ],
          "parcoords": [
           {
            "line": {
             "colorbar": {
              "outlinewidth": 0,
              "ticks": ""
             }
            },
            "type": "parcoords"
           }
          ],
          "pie": [
           {
            "automargin": true,
            "type": "pie"
           }
          ],
          "scatter": [
           {
            "fillpattern": {
             "fillmode": "overlay",
             "size": 10,
             "solidity": 0.2
            },
            "type": "scatter"
           }
          ],
          "scatter3d": [
           {
            "line": {
             "colorbar": {
              "outlinewidth": 0,
              "ticks": ""
             }
            },
            "marker": {
             "colorbar": {
              "outlinewidth": 0,
              "ticks": ""
             }
            },
            "type": "scatter3d"
           }
          ],
          "scattercarpet": [
           {
            "marker": {
             "colorbar": {
              "outlinewidth": 0,
              "ticks": ""
             }
            },
            "type": "scattercarpet"
           }
          ],
          "scattergeo": [
           {
            "marker": {
             "colorbar": {
              "outlinewidth": 0,
              "ticks": ""
             }
            },
            "type": "scattergeo"
           }
          ],
          "scattergl": [
           {
            "marker": {
             "colorbar": {
              "outlinewidth": 0,
              "ticks": ""
             }
            },
            "type": "scattergl"
           }
          ],
          "scattermapbox": [
           {
            "marker": {
             "colorbar": {
              "outlinewidth": 0,
              "ticks": ""
             }
            },
            "type": "scattermapbox"
           }
          ],
          "scatterpolar": [
           {
            "marker": {
             "colorbar": {
              "outlinewidth": 0,
              "ticks": ""
             }
            },
            "type": "scatterpolar"
           }
          ],
          "scatterpolargl": [
           {
            "marker": {
             "colorbar": {
              "outlinewidth": 0,
              "ticks": ""
             }
            },
            "type": "scatterpolargl"
           }
          ],
          "scatterternary": [
           {
            "marker": {
             "colorbar": {
              "outlinewidth": 0,
              "ticks": ""
             }
            },
            "type": "scatterternary"
           }
          ],
          "surface": [
           {
            "colorbar": {
             "outlinewidth": 0,
             "ticks": ""
            },
            "colorscale": [
             [
              0,
              "#0d0887"
             ],
             [
              0.1111111111111111,
              "#46039f"
             ],
             [
              0.2222222222222222,
              "#7201a8"
             ],
             [
              0.3333333333333333,
              "#9c179e"
             ],
             [
              0.4444444444444444,
              "#bd3786"
             ],
             [
              0.5555555555555556,
              "#d8576b"
             ],
             [
              0.6666666666666666,
              "#ed7953"
             ],
             [
              0.7777777777777778,
              "#fb9f3a"
             ],
             [
              0.8888888888888888,
              "#fdca26"
             ],
             [
              1,
              "#f0f921"
             ]
            ],
            "type": "surface"
           }
          ],
          "table": [
           {
            "cells": {
             "fill": {
              "color": "#EBF0F8"
             },
             "line": {
              "color": "white"
             }
            },
            "header": {
             "fill": {
              "color": "#C8D4E3"
             },
             "line": {
              "color": "white"
             }
            },
            "type": "table"
           }
          ]
         },
         "layout": {
          "annotationdefaults": {
           "arrowcolor": "#2a3f5f",
           "arrowhead": 0,
           "arrowwidth": 1
          },
          "autotypenumbers": "strict",
          "coloraxis": {
           "colorbar": {
            "outlinewidth": 0,
            "ticks": ""
           }
          },
          "colorscale": {
           "diverging": [
            [
             0,
             "#8e0152"
            ],
            [
             0.1,
             "#c51b7d"
            ],
            [
             0.2,
             "#de77ae"
            ],
            [
             0.3,
             "#f1b6da"
            ],
            [
             0.4,
             "#fde0ef"
            ],
            [
             0.5,
             "#f7f7f7"
            ],
            [
             0.6,
             "#e6f5d0"
            ],
            [
             0.7,
             "#b8e186"
            ],
            [
             0.8,
             "#7fbc41"
            ],
            [
             0.9,
             "#4d9221"
            ],
            [
             1,
             "#276419"
            ]
           ],
           "sequential": [
            [
             0,
             "#0d0887"
            ],
            [
             0.1111111111111111,
             "#46039f"
            ],
            [
             0.2222222222222222,
             "#7201a8"
            ],
            [
             0.3333333333333333,
             "#9c179e"
            ],
            [
             0.4444444444444444,
             "#bd3786"
            ],
            [
             0.5555555555555556,
             "#d8576b"
            ],
            [
             0.6666666666666666,
             "#ed7953"
            ],
            [
             0.7777777777777778,
             "#fb9f3a"
            ],
            [
             0.8888888888888888,
             "#fdca26"
            ],
            [
             1,
             "#f0f921"
            ]
           ],
           "sequentialminus": [
            [
             0,
             "#0d0887"
            ],
            [
             0.1111111111111111,
             "#46039f"
            ],
            [
             0.2222222222222222,
             "#7201a8"
            ],
            [
             0.3333333333333333,
             "#9c179e"
            ],
            [
             0.4444444444444444,
             "#bd3786"
            ],
            [
             0.5555555555555556,
             "#d8576b"
            ],
            [
             0.6666666666666666,
             "#ed7953"
            ],
            [
             0.7777777777777778,
             "#fb9f3a"
            ],
            [
             0.8888888888888888,
             "#fdca26"
            ],
            [
             1,
             "#f0f921"
            ]
           ]
          },
          "colorway": [
           "#636efa",
           "#EF553B",
           "#00cc96",
           "#ab63fa",
           "#FFA15A",
           "#19d3f3",
           "#FF6692",
           "#B6E880",
           "#FF97FF",
           "#FECB52"
          ],
          "font": {
           "color": "#2a3f5f"
          },
          "geo": {
           "bgcolor": "white",
           "lakecolor": "white",
           "landcolor": "#E5ECF6",
           "showlakes": true,
           "showland": true,
           "subunitcolor": "white"
          },
          "hoverlabel": {
           "align": "left"
          },
          "hovermode": "closest",
          "mapbox": {
           "style": "light"
          },
          "paper_bgcolor": "white",
          "plot_bgcolor": "#E5ECF6",
          "polar": {
           "angularaxis": {
            "gridcolor": "white",
            "linecolor": "white",
            "ticks": ""
           },
           "bgcolor": "#E5ECF6",
           "radialaxis": {
            "gridcolor": "white",
            "linecolor": "white",
            "ticks": ""
           }
          },
          "scene": {
           "xaxis": {
            "backgroundcolor": "#E5ECF6",
            "gridcolor": "white",
            "gridwidth": 2,
            "linecolor": "white",
            "showbackground": true,
            "ticks": "",
            "zerolinecolor": "white"
           },
           "yaxis": {
            "backgroundcolor": "#E5ECF6",
            "gridcolor": "white",
            "gridwidth": 2,
            "linecolor": "white",
            "showbackground": true,
            "ticks": "",
            "zerolinecolor": "white"
           },
           "zaxis": {
            "backgroundcolor": "#E5ECF6",
            "gridcolor": "white",
            "gridwidth": 2,
            "linecolor": "white",
            "showbackground": true,
            "ticks": "",
            "zerolinecolor": "white"
           }
          },
          "shapedefaults": {
           "line": {
            "color": "#2a3f5f"
           }
          },
          "ternary": {
           "aaxis": {
            "gridcolor": "white",
            "linecolor": "white",
            "ticks": ""
           },
           "baxis": {
            "gridcolor": "white",
            "linecolor": "white",
            "ticks": ""
           },
           "bgcolor": "#E5ECF6",
           "caxis": {
            "gridcolor": "white",
            "linecolor": "white",
            "ticks": ""
           }
          },
          "title": {
           "x": 0.05
          },
          "xaxis": {
           "automargin": true,
           "gridcolor": "white",
           "linecolor": "white",
           "ticks": "",
           "title": {
            "standoff": 15
           },
           "zerolinecolor": "white",
           "zerolinewidth": 2
          },
          "yaxis": {
           "automargin": true,
           "gridcolor": "white",
           "linecolor": "white",
           "ticks": "",
           "title": {
            "standoff": 15
           },
           "zerolinecolor": "white",
           "zerolinewidth": 2
          }
         }
        },
        "title": {
         "text": "Distribusi Sertifikat Hunian - snip untuk zoom agar lebih jelas"
        },
        "xaxis": {
         "anchor": "y",
         "domain": [
          0,
          1
         ],
         "title": {
          "text": "Certificate"
         }
        },
        "yaxis": {
         "anchor": "x",
         "domain": [
          0,
          1
         ],
         "title": {
          "text": "Count"
         }
        }
       }
      }
     },
     "metadata": {},
     "output_type": "display_data"
    },
    {
     "data": {
      "text/markdown": [
       "<div align='center'><h2>====================</h2></div>"
      ],
      "text/plain": [
       "<IPython.core.display.Markdown object>"
      ]
     },
     "metadata": {},
     "output_type": "display_data"
    },
    {
     "data": {
      "text/markdown": [
       "<div align='center'><h2>Informasi Rumah</h2></div>"
      ],
      "text/plain": [
       "<IPython.core.display.Markdown object>"
      ]
     },
     "metadata": {},
     "output_type": "display_data"
    },
    {
     "data": {
      "application/vnd.plotly.v1+json": {
       "config": {
        "plotlyServerURL": "https://plot.ly"
       },
       "data": [
        {
         "alignmentgroup": "True",
         "hovertemplate": "luas_tanah=%{y}<extra></extra>",
         "legendgroup": "",
         "marker": {
          "color": "#636efa"
         },
         "name": "",
         "notched": false,
         "offsetgroup": "",
         "orientation": "v",
         "showlegend": false,
         "type": "box",
         "x0": " ",
         "xaxis": "x",
         "y": [
          null,
          null,
          null,
          null,
          49,
          400,
          378,
          null,
          376,
          515,
          753,
          null,
          21,
          378,
          null,
          null,
          1409,
          842,
          842,
          177,
          283,
          null,
          21,
          795,
          437,
          270,
          753,
          1070,
          250,
          205,
          1400,
          null,
          null,
          null,
          717,
          1100,
          114,
          20,
          null,
          null,
          null,
          753,
          3015,
          374,
          null,
          947,
          733,
          753,
          250,
          376,
          164,
          719,
          1189,
          null,
          721,
          492,
          null,
          211,
          null,
          611,
          null,
          null,
          336,
          115,
          null,
          860,
          511,
          267,
          365,
          192,
          null,
          null,
          null,
          null,
          null,
          null,
          330,
          null,
          null,
          null,
          null,
          null,
          null,
          null,
          null,
          null,
          null,
          639,
          null,
          null,
          null,
          null,
          null,
          495,
          null,
          null,
          null,
          null,
          null,
          754,
          156,
          null,
          null,
          null,
          null,
          null,
          null,
          null,
          null,
          null,
          650,
          null,
          null,
          null,
          null,
          null,
          null,
          null,
          null,
          null,
          null,
          null,
          null,
          null,
          null,
          null,
          null,
          null,
          null,
          null,
          null,
          null,
          null,
          220,
          null,
          113,
          null,
          null,
          null,
          100,
          null,
          null,
          null,
          120,
          null,
          null,
          null,
          null,
          null,
          null,
          null,
          null,
          null,
          null,
          160,
          null,
          null,
          null,
          null,
          null,
          null,
          null,
          null,
          null,
          null,
          null,
          null,
          null,
          120,
          75,
          null,
          250,
          null,
          128,
          null,
          353,
          290,
          null,
          180,
          842,
          null,
          null,
          288,
          374,
          73,
          null,
          30,
          null,
          null,
          486,
          120,
          500,
          826,
          30,
          null,
          null,
          87,
          null,
          null,
          145,
          null,
          null,
          335,
          144,
          null,
          null,
          null,
          null,
          null,
          null,
          145,
          340,
          null,
          null,
          null,
          null,
          25,
          25,
          null,
          738,
          22,
          null,
          340,
          763,
          null,
          null,
          30,
          null,
          null,
          920,
          null,
          1048,
          30,
          453,
          529,
          780,
          826,
          647,
          647,
          90,
          117,
          456,
          842,
          225,
          594,
          null,
          670,
          720,
          549,
          789,
          null,
          378,
          180,
          null,
          null,
          null,
          null,
          null,
          null,
          null,
          null,
          null,
          null,
          null,
          150,
          null,
          null,
          null,
          null,
          null,
          null,
          null,
          null,
          null,
          240,
          null,
          null,
          96,
          null,
          null,
          null,
          null,
          null,
          null,
          null,
          null,
          null,
          144,
          null,
          null,
          null,
          null,
          null,
          null,
          800,
          null,
          null,
          null,
          null,
          null,
          null,
          null,
          null,
          150,
          null,
          640,
          144,
          null,
          null,
          null,
          null,
          null,
          null,
          null,
          753,
          null,
          null,
          null,
          445,
          null,
          null,
          730,
          null,
          null,
          525,
          null,
          null,
          null,
          null,
          null,
          null,
          null,
          null,
          null,
          null,
          null,
          null,
          null,
          null,
          null,
          null,
          null,
          958,
          null,
          700,
          null,
          null,
          null,
          null,
          null,
          null,
          137,
          null,
          null,
          423,
          126,
          null,
          126,
          980,
          20,
          95,
          65,
          null,
          200,
          474,
          null,
          643,
          126,
          null,
          400,
          1046,
          385,
          null,
          1224,
          687,
          717,
          335,
          764,
          525,
          null,
          970,
          null,
          629,
          685,
          136,
          280,
          188,
          735,
          429,
          748,
          1100,
          692,
          330,
          716,
          1225,
          null,
          1153,
          680,
          650,
          null,
          null,
          829,
          363,
          562,
          null,
          468,
          308,
          138,
          300,
          1046,
          223,
          42,
          211,
          null,
          204,
          145,
          null,
          238,
          271,
          395,
          511,
          126,
          null,
          360,
          null,
          null,
          126,
          360,
          640,
          360,
          611,
          null,
          640,
          640,
          null,
          150,
          360,
          378,
          562,
          null,
          649,
          300,
          null,
          null,
          null,
          null,
          90,
          null,
          null,
          null,
          null,
          127,
          null,
          null,
          null,
          null,
          null,
          null,
          null,
          null,
          null,
          null,
          null,
          1000,
          1100,
          null,
          null,
          null,
          399,
          null,
          null,
          289,
          330,
          null,
          null,
          null,
          null,
          null,
          null,
          330,
          null,
          null,
          160,
          445,
          null,
          null,
          null,
          null,
          null,
          null,
          1450,
          null,
          720,
          null,
          null,
          null,
          null,
          null,
          null,
          null,
          1500,
          null,
          null,
          null,
          null,
          null,
          null,
          null,
          445,
          null,
          958,
          null,
          null,
          null,
          null,
          null,
          null,
          null,
          null,
          null,
          null,
          null,
          null,
          null,
          null,
          null,
          null,
          null,
          null,
          null,
          null,
          null,
          null,
          null,
          null,
          null,
          150,
          700,
          null,
          492,
          611,
          925,
          null,
          595,
          36,
          970,
          700,
          48,
          140,
          427,
          null,
          470,
          774,
          235,
          420,
          809,
          733,
          179,
          1100,
          925,
          150,
          null,
          380,
          274,
          148,
          304,
          294,
          400,
          740,
          null,
          142,
          null,
          609,
          128,
          null,
          null,
          1050,
          105,
          null,
          180,
          220,
          500,
          349,
          null,
          320,
          720,
          717,
          563,
          695,
          null,
          142,
          20,
          null,
          225,
          970,
          60,
          360,
          323,
          null,
          null,
          2800,
          1100,
          null,
          248,
          464,
          null,
          1100,
          35,
          150,
          550,
          493,
          1078,
          1225,
          737,
          null,
          null,
          688,
          424,
          763,
          null,
          323,
          1409,
          null,
          null,
          null,
          183,
          394,
          null,
          null,
          null,
          null,
          661,
          null,
          360,
          null,
          323,
          null,
          null,
          null,
          800,
          null,
          626,
          null,
          null,
          null,
          1360,
          null,
          null,
          null,
          null,
          1300,
          null,
          208,
          null,
          null,
          null,
          57,
          null,
          200,
          null,
          700,
          null,
          null,
          null,
          null,
          null,
          null,
          null,
          null,
          1050,
          null,
          null,
          null,
          null,
          null,
          null,
          null,
          null,
          null,
          null,
          null,
          null,
          null,
          null,
          null,
          630,
          null,
          null,
          null,
          null,
          279,
          null,
          null,
          null,
          null,
          null,
          null,
          null,
          673,
          null,
          null,
          null,
          700,
          null,
          null,
          400,
          null,
          600,
          null,
          null,
          null,
          null,
          null,
          null,
          null,
          null,
          null,
          null,
          null,
          null,
          213,
          null,
          null,
          null,
          null,
          106,
          150,
          null,
          null,
          117,
          238,
          null,
          84,
          733,
          261,
          106,
          128,
          106,
          120,
          92,
          null,
          156,
          166,
          null,
          150,
          null,
          360,
          106,
          260,
          106,
          null,
          null,
          278,
          null,
          60,
          395,
          null,
          646,
          774,
          44,
          74,
          310,
          null,
          300,
          120,
          395,
          null,
          null,
          85,
          null,
          null,
          null,
          null,
          138,
          219,
          640,
          260,
          404,
          null,
          210,
          null,
          600,
          32,
          1220,
          580,
          null,
          875,
          98,
          null,
          587,
          689,
          447,
          null,
          null,
          30,
          143,
          433,
          1125,
          285,
          2975,
          null,
          876,
          876,
          924,
          450,
          580,
          null,
          null,
          100,
          733,
          261,
          876,
          587,
          null,
          870,
          null,
          null,
          null,
          null,
          null,
          null,
          null,
          null,
          null,
          null,
          null,
          null,
          null,
          null,
          null,
          null,
          null,
          null,
          null,
          null,
          null,
          null,
          null,
          null,
          null,
          null,
          null,
          450,
          null,
          null,
          null,
          null,
          null,
          null,
          null,
          null,
          null,
          null,
          null,
          null,
          null,
          200,
          null,
          null,
          445,
          null,
          null,
          null,
          1500,
          58,
          null,
          550,
          null,
          null,
          null,
          null,
          null,
          null,
          null,
          85,
          445,
          null,
          null,
          null,
          null,
          null,
          null,
          null,
          null,
          null,
          null,
          null,
          null,
          1070,
          null,
          null,
          null,
          null,
          null,
          null,
          null,
          null,
          null,
          null,
          null,
          null,
          null,
          null,
          null,
          null,
          null,
          null,
          null,
          null,
          null,
          null,
          null,
          null,
          null,
          null,
          774,
          774,
          null,
          null,
          200,
          114,
          280,
          null,
          580,
          374,
          272,
          358,
          null,
          209,
          119,
          210,
          127,
          258,
          260,
          217,
          null,
          506,
          503,
          731,
          null,
          700,
          610,
          255,
          80,
          250,
          503,
          106,
          680,
          246,
          null,
          null,
          null,
          106,
          167,
          676,
          null,
          150,
          1100,
          842,
          555,
          754,
          517,
          348,
          355,
          441,
          681,
          695,
          182,
          167,
          518,
          67,
          842,
          138,
          null,
          null,
          67,
          67,
          261,
          67,
          null,
          185,
          67,
          67,
          67,
          null,
          67,
          67,
          326,
          370,
          67,
          206,
          153,
          595,
          513,
          419,
          182,
          200,
          235,
          219,
          189,
          null,
          100,
          155,
          120,
          733,
          842,
          326,
          550,
          550,
          null,
          1000,
          1360,
          null,
          null,
          null,
          null,
          null,
          null,
          null,
          null,
          null,
          null,
          717,
          null,
          null,
          null,
          null,
          750,
          null,
          null,
          null,
          null,
          null,
          null,
          null,
          null,
          null,
          null,
          null,
          null,
          null,
          null,
          null,
          null,
          null,
          null,
          1500,
          120,
          220,
          null,
          null,
          null,
          null,
          null,
          null,
          220,
          null,
          null,
          null,
          null,
          null,
          null,
          1220,
          null,
          null,
          null,
          null,
          null,
          null,
          null,
          null,
          null,
          null,
          null,
          null,
          null,
          null,
          null,
          null,
          700,
          null,
          340,
          1000,
          null,
          null,
          1362,
          null,
          null,
          753,
          null,
          1300,
          800,
          null,
          1677,
          1100,
          null,
          null,
          340,
          370,
          323,
          null,
          null,
          null,
          340,
          null,
          null,
          800,
          null,
          270,
          null,
          353,
          null,
          null,
          null,
          null,
          null,
          null,
          50,
          null,
          50,
          null,
          225,
          247,
          925,
          925,
          199,
          925,
          225,
          165,
          null,
          340,
          206,
          65,
          600,
          655,
          null,
          1000,
          null,
          null,
          335,
          600,
          null,
          null,
          null,
          144,
          null,
          null,
          88,
          931,
          135,
          684,
          335,
          null,
          206,
          null,
          null,
          null,
          null,
          null,
          56,
          65,
          null,
          126,
          null,
          null,
          120,
          null,
          50,
          null,
          206,
          120,
          826,
          7000,
          null,
          650,
          326,
          48,
          null,
          null,
          null,
          null,
          null,
          null,
          81,
          null,
          null,
          null,
          202,
          508,
          null,
          null,
          null,
          null,
          null,
          403,
          null,
          800,
          288,
          1046,
          null,
          null,
          null,
          null,
          null,
          null,
          null,
          null,
          null,
          120,
          null,
          null,
          null,
          null,
          null,
          null,
          null,
          null,
          880,
          null,
          null,
          null,
          null,
          null,
          90,
          null,
          null,
          null,
          null,
          null,
          null,
          null,
          null,
          null,
          null,
          null,
          null,
          null,
          null,
          null,
          null,
          null,
          null,
          752,
          null,
          null,
          null,
          null,
          null,
          null,
          null,
          null,
          null,
          753,
          null,
          null,
          null,
          null,
          null,
          null,
          38,
          null,
          null,
          null,
          45,
          null,
          127,
          null,
          null,
          null,
          null,
          null,
          null,
          null,
          null,
          null,
          null,
          null,
          null,
          null,
          null,
          null,
          null,
          null,
          null,
          null,
          null,
          null,
          null,
          null,
          null,
          null,
          127,
          null,
          null,
          null,
          150,
          null,
          188,
          820,
          1500,
          595,
          104,
          null,
          980,
          null,
          109,
          null,
          540,
          519,
          166,
          166,
          328,
          196,
          null,
          676,
          359,
          null,
          200,
          null,
          676,
          133,
          234,
          595,
          258,
          455,
          null,
          160,
          676,
          null,
          126,
          285,
          823,
          154,
          291,
          90,
          null,
          800,
          180,
          null,
          299,
          null,
          680,
          null,
          null,
          646,
          185,
          359,
          null,
          1005,
          null,
          150,
          728,
          485,
          823,
          719,
          null,
          283,
          283,
          566,
          876,
          947,
          374,
          875,
          680,
          468,
          265,
          401,
          209,
          566,
          264,
          243,
          209,
          261,
          null,
          135,
          416,
          null,
          58,
          612,
          265,
          280,
          74,
          null,
          94,
          353,
          null,
          823,
          213,
          null,
          876,
          589,
          null,
          null,
          null,
          null,
          120,
          null,
          null,
          2300,
          null,
          null,
          450,
          null,
          null,
          736,
          null,
          null,
          null,
          null,
          null,
          null,
          null,
          null,
          925,
          958,
          340,
          454,
          925,
          null,
          717,
          670,
          1334,
          null,
          null,
          null,
          null,
          null,
          null,
          null,
          null,
          null,
          null,
          null,
          null,
          null,
          null,
          null,
          980,
          null,
          null,
          null,
          null,
          null,
          null,
          null,
          null,
          null,
          null,
          null,
          null,
          null,
          721,
          null,
          null,
          null,
          null,
          null,
          null,
          null,
          null,
          454,
          null,
          null,
          null,
          null,
          null,
          958,
          null,
          null,
          null,
          null,
          null,
          null,
          null,
          null,
          null,
          null,
          null,
          null,
          null,
          null,
          null,
          null,
          null,
          null,
          null,
          null,
          null,
          null,
          null,
          200,
          180,
          234,
          260,
          261,
          520,
          513,
          200,
          196,
          152,
          810,
          261,
          520,
          196,
          209,
          190,
          215,
          null,
          153,
          180,
          492,
          188,
          810,
          198,
          948,
          198,
          810,
          400,
          76,
          null,
          382,
          null,
          null,
          261,
          209,
          931,
          427,
          25,
          null,
          685,
          1026,
          190,
          32,
          39,
          168,
          470,
          271,
          424,
          53,
          199,
          180,
          null,
          null,
          204,
          441,
          100,
          909,
          738,
          null,
          259,
          null,
          null,
          null,
          null,
          79,
          810,
          20,
          null,
          null,
          180,
          72,
          null,
          null,
          270,
          324,
          269,
          423,
          209,
          287,
          520,
          925,
          77,
          126,
          549,
          192,
          null,
          null,
          1663,
          null,
          null,
          null,
          null,
          null,
          null,
          null,
          null,
          null,
          null,
          null,
          null,
          null,
          null,
          15,
          null,
          15,
          null,
          null,
          null,
          null,
          200,
          null,
          null,
          15,
          null,
          null,
          null,
          null,
          null,
          200,
          null,
          null,
          null,
          null,
          144,
          null,
          15,
          null,
          null,
          null,
          null,
          null,
          730,
          null,
          null,
          1050,
          null,
          null,
          null,
          null,
          null,
          null,
          550,
          1751,
          null,
          null,
          null,
          null,
          146,
          null,
          null,
          200,
          null,
          null,
          null,
          null,
          null,
          null,
          null,
          null,
          null,
          null,
          null,
          null,
          null,
          null,
          null,
          null,
          null,
          null,
          null,
          925,
          null,
          null,
          null,
          null,
          null,
          null,
          null,
          null,
          null,
          null,
          null,
          null,
          null,
          null,
          null,
          155,
          null,
          240,
          null,
          126,
          150,
          291,
          null,
          98,
          218,
          427,
          null,
          272,
          null,
          265,
          234,
          141,
          136,
          232,
          null,
          null,
          760,
          180,
          75,
          76,
          null,
          49,
          48,
          71,
          427,
          null,
          196,
          900,
          180,
          202,
          60,
          152,
          null,
          null,
          93,
          71,
          105,
          256,
          247,
          365,
          242,
          null,
          71,
          97,
          876,
          71,
          920,
          126,
          700,
          660,
          null,
          180,
          810,
          null,
          649,
          null,
          121,
          460,
          187,
          948,
          null,
          null,
          null,
          519,
          null,
          676,
          900,
          980,
          722,
          214,
          73,
          230,
          720,
          190,
          73,
          74,
          124,
          73,
          720,
          73,
          200,
          null,
          null,
          73,
          null,
          73,
          180,
          22,
          null,
          null,
          null,
          null,
          null,
          null,
          null,
          null,
          null,
          null,
          null,
          null,
          null,
          null,
          126,
          null,
          null,
          null,
          null,
          null,
          120,
          null,
          null,
          639,
          null,
          null,
          144,
          null,
          null,
          null,
          null,
          1750,
          null,
          null,
          null,
          null,
          null,
          360,
          200,
          144,
          null,
          null,
          null,
          null,
          null,
          null,
          null,
          null,
          null,
          null,
          null,
          null,
          null,
          null,
          null,
          null,
          880,
          null,
          null,
          null,
          null,
          null,
          null,
          null,
          null,
          null,
          null,
          null,
          null,
          null,
          null,
          735,
          300,
          null,
          290,
          302,
          null,
          139,
          null,
          null,
          672,
          135,
          925,
          null,
          null,
          null,
          null,
          null,
          352,
          null,
          null,
          352,
          180,
          213,
          null,
          null,
          200,
          null,
          133,
          487,
          281,
          null,
          829,
          1010,
          125,
          303,
          null,
          276,
          null,
          null,
          474,
          null,
          450,
          144,
          null,
          468,
          594,
          null,
          null,
          null,
          null,
          376,
          null,
          225,
          418,
          588,
          null,
          null,
          null,
          880,
          568,
          605,
          150,
          null,
          90,
          58,
          35,
          200,
          null,
          null,
          370,
          264,
          null,
          null,
          190,
          128,
          null,
          533,
          30,
          415,
          285,
          800,
          285,
          294,
          62,
          370,
          260,
          null,
          72,
          null,
          323,
          500,
          null,
          null,
          null,
          null,
          null,
          340,
          null,
          null,
          500,
          null,
          null,
          null,
          null,
          null,
          null,
          null,
          null,
          null,
          null,
          null,
          null,
          null,
          null,
          null,
          null,
          null,
          null,
          null,
          null,
          null,
          null,
          null,
          null,
          null,
          null,
          null,
          null,
          null,
          null,
          800,
          925,
          null,
          474,
          null,
          312,
          318,
          200,
          640,
          null,
          null,
          770,
          null,
          375,
          171,
          null,
          290,
          435,
          null,
          640,
          null,
          640,
          488,
          71,
          240,
          261,
          72,
          171,
          250,
          611,
          238,
          null,
          194,
          null,
          153,
          null,
          1078,
          null,
          190,
          250,
          156,
          409,
          null,
          209,
          271,
          374,
          null,
          null,
          null,
          null,
          196,
          null,
          null,
          474,
          null,
          null,
          420,
          null,
          null,
          73,
          null,
          null,
          45,
          null,
          1000,
          120,
          null,
          430,
          733,
          120,
          null,
          400,
          153,
          null,
          null,
          164,
          200,
          189,
          null,
          null,
          209,
          null,
          null,
          179,
          60,
          290,
          45,
          null,
          257,
          null,
          null,
          null,
          null,
          null,
          null,
          null,
          null,
          null,
          null,
          null,
          null,
          null,
          null,
          null,
          null,
          null,
          null,
          null,
          null,
          null,
          null,
          null,
          null,
          1004,
          null,
          null,
          null,
          null,
          null,
          null,
          null,
          null,
          null,
          null,
          null,
          null,
          null,
          null,
          null,
          null,
          null,
          null,
          null,
          null,
          null,
          null,
          null,
          78,
          null,
          null,
          null,
          null,
          null,
          null,
          null,
          null,
          null,
          null,
          null,
          null,
          null,
          null,
          null,
          null,
          null,
          null,
          null,
          null,
          null,
          null,
          null,
          null,
          null,
          null,
          null,
          null,
          null,
          null,
          null,
          null,
          null,
          null,
          null,
          null,
          null,
          null,
          null,
          null,
          null,
          null,
          null,
          150,
          null,
          null,
          null,
          null,
          null,
          null,
          97,
          200,
          null,
          716,
          73,
          null,
          476,
          null,
          null,
          null,
          null,
          127,
          null,
          144,
          null,
          null,
          295,
          689,
          193,
          null,
          188,
          544,
          null,
          57,
          null,
          61,
          73,
          500,
          193,
          127,
          453,
          null,
          null,
          226,
          73,
          null,
          null,
          null,
          null,
          null,
          73,
          73,
          250,
          90,
          126,
          null,
          null,
          300,
          125,
          null,
          103,
          null,
          677,
          103,
          73,
          null,
          null,
          null,
          677,
          null,
          null,
          null,
          130,
          null,
          73,
          97,
          25,
          null,
          156,
          null,
          200,
          null,
          null,
          599,
          null,
          null,
          193,
          93,
          null,
          null,
          90,
          null,
          null,
          null,
          null,
          685,
          1078,
          73,
          876,
          null,
          22,
          480,
          126,
          84,
          82,
          210,
          null,
          null,
          null,
          null,
          null,
          null,
          null,
          null,
          null,
          null,
          null,
          null,
          null,
          753,
          null,
          null,
          120,
          125,
          753,
          null,
          null,
          null,
          null,
          null,
          null,
          null,
          753,
          null,
          null,
          null,
          null,
          470,
          null,
          null,
          null,
          null,
          null,
          null,
          null,
          null,
          null,
          null,
          null,
          null,
          null,
          330,
          null,
          null,
          660,
          null,
          null,
          null,
          null,
          null,
          null,
          null,
          200,
          null,
          null,
          null,
          null,
          null,
          958,
          null,
          null,
          null,
          null,
          null,
          null,
          72,
          null,
          null,
          null,
          null,
          null,
          null,
          null,
          null,
          null,
          null,
          null,
          null,
          null,
          null,
          null,
          null,
          null,
          null,
          null,
          null,
          null,
          274,
          925,
          null,
          null,
          null,
          820,
          231,
          null,
          null,
          474,
          108,
          267,
          null,
          1500,
          500,
          400,
          525,
          null,
          395,
          188,
          246,
          null,
          595,
          300,
          520,
          82,
          909,
          659,
          117,
          238,
          39,
          336,
          null,
          235,
          395,
          330,
          252,
          134,
          319,
          null,
          108,
          180,
          null,
          null,
          180,
          323,
          null,
          550,
          150,
          149,
          71,
          325,
          455,
          150,
          735,
          290,
          148,
          null,
          319,
          null,
          null,
          378,
          45,
          null,
          252,
          272,
          1200,
          128,
          368,
          82,
          235,
          842,
          258,
          null,
          null,
          null,
          1078,
          725,
          281,
          1078,
          371,
          395,
          843,
          400,
          374,
          650,
          595,
          1375,
          80,
          602,
          42,
          228,
          537,
          null,
          null,
          null,
          925,
          null,
          null,
          null,
          null,
          null,
          null,
          null,
          null,
          null,
          null,
          null,
          null,
          null,
          null,
          null,
          null,
          null,
          126,
          null,
          630,
          null,
          null,
          1004,
          null,
          225,
          null,
          null,
          null,
          null,
          330,
          null,
          120,
          null,
          null,
          null,
          null,
          null,
          null,
          null,
          null,
          126,
          null,
          null,
          null,
          null,
          200,
          null,
          null,
          null,
          144,
          null,
          null,
          null,
          null,
          383,
          null,
          null,
          null,
          null,
          null,
          null,
          null,
          null,
          null,
          null,
          null,
          null,
          330,
          null,
          null,
          800,
          null,
          null,
          1000,
          null,
          null,
          null,
          null,
          null,
          445,
          null,
          null,
          458,
          500,
          null,
          null,
          null,
          750,
          null,
          null,
          399,
          153,
          70,
          300,
          325,
          209,
          166,
          null,
          250,
          null,
          508,
          150,
          300,
          null,
          null,
          127,
          209,
          null,
          172,
          210,
          487,
          208,
          400,
          209,
          209,
          null,
          550,
          209,
          null,
          210,
          null,
          275,
          127,
          550,
          595,
          5000,
          null,
          677,
          null,
          112,
          null,
          null,
          518,
          null,
          null,
          400,
          760,
          null,
          null,
          176,
          99,
          688,
          null,
          424,
          200,
          null,
          958,
          null,
          null,
          299,
          209,
          47,
          null,
          70,
          82,
          null,
          null,
          null,
          209,
          234,
          null,
          null,
          null,
          870,
          null,
          null,
          166,
          861,
          121,
          null,
          372,
          null,
          null,
          null,
          600,
          400,
          null,
          876,
          null,
          null,
          null,
          null,
          null,
          null,
          null,
          null,
          null,
          null,
          null,
          null,
          200,
          null,
          null,
          null,
          null,
          null,
          null,
          null,
          null,
          null,
          null,
          50,
          null,
          null,
          null,
          null,
          null,
          null,
          null,
          150,
          null,
          383,
          236,
          100,
          330,
          null,
          null,
          null,
          null,
          null,
          null,
          null,
          null,
          null,
          null,
          null,
          null,
          null,
          null,
          null,
          null,
          850,
          null,
          null,
          null,
          1382,
          271,
          56,
          350,
          153,
          198,
          210,
          380,
          581,
          null,
          88,
          300,
          511,
          null,
          366,
          135,
          358,
          96,
          97,
          78,
          null,
          162,
          581,
          285,
          null,
          null,
          null,
          20,
          null,
          1034,
          620,
          925,
          194,
          735,
          null,
          150,
          null,
          null,
          null,
          null,
          640,
          null,
          null,
          null,
          null,
          370,
          null,
          65,
          null,
          300,
          720,
          null,
          149,
          null,
          98,
          null,
          null,
          257,
          500,
          null,
          150,
          218,
          null,
          null,
          null,
          null,
          204,
          105,
          143,
          716,
          null,
          null,
          null,
          316,
          null,
          672,
          null,
          105,
          235,
          40,
          180,
          121,
          73,
          1200,
          197,
          106,
          null,
          121,
          null,
          200,
          378,
          null,
          753,
          77,
          null,
          null,
          null,
          null,
          null,
          850,
          null,
          null,
          null,
          null,
          null,
          150,
          150,
          null,
          null,
          null,
          null,
          192,
          null,
          null,
          null,
          null,
          null,
          null,
          null,
          null,
          null,
          null,
          null,
          null,
          null,
          null,
          null,
          null,
          null,
          null,
          null,
          null,
          810,
          null,
          null,
          null,
          null,
          null,
          null,
          null,
          null,
          null,
          null,
          null,
          null,
          200,
          null,
          null,
          null,
          null,
          null,
          3,
          null,
          500,
          null,
          717,
          null,
          null,
          null,
          null,
          null,
          null,
          null,
          null,
          120,
          null,
          null,
          null,
          null,
          null,
          null,
          null,
          null,
          null,
          null,
          null,
          null,
          null,
          200,
          null,
          null,
          null,
          null,
          null,
          null,
          null,
          null,
          null,
          null,
          null,
          null,
          144,
          106,
          null,
          null,
          165,
          null,
          394,
          null,
          144,
          719,
          21,
          null,
          null,
          85,
          105,
          null,
          301,
          1000,
          null,
          915,
          null,
          null,
          155,
          250,
          234,
          25,
          1000,
          198,
          363,
          182,
          null,
          80,
          97,
          234,
          null,
          258,
          680,
          120,
          null,
          21,
          655,
          400,
          null,
          752,
          170,
          1116,
          null,
          50,
          null,
          864,
          null,
          null,
          39,
          null,
          64,
          54,
          99,
          738,
          152,
          925,
          486,
          654,
          492,
          687,
          474,
          408,
          165,
          240,
          null,
          164,
          null,
          800,
          null,
          null,
          null,
          885,
          null,
          120,
          170,
          1070,
          198,
          625,
          null,
          null,
          680,
          1100,
          70,
          568,
          null,
          57,
          1000,
          1000,
          null,
          null,
          null,
          null,
          null,
          null,
          null,
          null,
          null,
          null,
          null,
          null,
          null,
          null,
          400,
          230,
          null,
          null,
          null,
          null,
          null,
          null,
          null,
          null,
          767,
          null,
          null,
          null,
          null,
          null,
          null,
          null,
          null,
          null,
          null,
          null,
          null,
          null,
          null,
          null,
          null,
          1000,
          null,
          null,
          null,
          null,
          null,
          null,
          null,
          null,
          null,
          null,
          null,
          null,
          75,
          185,
          null,
          null,
          626,
          null,
          null,
          null,
          null,
          null,
          821,
          661,
          1360,
          1000,
          null,
          null,
          null,
          null,
          245,
          470,
          null,
          821,
          700,
          750,
          530,
          675,
          875,
          661,
          null,
          600,
          650,
          611,
          null,
          800,
          null,
          530,
          null,
          312,
          null,
          120,
          111,
          1092,
          486,
          null,
          null,
          661,
          39,
          105,
          353,
          360,
          285,
          null,
          180,
          290,
          null,
          null,
          null,
          126,
          290,
          290,
          230,
          290,
          170,
          840,
          null,
          null,
          null,
          422,
          200,
          555,
          null,
          null,
          716,
          152,
          432,
          null,
          null,
          575,
          null,
          127,
          54,
          200,
          84,
          160,
          398,
          743,
          879,
          null,
          216,
          620,
          null,
          null,
          204,
          159,
          823,
          823,
          335,
          null,
          194,
          400,
          290,
          45,
          720,
          352,
          536,
          null,
          144,
          null,
          null,
          135,
          636,
          null,
          91,
          null,
          400,
          null,
          189,
          400,
          135,
          574,
          null,
          null,
          146,
          278,
          null,
          null,
          null,
          null,
          null,
          null,
          null,
          null,
          null,
          null,
          null,
          null,
          null,
          null,
          null,
          null,
          931,
          null,
          null,
          null,
          null,
          null,
          null,
          null,
          null,
          null,
          null,
          1004,
          null,
          null,
          null,
          null,
          null,
          null,
          null,
          null,
          null,
          null,
          1000,
          null,
          null,
          null,
          null,
          null,
          600,
          500,
          null,
          null,
          null,
          null,
          58,
          null,
          null,
          null,
          null,
          null,
          130,
          null,
          null,
          null,
          null,
          null,
          null,
          null,
          null,
          null,
          null,
          null,
          null,
          null,
          null,
          null,
          330,
          null,
          null,
          72,
          281,
          null,
          null,
          null,
          null,
          188,
          null,
          120,
          110,
          null,
          611,
          null,
          260,
          210,
          null,
          271,
          null,
          297,
          null,
          687,
          73,
          null,
          80,
          null,
          null,
          null,
          null,
          190,
          780,
          155,
          438,
          null,
          200,
          null,
          null,
          408,
          null,
          null,
          60,
          153,
          585,
          210,
          52,
          null,
          null,
          165,
          206,
          206,
          null,
          null,
          206,
          null,
          810,
          54,
          247,
          508,
          90,
          76,
          271,
          108,
          120,
          null,
          144,
          225,
          null,
          533,
          155,
          376,
          52,
          250,
          210,
          null,
          560,
          925,
          422,
          60,
          71,
          null,
          200,
          null,
          205,
          36,
          281,
          172,
          null,
          207,
          null,
          300,
          75,
          200,
          null,
          null,
          null,
          null,
          null,
          null,
          null,
          null,
          null,
          null,
          null,
          9,
          null,
          null,
          null,
          null,
          null,
          null,
          null,
          null,
          null,
          null,
          null,
          null,
          233,
          null,
          null,
          null,
          null,
          null,
          null,
          null,
          850,
          null,
          null,
          null,
          850,
          null,
          null,
          null,
          null,
          null,
          null,
          null,
          null,
          null,
          160,
          null,
          750,
          null,
          null,
          null,
          null,
          null,
          1100,
          null,
          null,
          null,
          null,
          225,
          null,
          null,
          144,
          null,
          null,
          850,
          null,
          null,
          null,
          null,
          null,
          null,
          null,
          850,
          1000,
          330,
          null,
          null,
          null,
          null,
          null,
          null,
          null,
          null,
          50,
          null,
          null,
          120,
          null,
          200,
          null,
          null,
          97,
          null,
          216,
          null,
          null,
          785,
          235,
          null,
          null,
          null,
          null,
          97,
          null,
          null,
          null,
          438,
          53,
          172,
          null,
          555,
          null,
          261,
          null,
          null,
          925,
          754,
          null,
          717,
          117,
          null,
          null,
          717,
          110,
          126,
          126,
          266,
          250,
          925,
          null,
          432,
          25,
          null,
          null,
          null,
          215,
          25,
          null,
          25,
          null,
          880,
          null,
          120,
          540,
          null,
          null,
          595,
          null,
          548,
          null,
          388,
          805,
          390,
          150,
          90,
          97,
          149,
          125,
          285,
          595,
          752,
          209,
          177,
          696,
          150,
          925,
          null,
          48,
          150,
          null,
          null,
          200,
          301,
          2636,
          null,
          649,
          177,
          800,
          649,
          160,
          null,
          216,
          210,
          661,
          152,
          800,
          291,
          73,
          null,
          458,
          null,
          null,
          null,
          null,
          null,
          null,
          null,
          null,
          null,
          null,
          null,
          null,
          399,
          null,
          null,
          null,
          null,
          null,
          1000,
          null,
          516,
          null,
          null,
          null,
          100,
          700,
          null,
          null,
          null,
          null,
          null,
          null,
          null,
          null,
          null,
          null,
          null,
          767,
          4,
          null,
          null,
          null,
          null,
          700,
          525,
          null,
          null,
          null,
          null,
          925,
          767,
          753,
          null,
          400,
          null,
          400,
          null,
          null,
          958,
          null,
          400,
          null,
          null,
          null,
          958,
          null,
          958,
          null,
          null,
          null,
          null,
          null,
          null,
          940,
          null,
          null,
          16,
          492,
          171,
          214,
          25,
          99,
          20,
          81,
          null,
          null,
          null,
          24,
          144,
          59,
          223,
          170,
          63,
          39,
          20,
          59,
          587,
          null,
          842,
          845,
          21,
          53,
          875,
          25,
          null,
          27,
          63,
          39,
          947,
          925,
          1051,
          355,
          null,
          261,
          53,
          16,
          53,
          77,
          80,
          null,
          55,
          53,
          55,
          25,
          53,
          24,
          59,
          48,
          null,
          25,
          876,
          27,
          null,
          20,
          null,
          59,
          395,
          null,
          20,
          39,
          51,
          660,
          19,
          506,
          53,
          67,
          59,
          39,
          55,
          25,
          null,
          null,
          50,
          25,
          null,
          25,
          925,
          105,
          null,
          25,
          53,
          360,
          60,
          37,
          743,
          null,
          27,
          null,
          null,
          363,
          null,
          59,
          20,
          null,
          null,
          160,
          null,
          null,
          null,
          null,
          null,
          507,
          null,
          null,
          null,
          null,
          null,
          null,
          null,
          null,
          null,
          null,
          null,
          null,
          null,
          null,
          660,
          null,
          null,
          390,
          null,
          1751,
          null,
          null,
          null,
          null,
          316,
          null,
          null,
          null,
          null,
          null,
          null,
          null,
          null,
          null,
          null,
          null,
          null,
          null,
          450,
          null,
          480,
          null,
          null,
          null,
          null,
          null,
          null,
          null,
          168,
          175,
          null,
          null,
          null,
          550,
          null,
          null,
          65,
          120,
          null,
          null,
          null,
          null,
          null,
          300,
          null,
          null,
          null,
          null,
          null,
          null,
          null,
          null,
          null,
          null,
          null,
          null,
          null,
          null,
          null,
          21,
          null,
          517,
          null,
          55,
          39,
          null,
          733,
          59,
          25,
          null,
          291,
          null,
          347,
          450,
          null,
          null,
          96,
          53,
          52,
          null,
          30,
          null,
          null,
          null,
          null,
          null,
          null,
          null,
          null,
          null,
          null,
          750,
          null,
          null,
          735,
          68,
          510,
          53,
          19,
          null,
          39,
          39,
          291,
          null,
          1195
         ],
         "y0": " ",
         "yaxis": "y"
        }
       ],
       "layout": {
        "boxmode": "group",
        "legend": {
         "tracegroupgap": 0
        },
        "template": {
         "data": {
          "bar": [
           {
            "error_x": {
             "color": "#2a3f5f"
            },
            "error_y": {
             "color": "#2a3f5f"
            },
            "marker": {
             "line": {
              "color": "#E5ECF6",
              "width": 0.5
             },
             "pattern": {
              "fillmode": "overlay",
              "size": 10,
              "solidity": 0.2
             }
            },
            "type": "bar"
           }
          ],
          "barpolar": [
           {
            "marker": {
             "line": {
              "color": "#E5ECF6",
              "width": 0.5
             },
             "pattern": {
              "fillmode": "overlay",
              "size": 10,
              "solidity": 0.2
             }
            },
            "type": "barpolar"
           }
          ],
          "carpet": [
           {
            "aaxis": {
             "endlinecolor": "#2a3f5f",
             "gridcolor": "white",
             "linecolor": "white",
             "minorgridcolor": "white",
             "startlinecolor": "#2a3f5f"
            },
            "baxis": {
             "endlinecolor": "#2a3f5f",
             "gridcolor": "white",
             "linecolor": "white",
             "minorgridcolor": "white",
             "startlinecolor": "#2a3f5f"
            },
            "type": "carpet"
           }
          ],
          "choropleth": [
           {
            "colorbar": {
             "outlinewidth": 0,
             "ticks": ""
            },
            "type": "choropleth"
           }
          ],
          "contour": [
           {
            "colorbar": {
             "outlinewidth": 0,
             "ticks": ""
            },
            "colorscale": [
             [
              0,
              "#0d0887"
             ],
             [
              0.1111111111111111,
              "#46039f"
             ],
             [
              0.2222222222222222,
              "#7201a8"
             ],
             [
              0.3333333333333333,
              "#9c179e"
             ],
             [
              0.4444444444444444,
              "#bd3786"
             ],
             [
              0.5555555555555556,
              "#d8576b"
             ],
             [
              0.6666666666666666,
              "#ed7953"
             ],
             [
              0.7777777777777778,
              "#fb9f3a"
             ],
             [
              0.8888888888888888,
              "#fdca26"
             ],
             [
              1,
              "#f0f921"
             ]
            ],
            "type": "contour"
           }
          ],
          "contourcarpet": [
           {
            "colorbar": {
             "outlinewidth": 0,
             "ticks": ""
            },
            "type": "contourcarpet"
           }
          ],
          "heatmap": [
           {
            "colorbar": {
             "outlinewidth": 0,
             "ticks": ""
            },
            "colorscale": [
             [
              0,
              "#0d0887"
             ],
             [
              0.1111111111111111,
              "#46039f"
             ],
             [
              0.2222222222222222,
              "#7201a8"
             ],
             [
              0.3333333333333333,
              "#9c179e"
             ],
             [
              0.4444444444444444,
              "#bd3786"
             ],
             [
              0.5555555555555556,
              "#d8576b"
             ],
             [
              0.6666666666666666,
              "#ed7953"
             ],
             [
              0.7777777777777778,
              "#fb9f3a"
             ],
             [
              0.8888888888888888,
              "#fdca26"
             ],
             [
              1,
              "#f0f921"
             ]
            ],
            "type": "heatmap"
           }
          ],
          "heatmapgl": [
           {
            "colorbar": {
             "outlinewidth": 0,
             "ticks": ""
            },
            "colorscale": [
             [
              0,
              "#0d0887"
             ],
             [
              0.1111111111111111,
              "#46039f"
             ],
             [
              0.2222222222222222,
              "#7201a8"
             ],
             [
              0.3333333333333333,
              "#9c179e"
             ],
             [
              0.4444444444444444,
              "#bd3786"
             ],
             [
              0.5555555555555556,
              "#d8576b"
             ],
             [
              0.6666666666666666,
              "#ed7953"
             ],
             [
              0.7777777777777778,
              "#fb9f3a"
             ],
             [
              0.8888888888888888,
              "#fdca26"
             ],
             [
              1,
              "#f0f921"
             ]
            ],
            "type": "heatmapgl"
           }
          ],
          "histogram": [
           {
            "marker": {
             "pattern": {
              "fillmode": "overlay",
              "size": 10,
              "solidity": 0.2
             }
            },
            "type": "histogram"
           }
          ],
          "histogram2d": [
           {
            "colorbar": {
             "outlinewidth": 0,
             "ticks": ""
            },
            "colorscale": [
             [
              0,
              "#0d0887"
             ],
             [
              0.1111111111111111,
              "#46039f"
             ],
             [
              0.2222222222222222,
              "#7201a8"
             ],
             [
              0.3333333333333333,
              "#9c179e"
             ],
             [
              0.4444444444444444,
              "#bd3786"
             ],
             [
              0.5555555555555556,
              "#d8576b"
             ],
             [
              0.6666666666666666,
              "#ed7953"
             ],
             [
              0.7777777777777778,
              "#fb9f3a"
             ],
             [
              0.8888888888888888,
              "#fdca26"
             ],
             [
              1,
              "#f0f921"
             ]
            ],
            "type": "histogram2d"
           }
          ],
          "histogram2dcontour": [
           {
            "colorbar": {
             "outlinewidth": 0,
             "ticks": ""
            },
            "colorscale": [
             [
              0,
              "#0d0887"
             ],
             [
              0.1111111111111111,
              "#46039f"
             ],
             [
              0.2222222222222222,
              "#7201a8"
             ],
             [
              0.3333333333333333,
              "#9c179e"
             ],
             [
              0.4444444444444444,
              "#bd3786"
             ],
             [
              0.5555555555555556,
              "#d8576b"
             ],
             [
              0.6666666666666666,
              "#ed7953"
             ],
             [
              0.7777777777777778,
              "#fb9f3a"
             ],
             [
              0.8888888888888888,
              "#fdca26"
             ],
             [
              1,
              "#f0f921"
             ]
            ],
            "type": "histogram2dcontour"
           }
          ],
          "mesh3d": [
           {
            "colorbar": {
             "outlinewidth": 0,
             "ticks": ""
            },
            "type": "mesh3d"
           }
          ],
          "parcoords": [
           {
            "line": {
             "colorbar": {
              "outlinewidth": 0,
              "ticks": ""
             }
            },
            "type": "parcoords"
           }
          ],
          "pie": [
           {
            "automargin": true,
            "type": "pie"
           }
          ],
          "scatter": [
           {
            "fillpattern": {
             "fillmode": "overlay",
             "size": 10,
             "solidity": 0.2
            },
            "type": "scatter"
           }
          ],
          "scatter3d": [
           {
            "line": {
             "colorbar": {
              "outlinewidth": 0,
              "ticks": ""
             }
            },
            "marker": {
             "colorbar": {
              "outlinewidth": 0,
              "ticks": ""
             }
            },
            "type": "scatter3d"
           }
          ],
          "scattercarpet": [
           {
            "marker": {
             "colorbar": {
              "outlinewidth": 0,
              "ticks": ""
             }
            },
            "type": "scattercarpet"
           }
          ],
          "scattergeo": [
           {
            "marker": {
             "colorbar": {
              "outlinewidth": 0,
              "ticks": ""
             }
            },
            "type": "scattergeo"
           }
          ],
          "scattergl": [
           {
            "marker": {
             "colorbar": {
              "outlinewidth": 0,
              "ticks": ""
             }
            },
            "type": "scattergl"
           }
          ],
          "scattermapbox": [
           {
            "marker": {
             "colorbar": {
              "outlinewidth": 0,
              "ticks": ""
             }
            },
            "type": "scattermapbox"
           }
          ],
          "scatterpolar": [
           {
            "marker": {
             "colorbar": {
              "outlinewidth": 0,
              "ticks": ""
             }
            },
            "type": "scatterpolar"
           }
          ],
          "scatterpolargl": [
           {
            "marker": {
             "colorbar": {
              "outlinewidth": 0,
              "ticks": ""
             }
            },
            "type": "scatterpolargl"
           }
          ],
          "scatterternary": [
           {
            "marker": {
             "colorbar": {
              "outlinewidth": 0,
              "ticks": ""
             }
            },
            "type": "scatterternary"
           }
          ],
          "surface": [
           {
            "colorbar": {
             "outlinewidth": 0,
             "ticks": ""
            },
            "colorscale": [
             [
              0,
              "#0d0887"
             ],
             [
              0.1111111111111111,
              "#46039f"
             ],
             [
              0.2222222222222222,
              "#7201a8"
             ],
             [
              0.3333333333333333,
              "#9c179e"
             ],
             [
              0.4444444444444444,
              "#bd3786"
             ],
             [
              0.5555555555555556,
              "#d8576b"
             ],
             [
              0.6666666666666666,
              "#ed7953"
             ],
             [
              0.7777777777777778,
              "#fb9f3a"
             ],
             [
              0.8888888888888888,
              "#fdca26"
             ],
             [
              1,
              "#f0f921"
             ]
            ],
            "type": "surface"
           }
          ],
          "table": [
           {
            "cells": {
             "fill": {
              "color": "#EBF0F8"
             },
             "line": {
              "color": "white"
             }
            },
            "header": {
             "fill": {
              "color": "#C8D4E3"
             },
             "line": {
              "color": "white"
             }
            },
            "type": "table"
           }
          ]
         },
         "layout": {
          "annotationdefaults": {
           "arrowcolor": "#2a3f5f",
           "arrowhead": 0,
           "arrowwidth": 1
          },
          "autotypenumbers": "strict",
          "coloraxis": {
           "colorbar": {
            "outlinewidth": 0,
            "ticks": ""
           }
          },
          "colorscale": {
           "diverging": [
            [
             0,
             "#8e0152"
            ],
            [
             0.1,
             "#c51b7d"
            ],
            [
             0.2,
             "#de77ae"
            ],
            [
             0.3,
             "#f1b6da"
            ],
            [
             0.4,
             "#fde0ef"
            ],
            [
             0.5,
             "#f7f7f7"
            ],
            [
             0.6,
             "#e6f5d0"
            ],
            [
             0.7,
             "#b8e186"
            ],
            [
             0.8,
             "#7fbc41"
            ],
            [
             0.9,
             "#4d9221"
            ],
            [
             1,
             "#276419"
            ]
           ],
           "sequential": [
            [
             0,
             "#0d0887"
            ],
            [
             0.1111111111111111,
             "#46039f"
            ],
            [
             0.2222222222222222,
             "#7201a8"
            ],
            [
             0.3333333333333333,
             "#9c179e"
            ],
            [
             0.4444444444444444,
             "#bd3786"
            ],
            [
             0.5555555555555556,
             "#d8576b"
            ],
            [
             0.6666666666666666,
             "#ed7953"
            ],
            [
             0.7777777777777778,
             "#fb9f3a"
            ],
            [
             0.8888888888888888,
             "#fdca26"
            ],
            [
             1,
             "#f0f921"
            ]
           ],
           "sequentialminus": [
            [
             0,
             "#0d0887"
            ],
            [
             0.1111111111111111,
             "#46039f"
            ],
            [
             0.2222222222222222,
             "#7201a8"
            ],
            [
             0.3333333333333333,
             "#9c179e"
            ],
            [
             0.4444444444444444,
             "#bd3786"
            ],
            [
             0.5555555555555556,
             "#d8576b"
            ],
            [
             0.6666666666666666,
             "#ed7953"
            ],
            [
             0.7777777777777778,
             "#fb9f3a"
            ],
            [
             0.8888888888888888,
             "#fdca26"
            ],
            [
             1,
             "#f0f921"
            ]
           ]
          },
          "colorway": [
           "#636efa",
           "#EF553B",
           "#00cc96",
           "#ab63fa",
           "#FFA15A",
           "#19d3f3",
           "#FF6692",
           "#B6E880",
           "#FF97FF",
           "#FECB52"
          ],
          "font": {
           "color": "#2a3f5f"
          },
          "geo": {
           "bgcolor": "white",
           "lakecolor": "white",
           "landcolor": "#E5ECF6",
           "showlakes": true,
           "showland": true,
           "subunitcolor": "white"
          },
          "hoverlabel": {
           "align": "left"
          },
          "hovermode": "closest",
          "mapbox": {
           "style": "light"
          },
          "paper_bgcolor": "white",
          "plot_bgcolor": "#E5ECF6",
          "polar": {
           "angularaxis": {
            "gridcolor": "white",
            "linecolor": "white",
            "ticks": ""
           },
           "bgcolor": "#E5ECF6",
           "radialaxis": {
            "gridcolor": "white",
            "linecolor": "white",
            "ticks": ""
           }
          },
          "scene": {
           "xaxis": {
            "backgroundcolor": "#E5ECF6",
            "gridcolor": "white",
            "gridwidth": 2,
            "linecolor": "white",
            "showbackground": true,
            "ticks": "",
            "zerolinecolor": "white"
           },
           "yaxis": {
            "backgroundcolor": "#E5ECF6",
            "gridcolor": "white",
            "gridwidth": 2,
            "linecolor": "white",
            "showbackground": true,
            "ticks": "",
            "zerolinecolor": "white"
           },
           "zaxis": {
            "backgroundcolor": "#E5ECF6",
            "gridcolor": "white",
            "gridwidth": 2,
            "linecolor": "white",
            "showbackground": true,
            "ticks": "",
            "zerolinecolor": "white"
           }
          },
          "shapedefaults": {
           "line": {
            "color": "#2a3f5f"
           }
          },
          "ternary": {
           "aaxis": {
            "gridcolor": "white",
            "linecolor": "white",
            "ticks": ""
           },
           "baxis": {
            "gridcolor": "white",
            "linecolor": "white",
            "ticks": ""
           },
           "bgcolor": "#E5ECF6",
           "caxis": {
            "gridcolor": "white",
            "linecolor": "white",
            "ticks": ""
           }
          },
          "title": {
           "x": 0.05
          },
          "xaxis": {
           "automargin": true,
           "gridcolor": "white",
           "linecolor": "white",
           "ticks": "",
           "title": {
            "standoff": 15
           },
           "zerolinecolor": "white",
           "zerolinewidth": 2
          },
          "yaxis": {
           "automargin": true,
           "gridcolor": "white",
           "linecolor": "white",
           "ticks": "",
           "title": {
            "standoff": 15
           },
           "zerolinecolor": "white",
           "zerolinewidth": 2
          }
         }
        },
        "title": {
         "text": "Boxplot Luas Tanah Rumah - snip untuk zoom agar lebih jelas"
        },
        "xaxis": {
         "anchor": "y",
         "domain": [
          0,
          1
         ]
        },
        "yaxis": {
         "anchor": "x",
         "domain": [
          0,
          1
         ],
         "title": {
          "text": "Area (m²)"
         }
        }
       }
      }
     },
     "metadata": {},
     "output_type": "display_data"
    },
    {
     "data": {
      "application/vnd.plotly.v1+json": {
       "config": {
        "plotlyServerURL": "https://plot.ly"
       },
       "data": [
        {
         "domain": {
          "x": [
           0,
           1
          ],
          "y": [
           0,
           1
          ]
         },
         "hole": 0.5,
         "hovertemplate": "taman=%{label}<br>count=%{value}<extra></extra>",
         "labels": [
          "Tidak",
          "Ya"
         ],
         "legendgroup": "",
         "name": "",
         "pull": [
          0.1,
          0.1
         ],
         "showlegend": true,
         "textinfo": "label+percent",
         "textposition": "outside",
         "type": "pie",
         "values": [
          995,
          618
         ]
        }
       ],
       "layout": {
        "annotations": [
         {
          "font": {
           "size": 20
          },
          "showarrow": false,
          "text": "Garden"
         }
        ],
        "legend": {
         "tracegroupgap": 0
        },
        "piecolorway": [
         "rgb(246, 210, 169)",
         "rgb(245, 183, 142)",
         "rgb(241, 156, 124)",
         "rgb(234, 129, 113)",
         "rgb(221, 104, 108)",
         "rgb(202, 82, 104)",
         "rgb(177, 63, 100)"
        ],
        "showlegend": false,
        "template": {
         "data": {
          "bar": [
           {
            "error_x": {
             "color": "#2a3f5f"
            },
            "error_y": {
             "color": "#2a3f5f"
            },
            "marker": {
             "line": {
              "color": "#E5ECF6",
              "width": 0.5
             },
             "pattern": {
              "fillmode": "overlay",
              "size": 10,
              "solidity": 0.2
             }
            },
            "type": "bar"
           }
          ],
          "barpolar": [
           {
            "marker": {
             "line": {
              "color": "#E5ECF6",
              "width": 0.5
             },
             "pattern": {
              "fillmode": "overlay",
              "size": 10,
              "solidity": 0.2
             }
            },
            "type": "barpolar"
           }
          ],
          "carpet": [
           {
            "aaxis": {
             "endlinecolor": "#2a3f5f",
             "gridcolor": "white",
             "linecolor": "white",
             "minorgridcolor": "white",
             "startlinecolor": "#2a3f5f"
            },
            "baxis": {
             "endlinecolor": "#2a3f5f",
             "gridcolor": "white",
             "linecolor": "white",
             "minorgridcolor": "white",
             "startlinecolor": "#2a3f5f"
            },
            "type": "carpet"
           }
          ],
          "choropleth": [
           {
            "colorbar": {
             "outlinewidth": 0,
             "ticks": ""
            },
            "type": "choropleth"
           }
          ],
          "contour": [
           {
            "colorbar": {
             "outlinewidth": 0,
             "ticks": ""
            },
            "colorscale": [
             [
              0,
              "#0d0887"
             ],
             [
              0.1111111111111111,
              "#46039f"
             ],
             [
              0.2222222222222222,
              "#7201a8"
             ],
             [
              0.3333333333333333,
              "#9c179e"
             ],
             [
              0.4444444444444444,
              "#bd3786"
             ],
             [
              0.5555555555555556,
              "#d8576b"
             ],
             [
              0.6666666666666666,
              "#ed7953"
             ],
             [
              0.7777777777777778,
              "#fb9f3a"
             ],
             [
              0.8888888888888888,
              "#fdca26"
             ],
             [
              1,
              "#f0f921"
             ]
            ],
            "type": "contour"
           }
          ],
          "contourcarpet": [
           {
            "colorbar": {
             "outlinewidth": 0,
             "ticks": ""
            },
            "type": "contourcarpet"
           }
          ],
          "heatmap": [
           {
            "colorbar": {
             "outlinewidth": 0,
             "ticks": ""
            },
            "colorscale": [
             [
              0,
              "#0d0887"
             ],
             [
              0.1111111111111111,
              "#46039f"
             ],
             [
              0.2222222222222222,
              "#7201a8"
             ],
             [
              0.3333333333333333,
              "#9c179e"
             ],
             [
              0.4444444444444444,
              "#bd3786"
             ],
             [
              0.5555555555555556,
              "#d8576b"
             ],
             [
              0.6666666666666666,
              "#ed7953"
             ],
             [
              0.7777777777777778,
              "#fb9f3a"
             ],
             [
              0.8888888888888888,
              "#fdca26"
             ],
             [
              1,
              "#f0f921"
             ]
            ],
            "type": "heatmap"
           }
          ],
          "heatmapgl": [
           {
            "colorbar": {
             "outlinewidth": 0,
             "ticks": ""
            },
            "colorscale": [
             [
              0,
              "#0d0887"
             ],
             [
              0.1111111111111111,
              "#46039f"
             ],
             [
              0.2222222222222222,
              "#7201a8"
             ],
             [
              0.3333333333333333,
              "#9c179e"
             ],
             [
              0.4444444444444444,
              "#bd3786"
             ],
             [
              0.5555555555555556,
              "#d8576b"
             ],
             [
              0.6666666666666666,
              "#ed7953"
             ],
             [
              0.7777777777777778,
              "#fb9f3a"
             ],
             [
              0.8888888888888888,
              "#fdca26"
             ],
             [
              1,
              "#f0f921"
             ]
            ],
            "type": "heatmapgl"
           }
          ],
          "histogram": [
           {
            "marker": {
             "pattern": {
              "fillmode": "overlay",
              "size": 10,
              "solidity": 0.2
             }
            },
            "type": "histogram"
           }
          ],
          "histogram2d": [
           {
            "colorbar": {
             "outlinewidth": 0,
             "ticks": ""
            },
            "colorscale": [
             [
              0,
              "#0d0887"
             ],
             [
              0.1111111111111111,
              "#46039f"
             ],
             [
              0.2222222222222222,
              "#7201a8"
             ],
             [
              0.3333333333333333,
              "#9c179e"
             ],
             [
              0.4444444444444444,
              "#bd3786"
             ],
             [
              0.5555555555555556,
              "#d8576b"
             ],
             [
              0.6666666666666666,
              "#ed7953"
             ],
             [
              0.7777777777777778,
              "#fb9f3a"
             ],
             [
              0.8888888888888888,
              "#fdca26"
             ],
             [
              1,
              "#f0f921"
             ]
            ],
            "type": "histogram2d"
           }
          ],
          "histogram2dcontour": [
           {
            "colorbar": {
             "outlinewidth": 0,
             "ticks": ""
            },
            "colorscale": [
             [
              0,
              "#0d0887"
             ],
             [
              0.1111111111111111,
              "#46039f"
             ],
             [
              0.2222222222222222,
              "#7201a8"
             ],
             [
              0.3333333333333333,
              "#9c179e"
             ],
             [
              0.4444444444444444,
              "#bd3786"
             ],
             [
              0.5555555555555556,
              "#d8576b"
             ],
             [
              0.6666666666666666,
              "#ed7953"
             ],
             [
              0.7777777777777778,
              "#fb9f3a"
             ],
             [
              0.8888888888888888,
              "#fdca26"
             ],
             [
              1,
              "#f0f921"
             ]
            ],
            "type": "histogram2dcontour"
           }
          ],
          "mesh3d": [
           {
            "colorbar": {
             "outlinewidth": 0,
             "ticks": ""
            },
            "type": "mesh3d"
           }
          ],
          "parcoords": [
           {
            "line": {
             "colorbar": {
              "outlinewidth": 0,
              "ticks": ""
             }
            },
            "type": "parcoords"
           }
          ],
          "pie": [
           {
            "automargin": true,
            "type": "pie"
           }
          ],
          "scatter": [
           {
            "fillpattern": {
             "fillmode": "overlay",
             "size": 10,
             "solidity": 0.2
            },
            "type": "scatter"
           }
          ],
          "scatter3d": [
           {
            "line": {
             "colorbar": {
              "outlinewidth": 0,
              "ticks": ""
             }
            },
            "marker": {
             "colorbar": {
              "outlinewidth": 0,
              "ticks": ""
             }
            },
            "type": "scatter3d"
           }
          ],
          "scattercarpet": [
           {
            "marker": {
             "colorbar": {
              "outlinewidth": 0,
              "ticks": ""
             }
            },
            "type": "scattercarpet"
           }
          ],
          "scattergeo": [
           {
            "marker": {
             "colorbar": {
              "outlinewidth": 0,
              "ticks": ""
             }
            },
            "type": "scattergeo"
           }
          ],
          "scattergl": [
           {
            "marker": {
             "colorbar": {
              "outlinewidth": 0,
              "ticks": ""
             }
            },
            "type": "scattergl"
           }
          ],
          "scattermapbox": [
           {
            "marker": {
             "colorbar": {
              "outlinewidth": 0,
              "ticks": ""
             }
            },
            "type": "scattermapbox"
           }
          ],
          "scatterpolar": [
           {
            "marker": {
             "colorbar": {
              "outlinewidth": 0,
              "ticks": ""
             }
            },
            "type": "scatterpolar"
           }
          ],
          "scatterpolargl": [
           {
            "marker": {
             "colorbar": {
              "outlinewidth": 0,
              "ticks": ""
             }
            },
            "type": "scatterpolargl"
           }
          ],
          "scatterternary": [
           {
            "marker": {
             "colorbar": {
              "outlinewidth": 0,
              "ticks": ""
             }
            },
            "type": "scatterternary"
           }
          ],
          "surface": [
           {
            "colorbar": {
             "outlinewidth": 0,
             "ticks": ""
            },
            "colorscale": [
             [
              0,
              "#0d0887"
             ],
             [
              0.1111111111111111,
              "#46039f"
             ],
             [
              0.2222222222222222,
              "#7201a8"
             ],
             [
              0.3333333333333333,
              "#9c179e"
             ],
             [
              0.4444444444444444,
              "#bd3786"
             ],
             [
              0.5555555555555556,
              "#d8576b"
             ],
             [
              0.6666666666666666,
              "#ed7953"
             ],
             [
              0.7777777777777778,
              "#fb9f3a"
             ],
             [
              0.8888888888888888,
              "#fdca26"
             ],
             [
              1,
              "#f0f921"
             ]
            ],
            "type": "surface"
           }
          ],
          "table": [
           {
            "cells": {
             "fill": {
              "color": "#EBF0F8"
             },
             "line": {
              "color": "white"
             }
            },
            "header": {
             "fill": {
              "color": "#C8D4E3"
             },
             "line": {
              "color": "white"
             }
            },
            "type": "table"
           }
          ]
         },
         "layout": {
          "annotationdefaults": {
           "arrowcolor": "#2a3f5f",
           "arrowhead": 0,
           "arrowwidth": 1
          },
          "autotypenumbers": "strict",
          "coloraxis": {
           "colorbar": {
            "outlinewidth": 0,
            "ticks": ""
           }
          },
          "colorscale": {
           "diverging": [
            [
             0,
             "#8e0152"
            ],
            [
             0.1,
             "#c51b7d"
            ],
            [
             0.2,
             "#de77ae"
            ],
            [
             0.3,
             "#f1b6da"
            ],
            [
             0.4,
             "#fde0ef"
            ],
            [
             0.5,
             "#f7f7f7"
            ],
            [
             0.6,
             "#e6f5d0"
            ],
            [
             0.7,
             "#b8e186"
            ],
            [
             0.8,
             "#7fbc41"
            ],
            [
             0.9,
             "#4d9221"
            ],
            [
             1,
             "#276419"
            ]
           ],
           "sequential": [
            [
             0,
             "#0d0887"
            ],
            [
             0.1111111111111111,
             "#46039f"
            ],
            [
             0.2222222222222222,
             "#7201a8"
            ],
            [
             0.3333333333333333,
             "#9c179e"
            ],
            [
             0.4444444444444444,
             "#bd3786"
            ],
            [
             0.5555555555555556,
             "#d8576b"
            ],
            [
             0.6666666666666666,
             "#ed7953"
            ],
            [
             0.7777777777777778,
             "#fb9f3a"
            ],
            [
             0.8888888888888888,
             "#fdca26"
            ],
            [
             1,
             "#f0f921"
            ]
           ],
           "sequentialminus": [
            [
             0,
             "#0d0887"
            ],
            [
             0.1111111111111111,
             "#46039f"
            ],
            [
             0.2222222222222222,
             "#7201a8"
            ],
            [
             0.3333333333333333,
             "#9c179e"
            ],
            [
             0.4444444444444444,
             "#bd3786"
            ],
            [
             0.5555555555555556,
             "#d8576b"
            ],
            [
             0.6666666666666666,
             "#ed7953"
            ],
            [
             0.7777777777777778,
             "#fb9f3a"
            ],
            [
             0.8888888888888888,
             "#fdca26"
            ],
            [
             1,
             "#f0f921"
            ]
           ]
          },
          "colorway": [
           "#636efa",
           "#EF553B",
           "#00cc96",
           "#ab63fa",
           "#FFA15A",
           "#19d3f3",
           "#FF6692",
           "#B6E880",
           "#FF97FF",
           "#FECB52"
          ],
          "font": {
           "color": "#2a3f5f"
          },
          "geo": {
           "bgcolor": "white",
           "lakecolor": "white",
           "landcolor": "#E5ECF6",
           "showlakes": true,
           "showland": true,
           "subunitcolor": "white"
          },
          "hoverlabel": {
           "align": "left"
          },
          "hovermode": "closest",
          "mapbox": {
           "style": "light"
          },
          "paper_bgcolor": "white",
          "plot_bgcolor": "#E5ECF6",
          "polar": {
           "angularaxis": {
            "gridcolor": "white",
            "linecolor": "white",
            "ticks": ""
           },
           "bgcolor": "#E5ECF6",
           "radialaxis": {
            "gridcolor": "white",
            "linecolor": "white",
            "ticks": ""
           }
          },
          "scene": {
           "xaxis": {
            "backgroundcolor": "#E5ECF6",
            "gridcolor": "white",
            "gridwidth": 2,
            "linecolor": "white",
            "showbackground": true,
            "ticks": "",
            "zerolinecolor": "white"
           },
           "yaxis": {
            "backgroundcolor": "#E5ECF6",
            "gridcolor": "white",
            "gridwidth": 2,
            "linecolor": "white",
            "showbackground": true,
            "ticks": "",
            "zerolinecolor": "white"
           },
           "zaxis": {
            "backgroundcolor": "#E5ECF6",
            "gridcolor": "white",
            "gridwidth": 2,
            "linecolor": "white",
            "showbackground": true,
            "ticks": "",
            "zerolinecolor": "white"
           }
          },
          "shapedefaults": {
           "line": {
            "color": "#2a3f5f"
           }
          },
          "ternary": {
           "aaxis": {
            "gridcolor": "white",
            "linecolor": "white",
            "ticks": ""
           },
           "baxis": {
            "gridcolor": "white",
            "linecolor": "white",
            "ticks": ""
           },
           "bgcolor": "#E5ECF6",
           "caxis": {
            "gridcolor": "white",
            "linecolor": "white",
            "ticks": ""
           }
          },
          "title": {
           "x": 0.05
          },
          "xaxis": {
           "automargin": true,
           "gridcolor": "white",
           "linecolor": "white",
           "ticks": "",
           "title": {
            "standoff": 15
           },
           "zerolinecolor": "white",
           "zerolinewidth": 2
          },
          "yaxis": {
           "automargin": true,
           "gridcolor": "white",
           "linecolor": "white",
           "ticks": "",
           "title": {
            "standoff": 15
           },
           "zerolinecolor": "white",
           "zerolinewidth": 2
          }
         }
        },
        "title": {
         "text": "Distribusi Ketersediaan Taman di Rumah"
        }
       }
      }
     },
     "metadata": {},
     "output_type": "display_data"
    },
    {
     "data": {
      "application/vnd.plotly.v1+json": {
       "config": {
        "plotlyServerURL": "https://plot.ly"
       },
       "data": [
        {
         "alignmentgroup": "True",
         "hovertemplate": "carport=%{x}<br>Count=%{y}<extra></extra>",
         "legendgroup": "",
         "marker": {
          "color": "rgb(251,180,174)",
          "pattern": {
           "shape": ""
          }
         },
         "name": "",
         "offsetgroup": "",
         "orientation": "v",
         "showlegend": false,
         "textposition": "auto",
         "type": "bar",
         "x": [
          0,
          1,
          2,
          3,
          4,
          5,
          6,
          7,
          8,
          10,
          12,
          14,
          15,
          16,
          18,
          20
         ],
         "xaxis": "x",
         "y": [
          860,
          299,
          223,
          74,
          69,
          32,
          22,
          6,
          5,
          17,
          1,
          1,
          1,
          1,
          1,
          1
         ],
         "yaxis": "y"
        }
       ],
       "layout": {
        "barmode": "relative",
        "legend": {
         "tracegroupgap": 0
        },
        "template": {
         "data": {
          "bar": [
           {
            "error_x": {
             "color": "#2a3f5f"
            },
            "error_y": {
             "color": "#2a3f5f"
            },
            "marker": {
             "line": {
              "color": "#E5ECF6",
              "width": 0.5
             },
             "pattern": {
              "fillmode": "overlay",
              "size": 10,
              "solidity": 0.2
             }
            },
            "type": "bar"
           }
          ],
          "barpolar": [
           {
            "marker": {
             "line": {
              "color": "#E5ECF6",
              "width": 0.5
             },
             "pattern": {
              "fillmode": "overlay",
              "size": 10,
              "solidity": 0.2
             }
            },
            "type": "barpolar"
           }
          ],
          "carpet": [
           {
            "aaxis": {
             "endlinecolor": "#2a3f5f",
             "gridcolor": "white",
             "linecolor": "white",
             "minorgridcolor": "white",
             "startlinecolor": "#2a3f5f"
            },
            "baxis": {
             "endlinecolor": "#2a3f5f",
             "gridcolor": "white",
             "linecolor": "white",
             "minorgridcolor": "white",
             "startlinecolor": "#2a3f5f"
            },
            "type": "carpet"
           }
          ],
          "choropleth": [
           {
            "colorbar": {
             "outlinewidth": 0,
             "ticks": ""
            },
            "type": "choropleth"
           }
          ],
          "contour": [
           {
            "colorbar": {
             "outlinewidth": 0,
             "ticks": ""
            },
            "colorscale": [
             [
              0,
              "#0d0887"
             ],
             [
              0.1111111111111111,
              "#46039f"
             ],
             [
              0.2222222222222222,
              "#7201a8"
             ],
             [
              0.3333333333333333,
              "#9c179e"
             ],
             [
              0.4444444444444444,
              "#bd3786"
             ],
             [
              0.5555555555555556,
              "#d8576b"
             ],
             [
              0.6666666666666666,
              "#ed7953"
             ],
             [
              0.7777777777777778,
              "#fb9f3a"
             ],
             [
              0.8888888888888888,
              "#fdca26"
             ],
             [
              1,
              "#f0f921"
             ]
            ],
            "type": "contour"
           }
          ],
          "contourcarpet": [
           {
            "colorbar": {
             "outlinewidth": 0,
             "ticks": ""
            },
            "type": "contourcarpet"
           }
          ],
          "heatmap": [
           {
            "colorbar": {
             "outlinewidth": 0,
             "ticks": ""
            },
            "colorscale": [
             [
              0,
              "#0d0887"
             ],
             [
              0.1111111111111111,
              "#46039f"
             ],
             [
              0.2222222222222222,
              "#7201a8"
             ],
             [
              0.3333333333333333,
              "#9c179e"
             ],
             [
              0.4444444444444444,
              "#bd3786"
             ],
             [
              0.5555555555555556,
              "#d8576b"
             ],
             [
              0.6666666666666666,
              "#ed7953"
             ],
             [
              0.7777777777777778,
              "#fb9f3a"
             ],
             [
              0.8888888888888888,
              "#fdca26"
             ],
             [
              1,
              "#f0f921"
             ]
            ],
            "type": "heatmap"
           }
          ],
          "heatmapgl": [
           {
            "colorbar": {
             "outlinewidth": 0,
             "ticks": ""
            },
            "colorscale": [
             [
              0,
              "#0d0887"
             ],
             [
              0.1111111111111111,
              "#46039f"
             ],
             [
              0.2222222222222222,
              "#7201a8"
             ],
             [
              0.3333333333333333,
              "#9c179e"
             ],
             [
              0.4444444444444444,
              "#bd3786"
             ],
             [
              0.5555555555555556,
              "#d8576b"
             ],
             [
              0.6666666666666666,
              "#ed7953"
             ],
             [
              0.7777777777777778,
              "#fb9f3a"
             ],
             [
              0.8888888888888888,
              "#fdca26"
             ],
             [
              1,
              "#f0f921"
             ]
            ],
            "type": "heatmapgl"
           }
          ],
          "histogram": [
           {
            "marker": {
             "pattern": {
              "fillmode": "overlay",
              "size": 10,
              "solidity": 0.2
             }
            },
            "type": "histogram"
           }
          ],
          "histogram2d": [
           {
            "colorbar": {
             "outlinewidth": 0,
             "ticks": ""
            },
            "colorscale": [
             [
              0,
              "#0d0887"
             ],
             [
              0.1111111111111111,
              "#46039f"
             ],
             [
              0.2222222222222222,
              "#7201a8"
             ],
             [
              0.3333333333333333,
              "#9c179e"
             ],
             [
              0.4444444444444444,
              "#bd3786"
             ],
             [
              0.5555555555555556,
              "#d8576b"
             ],
             [
              0.6666666666666666,
              "#ed7953"
             ],
             [
              0.7777777777777778,
              "#fb9f3a"
             ],
             [
              0.8888888888888888,
              "#fdca26"
             ],
             [
              1,
              "#f0f921"
             ]
            ],
            "type": "histogram2d"
           }
          ],
          "histogram2dcontour": [
           {
            "colorbar": {
             "outlinewidth": 0,
             "ticks": ""
            },
            "colorscale": [
             [
              0,
              "#0d0887"
             ],
             [
              0.1111111111111111,
              "#46039f"
             ],
             [
              0.2222222222222222,
              "#7201a8"
             ],
             [
              0.3333333333333333,
              "#9c179e"
             ],
             [
              0.4444444444444444,
              "#bd3786"
             ],
             [
              0.5555555555555556,
              "#d8576b"
             ],
             [
              0.6666666666666666,
              "#ed7953"
             ],
             [
              0.7777777777777778,
              "#fb9f3a"
             ],
             [
              0.8888888888888888,
              "#fdca26"
             ],
             [
              1,
              "#f0f921"
             ]
            ],
            "type": "histogram2dcontour"
           }
          ],
          "mesh3d": [
           {
            "colorbar": {
             "outlinewidth": 0,
             "ticks": ""
            },
            "type": "mesh3d"
           }
          ],
          "parcoords": [
           {
            "line": {
             "colorbar": {
              "outlinewidth": 0,
              "ticks": ""
             }
            },
            "type": "parcoords"
           }
          ],
          "pie": [
           {
            "automargin": true,
            "type": "pie"
           }
          ],
          "scatter": [
           {
            "fillpattern": {
             "fillmode": "overlay",
             "size": 10,
             "solidity": 0.2
            },
            "type": "scatter"
           }
          ],
          "scatter3d": [
           {
            "line": {
             "colorbar": {
              "outlinewidth": 0,
              "ticks": ""
             }
            },
            "marker": {
             "colorbar": {
              "outlinewidth": 0,
              "ticks": ""
             }
            },
            "type": "scatter3d"
           }
          ],
          "scattercarpet": [
           {
            "marker": {
             "colorbar": {
              "outlinewidth": 0,
              "ticks": ""
             }
            },
            "type": "scattercarpet"
           }
          ],
          "scattergeo": [
           {
            "marker": {
             "colorbar": {
              "outlinewidth": 0,
              "ticks": ""
             }
            },
            "type": "scattergeo"
           }
          ],
          "scattergl": [
           {
            "marker": {
             "colorbar": {
              "outlinewidth": 0,
              "ticks": ""
             }
            },
            "type": "scattergl"
           }
          ],
          "scattermapbox": [
           {
            "marker": {
             "colorbar": {
              "outlinewidth": 0,
              "ticks": ""
             }
            },
            "type": "scattermapbox"
           }
          ],
          "scatterpolar": [
           {
            "marker": {
             "colorbar": {
              "outlinewidth": 0,
              "ticks": ""
             }
            },
            "type": "scatterpolar"
           }
          ],
          "scatterpolargl": [
           {
            "marker": {
             "colorbar": {
              "outlinewidth": 0,
              "ticks": ""
             }
            },
            "type": "scatterpolargl"
           }
          ],
          "scatterternary": [
           {
            "marker": {
             "colorbar": {
              "outlinewidth": 0,
              "ticks": ""
             }
            },
            "type": "scatterternary"
           }
          ],
          "surface": [
           {
            "colorbar": {
             "outlinewidth": 0,
             "ticks": ""
            },
            "colorscale": [
             [
              0,
              "#0d0887"
             ],
             [
              0.1111111111111111,
              "#46039f"
             ],
             [
              0.2222222222222222,
              "#7201a8"
             ],
             [
              0.3333333333333333,
              "#9c179e"
             ],
             [
              0.4444444444444444,
              "#bd3786"
             ],
             [
              0.5555555555555556,
              "#d8576b"
             ],
             [
              0.6666666666666666,
              "#ed7953"
             ],
             [
              0.7777777777777778,
              "#fb9f3a"
             ],
             [
              0.8888888888888888,
              "#fdca26"
             ],
             [
              1,
              "#f0f921"
             ]
            ],
            "type": "surface"
           }
          ],
          "table": [
           {
            "cells": {
             "fill": {
              "color": "#EBF0F8"
             },
             "line": {
              "color": "white"
             }
            },
            "header": {
             "fill": {
              "color": "#C8D4E3"
             },
             "line": {
              "color": "white"
             }
            },
            "type": "table"
           }
          ]
         },
         "layout": {
          "annotationdefaults": {
           "arrowcolor": "#2a3f5f",
           "arrowhead": 0,
           "arrowwidth": 1
          },
          "autotypenumbers": "strict",
          "coloraxis": {
           "colorbar": {
            "outlinewidth": 0,
            "ticks": ""
           }
          },
          "colorscale": {
           "diverging": [
            [
             0,
             "#8e0152"
            ],
            [
             0.1,
             "#c51b7d"
            ],
            [
             0.2,
             "#de77ae"
            ],
            [
             0.3,
             "#f1b6da"
            ],
            [
             0.4,
             "#fde0ef"
            ],
            [
             0.5,
             "#f7f7f7"
            ],
            [
             0.6,
             "#e6f5d0"
            ],
            [
             0.7,
             "#b8e186"
            ],
            [
             0.8,
             "#7fbc41"
            ],
            [
             0.9,
             "#4d9221"
            ],
            [
             1,
             "#276419"
            ]
           ],
           "sequential": [
            [
             0,
             "#0d0887"
            ],
            [
             0.1111111111111111,
             "#46039f"
            ],
            [
             0.2222222222222222,
             "#7201a8"
            ],
            [
             0.3333333333333333,
             "#9c179e"
            ],
            [
             0.4444444444444444,
             "#bd3786"
            ],
            [
             0.5555555555555556,
             "#d8576b"
            ],
            [
             0.6666666666666666,
             "#ed7953"
            ],
            [
             0.7777777777777778,
             "#fb9f3a"
            ],
            [
             0.8888888888888888,
             "#fdca26"
            ],
            [
             1,
             "#f0f921"
            ]
           ],
           "sequentialminus": [
            [
             0,
             "#0d0887"
            ],
            [
             0.1111111111111111,
             "#46039f"
            ],
            [
             0.2222222222222222,
             "#7201a8"
            ],
            [
             0.3333333333333333,
             "#9c179e"
            ],
            [
             0.4444444444444444,
             "#bd3786"
            ],
            [
             0.5555555555555556,
             "#d8576b"
            ],
            [
             0.6666666666666666,
             "#ed7953"
            ],
            [
             0.7777777777777778,
             "#fb9f3a"
            ],
            [
             0.8888888888888888,
             "#fdca26"
            ],
            [
             1,
             "#f0f921"
            ]
           ]
          },
          "colorway": [
           "#636efa",
           "#EF553B",
           "#00cc96",
           "#ab63fa",
           "#FFA15A",
           "#19d3f3",
           "#FF6692",
           "#B6E880",
           "#FF97FF",
           "#FECB52"
          ],
          "font": {
           "color": "#2a3f5f"
          },
          "geo": {
           "bgcolor": "white",
           "lakecolor": "white",
           "landcolor": "#E5ECF6",
           "showlakes": true,
           "showland": true,
           "subunitcolor": "white"
          },
          "hoverlabel": {
           "align": "left"
          },
          "hovermode": "closest",
          "mapbox": {
           "style": "light"
          },
          "paper_bgcolor": "white",
          "plot_bgcolor": "#E5ECF6",
          "polar": {
           "angularaxis": {
            "gridcolor": "white",
            "linecolor": "white",
            "ticks": ""
           },
           "bgcolor": "#E5ECF6",
           "radialaxis": {
            "gridcolor": "white",
            "linecolor": "white",
            "ticks": ""
           }
          },
          "scene": {
           "xaxis": {
            "backgroundcolor": "#E5ECF6",
            "gridcolor": "white",
            "gridwidth": 2,
            "linecolor": "white",
            "showbackground": true,
            "ticks": "",
            "zerolinecolor": "white"
           },
           "yaxis": {
            "backgroundcolor": "#E5ECF6",
            "gridcolor": "white",
            "gridwidth": 2,
            "linecolor": "white",
            "showbackground": true,
            "ticks": "",
            "zerolinecolor": "white"
           },
           "zaxis": {
            "backgroundcolor": "#E5ECF6",
            "gridcolor": "white",
            "gridwidth": 2,
            "linecolor": "white",
            "showbackground": true,
            "ticks": "",
            "zerolinecolor": "white"
           }
          },
          "shapedefaults": {
           "line": {
            "color": "#2a3f5f"
           }
          },
          "ternary": {
           "aaxis": {
            "gridcolor": "white",
            "linecolor": "white",
            "ticks": ""
           },
           "baxis": {
            "gridcolor": "white",
            "linecolor": "white",
            "ticks": ""
           },
           "bgcolor": "#E5ECF6",
           "caxis": {
            "gridcolor": "white",
            "linecolor": "white",
            "ticks": ""
           }
          },
          "title": {
           "x": 0.05
          },
          "xaxis": {
           "automargin": true,
           "gridcolor": "white",
           "linecolor": "white",
           "ticks": "",
           "title": {
            "standoff": 15
           },
           "zerolinecolor": "white",
           "zerolinewidth": 2
          },
          "yaxis": {
           "automargin": true,
           "gridcolor": "white",
           "linecolor": "white",
           "ticks": "",
           "title": {
            "standoff": 15
           },
           "zerolinecolor": "white",
           "zerolinewidth": 2
          }
         }
        },
        "title": {
         "text": "Distribusi Jumlah Carport di Rumah - snip untuk zoom agar lebih jelas"
        },
        "xaxis": {
         "anchor": "y",
         "domain": [
          0,
          1
         ],
         "title": {
          "text": "carport"
         }
        },
        "yaxis": {
         "anchor": "x",
         "domain": [
          0,
          1
         ],
         "title": {
          "text": "Count"
         }
        }
       }
      }
     },
     "metadata": {},
     "output_type": "display_data"
    },
    {
     "data": {
      "text/markdown": [
       "<div align='center'><h2>====================</h2></div>"
      ],
      "text/plain": [
       "<IPython.core.display.Markdown object>"
      ]
     },
     "metadata": {},
     "output_type": "display_data"
    },
    {
     "data": {
      "text/markdown": [
       "<div align='center'><h2>Informasi Apartemen</h2></div>"
      ],
      "text/plain": [
       "<IPython.core.display.Markdown object>"
      ]
     },
     "metadata": {},
     "output_type": "display_data"
    },
    {
     "data": {
      "application/vnd.plotly.v1+json": {
       "config": {
        "plotlyServerURL": "https://plot.ly"
       },
       "data": [
        {
         "domain": {
          "x": [
           0,
           1
          ],
          "y": [
           0,
           1
          ]
         },
         "hole": 0.5,
         "hovertemplate": "kondisi_properti=%{label}<br>count=%{value}<extra></extra>",
         "labels": [
          "Bagus",
          "Baru",
          "unknown",
          "Sudah Renovasi",
          "Butuh Renovasi"
         ],
         "legendgroup": "",
         "name": "",
         "pull": [
          0.1,
          0.1,
          0.1,
          0.1,
          0.1
         ],
         "showlegend": true,
         "textinfo": "label+percent",
         "textposition": "outside",
         "type": "pie",
         "values": [
          1452,
          351,
          258,
          125,
          3
         ]
        }
       ],
       "layout": {
        "annotations": [
         {
          "font": {
           "size": 20
          },
          "showarrow": false,
          "text": "Condition"
         }
        ],
        "legend": {
         "tracegroupgap": 0
        },
        "piecolorway": [
         "rgb(246, 210, 169)",
         "rgb(245, 183, 142)",
         "rgb(241, 156, 124)",
         "rgb(234, 129, 113)",
         "rgb(221, 104, 108)",
         "rgb(202, 82, 104)",
         "rgb(177, 63, 100)"
        ],
        "showlegend": false,
        "template": {
         "data": {
          "bar": [
           {
            "error_x": {
             "color": "#2a3f5f"
            },
            "error_y": {
             "color": "#2a3f5f"
            },
            "marker": {
             "line": {
              "color": "#E5ECF6",
              "width": 0.5
             },
             "pattern": {
              "fillmode": "overlay",
              "size": 10,
              "solidity": 0.2
             }
            },
            "type": "bar"
           }
          ],
          "barpolar": [
           {
            "marker": {
             "line": {
              "color": "#E5ECF6",
              "width": 0.5
             },
             "pattern": {
              "fillmode": "overlay",
              "size": 10,
              "solidity": 0.2
             }
            },
            "type": "barpolar"
           }
          ],
          "carpet": [
           {
            "aaxis": {
             "endlinecolor": "#2a3f5f",
             "gridcolor": "white",
             "linecolor": "white",
             "minorgridcolor": "white",
             "startlinecolor": "#2a3f5f"
            },
            "baxis": {
             "endlinecolor": "#2a3f5f",
             "gridcolor": "white",
             "linecolor": "white",
             "minorgridcolor": "white",
             "startlinecolor": "#2a3f5f"
            },
            "type": "carpet"
           }
          ],
          "choropleth": [
           {
            "colorbar": {
             "outlinewidth": 0,
             "ticks": ""
            },
            "type": "choropleth"
           }
          ],
          "contour": [
           {
            "colorbar": {
             "outlinewidth": 0,
             "ticks": ""
            },
            "colorscale": [
             [
              0,
              "#0d0887"
             ],
             [
              0.1111111111111111,
              "#46039f"
             ],
             [
              0.2222222222222222,
              "#7201a8"
             ],
             [
              0.3333333333333333,
              "#9c179e"
             ],
             [
              0.4444444444444444,
              "#bd3786"
             ],
             [
              0.5555555555555556,
              "#d8576b"
             ],
             [
              0.6666666666666666,
              "#ed7953"
             ],
             [
              0.7777777777777778,
              "#fb9f3a"
             ],
             [
              0.8888888888888888,
              "#fdca26"
             ],
             [
              1,
              "#f0f921"
             ]
            ],
            "type": "contour"
           }
          ],
          "contourcarpet": [
           {
            "colorbar": {
             "outlinewidth": 0,
             "ticks": ""
            },
            "type": "contourcarpet"
           }
          ],
          "heatmap": [
           {
            "colorbar": {
             "outlinewidth": 0,
             "ticks": ""
            },
            "colorscale": [
             [
              0,
              "#0d0887"
             ],
             [
              0.1111111111111111,
              "#46039f"
             ],
             [
              0.2222222222222222,
              "#7201a8"
             ],
             [
              0.3333333333333333,
              "#9c179e"
             ],
             [
              0.4444444444444444,
              "#bd3786"
             ],
             [
              0.5555555555555556,
              "#d8576b"
             ],
             [
              0.6666666666666666,
              "#ed7953"
             ],
             [
              0.7777777777777778,
              "#fb9f3a"
             ],
             [
              0.8888888888888888,
              "#fdca26"
             ],
             [
              1,
              "#f0f921"
             ]
            ],
            "type": "heatmap"
           }
          ],
          "heatmapgl": [
           {
            "colorbar": {
             "outlinewidth": 0,
             "ticks": ""
            },
            "colorscale": [
             [
              0,
              "#0d0887"
             ],
             [
              0.1111111111111111,
              "#46039f"
             ],
             [
              0.2222222222222222,
              "#7201a8"
             ],
             [
              0.3333333333333333,
              "#9c179e"
             ],
             [
              0.4444444444444444,
              "#bd3786"
             ],
             [
              0.5555555555555556,
              "#d8576b"
             ],
             [
              0.6666666666666666,
              "#ed7953"
             ],
             [
              0.7777777777777778,
              "#fb9f3a"
             ],
             [
              0.8888888888888888,
              "#fdca26"
             ],
             [
              1,
              "#f0f921"
             ]
            ],
            "type": "heatmapgl"
           }
          ],
          "histogram": [
           {
            "marker": {
             "pattern": {
              "fillmode": "overlay",
              "size": 10,
              "solidity": 0.2
             }
            },
            "type": "histogram"
           }
          ],
          "histogram2d": [
           {
            "colorbar": {
             "outlinewidth": 0,
             "ticks": ""
            },
            "colorscale": [
             [
              0,
              "#0d0887"
             ],
             [
              0.1111111111111111,
              "#46039f"
             ],
             [
              0.2222222222222222,
              "#7201a8"
             ],
             [
              0.3333333333333333,
              "#9c179e"
             ],
             [
              0.4444444444444444,
              "#bd3786"
             ],
             [
              0.5555555555555556,
              "#d8576b"
             ],
             [
              0.6666666666666666,
              "#ed7953"
             ],
             [
              0.7777777777777778,
              "#fb9f3a"
             ],
             [
              0.8888888888888888,
              "#fdca26"
             ],
             [
              1,
              "#f0f921"
             ]
            ],
            "type": "histogram2d"
           }
          ],
          "histogram2dcontour": [
           {
            "colorbar": {
             "outlinewidth": 0,
             "ticks": ""
            },
            "colorscale": [
             [
              0,
              "#0d0887"
             ],
             [
              0.1111111111111111,
              "#46039f"
             ],
             [
              0.2222222222222222,
              "#7201a8"
             ],
             [
              0.3333333333333333,
              "#9c179e"
             ],
             [
              0.4444444444444444,
              "#bd3786"
             ],
             [
              0.5555555555555556,
              "#d8576b"
             ],
             [
              0.6666666666666666,
              "#ed7953"
             ],
             [
              0.7777777777777778,
              "#fb9f3a"
             ],
             [
              0.8888888888888888,
              "#fdca26"
             ],
             [
              1,
              "#f0f921"
             ]
            ],
            "type": "histogram2dcontour"
           }
          ],
          "mesh3d": [
           {
            "colorbar": {
             "outlinewidth": 0,
             "ticks": ""
            },
            "type": "mesh3d"
           }
          ],
          "parcoords": [
           {
            "line": {
             "colorbar": {
              "outlinewidth": 0,
              "ticks": ""
             }
            },
            "type": "parcoords"
           }
          ],
          "pie": [
           {
            "automargin": true,
            "type": "pie"
           }
          ],
          "scatter": [
           {
            "fillpattern": {
             "fillmode": "overlay",
             "size": 10,
             "solidity": 0.2
            },
            "type": "scatter"
           }
          ],
          "scatter3d": [
           {
            "line": {
             "colorbar": {
              "outlinewidth": 0,
              "ticks": ""
             }
            },
            "marker": {
             "colorbar": {
              "outlinewidth": 0,
              "ticks": ""
             }
            },
            "type": "scatter3d"
           }
          ],
          "scattercarpet": [
           {
            "marker": {
             "colorbar": {
              "outlinewidth": 0,
              "ticks": ""
             }
            },
            "type": "scattercarpet"
           }
          ],
          "scattergeo": [
           {
            "marker": {
             "colorbar": {
              "outlinewidth": 0,
              "ticks": ""
             }
            },
            "type": "scattergeo"
           }
          ],
          "scattergl": [
           {
            "marker": {
             "colorbar": {
              "outlinewidth": 0,
              "ticks": ""
             }
            },
            "type": "scattergl"
           }
          ],
          "scattermapbox": [
           {
            "marker": {
             "colorbar": {
              "outlinewidth": 0,
              "ticks": ""
             }
            },
            "type": "scattermapbox"
           }
          ],
          "scatterpolar": [
           {
            "marker": {
             "colorbar": {
              "outlinewidth": 0,
              "ticks": ""
             }
            },
            "type": "scatterpolar"
           }
          ],
          "scatterpolargl": [
           {
            "marker": {
             "colorbar": {
              "outlinewidth": 0,
              "ticks": ""
             }
            },
            "type": "scatterpolargl"
           }
          ],
          "scatterternary": [
           {
            "marker": {
             "colorbar": {
              "outlinewidth": 0,
              "ticks": ""
             }
            },
            "type": "scatterternary"
           }
          ],
          "surface": [
           {
            "colorbar": {
             "outlinewidth": 0,
             "ticks": ""
            },
            "colorscale": [
             [
              0,
              "#0d0887"
             ],
             [
              0.1111111111111111,
              "#46039f"
             ],
             [
              0.2222222222222222,
              "#7201a8"
             ],
             [
              0.3333333333333333,
              "#9c179e"
             ],
             [
              0.4444444444444444,
              "#bd3786"
             ],
             [
              0.5555555555555556,
              "#d8576b"
             ],
             [
              0.6666666666666666,
              "#ed7953"
             ],
             [
              0.7777777777777778,
              "#fb9f3a"
             ],
             [
              0.8888888888888888,
              "#fdca26"
             ],
             [
              1,
              "#f0f921"
             ]
            ],
            "type": "surface"
           }
          ],
          "table": [
           {
            "cells": {
             "fill": {
              "color": "#EBF0F8"
             },
             "line": {
              "color": "white"
             }
            },
            "header": {
             "fill": {
              "color": "#C8D4E3"
             },
             "line": {
              "color": "white"
             }
            },
            "type": "table"
           }
          ]
         },
         "layout": {
          "annotationdefaults": {
           "arrowcolor": "#2a3f5f",
           "arrowhead": 0,
           "arrowwidth": 1
          },
          "autotypenumbers": "strict",
          "coloraxis": {
           "colorbar": {
            "outlinewidth": 0,
            "ticks": ""
           }
          },
          "colorscale": {
           "diverging": [
            [
             0,
             "#8e0152"
            ],
            [
             0.1,
             "#c51b7d"
            ],
            [
             0.2,
             "#de77ae"
            ],
            [
             0.3,
             "#f1b6da"
            ],
            [
             0.4,
             "#fde0ef"
            ],
            [
             0.5,
             "#f7f7f7"
            ],
            [
             0.6,
             "#e6f5d0"
            ],
            [
             0.7,
             "#b8e186"
            ],
            [
             0.8,
             "#7fbc41"
            ],
            [
             0.9,
             "#4d9221"
            ],
            [
             1,
             "#276419"
            ]
           ],
           "sequential": [
            [
             0,
             "#0d0887"
            ],
            [
             0.1111111111111111,
             "#46039f"
            ],
            [
             0.2222222222222222,
             "#7201a8"
            ],
            [
             0.3333333333333333,
             "#9c179e"
            ],
            [
             0.4444444444444444,
             "#bd3786"
            ],
            [
             0.5555555555555556,
             "#d8576b"
            ],
            [
             0.6666666666666666,
             "#ed7953"
            ],
            [
             0.7777777777777778,
             "#fb9f3a"
            ],
            [
             0.8888888888888888,
             "#fdca26"
            ],
            [
             1,
             "#f0f921"
            ]
           ],
           "sequentialminus": [
            [
             0,
             "#0d0887"
            ],
            [
             0.1111111111111111,
             "#46039f"
            ],
            [
             0.2222222222222222,
             "#7201a8"
            ],
            [
             0.3333333333333333,
             "#9c179e"
            ],
            [
             0.4444444444444444,
             "#bd3786"
            ],
            [
             0.5555555555555556,
             "#d8576b"
            ],
            [
             0.6666666666666666,
             "#ed7953"
            ],
            [
             0.7777777777777778,
             "#fb9f3a"
            ],
            [
             0.8888888888888888,
             "#fdca26"
            ],
            [
             1,
             "#f0f921"
            ]
           ]
          },
          "colorway": [
           "#636efa",
           "#EF553B",
           "#00cc96",
           "#ab63fa",
           "#FFA15A",
           "#19d3f3",
           "#FF6692",
           "#B6E880",
           "#FF97FF",
           "#FECB52"
          ],
          "font": {
           "color": "#2a3f5f"
          },
          "geo": {
           "bgcolor": "white",
           "lakecolor": "white",
           "landcolor": "#E5ECF6",
           "showlakes": true,
           "showland": true,
           "subunitcolor": "white"
          },
          "hoverlabel": {
           "align": "left"
          },
          "hovermode": "closest",
          "mapbox": {
           "style": "light"
          },
          "paper_bgcolor": "white",
          "plot_bgcolor": "#E5ECF6",
          "polar": {
           "angularaxis": {
            "gridcolor": "white",
            "linecolor": "white",
            "ticks": ""
           },
           "bgcolor": "#E5ECF6",
           "radialaxis": {
            "gridcolor": "white",
            "linecolor": "white",
            "ticks": ""
           }
          },
          "scene": {
           "xaxis": {
            "backgroundcolor": "#E5ECF6",
            "gridcolor": "white",
            "gridwidth": 2,
            "linecolor": "white",
            "showbackground": true,
            "ticks": "",
            "zerolinecolor": "white"
           },
           "yaxis": {
            "backgroundcolor": "#E5ECF6",
            "gridcolor": "white",
            "gridwidth": 2,
            "linecolor": "white",
            "showbackground": true,
            "ticks": "",
            "zerolinecolor": "white"
           },
           "zaxis": {
            "backgroundcolor": "#E5ECF6",
            "gridcolor": "white",
            "gridwidth": 2,
            "linecolor": "white",
            "showbackground": true,
            "ticks": "",
            "zerolinecolor": "white"
           }
          },
          "shapedefaults": {
           "line": {
            "color": "#2a3f5f"
           }
          },
          "ternary": {
           "aaxis": {
            "gridcolor": "white",
            "linecolor": "white",
            "ticks": ""
           },
           "baxis": {
            "gridcolor": "white",
            "linecolor": "white",
            "ticks": ""
           },
           "bgcolor": "#E5ECF6",
           "caxis": {
            "gridcolor": "white",
            "linecolor": "white",
            "ticks": ""
           }
          },
          "title": {
           "x": 0.05
          },
          "xaxis": {
           "automargin": true,
           "gridcolor": "white",
           "linecolor": "white",
           "ticks": "",
           "title": {
            "standoff": 15
           },
           "zerolinecolor": "white",
           "zerolinewidth": 2
          },
          "yaxis": {
           "automargin": true,
           "gridcolor": "white",
           "linecolor": "white",
           "ticks": "",
           "title": {
            "standoff": 15
           },
           "zerolinecolor": "white",
           "zerolinewidth": 2
          }
         }
        },
        "title": {
         "text": "Distribusi Kondisi Properti"
        }
       }
      }
     },
     "metadata": {},
     "output_type": "display_data"
    },
    {
     "data": {
      "application/vnd.plotly.v1+json": {
       "config": {
        "plotlyServerURL": "https://plot.ly"
       },
       "data": [
        {
         "domain": {
          "x": [
           0,
           1
          ],
          "y": [
           0,
           1
          ]
         },
         "hole": 0.5,
         "hovertemplate": "kondisi_perabotan=%{label}<br>count=%{value}<extra></extra>",
         "labels": [
          "Furnished",
          "Semi Furnished",
          "unknown",
          "Unfurnished",
          "furnished",
          "semi furnished",
          "unfurnished"
         ],
         "legendgroup": "",
         "name": "",
         "pull": [
          0.1,
          0.1,
          0.1,
          0.1,
          0.1,
          0.1,
          0.1
         ],
         "showlegend": true,
         "textinfo": "label+percent",
         "textposition": "outside",
         "type": "pie",
         "values": [
          1586,
          206,
          201,
          145,
          33,
          12,
          6
         ]
        }
       ],
       "layout": {
        "annotations": [
         {
          "font": {
           "size": 20
          },
          "showarrow": false,
          "text": "Furniture"
         }
        ],
        "legend": {
         "tracegroupgap": 0
        },
        "piecolorway": [
         "rgb(246, 210, 169)",
         "rgb(245, 183, 142)",
         "rgb(241, 156, 124)",
         "rgb(234, 129, 113)",
         "rgb(221, 104, 108)",
         "rgb(202, 82, 104)",
         "rgb(177, 63, 100)"
        ],
        "showlegend": false,
        "template": {
         "data": {
          "bar": [
           {
            "error_x": {
             "color": "#2a3f5f"
            },
            "error_y": {
             "color": "#2a3f5f"
            },
            "marker": {
             "line": {
              "color": "#E5ECF6",
              "width": 0.5
             },
             "pattern": {
              "fillmode": "overlay",
              "size": 10,
              "solidity": 0.2
             }
            },
            "type": "bar"
           }
          ],
          "barpolar": [
           {
            "marker": {
             "line": {
              "color": "#E5ECF6",
              "width": 0.5
             },
             "pattern": {
              "fillmode": "overlay",
              "size": 10,
              "solidity": 0.2
             }
            },
            "type": "barpolar"
           }
          ],
          "carpet": [
           {
            "aaxis": {
             "endlinecolor": "#2a3f5f",
             "gridcolor": "white",
             "linecolor": "white",
             "minorgridcolor": "white",
             "startlinecolor": "#2a3f5f"
            },
            "baxis": {
             "endlinecolor": "#2a3f5f",
             "gridcolor": "white",
             "linecolor": "white",
             "minorgridcolor": "white",
             "startlinecolor": "#2a3f5f"
            },
            "type": "carpet"
           }
          ],
          "choropleth": [
           {
            "colorbar": {
             "outlinewidth": 0,
             "ticks": ""
            },
            "type": "choropleth"
           }
          ],
          "contour": [
           {
            "colorbar": {
             "outlinewidth": 0,
             "ticks": ""
            },
            "colorscale": [
             [
              0,
              "#0d0887"
             ],
             [
              0.1111111111111111,
              "#46039f"
             ],
             [
              0.2222222222222222,
              "#7201a8"
             ],
             [
              0.3333333333333333,
              "#9c179e"
             ],
             [
              0.4444444444444444,
              "#bd3786"
             ],
             [
              0.5555555555555556,
              "#d8576b"
             ],
             [
              0.6666666666666666,
              "#ed7953"
             ],
             [
              0.7777777777777778,
              "#fb9f3a"
             ],
             [
              0.8888888888888888,
              "#fdca26"
             ],
             [
              1,
              "#f0f921"
             ]
            ],
            "type": "contour"
           }
          ],
          "contourcarpet": [
           {
            "colorbar": {
             "outlinewidth": 0,
             "ticks": ""
            },
            "type": "contourcarpet"
           }
          ],
          "heatmap": [
           {
            "colorbar": {
             "outlinewidth": 0,
             "ticks": ""
            },
            "colorscale": [
             [
              0,
              "#0d0887"
             ],
             [
              0.1111111111111111,
              "#46039f"
             ],
             [
              0.2222222222222222,
              "#7201a8"
             ],
             [
              0.3333333333333333,
              "#9c179e"
             ],
             [
              0.4444444444444444,
              "#bd3786"
             ],
             [
              0.5555555555555556,
              "#d8576b"
             ],
             [
              0.6666666666666666,
              "#ed7953"
             ],
             [
              0.7777777777777778,
              "#fb9f3a"
             ],
             [
              0.8888888888888888,
              "#fdca26"
             ],
             [
              1,
              "#f0f921"
             ]
            ],
            "type": "heatmap"
           }
          ],
          "heatmapgl": [
           {
            "colorbar": {
             "outlinewidth": 0,
             "ticks": ""
            },
            "colorscale": [
             [
              0,
              "#0d0887"
             ],
             [
              0.1111111111111111,
              "#46039f"
             ],
             [
              0.2222222222222222,
              "#7201a8"
             ],
             [
              0.3333333333333333,
              "#9c179e"
             ],
             [
              0.4444444444444444,
              "#bd3786"
             ],
             [
              0.5555555555555556,
              "#d8576b"
             ],
             [
              0.6666666666666666,
              "#ed7953"
             ],
             [
              0.7777777777777778,
              "#fb9f3a"
             ],
             [
              0.8888888888888888,
              "#fdca26"
             ],
             [
              1,
              "#f0f921"
             ]
            ],
            "type": "heatmapgl"
           }
          ],
          "histogram": [
           {
            "marker": {
             "pattern": {
              "fillmode": "overlay",
              "size": 10,
              "solidity": 0.2
             }
            },
            "type": "histogram"
           }
          ],
          "histogram2d": [
           {
            "colorbar": {
             "outlinewidth": 0,
             "ticks": ""
            },
            "colorscale": [
             [
              0,
              "#0d0887"
             ],
             [
              0.1111111111111111,
              "#46039f"
             ],
             [
              0.2222222222222222,
              "#7201a8"
             ],
             [
              0.3333333333333333,
              "#9c179e"
             ],
             [
              0.4444444444444444,
              "#bd3786"
             ],
             [
              0.5555555555555556,
              "#d8576b"
             ],
             [
              0.6666666666666666,
              "#ed7953"
             ],
             [
              0.7777777777777778,
              "#fb9f3a"
             ],
             [
              0.8888888888888888,
              "#fdca26"
             ],
             [
              1,
              "#f0f921"
             ]
            ],
            "type": "histogram2d"
           }
          ],
          "histogram2dcontour": [
           {
            "colorbar": {
             "outlinewidth": 0,
             "ticks": ""
            },
            "colorscale": [
             [
              0,
              "#0d0887"
             ],
             [
              0.1111111111111111,
              "#46039f"
             ],
             [
              0.2222222222222222,
              "#7201a8"
             ],
             [
              0.3333333333333333,
              "#9c179e"
             ],
             [
              0.4444444444444444,
              "#bd3786"
             ],
             [
              0.5555555555555556,
              "#d8576b"
             ],
             [
              0.6666666666666666,
              "#ed7953"
             ],
             [
              0.7777777777777778,
              "#fb9f3a"
             ],
             [
              0.8888888888888888,
              "#fdca26"
             ],
             [
              1,
              "#f0f921"
             ]
            ],
            "type": "histogram2dcontour"
           }
          ],
          "mesh3d": [
           {
            "colorbar": {
             "outlinewidth": 0,
             "ticks": ""
            },
            "type": "mesh3d"
           }
          ],
          "parcoords": [
           {
            "line": {
             "colorbar": {
              "outlinewidth": 0,
              "ticks": ""
             }
            },
            "type": "parcoords"
           }
          ],
          "pie": [
           {
            "automargin": true,
            "type": "pie"
           }
          ],
          "scatter": [
           {
            "fillpattern": {
             "fillmode": "overlay",
             "size": 10,
             "solidity": 0.2
            },
            "type": "scatter"
           }
          ],
          "scatter3d": [
           {
            "line": {
             "colorbar": {
              "outlinewidth": 0,
              "ticks": ""
             }
            },
            "marker": {
             "colorbar": {
              "outlinewidth": 0,
              "ticks": ""
             }
            },
            "type": "scatter3d"
           }
          ],
          "scattercarpet": [
           {
            "marker": {
             "colorbar": {
              "outlinewidth": 0,
              "ticks": ""
             }
            },
            "type": "scattercarpet"
           }
          ],
          "scattergeo": [
           {
            "marker": {
             "colorbar": {
              "outlinewidth": 0,
              "ticks": ""
             }
            },
            "type": "scattergeo"
           }
          ],
          "scattergl": [
           {
            "marker": {
             "colorbar": {
              "outlinewidth": 0,
              "ticks": ""
             }
            },
            "type": "scattergl"
           }
          ],
          "scattermapbox": [
           {
            "marker": {
             "colorbar": {
              "outlinewidth": 0,
              "ticks": ""
             }
            },
            "type": "scattermapbox"
           }
          ],
          "scatterpolar": [
           {
            "marker": {
             "colorbar": {
              "outlinewidth": 0,
              "ticks": ""
             }
            },
            "type": "scatterpolar"
           }
          ],
          "scatterpolargl": [
           {
            "marker": {
             "colorbar": {
              "outlinewidth": 0,
              "ticks": ""
             }
            },
            "type": "scatterpolargl"
           }
          ],
          "scatterternary": [
           {
            "marker": {
             "colorbar": {
              "outlinewidth": 0,
              "ticks": ""
             }
            },
            "type": "scatterternary"
           }
          ],
          "surface": [
           {
            "colorbar": {
             "outlinewidth": 0,
             "ticks": ""
            },
            "colorscale": [
             [
              0,
              "#0d0887"
             ],
             [
              0.1111111111111111,
              "#46039f"
             ],
             [
              0.2222222222222222,
              "#7201a8"
             ],
             [
              0.3333333333333333,
              "#9c179e"
             ],
             [
              0.4444444444444444,
              "#bd3786"
             ],
             [
              0.5555555555555556,
              "#d8576b"
             ],
             [
              0.6666666666666666,
              "#ed7953"
             ],
             [
              0.7777777777777778,
              "#fb9f3a"
             ],
             [
              0.8888888888888888,
              "#fdca26"
             ],
             [
              1,
              "#f0f921"
             ]
            ],
            "type": "surface"
           }
          ],
          "table": [
           {
            "cells": {
             "fill": {
              "color": "#EBF0F8"
             },
             "line": {
              "color": "white"
             }
            },
            "header": {
             "fill": {
              "color": "#C8D4E3"
             },
             "line": {
              "color": "white"
             }
            },
            "type": "table"
           }
          ]
         },
         "layout": {
          "annotationdefaults": {
           "arrowcolor": "#2a3f5f",
           "arrowhead": 0,
           "arrowwidth": 1
          },
          "autotypenumbers": "strict",
          "coloraxis": {
           "colorbar": {
            "outlinewidth": 0,
            "ticks": ""
           }
          },
          "colorscale": {
           "diverging": [
            [
             0,
             "#8e0152"
            ],
            [
             0.1,
             "#c51b7d"
            ],
            [
             0.2,
             "#de77ae"
            ],
            [
             0.3,
             "#f1b6da"
            ],
            [
             0.4,
             "#fde0ef"
            ],
            [
             0.5,
             "#f7f7f7"
            ],
            [
             0.6,
             "#e6f5d0"
            ],
            [
             0.7,
             "#b8e186"
            ],
            [
             0.8,
             "#7fbc41"
            ],
            [
             0.9,
             "#4d9221"
            ],
            [
             1,
             "#276419"
            ]
           ],
           "sequential": [
            [
             0,
             "#0d0887"
            ],
            [
             0.1111111111111111,
             "#46039f"
            ],
            [
             0.2222222222222222,
             "#7201a8"
            ],
            [
             0.3333333333333333,
             "#9c179e"
            ],
            [
             0.4444444444444444,
             "#bd3786"
            ],
            [
             0.5555555555555556,
             "#d8576b"
            ],
            [
             0.6666666666666666,
             "#ed7953"
            ],
            [
             0.7777777777777778,
             "#fb9f3a"
            ],
            [
             0.8888888888888888,
             "#fdca26"
            ],
            [
             1,
             "#f0f921"
            ]
           ],
           "sequentialminus": [
            [
             0,
             "#0d0887"
            ],
            [
             0.1111111111111111,
             "#46039f"
            ],
            [
             0.2222222222222222,
             "#7201a8"
            ],
            [
             0.3333333333333333,
             "#9c179e"
            ],
            [
             0.4444444444444444,
             "#bd3786"
            ],
            [
             0.5555555555555556,
             "#d8576b"
            ],
            [
             0.6666666666666666,
             "#ed7953"
            ],
            [
             0.7777777777777778,
             "#fb9f3a"
            ],
            [
             0.8888888888888888,
             "#fdca26"
            ],
            [
             1,
             "#f0f921"
            ]
           ]
          },
          "colorway": [
           "#636efa",
           "#EF553B",
           "#00cc96",
           "#ab63fa",
           "#FFA15A",
           "#19d3f3",
           "#FF6692",
           "#B6E880",
           "#FF97FF",
           "#FECB52"
          ],
          "font": {
           "color": "#2a3f5f"
          },
          "geo": {
           "bgcolor": "white",
           "lakecolor": "white",
           "landcolor": "#E5ECF6",
           "showlakes": true,
           "showland": true,
           "subunitcolor": "white"
          },
          "hoverlabel": {
           "align": "left"
          },
          "hovermode": "closest",
          "mapbox": {
           "style": "light"
          },
          "paper_bgcolor": "white",
          "plot_bgcolor": "#E5ECF6",
          "polar": {
           "angularaxis": {
            "gridcolor": "white",
            "linecolor": "white",
            "ticks": ""
           },
           "bgcolor": "#E5ECF6",
           "radialaxis": {
            "gridcolor": "white",
            "linecolor": "white",
            "ticks": ""
           }
          },
          "scene": {
           "xaxis": {
            "backgroundcolor": "#E5ECF6",
            "gridcolor": "white",
            "gridwidth": 2,
            "linecolor": "white",
            "showbackground": true,
            "ticks": "",
            "zerolinecolor": "white"
           },
           "yaxis": {
            "backgroundcolor": "#E5ECF6",
            "gridcolor": "white",
            "gridwidth": 2,
            "linecolor": "white",
            "showbackground": true,
            "ticks": "",
            "zerolinecolor": "white"
           },
           "zaxis": {
            "backgroundcolor": "#E5ECF6",
            "gridcolor": "white",
            "gridwidth": 2,
            "linecolor": "white",
            "showbackground": true,
            "ticks": "",
            "zerolinecolor": "white"
           }
          },
          "shapedefaults": {
           "line": {
            "color": "#2a3f5f"
           }
          },
          "ternary": {
           "aaxis": {
            "gridcolor": "white",
            "linecolor": "white",
            "ticks": ""
           },
           "baxis": {
            "gridcolor": "white",
            "linecolor": "white",
            "ticks": ""
           },
           "bgcolor": "#E5ECF6",
           "caxis": {
            "gridcolor": "white",
            "linecolor": "white",
            "ticks": ""
           }
          },
          "title": {
           "x": 0.05
          },
          "xaxis": {
           "automargin": true,
           "gridcolor": "white",
           "linecolor": "white",
           "ticks": "",
           "title": {
            "standoff": 15
           },
           "zerolinecolor": "white",
           "zerolinewidth": 2
          },
          "yaxis": {
           "automargin": true,
           "gridcolor": "white",
           "linecolor": "white",
           "ticks": "",
           "title": {
            "standoff": 15
           },
           "zerolinecolor": "white",
           "zerolinewidth": 2
          }
         }
        },
        "title": {
         "text": "Distribusi Kondisi Perabotan"
        }
       }
      }
     },
     "metadata": {},
     "output_type": "display_data"
    },
    {
     "data": {
      "text/markdown": [
       "<div align='center'><h2>====================</h2></div>"
      ],
      "text/plain": [
       "<IPython.core.display.Markdown object>"
      ]
     },
     "metadata": {},
     "output_type": "display_data"
    },
    {
     "data": {
      "text/markdown": [
       "<div align='center'><h2>Informasi Agen</h2></div>"
      ],
      "text/plain": [
       "<IPython.core.display.Markdown object>"
      ]
     },
     "metadata": {},
     "output_type": "display_data"
    },
    {
     "data": {
      "application/vnd.plotly.v1+json": {
       "config": {
        "plotlyServerURL": "https://plot.ly"
       },
       "data": [
        {
         "domain": {
          "x": [
           0,
           1
          ],
          "y": [
           0,
           1
          ]
         },
         "hole": 0.5,
         "hovertemplate": "affiliate=%{label}<br>count=%{value}<extra></extra>",
         "labels": [
          "affiliated",
          "independent"
         ],
         "legendgroup": "",
         "name": "",
         "pull": [
          0.1,
          0.1
         ],
         "showlegend": true,
         "textinfo": "label+percent",
         "textposition": "outside",
         "type": "pie",
         "values": [
          3083,
          719
         ]
        }
       ],
       "layout": {
        "annotations": [
         {
          "font": {
           "size": 20
          },
          "showarrow": false,
          "text": "Affiliation"
         }
        ],
        "legend": {
         "tracegroupgap": 0
        },
        "piecolorway": [
         "rgb(246, 210, 169)",
         "rgb(245, 183, 142)",
         "rgb(241, 156, 124)",
         "rgb(234, 129, 113)",
         "rgb(221, 104, 108)",
         "rgb(202, 82, 104)",
         "rgb(177, 63, 100)"
        ],
        "showlegend": false,
        "template": {
         "data": {
          "bar": [
           {
            "error_x": {
             "color": "#2a3f5f"
            },
            "error_y": {
             "color": "#2a3f5f"
            },
            "marker": {
             "line": {
              "color": "#E5ECF6",
              "width": 0.5
             },
             "pattern": {
              "fillmode": "overlay",
              "size": 10,
              "solidity": 0.2
             }
            },
            "type": "bar"
           }
          ],
          "barpolar": [
           {
            "marker": {
             "line": {
              "color": "#E5ECF6",
              "width": 0.5
             },
             "pattern": {
              "fillmode": "overlay",
              "size": 10,
              "solidity": 0.2
             }
            },
            "type": "barpolar"
           }
          ],
          "carpet": [
           {
            "aaxis": {
             "endlinecolor": "#2a3f5f",
             "gridcolor": "white",
             "linecolor": "white",
             "minorgridcolor": "white",
             "startlinecolor": "#2a3f5f"
            },
            "baxis": {
             "endlinecolor": "#2a3f5f",
             "gridcolor": "white",
             "linecolor": "white",
             "minorgridcolor": "white",
             "startlinecolor": "#2a3f5f"
            },
            "type": "carpet"
           }
          ],
          "choropleth": [
           {
            "colorbar": {
             "outlinewidth": 0,
             "ticks": ""
            },
            "type": "choropleth"
           }
          ],
          "contour": [
           {
            "colorbar": {
             "outlinewidth": 0,
             "ticks": ""
            },
            "colorscale": [
             [
              0,
              "#0d0887"
             ],
             [
              0.1111111111111111,
              "#46039f"
             ],
             [
              0.2222222222222222,
              "#7201a8"
             ],
             [
              0.3333333333333333,
              "#9c179e"
             ],
             [
              0.4444444444444444,
              "#bd3786"
             ],
             [
              0.5555555555555556,
              "#d8576b"
             ],
             [
              0.6666666666666666,
              "#ed7953"
             ],
             [
              0.7777777777777778,
              "#fb9f3a"
             ],
             [
              0.8888888888888888,
              "#fdca26"
             ],
             [
              1,
              "#f0f921"
             ]
            ],
            "type": "contour"
           }
          ],
          "contourcarpet": [
           {
            "colorbar": {
             "outlinewidth": 0,
             "ticks": ""
            },
            "type": "contourcarpet"
           }
          ],
          "heatmap": [
           {
            "colorbar": {
             "outlinewidth": 0,
             "ticks": ""
            },
            "colorscale": [
             [
              0,
              "#0d0887"
             ],
             [
              0.1111111111111111,
              "#46039f"
             ],
             [
              0.2222222222222222,
              "#7201a8"
             ],
             [
              0.3333333333333333,
              "#9c179e"
             ],
             [
              0.4444444444444444,
              "#bd3786"
             ],
             [
              0.5555555555555556,
              "#d8576b"
             ],
             [
              0.6666666666666666,
              "#ed7953"
             ],
             [
              0.7777777777777778,
              "#fb9f3a"
             ],
             [
              0.8888888888888888,
              "#fdca26"
             ],
             [
              1,
              "#f0f921"
             ]
            ],
            "type": "heatmap"
           }
          ],
          "heatmapgl": [
           {
            "colorbar": {
             "outlinewidth": 0,
             "ticks": ""
            },
            "colorscale": [
             [
              0,
              "#0d0887"
             ],
             [
              0.1111111111111111,
              "#46039f"
             ],
             [
              0.2222222222222222,
              "#7201a8"
             ],
             [
              0.3333333333333333,
              "#9c179e"
             ],
             [
              0.4444444444444444,
              "#bd3786"
             ],
             [
              0.5555555555555556,
              "#d8576b"
             ],
             [
              0.6666666666666666,
              "#ed7953"
             ],
             [
              0.7777777777777778,
              "#fb9f3a"
             ],
             [
              0.8888888888888888,
              "#fdca26"
             ],
             [
              1,
              "#f0f921"
             ]
            ],
            "type": "heatmapgl"
           }
          ],
          "histogram": [
           {
            "marker": {
             "pattern": {
              "fillmode": "overlay",
              "size": 10,
              "solidity": 0.2
             }
            },
            "type": "histogram"
           }
          ],
          "histogram2d": [
           {
            "colorbar": {
             "outlinewidth": 0,
             "ticks": ""
            },
            "colorscale": [
             [
              0,
              "#0d0887"
             ],
             [
              0.1111111111111111,
              "#46039f"
             ],
             [
              0.2222222222222222,
              "#7201a8"
             ],
             [
              0.3333333333333333,
              "#9c179e"
             ],
             [
              0.4444444444444444,
              "#bd3786"
             ],
             [
              0.5555555555555556,
              "#d8576b"
             ],
             [
              0.6666666666666666,
              "#ed7953"
             ],
             [
              0.7777777777777778,
              "#fb9f3a"
             ],
             [
              0.8888888888888888,
              "#fdca26"
             ],
             [
              1,
              "#f0f921"
             ]
            ],
            "type": "histogram2d"
           }
          ],
          "histogram2dcontour": [
           {
            "colorbar": {
             "outlinewidth": 0,
             "ticks": ""
            },
            "colorscale": [
             [
              0,
              "#0d0887"
             ],
             [
              0.1111111111111111,
              "#46039f"
             ],
             [
              0.2222222222222222,
              "#7201a8"
             ],
             [
              0.3333333333333333,
              "#9c179e"
             ],
             [
              0.4444444444444444,
              "#bd3786"
             ],
             [
              0.5555555555555556,
              "#d8576b"
             ],
             [
              0.6666666666666666,
              "#ed7953"
             ],
             [
              0.7777777777777778,
              "#fb9f3a"
             ],
             [
              0.8888888888888888,
              "#fdca26"
             ],
             [
              1,
              "#f0f921"
             ]
            ],
            "type": "histogram2dcontour"
           }
          ],
          "mesh3d": [
           {
            "colorbar": {
             "outlinewidth": 0,
             "ticks": ""
            },
            "type": "mesh3d"
           }
          ],
          "parcoords": [
           {
            "line": {
             "colorbar": {
              "outlinewidth": 0,
              "ticks": ""
             }
            },
            "type": "parcoords"
           }
          ],
          "pie": [
           {
            "automargin": true,
            "type": "pie"
           }
          ],
          "scatter": [
           {
            "fillpattern": {
             "fillmode": "overlay",
             "size": 10,
             "solidity": 0.2
            },
            "type": "scatter"
           }
          ],
          "scatter3d": [
           {
            "line": {
             "colorbar": {
              "outlinewidth": 0,
              "ticks": ""
             }
            },
            "marker": {
             "colorbar": {
              "outlinewidth": 0,
              "ticks": ""
             }
            },
            "type": "scatter3d"
           }
          ],
          "scattercarpet": [
           {
            "marker": {
             "colorbar": {
              "outlinewidth": 0,
              "ticks": ""
             }
            },
            "type": "scattercarpet"
           }
          ],
          "scattergeo": [
           {
            "marker": {
             "colorbar": {
              "outlinewidth": 0,
              "ticks": ""
             }
            },
            "type": "scattergeo"
           }
          ],
          "scattergl": [
           {
            "marker": {
             "colorbar": {
              "outlinewidth": 0,
              "ticks": ""
             }
            },
            "type": "scattergl"
           }
          ],
          "scattermapbox": [
           {
            "marker": {
             "colorbar": {
              "outlinewidth": 0,
              "ticks": ""
             }
            },
            "type": "scattermapbox"
           }
          ],
          "scatterpolar": [
           {
            "marker": {
             "colorbar": {
              "outlinewidth": 0,
              "ticks": ""
             }
            },
            "type": "scatterpolar"
           }
          ],
          "scatterpolargl": [
           {
            "marker": {
             "colorbar": {
              "outlinewidth": 0,
              "ticks": ""
             }
            },
            "type": "scatterpolargl"
           }
          ],
          "scatterternary": [
           {
            "marker": {
             "colorbar": {
              "outlinewidth": 0,
              "ticks": ""
             }
            },
            "type": "scatterternary"
           }
          ],
          "surface": [
           {
            "colorbar": {
             "outlinewidth": 0,
             "ticks": ""
            },
            "colorscale": [
             [
              0,
              "#0d0887"
             ],
             [
              0.1111111111111111,
              "#46039f"
             ],
             [
              0.2222222222222222,
              "#7201a8"
             ],
             [
              0.3333333333333333,
              "#9c179e"
             ],
             [
              0.4444444444444444,
              "#bd3786"
             ],
             [
              0.5555555555555556,
              "#d8576b"
             ],
             [
              0.6666666666666666,
              "#ed7953"
             ],
             [
              0.7777777777777778,
              "#fb9f3a"
             ],
             [
              0.8888888888888888,
              "#fdca26"
             ],
             [
              1,
              "#f0f921"
             ]
            ],
            "type": "surface"
           }
          ],
          "table": [
           {
            "cells": {
             "fill": {
              "color": "#EBF0F8"
             },
             "line": {
              "color": "white"
             }
            },
            "header": {
             "fill": {
              "color": "#C8D4E3"
             },
             "line": {
              "color": "white"
             }
            },
            "type": "table"
           }
          ]
         },
         "layout": {
          "annotationdefaults": {
           "arrowcolor": "#2a3f5f",
           "arrowhead": 0,
           "arrowwidth": 1
          },
          "autotypenumbers": "strict",
          "coloraxis": {
           "colorbar": {
            "outlinewidth": 0,
            "ticks": ""
           }
          },
          "colorscale": {
           "diverging": [
            [
             0,
             "#8e0152"
            ],
            [
             0.1,
             "#c51b7d"
            ],
            [
             0.2,
             "#de77ae"
            ],
            [
             0.3,
             "#f1b6da"
            ],
            [
             0.4,
             "#fde0ef"
            ],
            [
             0.5,
             "#f7f7f7"
            ],
            [
             0.6,
             "#e6f5d0"
            ],
            [
             0.7,
             "#b8e186"
            ],
            [
             0.8,
             "#7fbc41"
            ],
            [
             0.9,
             "#4d9221"
            ],
            [
             1,
             "#276419"
            ]
           ],
           "sequential": [
            [
             0,
             "#0d0887"
            ],
            [
             0.1111111111111111,
             "#46039f"
            ],
            [
             0.2222222222222222,
             "#7201a8"
            ],
            [
             0.3333333333333333,
             "#9c179e"
            ],
            [
             0.4444444444444444,
             "#bd3786"
            ],
            [
             0.5555555555555556,
             "#d8576b"
            ],
            [
             0.6666666666666666,
             "#ed7953"
            ],
            [
             0.7777777777777778,
             "#fb9f3a"
            ],
            [
             0.8888888888888888,
             "#fdca26"
            ],
            [
             1,
             "#f0f921"
            ]
           ],
           "sequentialminus": [
            [
             0,
             "#0d0887"
            ],
            [
             0.1111111111111111,
             "#46039f"
            ],
            [
             0.2222222222222222,
             "#7201a8"
            ],
            [
             0.3333333333333333,
             "#9c179e"
            ],
            [
             0.4444444444444444,
             "#bd3786"
            ],
            [
             0.5555555555555556,
             "#d8576b"
            ],
            [
             0.6666666666666666,
             "#ed7953"
            ],
            [
             0.7777777777777778,
             "#fb9f3a"
            ],
            [
             0.8888888888888888,
             "#fdca26"
            ],
            [
             1,
             "#f0f921"
            ]
           ]
          },
          "colorway": [
           "#636efa",
           "#EF553B",
           "#00cc96",
           "#ab63fa",
           "#FFA15A",
           "#19d3f3",
           "#FF6692",
           "#B6E880",
           "#FF97FF",
           "#FECB52"
          ],
          "font": {
           "color": "#2a3f5f"
          },
          "geo": {
           "bgcolor": "white",
           "lakecolor": "white",
           "landcolor": "#E5ECF6",
           "showlakes": true,
           "showland": true,
           "subunitcolor": "white"
          },
          "hoverlabel": {
           "align": "left"
          },
          "hovermode": "closest",
          "mapbox": {
           "style": "light"
          },
          "paper_bgcolor": "white",
          "plot_bgcolor": "#E5ECF6",
          "polar": {
           "angularaxis": {
            "gridcolor": "white",
            "linecolor": "white",
            "ticks": ""
           },
           "bgcolor": "#E5ECF6",
           "radialaxis": {
            "gridcolor": "white",
            "linecolor": "white",
            "ticks": ""
           }
          },
          "scene": {
           "xaxis": {
            "backgroundcolor": "#E5ECF6",
            "gridcolor": "white",
            "gridwidth": 2,
            "linecolor": "white",
            "showbackground": true,
            "ticks": "",
            "zerolinecolor": "white"
           },
           "yaxis": {
            "backgroundcolor": "#E5ECF6",
            "gridcolor": "white",
            "gridwidth": 2,
            "linecolor": "white",
            "showbackground": true,
            "ticks": "",
            "zerolinecolor": "white"
           },
           "zaxis": {
            "backgroundcolor": "#E5ECF6",
            "gridcolor": "white",
            "gridwidth": 2,
            "linecolor": "white",
            "showbackground": true,
            "ticks": "",
            "zerolinecolor": "white"
           }
          },
          "shapedefaults": {
           "line": {
            "color": "#2a3f5f"
           }
          },
          "ternary": {
           "aaxis": {
            "gridcolor": "white",
            "linecolor": "white",
            "ticks": ""
           },
           "baxis": {
            "gridcolor": "white",
            "linecolor": "white",
            "ticks": ""
           },
           "bgcolor": "#E5ECF6",
           "caxis": {
            "gridcolor": "white",
            "linecolor": "white",
            "ticks": ""
           }
          },
          "title": {
           "x": 0.05
          },
          "xaxis": {
           "automargin": true,
           "gridcolor": "white",
           "linecolor": "white",
           "ticks": "",
           "title": {
            "standoff": 15
           },
           "zerolinecolor": "white",
           "zerolinewidth": 2
          },
          "yaxis": {
           "automargin": true,
           "gridcolor": "white",
           "linecolor": "white",
           "ticks": "",
           "title": {
            "standoff": 15
           },
           "zerolinecolor": "white",
           "zerolinewidth": 2
          }
         }
        },
        "title": {
         "text": "Distribusi Status Agen"
        }
       }
      }
     },
     "metadata": {},
     "output_type": "display_data"
    },
    {
     "data": {
      "text/markdown": [
       "<div align='center'><h2>====================</h2></div>"
      ],
      "text/plain": [
       "<IPython.core.display.Markdown object>"
      ]
     },
     "metadata": {},
     "output_type": "display_data"
    },
    {
     "data": {
      "text/markdown": [
       "<div align='center'><h3>Top 5 Agents by Total Sales and Rentals</h3></div>"
      ],
      "text/plain": [
       "<IPython.core.display.Markdown object>"
      ]
     },
     "metadata": {},
     "output_type": "display_data"
    },
    {
     "data": {
      "text/html": [
       "<style type=\"text/css\">\n",
       "</style>\n",
       "<table id=\"T_480f4\">\n",
       "  <thead>\n",
       "    <tr>\n",
       "      <th id=\"T_480f4_level0_col0\" class=\"col_heading level0 col0\" >nama_agen</th>\n",
       "      <th id=\"T_480f4_level0_col1\" class=\"col_heading level0 col1\" >nama_perusahaan</th>\n",
       "      <th id=\"T_480f4_level0_col2\" class=\"col_heading level0 col2\" >terjual</th>\n",
       "      <th id=\"T_480f4_level0_col3\" class=\"col_heading level0 col3\" >tersewa</th>\n",
       "    </tr>\n",
       "  </thead>\n",
       "  <tbody>\n",
       "    <tr>\n",
       "      <td id=\"T_480f4_row0_col0\" class=\"data row0 col0\" >Benny Darmadi</td>\n",
       "      <td id=\"T_480f4_row0_col1\" class=\"data row0 col1\" >casatera property</td>\n",
       "      <td id=\"T_480f4_row0_col2\" class=\"data row0 col2\" >27798</td>\n",
       "      <td id=\"T_480f4_row0_col3\" class=\"data row0 col3\" >9399</td>\n",
       "    </tr>\n",
       "    <tr>\n",
       "      <td id=\"T_480f4_row1_col0\" class=\"data row1 col0\" >ANA*PROPERTY JELAMBAR</td>\n",
       "      <td id=\"T_480f4_row1_col1\" class=\"data row1 col1\" >ANA*PROPERTY JELAMBAR</td>\n",
       "      <td id=\"T_480f4_row1_col2\" class=\"data row1 col2\" >20561</td>\n",
       "      <td id=\"T_480f4_row1_col3\" class=\"data row1 col3\" >6581</td>\n",
       "    </tr>\n",
       "    <tr>\n",
       "      <td id=\"T_480f4_row2_col0\" class=\"data row2 col0\" >PETER MARZ</td>\n",
       "      <td id=\"T_480f4_row2_col1\" class=\"data row2 col1\" >Mars Pro</td>\n",
       "      <td id=\"T_480f4_row2_col2\" class=\"data row2 col2\" >2383</td>\n",
       "      <td id=\"T_480f4_row2_col3\" class=\"data row2 col3\" >1718</td>\n",
       "    </tr>\n",
       "    <tr>\n",
       "      <td id=\"T_480f4_row3_col0\" class=\"data row3 col0\" >Steven </td>\n",
       "      <td id=\"T_480f4_row3_col1\" class=\"data row3 col1\" >None</td>\n",
       "      <td id=\"T_480f4_row3_col2\" class=\"data row3 col2\" >1625</td>\n",
       "      <td id=\"T_480f4_row3_col3\" class=\"data row3 col3\" >579</td>\n",
       "    </tr>\n",
       "    <tr>\n",
       "      <td id=\"T_480f4_row4_col0\" class=\"data row4 col0\" >Asri Sibali</td>\n",
       "      <td id=\"T_480f4_row4_col1\" class=\"data row4 col1\" >Mitra Sinergi Property</td>\n",
       "      <td id=\"T_480f4_row4_col2\" class=\"data row4 col2\" >1881</td>\n",
       "      <td id=\"T_480f4_row4_col3\" class=\"data row4 col3\" >6</td>\n",
       "    </tr>\n",
       "  </tbody>\n",
       "</table>\n"
      ],
      "text/plain": [
       "<pandas.io.formats.style.Styler at 0x2a949d61070>"
      ]
     },
     "metadata": {},
     "output_type": "display_data"
    },
    {
     "data": {
      "text/markdown": [
       "<div align='center'><h2>====================</h2></div>"
      ],
      "text/plain": [
       "<IPython.core.display.Markdown object>"
      ]
     },
     "metadata": {},
     "output_type": "display_data"
    },
    {
     "data": {
      "text/markdown": [
       "<div align='center'><h2>Informasi Properti Disewakan</h2></div>"
      ],
      "text/plain": [
       "<IPython.core.display.Markdown object>"
      ]
     },
     "metadata": {},
     "output_type": "display_data"
    },
    {
     "data": {
      "application/vnd.plotly.v1+json": {
       "config": {
        "plotlyServerURL": "https://plot.ly"
       },
       "data": [
        {
         "domain": {
          "x": [
           0,
           1
          ],
          "y": [
           0,
           1
          ]
         },
         "hole": 0.5,
         "hovertemplate": "periode_kepemilikan=%{label}<br>count=%{value}<extra></extra>",
         "labels": [
          "Bulanan",
          "Tahunan",
          "Harian"
         ],
         "legendgroup": "",
         "name": "",
         "pull": [
          0.1,
          0.1,
          0.1
         ],
         "showlegend": true,
         "textinfo": "label+percent",
         "textposition": "outside",
         "type": "pie",
         "values": [
          921,
          918,
          11
         ]
        }
       ],
       "layout": {
        "annotations": [
         {
          "font": {
           "size": 20
          },
          "showarrow": false,
          "text": "period"
         }
        ],
        "legend": {
         "tracegroupgap": 0
        },
        "piecolorway": [
         "rgb(246, 210, 169)",
         "rgb(245, 183, 142)",
         "rgb(241, 156, 124)",
         "rgb(234, 129, 113)",
         "rgb(221, 104, 108)",
         "rgb(202, 82, 104)",
         "rgb(177, 63, 100)"
        ],
        "showlegend": false,
        "template": {
         "data": {
          "bar": [
           {
            "error_x": {
             "color": "#2a3f5f"
            },
            "error_y": {
             "color": "#2a3f5f"
            },
            "marker": {
             "line": {
              "color": "#E5ECF6",
              "width": 0.5
             },
             "pattern": {
              "fillmode": "overlay",
              "size": 10,
              "solidity": 0.2
             }
            },
            "type": "bar"
           }
          ],
          "barpolar": [
           {
            "marker": {
             "line": {
              "color": "#E5ECF6",
              "width": 0.5
             },
             "pattern": {
              "fillmode": "overlay",
              "size": 10,
              "solidity": 0.2
             }
            },
            "type": "barpolar"
           }
          ],
          "carpet": [
           {
            "aaxis": {
             "endlinecolor": "#2a3f5f",
             "gridcolor": "white",
             "linecolor": "white",
             "minorgridcolor": "white",
             "startlinecolor": "#2a3f5f"
            },
            "baxis": {
             "endlinecolor": "#2a3f5f",
             "gridcolor": "white",
             "linecolor": "white",
             "minorgridcolor": "white",
             "startlinecolor": "#2a3f5f"
            },
            "type": "carpet"
           }
          ],
          "choropleth": [
           {
            "colorbar": {
             "outlinewidth": 0,
             "ticks": ""
            },
            "type": "choropleth"
           }
          ],
          "contour": [
           {
            "colorbar": {
             "outlinewidth": 0,
             "ticks": ""
            },
            "colorscale": [
             [
              0,
              "#0d0887"
             ],
             [
              0.1111111111111111,
              "#46039f"
             ],
             [
              0.2222222222222222,
              "#7201a8"
             ],
             [
              0.3333333333333333,
              "#9c179e"
             ],
             [
              0.4444444444444444,
              "#bd3786"
             ],
             [
              0.5555555555555556,
              "#d8576b"
             ],
             [
              0.6666666666666666,
              "#ed7953"
             ],
             [
              0.7777777777777778,
              "#fb9f3a"
             ],
             [
              0.8888888888888888,
              "#fdca26"
             ],
             [
              1,
              "#f0f921"
             ]
            ],
            "type": "contour"
           }
          ],
          "contourcarpet": [
           {
            "colorbar": {
             "outlinewidth": 0,
             "ticks": ""
            },
            "type": "contourcarpet"
           }
          ],
          "heatmap": [
           {
            "colorbar": {
             "outlinewidth": 0,
             "ticks": ""
            },
            "colorscale": [
             [
              0,
              "#0d0887"
             ],
             [
              0.1111111111111111,
              "#46039f"
             ],
             [
              0.2222222222222222,
              "#7201a8"
             ],
             [
              0.3333333333333333,
              "#9c179e"
             ],
             [
              0.4444444444444444,
              "#bd3786"
             ],
             [
              0.5555555555555556,
              "#d8576b"
             ],
             [
              0.6666666666666666,
              "#ed7953"
             ],
             [
              0.7777777777777778,
              "#fb9f3a"
             ],
             [
              0.8888888888888888,
              "#fdca26"
             ],
             [
              1,
              "#f0f921"
             ]
            ],
            "type": "heatmap"
           }
          ],
          "heatmapgl": [
           {
            "colorbar": {
             "outlinewidth": 0,
             "ticks": ""
            },
            "colorscale": [
             [
              0,
              "#0d0887"
             ],
             [
              0.1111111111111111,
              "#46039f"
             ],
             [
              0.2222222222222222,
              "#7201a8"
             ],
             [
              0.3333333333333333,
              "#9c179e"
             ],
             [
              0.4444444444444444,
              "#bd3786"
             ],
             [
              0.5555555555555556,
              "#d8576b"
             ],
             [
              0.6666666666666666,
              "#ed7953"
             ],
             [
              0.7777777777777778,
              "#fb9f3a"
             ],
             [
              0.8888888888888888,
              "#fdca26"
             ],
             [
              1,
              "#f0f921"
             ]
            ],
            "type": "heatmapgl"
           }
          ],
          "histogram": [
           {
            "marker": {
             "pattern": {
              "fillmode": "overlay",
              "size": 10,
              "solidity": 0.2
             }
            },
            "type": "histogram"
           }
          ],
          "histogram2d": [
           {
            "colorbar": {
             "outlinewidth": 0,
             "ticks": ""
            },
            "colorscale": [
             [
              0,
              "#0d0887"
             ],
             [
              0.1111111111111111,
              "#46039f"
             ],
             [
              0.2222222222222222,
              "#7201a8"
             ],
             [
              0.3333333333333333,
              "#9c179e"
             ],
             [
              0.4444444444444444,
              "#bd3786"
             ],
             [
              0.5555555555555556,
              "#d8576b"
             ],
             [
              0.6666666666666666,
              "#ed7953"
             ],
             [
              0.7777777777777778,
              "#fb9f3a"
             ],
             [
              0.8888888888888888,
              "#fdca26"
             ],
             [
              1,
              "#f0f921"
             ]
            ],
            "type": "histogram2d"
           }
          ],
          "histogram2dcontour": [
           {
            "colorbar": {
             "outlinewidth": 0,
             "ticks": ""
            },
            "colorscale": [
             [
              0,
              "#0d0887"
             ],
             [
              0.1111111111111111,
              "#46039f"
             ],
             [
              0.2222222222222222,
              "#7201a8"
             ],
             [
              0.3333333333333333,
              "#9c179e"
             ],
             [
              0.4444444444444444,
              "#bd3786"
             ],
             [
              0.5555555555555556,
              "#d8576b"
             ],
             [
              0.6666666666666666,
              "#ed7953"
             ],
             [
              0.7777777777777778,
              "#fb9f3a"
             ],
             [
              0.8888888888888888,
              "#fdca26"
             ],
             [
              1,
              "#f0f921"
             ]
            ],
            "type": "histogram2dcontour"
           }
          ],
          "mesh3d": [
           {
            "colorbar": {
             "outlinewidth": 0,
             "ticks": ""
            },
            "type": "mesh3d"
           }
          ],
          "parcoords": [
           {
            "line": {
             "colorbar": {
              "outlinewidth": 0,
              "ticks": ""
             }
            },
            "type": "parcoords"
           }
          ],
          "pie": [
           {
            "automargin": true,
            "type": "pie"
           }
          ],
          "scatter": [
           {
            "fillpattern": {
             "fillmode": "overlay",
             "size": 10,
             "solidity": 0.2
            },
            "type": "scatter"
           }
          ],
          "scatter3d": [
           {
            "line": {
             "colorbar": {
              "outlinewidth": 0,
              "ticks": ""
             }
            },
            "marker": {
             "colorbar": {
              "outlinewidth": 0,
              "ticks": ""
             }
            },
            "type": "scatter3d"
           }
          ],
          "scattercarpet": [
           {
            "marker": {
             "colorbar": {
              "outlinewidth": 0,
              "ticks": ""
             }
            },
            "type": "scattercarpet"
           }
          ],
          "scattergeo": [
           {
            "marker": {
             "colorbar": {
              "outlinewidth": 0,
              "ticks": ""
             }
            },
            "type": "scattergeo"
           }
          ],
          "scattergl": [
           {
            "marker": {
             "colorbar": {
              "outlinewidth": 0,
              "ticks": ""
             }
            },
            "type": "scattergl"
           }
          ],
          "scattermapbox": [
           {
            "marker": {
             "colorbar": {
              "outlinewidth": 0,
              "ticks": ""
             }
            },
            "type": "scattermapbox"
           }
          ],
          "scatterpolar": [
           {
            "marker": {
             "colorbar": {
              "outlinewidth": 0,
              "ticks": ""
             }
            },
            "type": "scatterpolar"
           }
          ],
          "scatterpolargl": [
           {
            "marker": {
             "colorbar": {
              "outlinewidth": 0,
              "ticks": ""
             }
            },
            "type": "scatterpolargl"
           }
          ],
          "scatterternary": [
           {
            "marker": {
             "colorbar": {
              "outlinewidth": 0,
              "ticks": ""
             }
            },
            "type": "scatterternary"
           }
          ],
          "surface": [
           {
            "colorbar": {
             "outlinewidth": 0,
             "ticks": ""
            },
            "colorscale": [
             [
              0,
              "#0d0887"
             ],
             [
              0.1111111111111111,
              "#46039f"
             ],
             [
              0.2222222222222222,
              "#7201a8"
             ],
             [
              0.3333333333333333,
              "#9c179e"
             ],
             [
              0.4444444444444444,
              "#bd3786"
             ],
             [
              0.5555555555555556,
              "#d8576b"
             ],
             [
              0.6666666666666666,
              "#ed7953"
             ],
             [
              0.7777777777777778,
              "#fb9f3a"
             ],
             [
              0.8888888888888888,
              "#fdca26"
             ],
             [
              1,
              "#f0f921"
             ]
            ],
            "type": "surface"
           }
          ],
          "table": [
           {
            "cells": {
             "fill": {
              "color": "#EBF0F8"
             },
             "line": {
              "color": "white"
             }
            },
            "header": {
             "fill": {
              "color": "#C8D4E3"
             },
             "line": {
              "color": "white"
             }
            },
            "type": "table"
           }
          ]
         },
         "layout": {
          "annotationdefaults": {
           "arrowcolor": "#2a3f5f",
           "arrowhead": 0,
           "arrowwidth": 1
          },
          "autotypenumbers": "strict",
          "coloraxis": {
           "colorbar": {
            "outlinewidth": 0,
            "ticks": ""
           }
          },
          "colorscale": {
           "diverging": [
            [
             0,
             "#8e0152"
            ],
            [
             0.1,
             "#c51b7d"
            ],
            [
             0.2,
             "#de77ae"
            ],
            [
             0.3,
             "#f1b6da"
            ],
            [
             0.4,
             "#fde0ef"
            ],
            [
             0.5,
             "#f7f7f7"
            ],
            [
             0.6,
             "#e6f5d0"
            ],
            [
             0.7,
             "#b8e186"
            ],
            [
             0.8,
             "#7fbc41"
            ],
            [
             0.9,
             "#4d9221"
            ],
            [
             1,
             "#276419"
            ]
           ],
           "sequential": [
            [
             0,
             "#0d0887"
            ],
            [
             0.1111111111111111,
             "#46039f"
            ],
            [
             0.2222222222222222,
             "#7201a8"
            ],
            [
             0.3333333333333333,
             "#9c179e"
            ],
            [
             0.4444444444444444,
             "#bd3786"
            ],
            [
             0.5555555555555556,
             "#d8576b"
            ],
            [
             0.6666666666666666,
             "#ed7953"
            ],
            [
             0.7777777777777778,
             "#fb9f3a"
            ],
            [
             0.8888888888888888,
             "#fdca26"
            ],
            [
             1,
             "#f0f921"
            ]
           ],
           "sequentialminus": [
            [
             0,
             "#0d0887"
            ],
            [
             0.1111111111111111,
             "#46039f"
            ],
            [
             0.2222222222222222,
             "#7201a8"
            ],
            [
             0.3333333333333333,
             "#9c179e"
            ],
            [
             0.4444444444444444,
             "#bd3786"
            ],
            [
             0.5555555555555556,
             "#d8576b"
            ],
            [
             0.6666666666666666,
             "#ed7953"
            ],
            [
             0.7777777777777778,
             "#fb9f3a"
            ],
            [
             0.8888888888888888,
             "#fdca26"
            ],
            [
             1,
             "#f0f921"
            ]
           ]
          },
          "colorway": [
           "#636efa",
           "#EF553B",
           "#00cc96",
           "#ab63fa",
           "#FFA15A",
           "#19d3f3",
           "#FF6692",
           "#B6E880",
           "#FF97FF",
           "#FECB52"
          ],
          "font": {
           "color": "#2a3f5f"
          },
          "geo": {
           "bgcolor": "white",
           "lakecolor": "white",
           "landcolor": "#E5ECF6",
           "showlakes": true,
           "showland": true,
           "subunitcolor": "white"
          },
          "hoverlabel": {
           "align": "left"
          },
          "hovermode": "closest",
          "mapbox": {
           "style": "light"
          },
          "paper_bgcolor": "white",
          "plot_bgcolor": "#E5ECF6",
          "polar": {
           "angularaxis": {
            "gridcolor": "white",
            "linecolor": "white",
            "ticks": ""
           },
           "bgcolor": "#E5ECF6",
           "radialaxis": {
            "gridcolor": "white",
            "linecolor": "white",
            "ticks": ""
           }
          },
          "scene": {
           "xaxis": {
            "backgroundcolor": "#E5ECF6",
            "gridcolor": "white",
            "gridwidth": 2,
            "linecolor": "white",
            "showbackground": true,
            "ticks": "",
            "zerolinecolor": "white"
           },
           "yaxis": {
            "backgroundcolor": "#E5ECF6",
            "gridcolor": "white",
            "gridwidth": 2,
            "linecolor": "white",
            "showbackground": true,
            "ticks": "",
            "zerolinecolor": "white"
           },
           "zaxis": {
            "backgroundcolor": "#E5ECF6",
            "gridcolor": "white",
            "gridwidth": 2,
            "linecolor": "white",
            "showbackground": true,
            "ticks": "",
            "zerolinecolor": "white"
           }
          },
          "shapedefaults": {
           "line": {
            "color": "#2a3f5f"
           }
          },
          "ternary": {
           "aaxis": {
            "gridcolor": "white",
            "linecolor": "white",
            "ticks": ""
           },
           "baxis": {
            "gridcolor": "white",
            "linecolor": "white",
            "ticks": ""
           },
           "bgcolor": "#E5ECF6",
           "caxis": {
            "gridcolor": "white",
            "linecolor": "white",
            "ticks": ""
           }
          },
          "title": {
           "x": 0.05
          },
          "xaxis": {
           "automargin": true,
           "gridcolor": "white",
           "linecolor": "white",
           "ticks": "",
           "title": {
            "standoff": 15
           },
           "zerolinecolor": "white",
           "zerolinewidth": 2
          },
          "yaxis": {
           "automargin": true,
           "gridcolor": "white",
           "linecolor": "white",
           "ticks": "",
           "title": {
            "standoff": 15
           },
           "zerolinecolor": "white",
           "zerolinewidth": 2
          }
         }
        },
        "title": {
         "text": "Distribusi Periode Sewa"
        }
       }
      }
     },
     "metadata": {},
     "output_type": "display_data"
    },
    {
     "data": {
      "text/markdown": [
       "**Harga per Bulan vs Luas Bangunan**"
      ],
      "text/plain": [
       "<IPython.core.display.Markdown object>"
      ]
     },
     "metadata": {},
     "output_type": "display_data"
    },
    {
     "data": {
      "application/vnd.plotly.v1+json": {
       "config": {
        "plotlyServerURL": "https://plot.ly"
       },
       "data": [
        {
         "hovertemplate": "Property Type=Apartemen<br>Building Area (m²)=%{x}<br>Price=%{y}<extra></extra>",
         "legendgroup": "Apartemen",
         "marker": {
          "color": "#636efa",
          "symbol": "circle"
         },
         "mode": "markers",
         "name": "Apartemen",
         "showlegend": true,
         "type": "scattergl",
         "x": [
          169,
          55,
          42,
          30,
          115,
          33,
          167,
          33,
          115,
          88,
          55,
          33,
          42,
          42,
          73,
          74,
          58,
          30,
          55,
          31,
          55,
          55,
          105,
          114,
          105,
          79,
          162,
          51,
          51,
          49,
          103,
          115,
          33,
          28,
          150,
          168,
          168,
          147,
          28,
          150,
          150,
          382,
          147,
          147,
          168,
          150,
          168,
          28,
          28,
          147,
          30,
          70,
          70,
          42,
          73,
          70,
          40,
          132,
          120,
          70,
          260,
          30,
          70,
          96,
          148,
          67,
          49,
          65,
          150,
          64,
          28,
          131,
          126,
          48,
          58,
          25,
          86,
          55,
          180,
          28,
          168,
          48,
          147,
          58,
          48,
          28,
          260,
          58,
          268,
          268,
          85,
          33,
          42,
          79,
          91,
          48,
          130,
          160,
          268,
          41,
          58,
          51,
          49,
          94,
          130,
          35,
          35,
          42,
          88,
          38,
          94,
          40,
          48,
          38,
          49,
          76,
          36,
          96,
          96,
          70,
          49,
          57,
          33,
          95,
          141,
          260,
          31,
          89,
          49,
          40,
          135,
          45,
          49,
          55,
          320,
          65,
          74,
          80,
          217,
          33,
          35,
          77,
          74,
          35,
          42,
          193,
          46,
          32,
          147,
          58,
          168,
          33,
          28,
          145,
          58,
          48,
          33,
          160,
          21,
          145,
          168,
          95,
          181,
          21,
          115,
          71,
          80,
          65,
          79,
          38,
          66,
          58,
          38,
          65,
          46,
          65,
          42,
          65,
          58,
          69,
          100,
          38,
          55,
          21,
          150,
          105,
          38,
          33,
          135,
          135,
          33,
          65,
          36,
          78,
          154,
          42,
          40,
          44,
          52,
          65,
          49,
          33,
          51,
          74,
          78,
          225,
          70,
          58,
          33,
          27,
          33,
          55,
          58,
          28,
          52,
          78,
          27,
          43,
          43,
          42,
          91,
          45,
          144,
          115,
          48,
          42,
          268,
          100,
          58,
          97,
          42,
          117,
          108,
          88,
          55,
          83,
          103,
          183,
          49,
          376,
          55,
          70,
          150,
          168,
          38,
          40,
          30,
          109,
          76,
          55,
          190,
          73,
          225,
          33,
          74,
          49,
          228,
          38,
          126,
          127,
          57,
          72,
          260,
          90,
          131,
          32,
          46,
          65,
          42,
          45,
          260,
          38,
          74,
          92,
          92,
          60,
          103,
          47,
          38,
          82,
          40,
          72,
          71,
          47,
          62,
          103,
          103,
          71,
          85,
          72,
          29,
          21,
          40,
          34,
          36,
          225,
          73,
          33,
          165,
          122,
          114,
          252,
          165,
          33,
          73,
          73,
          33,
          58,
          33,
          119,
          73,
          33,
          45,
          21,
          96,
          34,
          80,
          33,
          100,
          61,
          268,
          61,
          33,
          61,
          161,
          73,
          104,
          61,
          33,
          120,
          61,
          88,
          89,
          105,
          61,
          61,
          42,
          61,
          73,
          42,
          42,
          103,
          52,
          86,
          103,
          60,
          113,
          55,
          33,
          60,
          28,
          196,
          115,
          42,
          115,
          61,
          61,
          79,
          28,
          58,
          91,
          135,
          72,
          65,
          80,
          115,
          110,
          21,
          141,
          153,
          65,
          45,
          260,
          186,
          28,
          91,
          260,
          60,
          153,
          100,
          150,
          40,
          126,
          65,
          150,
          42,
          38,
          28,
          74,
          268,
          70,
          77,
          52,
          49,
          33,
          65,
          38,
          125,
          133,
          107,
          76,
          42,
          58,
          93,
          64,
          33,
          178,
          75,
          58,
          90,
          56,
          182,
          66,
          56,
          56,
          56,
          38,
          56,
          71,
          182,
          56,
          50,
          71,
          36,
          36,
          42,
          76,
          73,
          21,
          63,
          103,
          21,
          21,
          131,
          74,
          33,
          21,
          40,
          106,
          42,
          27,
          38,
          21,
          51,
          28,
          42,
          159,
          39,
          28,
          28,
          49,
          28,
          28,
          61,
          65,
          28,
          131,
          28,
          28,
          61,
          33,
          80,
          28,
          65,
          60,
          58,
          103,
          90,
          182,
          42,
          148,
          75,
          40,
          73,
          49,
          182,
          42,
          65,
          58,
          103,
          42,
          65,
          230,
          65,
          38,
          65,
          268,
          21,
          103,
          45,
          55,
          90,
          34,
          28,
          115,
          55,
          228,
          183,
          55,
          183,
          123,
          55,
          55,
          33,
          183,
          93,
          38,
          100,
          196,
          49,
          168,
          35,
          65,
          115,
          167,
          38,
          65,
          95,
          48,
          132,
          103,
          33,
          175,
          105,
          23,
          100,
          126,
          119,
          65,
          42,
          42,
          53,
          120,
          58,
          42,
          36,
          105,
          33,
          33,
          58,
          80,
          33,
          40,
          55,
          58,
          130,
          40,
          38,
          157,
          58,
          78,
          55,
          33,
          105,
          33,
          45,
          83,
          55,
          48,
          100,
          49,
          48,
          115,
          115,
          48,
          55,
          55,
          80,
          55,
          52,
          115,
          36,
          55,
          49,
          351,
          157,
          158,
          225,
          126,
          158,
          55,
          351,
          175,
          157,
          93,
          268,
          175,
          221,
          174,
          351,
          153,
          96,
          149,
          260,
          270,
          50,
          75,
          77,
          104,
          115,
          104,
          89,
          88,
          115,
          45,
          63,
          82,
          62,
          34,
          52,
          145,
          182,
          76,
          62,
          57,
          46,
          55,
          57,
          30,
          55,
          104,
          55,
          115,
          115,
          55,
          115,
          183,
          217,
          33,
          115,
          115,
          115,
          182,
          268,
          55,
          183,
          38,
          183,
          147,
          109,
          65,
          55,
          38,
          75,
          65,
          103,
          38,
          130,
          55,
          168,
          103,
          166,
          95,
          42,
          33,
          103,
          77,
          42,
          58,
          103,
          38,
          38,
          77,
          182,
          65,
          65,
          320,
          38,
          38,
          42,
          65,
          38,
          65,
          103,
          33,
          90,
          65,
          56,
          55,
          44,
          53,
          45,
          61,
          43,
          65,
          260,
          57,
          26,
          33,
          81,
          76,
          115,
          109,
          55,
          157,
          88,
          109,
          115,
          49,
          76,
          126,
          74,
          33,
          36,
          90,
          130,
          73,
          61,
          42,
          74,
          53,
          60,
          86,
          32,
          115,
          87,
          61,
          68,
          261,
          35,
          52,
          62,
          147,
          62,
          73,
          33,
          147,
          130,
          58,
          133,
          217,
          87,
          105,
          196,
          70,
          118,
          147,
          118,
          268,
          131,
          186,
          62,
          103,
          260,
          64,
          58,
          44,
          217,
          147,
          182,
          42,
          100,
          40,
          73,
          58,
          73,
          54,
          260,
          42,
          40,
          80,
          33,
          147,
          48,
          55,
          48,
          119,
          28,
          33,
          33,
          225,
          30,
          33,
          38,
          45,
          65,
          122,
          88,
          122,
          33,
          122,
          42,
          76,
          65,
          40,
          33,
          122,
          40,
          33,
          65,
          58,
          58,
          58,
          42,
          65,
          38,
          42,
          65,
          104,
          58,
          65,
          77,
          38,
          99,
          38,
          38,
          38,
          101,
          38,
          42,
          112,
          115,
          35,
          113,
          111,
          90,
          29,
          65,
          100,
          32,
          123,
          42,
          65,
          56,
          260,
          105,
          73,
          77,
          35,
          58,
          84,
          85,
          260,
          38,
          54,
          55,
          72,
          105,
          33,
          57,
          168,
          196,
          105,
          90,
          168,
          36,
          90,
          49,
          35,
          35,
          55,
          58,
          90,
          70,
          55,
          55,
          86,
          120,
          56,
          122,
          33,
          42,
          38,
          38,
          60,
          36,
          38,
          217,
          76,
          115,
          48,
          115,
          167,
          56,
          115,
          55,
          182,
          55,
          46,
          81,
          77,
          61,
          115,
          55,
          157,
          55,
          96,
          30,
          131,
          66,
          48,
          131,
          268,
          44,
          42,
          75,
          35,
          131,
          30,
          90,
          131,
          48,
          100,
          76,
          127,
          50,
          99,
          35,
          44,
          42,
          65,
          104,
          48,
          74,
          48,
          49,
          58,
          133,
          104,
          40,
          58,
          80,
          74,
          75,
          65,
          110,
          42,
          26,
          52,
          86,
          37,
          60,
          95,
          42,
          103,
          28,
          65,
          42,
          68,
          71,
          58,
          55,
          38,
          38,
          38,
          33,
          55,
          77,
          33,
          48,
          42,
          33,
          42,
          55,
          38,
          50,
          49,
          38,
          45,
          55,
          73,
          70,
          200,
          155,
          71,
          55,
          49,
          119,
          150,
          105,
          35,
          225,
          65,
          119,
          159,
          186,
          70,
          77,
          77,
          184,
          186,
          58,
          186,
          89,
          42,
          28,
          42,
          49,
          186,
          43,
          79,
          115,
          52,
          42,
          42,
          29,
          42,
          42,
          70,
          74,
          200,
          42,
          65,
          52,
          65,
          76,
          73,
          65,
          55,
          73,
          65,
          123,
          80,
          77,
          48,
          60,
          45,
          42,
          40,
          73,
          114,
          38,
          57,
          27,
          55,
          150,
          60,
          60,
          125,
          260,
          79,
          61,
          400,
          400,
          90,
          48,
          105,
          33,
          400,
          400,
          38,
          80,
          245,
          36,
          225,
          36,
          36,
          98,
          150,
          36,
          193,
          147,
          44,
          73,
          40,
          44,
          75,
          77,
          119,
          65,
          70,
          57,
          85,
          28,
          61,
          76,
          42,
          33,
          50,
          88,
          35,
          78,
          35,
          24,
          196,
          55,
          79,
          36,
          78,
          33,
          49,
          45,
          86,
          78,
          70,
          96,
          36,
          45,
          42,
          65,
          58,
          91,
          58,
          48,
          48,
          38,
          38,
          58,
          58,
          58,
          58,
          96,
          40,
          58,
          58,
          65,
          35,
          196,
          38,
          55,
          74,
          103,
          56,
          33,
          65,
          40,
          87,
          55,
          33,
          28,
          105,
          33,
          58,
          76,
          58,
          61,
          61,
          260,
          122,
          55,
          70,
          48,
          48,
          177,
          55,
          88,
          48,
          57,
          48,
          28,
          57,
          55,
          76,
          29,
          40,
          74,
          60,
          55,
          55,
          217,
          60,
          260,
          55,
          157,
          33,
          60,
          42,
          32,
          49,
          38,
          100,
          104,
          177,
          93,
          115,
          99,
          157,
          58,
          157,
          77,
          113,
          33,
          110,
          73,
          340,
          42,
          131,
          73,
          49,
          132,
          88,
          90,
          65,
          28,
          60,
          90,
          150,
          120,
          150,
          37,
          90,
          90,
          33,
          90,
          90,
          280,
          33,
          260,
          252,
          55,
          55,
          28,
          23,
          85,
          105,
          340,
          73,
          75,
          57,
          50,
          32,
          26,
          77,
          93,
          41,
          28,
          60,
          28,
          56,
          60,
          28,
          110,
          42,
          42,
          66,
          198,
          40,
          103,
          36,
          60,
          36,
          42,
          48,
          65,
          42,
          35,
          70,
          76,
          42,
          65,
          31,
          36,
          42,
          42,
          36,
          65,
          58,
          42,
          42,
          42,
          67,
          65,
          65,
          76,
          127,
          92,
          28,
          126,
          48,
          260,
          62,
          65,
          67,
          33,
          42,
          100,
          74,
          90,
          72,
          50,
          30,
          85,
          25,
          25,
          50,
          33,
          25,
          76,
          48,
          72,
          150,
          148,
          33,
          33,
          33,
          33,
          31,
          33,
          33,
          33,
          33,
          33,
          42,
          33,
          33,
          33,
          33,
          33,
          33,
          33,
          33,
          77,
          103,
          77,
          61,
          114,
          26,
          35,
          64,
          75,
          33,
          103,
          65,
          42,
          41,
          48,
          33,
          27,
          73,
          43,
          112,
          109,
          64,
          94,
          73,
          45,
          51,
          48,
          41,
          35,
          35,
          48,
          131,
          72,
          100,
          48,
          58,
          52,
          225,
          39,
          48,
          115,
          54,
          36,
          48,
          100,
          90,
          124,
          168,
          91,
          58,
          225,
          45,
          42,
          33,
          50,
          125,
          25,
          179,
          36,
          85,
          76,
          35,
          45,
          160,
          78,
          122,
          27,
          49,
          50,
          38,
          58,
          35,
          48,
          45,
          55,
          225,
          260,
          225,
          80,
          35,
          40,
          62,
          62,
          48,
          40,
          35,
          65,
          45,
          32,
          40,
          159,
          62,
          46,
          109,
          76,
          38,
          58,
          79,
          50,
          95,
          100,
          122,
          95,
          91,
          160,
          49,
          70,
          131,
          35,
          45,
          159,
          105,
          141,
          74,
          105,
          44,
          37,
          38,
          42,
          49,
          43,
          150,
          65,
          150,
          38,
          38,
          77,
          80,
          49,
          65,
          38,
          38,
          110,
          38,
          38,
          217,
          61,
          38,
          157,
          52,
          38,
          43,
          104,
          128,
          260,
          55,
          60,
          42,
          43,
          43,
          135,
          40,
          45,
          36,
          33,
          45,
          131,
          78,
          33,
          102,
          36,
          149,
          70,
          110,
          200,
          41,
          80,
          25,
          41,
          35,
          76,
          42,
          42,
          40,
          58,
          105,
          35,
          64,
          25,
          55,
          50,
          182,
          34,
          343,
          55,
          182,
          25,
          73,
          63,
          210,
          86,
          35,
          65,
          93,
          30,
          70,
          21,
          115,
          40,
          168,
          80,
          115,
          33,
          132,
          95,
          73,
          49,
          70,
          196,
          283,
          141,
          49,
          28,
          70,
          193,
          76,
          76,
          62,
          126,
          245,
          73,
          74,
          31,
          126,
          57,
          33,
          33,
          33,
          168,
          33,
          143,
          86,
          33,
          33,
          33,
          68,
          35,
          21,
          33,
          38,
          34,
          60,
          70,
          55,
          55,
          50,
          58,
          55,
          33,
          103,
          33,
          55,
          33,
          32,
          31,
          109,
          280,
          53,
          76,
          53,
          33,
          76,
          109
         ],
         "xaxis": "x",
         "y": [
          40000000,
          22000000,
          10000000,
          7000000,
          38000000,
          2916666.6666666665,
          32100000,
          9000000,
          38000000,
          10000000,
          21000000,
          2000000,
          20900000,
          7000000,
          2916666.6666666665,
          3750000,
          8750000,
          7000000,
          22600000,
          2666666.6666666665,
          20000000,
          22000000,
          23000000,
          15000000,
          38000000,
          7500000,
          15416666666.666666,
          4583333.333333333,
          55000000,
          8333333.333333333,
          13000000,
          40000000,
          3583333.3333333335,
          6666666.666666667,
          32000000,
          48833333.333333336,
          48833333.333333336,
          31666666.666666668,
          6666666.666666667,
          32000000,
          32000000,
          65000000,
          31666666.666666668,
          31666666.666666668,
          48833333.333333336,
          32000000,
          48833333.333333336,
          6666666.666666667,
          6666666.666666667,
          31666666.666666668,
          2666666.6666666665,
          17916666.666666668,
          17916666.666666668,
          7500000,
          6500000,
          1500000,
          9000000,
          28000000,
          4916666.666666667,
          17916666.666666668,
          80000000,
          3900000,
          17916666.666666668,
          4916666.666666667,
          50000000,
          19000000,
          4083333.3333333335,
          9000000,
          47300000,
          16666666.666666666,
          7000000,
          42300000,
          12500000,
          8000000,
          9000000,
          7000000,
          14166666.666666666,
          19200000,
          20000000,
          7000000,
          48833333.333333336,
          12000000,
          31666666.666666668,
          9000000,
          7000000,
          3333333.3333333335,
          69000000,
          10000000,
          86666666.66666667,
          86666666.66666667,
          4583333.333333333,
          3333333.3333333335,
          6750000,
          7500000,
          8333333.333333333,
          7500000,
          18000000,
          22916666.666666668,
          86666666.66666667,
          6500000,
          8500000,
          9000000,
          5833333.333333333,
          4583333.333333333,
          18000000,
          3333333.3333333335,
          4583333.333333333,
          6750000,
          10250000,
          6000000,
          5833333.333333333,
          5000000,
          6250000,
          7500000,
          4250000,
          5291666.666666667,
          5000000,
          5000000,
          4583333.333333333,
          4166666.6666666665,
          3833333.3333333335,
          9166666.666666666,
          2666666.6666666665,
          14000000,
          35000000,
          66300000,
          3750000,
          16000000,
          4583333.333333333,
          6300000,
          21000000,
          9500000,
          7916666.666666667,
          8000000,
          86000000,
          9500000,
          5833333.333333333,
          6666666.666666667,
          67500000,
          7000000,
          2500000,
          3750000,
          7500000,
          1666666.6666666667,
          17000000,
          72250000,
          10000000,
          2500000,
          36833333.333333336,
          11000000,
          48000000,
          12000000,
          7000000,
          40500000,
          8500000,
          8333333.333333333,
          3333333.3333333335,
          41000000,
          9000000,
          40000000,
          43300000,
          15000000,
          53000000,
          9000000,
          25000000,
          7500000,
          10833333.333333334,
          9500000,
          6666666.666666667,
          19400000,
          10000000,
          9500000,
          7000000,
          10500000,
          8500000,
          9000000,
          7000000,
          9500000,
          9000000,
          8600000,
          13500000,
          7000000,
          22000000,
          20000000,
          48000000,
          15000000,
          6500000,
          4583333.333333333,
          27000000,
          25000000,
          25000000,
          11500000,
          3083333.3333333335,
          14000000,
          42083333.333333336,
          8000000,
          9000000,
          5833333.333333333,
          8000000,
          9166666.666666666,
          5000000,
          4583333.333333333,
          9500000,
          5000000,
          8750000,
          46000000,
          18000000,
          12000000,
          7500000,
          5208333.333333333,
          4500000,
          24333333.333333332,
          12000000,
          7000000,
          6500000,
          14000000,
          3200000,
          5833333.333333333,
          5833333.333333333,
          3916666.6666666665,
          9166666.666666666,
          3750000,
          20000000,
          34000000,
          8500000,
          7000000,
          85833333.33333333,
          13000000,
          9500000,
          8083333.333333333,
          6500000,
          15000000,
          26000000,
          10000000,
          22000000,
          21100000,
          16000000,
          61700000,
          4083333.3333333335,
          162500000,
          24300000,
          10000000,
          45000000,
          33000000,
          3083333.3333333335,
          13000000,
          4166666.6666666665,
          10833333.333333334,
          7083333.333333333,
          20200000,
          29200000,
          4166666.6666666665,
          55000000,
          3500000,
          4166666.6666666665,
          5000000,
          67900000,
          13500000,
          34000000,
          33333333.333333332,
          3500000,
          14000000,
          65000000,
          10416666.666666666,
          45000000,
          5416666.666666667,
          4833333.333333333,
          8000000,
          6000000,
          6250000,
          57200000,
          5833333.333333333,
          6500000,
          6250000,
          6250000,
          5000000,
          10000000,
          5000000,
          3333333.3333333335,
          7250000,
          3333333.3333333335,
          5000000,
          4166666.6666666665,
          5000000,
          5625000,
          10000000,
          10000000,
          4250000,
          8333333.333333333,
          4583333.333333333,
          6000000,
          1166666.6666666667,
          7500000,
          1500000,
          3083333.3333333335,
          49000000,
          6500000,
          3166666.6666666665,
          18333333.333333332,
          28000000,
          8166666.666666667,
          5066666.666666667,
          15416666.666666666,
          2083333.3333333333,
          4166666.6666666665,
          6250000,
          141000000,
          6250000,
          6000000,
          8333333.333333333,
          7083333.333333333,
          4500000,
          12100000,
          1083333.3333333333,
          5750000,
          1500000,
          15000000,
          5000000,
          8333333.333333333,
          11000000,
          63166666.666666664,
          11000000,
          7500000,
          11000000,
          18750000,
          6500000,
          35000000,
          11000000,
          7250000,
          11666666.666666666,
          11000000,
          11500000,
          4166666.6666666665,
          15000000,
          11000000,
          11000000,
          6000000,
          11000000,
          6250000,
          7000000,
          7000000,
          15500000,
          9000000,
          12500000,
          14000000,
          12500000,
          10833333.333333334,
          2083333.3333333333,
          4000000,
          12500000,
          4666666.666666667,
          16666666.666666666,
          10000000,
          6000000,
          10000000,
          11000000,
          11000000,
          7500000,
          7000000,
          8000000,
          5833333.333333333,
          14000000,
          13500000,
          9500000,
          8333333.333333333,
          39000000,
          7500000,
          4000000,
          14583333.333333334,
          41000000,
          10000000,
          4583333.333333333,
          72000000,
          45000000,
          6500000,
          8333333.333333333,
          64500000,
          17000000,
          51250000,
          13000000,
          52500000,
          5833333.333333333,
          35000000,
          9000000,
          45900000,
          13000000,
          7500000,
          6500000,
          54166666.666666664,
          81000000,
          9500000,
          9500000,
          8000000,
          6250000,
          3583333.3333333335,
          10000000,
          7000000,
          14583333.333333334,
          37000000,
          20000000,
          4166666.6666666665,
          7000000,
          9500000,
          10416666.666666666,
          15000000,
          7500000,
          52000000,
          4166666.6666666665,
          9500000,
          9500000,
          8000000,
          42000000,
          12000000,
          8000000,
          8000000,
          8000000,
          6000000,
          8000000,
          2791666.6666666665,
          48000000,
          8000000,
          2750000,
          3333333.3333333335,
          15000000,
          13500000,
          6000000,
          10000000,
          6250000,
          3083333.3333333335,
          16000000,
          13000000,
          1666666.6666666667,
          4000000,
          43900000,
          6250000,
          7000000,
          12000000,
          8750000,
          8833333.333333334,
          8000000,
          6250000,
          7000000,
          1000000,
          5833333.333333333,
          6000000,
          7000000,
          3500000,
          2000000,
          6000000,
          6000000,
          5416666.666666667,
          6500000,
          6000000,
          13500000,
          9500000,
          6000000,
          14166666.666666666,
          6500000,
          6000000,
          13500000,
          4583333.333333333,
          7083333.333333333,
          6500000,
          10500000,
          14500000,
          4000000,
          15000000,
          13000000,
          71000000,
          7000000,
          43000000,
          15000000,
          7083333.333333333,
          6250000,
          5000000,
          71000000,
          7000000,
          9500000,
          9500000,
          12000000,
          7000000,
          9500000,
          48000000,
          10000000,
          7000000,
          9500000,
          74000000,
          2750000,
          34400000,
          3750000,
          24500000,
          7083333.333333333,
          3916666.6666666665,
          5416666.666666667,
          40900000,
          21300000,
          52000000,
          52500000,
          21300000,
          65500000,
          35000000,
          22100000,
          21200000,
          4000000,
          62500000,
          34000000,
          6500000,
          7500000,
          20833333.333333332,
          3750000,
          36750000,
          6000000,
          12000000,
          44500000,
          48500000,
          5700000,
          8700000,
          25833333.333333332,
          7500000,
          39000000,
          41000000,
          7500000,
          57583333.333333336,
          17000000,
          4166666.6666666665,
          33000000,
          33000000,
          21500000,
          9500000,
          7000000,
          6000000,
          10000000,
          38000000,
          10000000,
          4500000,
          5000000,
          19000000,
          3750000,
          3333333.3333333335,
          5000000,
          8333333.333333333,
          3750000,
          3000000,
          23000000,
          10000000,
          20000000,
          5833333.333333333,
          6000000,
          40750000,
          9000000,
          14000000,
          21000000,
          5300000,
          17000000,
          4000000,
          9000000,
          18000000,
          23000000,
          4166666.6666666665,
          8333333.333333333,
          4333333.333333333,
          7500000,
          41000000,
          41000000,
          7500000,
          23000000,
          23000000,
          7083333.333333333,
          23000000,
          4833333.333333333,
          41000000,
          3000000,
          22000000,
          4333333.333333333,
          95600000,
          54600000,
          43800000,
          59400000,
          42000000,
          43800000,
          23300000,
          93300000,
          54900000,
          55000000,
          32200000,
          90600000,
          54700000,
          22900000,
          53300000,
          43800000,
          38500000,
          4666666.666666667,
          10833333.333333334,
          59000000,
          70000000,
          3750000,
          26000000,
          10000000,
          38000000,
          36000000,
          32000000,
          4583333.333333333,
          14000000,
          42000000,
          8500000,
          14000000,
          30000000,
          7500000,
          7000000,
          6500000,
          20833333.333333332,
          95000000,
          16000000,
          6250000,
          5750000,
          8500000,
          19000000,
          10000000,
          7000000,
          21200000,
          35000000,
          21000000,
          39200000,
          37000000,
          22000000,
          34000000,
          57000000,
          71000000,
          3333333.3333333335,
          37900000,
          37000000,
          37000000,
          55000000,
          78000000,
          21000000,
          56000000,
          3750000,
          49000000,
          25000000,
          10833333.333333334,
          11000000,
          21000000,
          7500000,
          6666666.666666667,
          11000000,
          16000000,
          7500000,
          26000000,
          24000000,
          20833333.333333332,
          16000000,
          31666666.666666668,
          23000000,
          8500000,
          8000000,
          16000000,
          11000000,
          7500000,
          9000000,
          14000000,
          7000000,
          6500000,
          11000000,
          63800000,
          10000000,
          8500000,
          80416666.66666667,
          7000000,
          7000000,
          7500000,
          9500000,
          7000000,
          10000000,
          14500000,
          7500000,
          18000000,
          6500000,
          7083333.333333333,
          20000000,
          13750000,
          4750000,
          6250000,
          5416666.666666667,
          9500000,
          5000000,
          69000000,
          22400000,
          5000000,
          5500000,
          28000000,
          11000000,
          40000000,
          5833333.333333333,
          23000000,
          54000000,
          13000000,
          13333333.333333334,
          33000000,
          3333333.3333333335,
          7916666.666666667,
          43600000,
          3333333.3333333335,
          8000000,
          3000000,
          5000000,
          13750000,
          6250000,
          7083333.333333333,
          4166666.6666666665,
          6250000,
          4750000,
          12500000,
          16000000,
          2166666.6666666665,
          23750000,
          18000000,
          7083333.333333333,
          20000000,
          62000000,
          4000000,
          10500000,
          6666666.666666667,
          45900000,
          11000000,
          5833333.333333333,
          1916666.6666666667,
          45900000,
          45900000,
          4833333.333333333,
          40000000,
          79000000,
          12500000,
          20000000,
          20833333.333333332,
          9166666.666666666,
          10000000,
          45900000,
          10000000,
          79000000,
          39000000,
          30000000,
          13500000,
          14000000,
          70000000,
          16000000,
          14000000,
          9166666.666666666,
          67500000,
          35000000,
          56000000,
          7000000,
          25000000,
          13500000,
          6500000,
          14000000,
          6250000,
          10000000,
          64000000,
          7000000,
          7500000,
          16000000,
          5500000,
          40500000,
          8000000,
          25000000,
          7500000,
          8333333.333333333,
          5833333.333333333,
          4166666.6666666665,
          7500000,
          45000000,
          3980000,
          7000000,
          7000000,
          12500000,
          13000000,
          14000000,
          9583333.333333334,
          33500000,
          7500000,
          13333333.333333334,
          7000000,
          10416666.666666666,
          10000000,
          6500000,
          3333333.3333333335,
          13333333.333333334,
          3750000,
          8000000,
          10500000,
          9500000,
          9000000,
          9000000,
          7000000,
          9500000,
          7000000,
          7000000,
          11500000,
          38600000,
          9500000,
          10000000,
          11000000,
          7000000,
          10416666.666666666,
          7000000,
          7000000,
          7200000,
          11000000,
          7000000,
          7000000,
          19000000,
          43400000,
          3750000,
          9583333.333333334,
          7500000,
          18333333.333333332,
          2500000,
          8500000,
          13500000,
          4583333.333333333,
          30583333.333333332,
          8000000,
          8500000,
          11000000,
          70000000,
          38833333.333333336,
          6250000,
          15000000,
          5000000,
          9000000,
          15000000,
          15000000,
          70000000,
          7000000,
          4166666.6666666665,
          20083333.333333332,
          11250000,
          7500000,
          6500000,
          11000000,
          45300000,
          19166666.666666668,
          16666666.666666666,
          16000000,
          48600000,
          2916666.6666666665,
          6250000,
          5416666.666666667,
          4083333.3333333335,
          4083333.3333333335,
          19000000,
          11500000,
          16000000,
          4166666.6666666665,
          20000000,
          20000000,
          15000000,
          40000000,
          12000000,
          14166666.666666666,
          3500000,
          7500000,
          7000000,
          7000000,
          16666666.666666666,
          3000000,
          9500000,
          65000000,
          14166666.666666666,
          40000000,
          3750000,
          30900000,
          32500000,
          12083333.333333334,
          37300000,
          22900000,
          53000000,
          21300000,
          7500000,
          23700000,
          9166666.666666666,
          11666666.666666666,
          38100000,
          20000000,
          43400000,
          23000000,
          10416666.666666666,
          7083333.333333333,
          41666666.666666664,
          14000000,
          4583333.333333333,
          41666666.666666664,
          86666666.66666667,
          3500000,
          6000000,
          10000000,
          4166666.6666666665,
          41666666.666666664,
          2916666.6666666665,
          12500000,
          41666666.666666664,
          4583333.333333333,
          7083333.333333333,
          15000000,
          14583333.333333334,
          4166666.6666666665,
          7083333.333333333,
          4166666.6666666665,
          3500000,
          7000000,
          8000000,
          32083333.333333332,
          7000000,
          3750000,
          7000000,
          3750000,
          10000000,
          43333333.333333336,
          31000000,
          6000000,
          9000000,
          9500000,
          3750000,
          8333333.333333333,
          9500000,
          7083333.333333333,
          6000000,
          5833333.333333333,
          7000000,
          15000000,
          3000000,
          12000000,
          18000000,
          7000000,
          15000000,
          6000000,
          8000000,
          6000000,
          9000000,
          8500000,
          9200000,
          18000000,
          7000000,
          7000000,
          8000000,
          4800000,
          19600000,
          12000000,
          5500000,
          8000000,
          8000000,
          12000000,
          7500000,
          8000000,
          8000000,
          8000000,
          5000000,
          8000000,
          8000000,
          18333333.333333332,
          20000000,
          6250000,
          29166666.666666668,
          25000000,
          3333333.3333333335,
          16666666.666666666,
          6250000,
          11666666.666666666,
          25000000,
          7500000,
          4166666.6666666665,
          49000000,
          11000000,
          11666666.666666666,
          4583333.333333333,
          43000000,
          13500000,
          9583333.333333334,
          3750000,
          37500000,
          43000000,
          9000000,
          43000000,
          16000000,
          7000000,
          6500000,
          6000000,
          7916666.666666667,
          43000000,
          4500000,
          6666666.666666667,
          37500000,
          8500000,
          7000000,
          6500000,
          6000000,
          6000000,
          8000000,
          15000000,
          5000000,
          72000000,
          6000000,
          8000000,
          9000000,
          8000000,
          7500000,
          6250000,
          11000000,
          21000000,
          5416666.666666667,
          10500000,
          11250000,
          18600000,
          11000000,
          7500000,
          12500000,
          3083333.3333333335,
          7000000,
          10500000,
          4583333.333333333,
          12500000,
          7000000,
          5000000,
          5500000,
          25000000,
          44916666.666666664,
          12500000,
          15000000,
          12083333.333333334,
          70000000,
          8333333.333333333,
          15000000,
          240000000,
          240000000,
          15000000,
          7500000,
          14500000,
          3300000000,
          240000000,
          240000000,
          2500000,
          12000000,
          40000000,
          2333333.3333333335,
          40000000,
          27000000,
          3333333.3333333335,
          11000000,
          45000000,
          6000000,
          69000000,
          32000000,
          13000000,
          4583333.333333333,
          4166666.6666666665,
          13500000,
          9166666.666666666,
          10000000,
          8333333.333333333,
          14000000,
          4166666.6666666665,
          6250000,
          3333333.3333333335,
          7500000,
          14166666.666666666,
          6666666.666666667,
          3333333.3333333335,
          7500000,
          4166666.6666666665,
          10833333.333333334,
          4166666.6666666665,
          12000000,
          4166666.6666666665,
          2916666.6666666665,
          18333333.333333332,
          22500000,
          8333333.333333333,
          4166666.6666666665,
          8166666.666666667,
          6000000,
          5833333.333333333,
          7000000,
          16000000,
          8166666.666666667,
          4416666.666666667,
          4833333.333333333,
          4166666.6666666665,
          7000000,
          7500000,
          8900000,
          8500000,
          8333333.333333333,
          8500000,
          7000000,
          7000000,
          9750000,
          10000000,
          8500000,
          8500000,
          8500000,
          8500000,
          4583333.333333333,
          7000000,
          8500000,
          8500000,
          9500000,
          6500000,
          14166666.666666666,
          7000000,
          21000000,
          13000000,
          14000000,
          7250000,
          6666666.666666667,
          9500000,
          10500000,
          29000000,
          21000000,
          3083333.3333333335,
          7000000,
          450000000,
          7500000,
          9000000,
          9500000,
          9000000,
          15000000,
          16000000,
          77000000,
          30000000,
          21500000,
          10000000,
          8000000,
          8500000,
          56000000,
          23000000,
          10416666.666666666,
          7500000,
          5416666.666666667,
          7500000,
          6500000,
          3958333.3333333335,
          20000000,
          5458333.333333333,
          2916666.6666666665,
          5250000,
          7916666.666666667,
          2500000,
          22000000,
          22000000,
          69000000,
          4166666.6666666665,
          72000000,
          22000000,
          53100000,
          16000000,
          2500000,
          7500000,
          3750000,
          4166666.6666666665,
          3750000,
          25000000,
          9166666.666666666,
          56000000,
          9166666.666666666,
          40000000,
          10416666.666666666,
          48500000,
          4583333.333333333,
          39000000,
          5833333.333333333,
          10000000,
          10000000,
          7083333.333333333,
          4166666.6666666665,
          72400000,
          15000000,
          40000000,
          6666666.666666667,
          4583333.333333333,
          39000000,
          14000000,
          6250000,
          9000000,
          7500000,
          18000000,
          6250000,
          45000000,
          41300000,
          38000000,
          3000000,
          6250000,
          6250000,
          7500000,
          6250000,
          6250000,
          43500000,
          2500000,
          69300000,
          73700000,
          20000000,
          19100000,
          5000000,
          2250000,
          5416666.666666667,
          15000000,
          72833333.33333333,
          4583333.333333333,
          9500000,
          5000000,
          5833333.333333333,
          4000000,
          5000000,
          11000000,
          15416666.666666666,
          6500000,
          5000000,
          15000000,
          7500000,
          7500000,
          15000000,
          6500000,
          11250000,
          7000000,
          7000000,
          11000000,
          41666666.666666664,
          7500000,
          12000000,
          15000000,
          16000000,
          15000000,
          8500000,
          8500000,
          10000000,
          8500000,
          5000000,
          11250000,
          6250000,
          7250000,
          9583333.333333334,
          3333333.3333333335,
          17000000,
          7000000,
          8500000,
          3166666.6666666665,
          10000000,
          10000000,
          8500000,
          8500000,
          8500000,
          11666666.666666666,
          8000000,
          8000000,
          7500000,
          37500000,
          30000000,
          2250000,
          28333333.333333332,
          15000000,
          51000000,
          4833333.333333333,
          8000000,
          4583333.333333333,
          2833333.3333333335,
          3333333.3333333335,
          10000000,
          4583333.333333333,
          3833333.3333333335,
          27000000,
          3750000,
          3083333.3333333335,
          15000000,
          3083333.3333333335,
          3083333.3333333335,
          13000000,
          3333333.3333333335,
          3083333.3333333335,
          7500000,
          6100000,
          12000000,
          43000000,
          16800000,
          4583333333.333333,
          16500000,
          4500000,
          5500000,
          7000000,
          4583333.333333333,
          13500000,
          27500000,
          27500000,
          4500000,
          6500000,
          13500000,
          5500000,
          27000000,
          4583333.333333333,
          27500000,
          16500000,
          16500000,
          16500000,
          11000000,
          14000000,
          20000000,
          10416666.666666666,
          7500000,
          7000000,
          6500000,
          9500000,
          9000000,
          5500000,
          15000000,
          9500000,
          9000000,
          5500000,
          11000000,
          5500000,
          2300000,
          5416666.666666667,
          7500000,
          23333333.333333332,
          10000000,
          12500000,
          4166666.6666666665,
          4333333.333333333,
          3750000,
          8000000,
          7000000,
          6300000,
          4166666.6666666665,
          3333333.3333333335,
          7500000,
          12083333.333333334,
          17000000,
          3333333.3333333335,
          7500000,
          8000000,
          7083333.333333333,
          59000000,
          6200000,
          7500000,
          39000000,
          8000000,
          3083333.3333333335,
          7500000,
          10000000,
          34000000,
          16666666.666666666,
          44000000,
          10000000,
          11000000,
          56000000,
          3250000,
          15000000,
          4000000,
          5833333.333333333,
          40000000,
          3333333.3333333335,
          59200000,
          5000000,
          8500000,
          3750000,
          3000000,
          3750000,
          42166666.666666664,
          10500000,
          9166666.666666666,
          2083333.3333333333,
          3916666.6666666665,
          2750000,
          2250000,
          8500000,
          3000000,
          7500000,
          3750000,
          27500000,
          58000000,
          73000000,
          45000000,
          14500000,
          5083333.333333333,
          11000000,
          7083333.333333333,
          5208333.333333333,
          7500000,
          5083333.333333333,
          5000000,
          13000000,
          3750000,
          5000000,
          9500000,
          4583333.333333333,
          6500000,
          7500000,
          13750000,
          16500000,
          2250000,
          8500000,
          7083333.333333333,
          4500000,
          3666666.6666666665,
          25000000,
          29083333.333333332,
          3666666.6666666665,
          7916666.666666667,
          3500000,
          4166666.6666666665,
          15000000,
          11416666.666666666,
          2916666.6666666665,
          4083333.3333333335,
          4583333.333333333,
          42500000,
          10833333.333333334,
          7500000,
          42500000,
          14000000,
          2291666.6666666665,
          7000000,
          6250000,
          4333333.333333333,
          6500000,
          40300000,
          13500000,
          44100000,
          7000000,
          7000000,
          10500000,
          11000000,
          4250000,
          9500000,
          7000000,
          7000000,
          13750000,
          7000000,
          7000000,
          63000000,
          10416666.666666666,
          6666666.666666667,
          54200000,
          8333333.333333333,
          6666666.666666667,
          15000000,
          36000000,
          34000000,
          63000000,
          18700000,
          3333333.3333333335,
          5833333.333333333,
          15000000,
          15000000,
          35000000,
          3333333.3333333335,
          4833333.333333333,
          9000000,
          3700000,
          3916666.6666666665,
          15000000,
          11000000,
          4500000,
          13500000,
          9000000,
          45000000,
          8166666.666666667,
          7083333.333333333,
          30000000,
          225000000,
          11000000,
          7000000,
          175000000,
          8500000,
          7083333.333333333,
          8500000,
          7000000,
          4750000,
          5416666.666666667,
          35000000,
          3000000,
          6250000,
          7000000,
          27000000,
          3250000,
          63000000,
          2666666.6666666665,
          2666666.6666666665,
          19500000,
          50000000,
          8000000,
          20000000,
          16000000,
          68000000,
          12500000,
          3083333.3333333335,
          10000000,
          20000000,
          3333333.3333333335,
          7500000,
          3500000,
          37000000,
          10833333.333333334,
          51000000,
          6666666.666666667,
          38000000,
          400000,
          9166666.666666666,
          15500000,
          6666666.666666667,
          4166666.6666666665,
          6250000,
          20000000,
          60000000,
          13333333.333333334,
          4000000,
          5416666.666666667,
          9166666.666666666,
          20000000,
          6250000,
          5833333.333333333,
          5000000,
          36000000,
          52500000,
          6666666.666666667,
          6666666.666666667,
          5000000,
          12500000,
          3583333.3333333335,
          4700000,
          12000000,
          4500000,
          42000000,
          5000000,
          41000000,
          17500000,
          12000000,
          5500000,
          5000000,
          8000000,
          8000000,
          3500000,
          5000000,
          7000000,
          3750000,
          12500000,
          6250000,
          22500000,
          20000000,
          8333333.333333333,
          9500000,
          23000000,
          5000000,
          32000000,
          90000000,
          18750000,
          4166666.6666666665,
          8333333.333333333,
          2916666.6666666665,
          13333333.333333334,
          30000000,
          6000000,
          9500000,
          5900000,
          490000000,
          8333333.333333333,
          13333333.333333334
         ],
         "yaxis": "y"
        },
        {
         "hovertemplate": "Property Type=Rumah<br>Building Area (m²)=%{x}<br>Price=%{y}<extra></extra>",
         "legendgroup": "Rumah",
         "marker": {
          "color": "#EF553B",
          "symbol": "circle"
         },
         "mode": "markers",
         "name": "Rumah",
         "showlegend": true,
         "type": "scattergl",
         "x": [
          600,
          700,
          600,
          300,
          285,
          800,
          500,
          113,
          200,
          225,
          300,
          250,
          480,
          96,
          200,
          600,
          300,
          460,
          288,
          520,
          508,
          725,
          1000,
          800,
          600,
          190,
          77,
          1000,
          1000,
          646,
          298,
          600,
          600,
          160,
          508,
          800,
          500,
          1400,
          508,
          700,
          250,
          700,
          336,
          800,
          600,
          374,
          700,
          300,
          1500,
          800,
          176,
          94,
          600,
          650,
          1500,
          850,
          200,
          800,
          500,
          530,
          400,
          300,
          400,
          300,
          603,
          90,
          450,
          150,
          508,
          950,
          1000,
          750,
          400,
          1000,
          800,
          200,
          320,
          320,
          800,
          300,
          440,
          500,
          1200,
          520,
          800,
          1000,
          1980,
          400,
          440,
          300,
          374,
          440,
          1000,
          240,
          650,
          118,
          520,
          520,
          38,
          45,
          77,
          77,
          400,
          150,
          1000,
          300,
          1100,
          663,
          800,
          440,
          800,
          1170,
          400,
          900,
          1500,
          900,
          536,
          800,
          700,
          15,
          15,
          230,
          15,
          285,
          208,
          15,
          725,
          1500,
          390,
          1500,
          200,
          285,
          1600,
          155,
          252,
          200,
          700,
          250,
          2000,
          360,
          550,
          288,
          600,
          374,
          300,
          440,
          300,
          1500,
          120,
          150,
          520,
          240,
          240,
          520,
          520,
          550,
          600,
          450,
          140,
          700,
          72,
          1585,
          220,
          500,
          1500,
          300,
          600,
          350,
          200,
          250,
          200,
          650,
          600,
          600,
          1000,
          508,
          580,
          300,
          1000,
          646,
          336,
          255,
          90,
          250,
          650,
          392,
          300,
          600,
          600,
          800,
          250,
          250,
          300,
          800,
          500,
          3,
          300,
          400,
          200,
          230,
          400,
          200,
          700,
          800,
          60,
          370,
          300,
          1400,
          800,
          1200,
          1500,
          290,
          600,
          1400,
          1200,
          450,
          400,
          500,
          1300,
          1000,
          300,
          500,
          700,
          600,
          400,
          800,
          1500,
          600,
          500,
          500,
          90,
          175,
          230,
          9,
          233,
          500,
          850,
          250,
          1000,
          400,
          350,
          200,
          1300,
          850,
          1000,
          600,
          120,
          110,
          350,
          580,
          646,
          1000,
          600,
          150,
          300,
          700,
          5,
          600,
          700,
          1585,
          700,
          520,
          500,
          500,
          800,
          400,
          800,
          800,
          160,
          800,
          400,
          670,
          1500,
          600,
          580,
          600,
          250,
          160,
          400,
          120,
          200,
          200,
          500,
          300,
          30,
          1000
         ],
         "xaxis": "x",
         "y": [
          70833333.33333333,
          93900000,
          50000000,
          23500000,
          37500000,
          70750000,
          16666666.666666666,
          10000000,
          7500000,
          7916666.666666667,
          16666666.666666666,
          5000000,
          20000000,
          7083333.333333333,
          16666666.666666666,
          242500000,
          28900000,
          40000000,
          16666666.666666666,
          100000000,
          91666666.66666667,
          66666666.666666664,
          145000000,
          125000000,
          64750000,
          6250000,
          5833333.333333333,
          150000000,
          166666666.66666666,
          41666666.666666664,
          7500000,
          70833333.33333333,
          70833333.33333333,
          3125000,
          87500000,
          179166666.66666666,
          66666666.666666664,
          207500000,
          90000000,
          154000000,
          12500000,
          66666666.666666664,
          20833333.333333332,
          125000000,
          37500000,
          50000000,
          125000000,
          33333333.333333332,
          166666666.66666666,
          210000000,
          6250000,
          3750000,
          41666666.666666664,
          86666666.66666667,
          183333333.33333334,
          108000000,
          45833333.333333336,
          140000000,
          104166666.66666667,
          49600000,
          50000000,
          41666666.666666664,
          16666666.666666666,
          41666666.666666664,
          125000000,
          5250000,
          60000000,
          6666666.666666667,
          82500000,
          33333333.333333332,
          158333333.33333334,
          40000000,
          37500000,
          170833333.25,
          155000000,
          5833333.333333333,
          16666666.666666666,
          16666666.666666666,
          183333333.33333334,
          45833333.333333336,
          58333333.333333336,
          62500000,
          300000000,
          100000000,
          183333333.33333334,
          143333333.33333334,
          300000000,
          100000000,
          58333333.333333336,
          29166666.666666668,
          50000000,
          58333333.333333336,
          125000000,
          20000000,
          120000000,
          28000000,
          100000000,
          100000000,
          4166666.6666666665,
          5000000,
          5833333.333333333,
          5833333.333333333,
          29166666.666666668,
          15000000,
          458333333.3333333,
          54166666.666666664,
          195000000,
          150000000,
          125000000,
          58333333.333333336,
          95833333.33333333,
          115000000,
          37500000,
          50000000,
          310000000,
          150000000,
          58333333.333333336,
          95833333.33333333,
          200000000,
          2600000,
          2400000,
          37000000,
          2400000,
          29166666.666666668,
          13750000,
          2600000,
          66666666.666666664,
          200000000,
          22916666.666666668,
          315000000,
          10416666.666666666,
          29166666.666666668,
          108333333.33333333,
          20833333.333333332,
          11250000,
          6666666.666666667,
          93900000,
          16666666.666666666,
          362500000,
          29166666.666666668,
          27083333.333333332,
          13750000,
          80000000,
          49916666.666666664,
          41666666.666666664,
          52416666.666666664,
          37416666.666666664,
          150000000,
          6666666.666666667,
          10833333.333333334,
          100000000,
          20833333.333333332,
          6666666.666666667,
          100000000,
          100000000,
          41666666.666666664,
          70833333.33333333,
          37500000,
          20750000,
          164000000,
          4166666.6666666665,
          110000000,
          4583333.333333333,
          83333333.33333333,
          125000000,
          29166666.666666668,
          54166666.666666664,
          15416666.666666666,
          9166666.666666666,
          16666666.666666666,
          16666666.666666666,
          37500000,
          70833333.33333333,
          250000000,
          125000000,
          90000000,
          80000000,
          41666666.666666664,
          90000000,
          41666666.666666664,
          23333333.333333332,
          27083333.333333332,
          1500000,
          5000000,
          37500000,
          9166666.666666666,
          6083333.333333333,
          70833333.33333333,
          58333333.333333336,
          62500000,
          5000000,
          5000000,
          18333333.333333332,
          100000000,
          16666666.666666666,
          3030000,
          41666666.666666664,
          37500000,
          12500000,
          35000000,
          20833333.333333332,
          15000000,
          78600000,
          133333333.33333333,
          5000000,
          708333333.3333334,
          33333333.333333332,
          145000000,
          125000000,
          175000000,
          125000000,
          29166666.666666668,
          71700000,
          125000000,
          70833333.33333333,
          37500000,
          54166666.666666664,
          100833333.33333333,
          141666666.66666666,
          100833333.33333333,
          40000000,
          131000000,
          78800000,
          96000000,
          54166666.666666664,
          208333333.33333334,
          150000000,
          29166666.666666668,
          78000000,
          64800000,
          5250000,
          6250000,
          37000000,
          1750000,
          2500000,
          58333333.333333336,
          58333333.333333336,
          8333333.333333333,
          141666666.66666666,
          100000000,
          16666666.666666666,
          16666666.666666666,
          58333333.333333336,
          58333333.333333336,
          120000000,
          70833333.33333333,
          3750000,
          7333333.333333333,
          12500000,
          78666666.66666667,
          41666666.666666664,
          157500000,
          25000000,
          3750000,
          59166666.666666664,
          77916666.66666667,
          1780000,
          621000000,
          50000000,
          100000000,
          77916666.66666667,
          100000000,
          15833333.333333334,
          15833333.333333334,
          125000000,
          20833333.333333332,
          125000000,
          125000000,
          16666666.666666666,
          21250000,
          37500000,
          28333333.333333332,
          325000000,
          19583333.333333332,
          70833333.33333333,
          80833333.33333333,
          15833333.333333334,
          8750000,
          45833333.333333336,
          4166666.6666666665,
          6666666.666666667,
          13333333.333333334,
          29166666.666666668,
          33333333.333333332,
          2600000,
          141666666.66666666
         ],
         "yaxis": "y"
        }
       ],
       "layout": {
        "legend": {
         "title": {
          "text": "Property Type"
         },
         "tracegroupgap": 0
        },
        "template": {
         "data": {
          "bar": [
           {
            "error_x": {
             "color": "#2a3f5f"
            },
            "error_y": {
             "color": "#2a3f5f"
            },
            "marker": {
             "line": {
              "color": "#E5ECF6",
              "width": 0.5
             },
             "pattern": {
              "fillmode": "overlay",
              "size": 10,
              "solidity": 0.2
             }
            },
            "type": "bar"
           }
          ],
          "barpolar": [
           {
            "marker": {
             "line": {
              "color": "#E5ECF6",
              "width": 0.5
             },
             "pattern": {
              "fillmode": "overlay",
              "size": 10,
              "solidity": 0.2
             }
            },
            "type": "barpolar"
           }
          ],
          "carpet": [
           {
            "aaxis": {
             "endlinecolor": "#2a3f5f",
             "gridcolor": "white",
             "linecolor": "white",
             "minorgridcolor": "white",
             "startlinecolor": "#2a3f5f"
            },
            "baxis": {
             "endlinecolor": "#2a3f5f",
             "gridcolor": "white",
             "linecolor": "white",
             "minorgridcolor": "white",
             "startlinecolor": "#2a3f5f"
            },
            "type": "carpet"
           }
          ],
          "choropleth": [
           {
            "colorbar": {
             "outlinewidth": 0,
             "ticks": ""
            },
            "type": "choropleth"
           }
          ],
          "contour": [
           {
            "colorbar": {
             "outlinewidth": 0,
             "ticks": ""
            },
            "colorscale": [
             [
              0,
              "#0d0887"
             ],
             [
              0.1111111111111111,
              "#46039f"
             ],
             [
              0.2222222222222222,
              "#7201a8"
             ],
             [
              0.3333333333333333,
              "#9c179e"
             ],
             [
              0.4444444444444444,
              "#bd3786"
             ],
             [
              0.5555555555555556,
              "#d8576b"
             ],
             [
              0.6666666666666666,
              "#ed7953"
             ],
             [
              0.7777777777777778,
              "#fb9f3a"
             ],
             [
              0.8888888888888888,
              "#fdca26"
             ],
             [
              1,
              "#f0f921"
             ]
            ],
            "type": "contour"
           }
          ],
          "contourcarpet": [
           {
            "colorbar": {
             "outlinewidth": 0,
             "ticks": ""
            },
            "type": "contourcarpet"
           }
          ],
          "heatmap": [
           {
            "colorbar": {
             "outlinewidth": 0,
             "ticks": ""
            },
            "colorscale": [
             [
              0,
              "#0d0887"
             ],
             [
              0.1111111111111111,
              "#46039f"
             ],
             [
              0.2222222222222222,
              "#7201a8"
             ],
             [
              0.3333333333333333,
              "#9c179e"
             ],
             [
              0.4444444444444444,
              "#bd3786"
             ],
             [
              0.5555555555555556,
              "#d8576b"
             ],
             [
              0.6666666666666666,
              "#ed7953"
             ],
             [
              0.7777777777777778,
              "#fb9f3a"
             ],
             [
              0.8888888888888888,
              "#fdca26"
             ],
             [
              1,
              "#f0f921"
             ]
            ],
            "type": "heatmap"
           }
          ],
          "heatmapgl": [
           {
            "colorbar": {
             "outlinewidth": 0,
             "ticks": ""
            },
            "colorscale": [
             [
              0,
              "#0d0887"
             ],
             [
              0.1111111111111111,
              "#46039f"
             ],
             [
              0.2222222222222222,
              "#7201a8"
             ],
             [
              0.3333333333333333,
              "#9c179e"
             ],
             [
              0.4444444444444444,
              "#bd3786"
             ],
             [
              0.5555555555555556,
              "#d8576b"
             ],
             [
              0.6666666666666666,
              "#ed7953"
             ],
             [
              0.7777777777777778,
              "#fb9f3a"
             ],
             [
              0.8888888888888888,
              "#fdca26"
             ],
             [
              1,
              "#f0f921"
             ]
            ],
            "type": "heatmapgl"
           }
          ],
          "histogram": [
           {
            "marker": {
             "pattern": {
              "fillmode": "overlay",
              "size": 10,
              "solidity": 0.2
             }
            },
            "type": "histogram"
           }
          ],
          "histogram2d": [
           {
            "colorbar": {
             "outlinewidth": 0,
             "ticks": ""
            },
            "colorscale": [
             [
              0,
              "#0d0887"
             ],
             [
              0.1111111111111111,
              "#46039f"
             ],
             [
              0.2222222222222222,
              "#7201a8"
             ],
             [
              0.3333333333333333,
              "#9c179e"
             ],
             [
              0.4444444444444444,
              "#bd3786"
             ],
             [
              0.5555555555555556,
              "#d8576b"
             ],
             [
              0.6666666666666666,
              "#ed7953"
             ],
             [
              0.7777777777777778,
              "#fb9f3a"
             ],
             [
              0.8888888888888888,
              "#fdca26"
             ],
             [
              1,
              "#f0f921"
             ]
            ],
            "type": "histogram2d"
           }
          ],
          "histogram2dcontour": [
           {
            "colorbar": {
             "outlinewidth": 0,
             "ticks": ""
            },
            "colorscale": [
             [
              0,
              "#0d0887"
             ],
             [
              0.1111111111111111,
              "#46039f"
             ],
             [
              0.2222222222222222,
              "#7201a8"
             ],
             [
              0.3333333333333333,
              "#9c179e"
             ],
             [
              0.4444444444444444,
              "#bd3786"
             ],
             [
              0.5555555555555556,
              "#d8576b"
             ],
             [
              0.6666666666666666,
              "#ed7953"
             ],
             [
              0.7777777777777778,
              "#fb9f3a"
             ],
             [
              0.8888888888888888,
              "#fdca26"
             ],
             [
              1,
              "#f0f921"
             ]
            ],
            "type": "histogram2dcontour"
           }
          ],
          "mesh3d": [
           {
            "colorbar": {
             "outlinewidth": 0,
             "ticks": ""
            },
            "type": "mesh3d"
           }
          ],
          "parcoords": [
           {
            "line": {
             "colorbar": {
              "outlinewidth": 0,
              "ticks": ""
             }
            },
            "type": "parcoords"
           }
          ],
          "pie": [
           {
            "automargin": true,
            "type": "pie"
           }
          ],
          "scatter": [
           {
            "fillpattern": {
             "fillmode": "overlay",
             "size": 10,
             "solidity": 0.2
            },
            "type": "scatter"
           }
          ],
          "scatter3d": [
           {
            "line": {
             "colorbar": {
              "outlinewidth": 0,
              "ticks": ""
             }
            },
            "marker": {
             "colorbar": {
              "outlinewidth": 0,
              "ticks": ""
             }
            },
            "type": "scatter3d"
           }
          ],
          "scattercarpet": [
           {
            "marker": {
             "colorbar": {
              "outlinewidth": 0,
              "ticks": ""
             }
            },
            "type": "scattercarpet"
           }
          ],
          "scattergeo": [
           {
            "marker": {
             "colorbar": {
              "outlinewidth": 0,
              "ticks": ""
             }
            },
            "type": "scattergeo"
           }
          ],
          "scattergl": [
           {
            "marker": {
             "colorbar": {
              "outlinewidth": 0,
              "ticks": ""
             }
            },
            "type": "scattergl"
           }
          ],
          "scattermapbox": [
           {
            "marker": {
             "colorbar": {
              "outlinewidth": 0,
              "ticks": ""
             }
            },
            "type": "scattermapbox"
           }
          ],
          "scatterpolar": [
           {
            "marker": {
             "colorbar": {
              "outlinewidth": 0,
              "ticks": ""
             }
            },
            "type": "scatterpolar"
           }
          ],
          "scatterpolargl": [
           {
            "marker": {
             "colorbar": {
              "outlinewidth": 0,
              "ticks": ""
             }
            },
            "type": "scatterpolargl"
           }
          ],
          "scatterternary": [
           {
            "marker": {
             "colorbar": {
              "outlinewidth": 0,
              "ticks": ""
             }
            },
            "type": "scatterternary"
           }
          ],
          "surface": [
           {
            "colorbar": {
             "outlinewidth": 0,
             "ticks": ""
            },
            "colorscale": [
             [
              0,
              "#0d0887"
             ],
             [
              0.1111111111111111,
              "#46039f"
             ],
             [
              0.2222222222222222,
              "#7201a8"
             ],
             [
              0.3333333333333333,
              "#9c179e"
             ],
             [
              0.4444444444444444,
              "#bd3786"
             ],
             [
              0.5555555555555556,
              "#d8576b"
             ],
             [
              0.6666666666666666,
              "#ed7953"
             ],
             [
              0.7777777777777778,
              "#fb9f3a"
             ],
             [
              0.8888888888888888,
              "#fdca26"
             ],
             [
              1,
              "#f0f921"
             ]
            ],
            "type": "surface"
           }
          ],
          "table": [
           {
            "cells": {
             "fill": {
              "color": "#EBF0F8"
             },
             "line": {
              "color": "white"
             }
            },
            "header": {
             "fill": {
              "color": "#C8D4E3"
             },
             "line": {
              "color": "white"
             }
            },
            "type": "table"
           }
          ]
         },
         "layout": {
          "annotationdefaults": {
           "arrowcolor": "#2a3f5f",
           "arrowhead": 0,
           "arrowwidth": 1
          },
          "autotypenumbers": "strict",
          "coloraxis": {
           "colorbar": {
            "outlinewidth": 0,
            "ticks": ""
           }
          },
          "colorscale": {
           "diverging": [
            [
             0,
             "#8e0152"
            ],
            [
             0.1,
             "#c51b7d"
            ],
            [
             0.2,
             "#de77ae"
            ],
            [
             0.3,
             "#f1b6da"
            ],
            [
             0.4,
             "#fde0ef"
            ],
            [
             0.5,
             "#f7f7f7"
            ],
            [
             0.6,
             "#e6f5d0"
            ],
            [
             0.7,
             "#b8e186"
            ],
            [
             0.8,
             "#7fbc41"
            ],
            [
             0.9,
             "#4d9221"
            ],
            [
             1,
             "#276419"
            ]
           ],
           "sequential": [
            [
             0,
             "#0d0887"
            ],
            [
             0.1111111111111111,
             "#46039f"
            ],
            [
             0.2222222222222222,
             "#7201a8"
            ],
            [
             0.3333333333333333,
             "#9c179e"
            ],
            [
             0.4444444444444444,
             "#bd3786"
            ],
            [
             0.5555555555555556,
             "#d8576b"
            ],
            [
             0.6666666666666666,
             "#ed7953"
            ],
            [
             0.7777777777777778,
             "#fb9f3a"
            ],
            [
             0.8888888888888888,
             "#fdca26"
            ],
            [
             1,
             "#f0f921"
            ]
           ],
           "sequentialminus": [
            [
             0,
             "#0d0887"
            ],
            [
             0.1111111111111111,
             "#46039f"
            ],
            [
             0.2222222222222222,
             "#7201a8"
            ],
            [
             0.3333333333333333,
             "#9c179e"
            ],
            [
             0.4444444444444444,
             "#bd3786"
            ],
            [
             0.5555555555555556,
             "#d8576b"
            ],
            [
             0.6666666666666666,
             "#ed7953"
            ],
            [
             0.7777777777777778,
             "#fb9f3a"
            ],
            [
             0.8888888888888888,
             "#fdca26"
            ],
            [
             1,
             "#f0f921"
            ]
           ]
          },
          "colorway": [
           "#636efa",
           "#EF553B",
           "#00cc96",
           "#ab63fa",
           "#FFA15A",
           "#19d3f3",
           "#FF6692",
           "#B6E880",
           "#FF97FF",
           "#FECB52"
          ],
          "font": {
           "color": "#2a3f5f"
          },
          "geo": {
           "bgcolor": "white",
           "lakecolor": "white",
           "landcolor": "#E5ECF6",
           "showlakes": true,
           "showland": true,
           "subunitcolor": "white"
          },
          "hoverlabel": {
           "align": "left"
          },
          "hovermode": "closest",
          "mapbox": {
           "style": "light"
          },
          "paper_bgcolor": "white",
          "plot_bgcolor": "#E5ECF6",
          "polar": {
           "angularaxis": {
            "gridcolor": "white",
            "linecolor": "white",
            "ticks": ""
           },
           "bgcolor": "#E5ECF6",
           "radialaxis": {
            "gridcolor": "white",
            "linecolor": "white",
            "ticks": ""
           }
          },
          "scene": {
           "xaxis": {
            "backgroundcolor": "#E5ECF6",
            "gridcolor": "white",
            "gridwidth": 2,
            "linecolor": "white",
            "showbackground": true,
            "ticks": "",
            "zerolinecolor": "white"
           },
           "yaxis": {
            "backgroundcolor": "#E5ECF6",
            "gridcolor": "white",
            "gridwidth": 2,
            "linecolor": "white",
            "showbackground": true,
            "ticks": "",
            "zerolinecolor": "white"
           },
           "zaxis": {
            "backgroundcolor": "#E5ECF6",
            "gridcolor": "white",
            "gridwidth": 2,
            "linecolor": "white",
            "showbackground": true,
            "ticks": "",
            "zerolinecolor": "white"
           }
          },
          "shapedefaults": {
           "line": {
            "color": "#2a3f5f"
           }
          },
          "ternary": {
           "aaxis": {
            "gridcolor": "white",
            "linecolor": "white",
            "ticks": ""
           },
           "baxis": {
            "gridcolor": "white",
            "linecolor": "white",
            "ticks": ""
           },
           "bgcolor": "#E5ECF6",
           "caxis": {
            "gridcolor": "white",
            "linecolor": "white",
            "ticks": ""
           }
          },
          "title": {
           "x": 0.05
          },
          "xaxis": {
           "automargin": true,
           "gridcolor": "white",
           "linecolor": "white",
           "ticks": "",
           "title": {
            "standoff": 15
           },
           "zerolinecolor": "white",
           "zerolinewidth": 2
          },
          "yaxis": {
           "automargin": true,
           "gridcolor": "white",
           "linecolor": "white",
           "ticks": "",
           "title": {
            "standoff": 15
           },
           "zerolinecolor": "white",
           "zerolinewidth": 2
          }
         }
        },
        "title": {
         "text": "Price per Month vs Building Area by Property Type (For Rent) - snip untuk zoom agar lebih jelas"
        },
        "xaxis": {
         "anchor": "y",
         "domain": [
          0,
          1
         ],
         "title": {
          "text": "Building Area (m²)"
         }
        },
        "yaxis": {
         "anchor": "x",
         "domain": [
          0,
          1
         ],
         "title": {
          "text": "Price"
         }
        }
       }
      }
     },
     "metadata": {},
     "output_type": "display_data"
    },
    {
     "data": {
      "application/vnd.plotly.v1+json": {
       "config": {
        "plotlyServerURL": "https://plot.ly"
       },
       "data": [
        {
         "hovertemplate": "sertifikat=%{x}<br>Price=%{y}<extra></extra>",
         "legendgroup": "HGB - Hak Guna Bangunan",
         "marker": {
          "color": "#636efa",
          "symbol": "circle"
         },
         "mode": "markers",
         "name": "HGB - Hak Guna Bangunan",
         "showlegend": true,
         "type": "scattergl",
         "x": [
          "HGB - Hak Guna Bangunan",
          "HGB - Hak Guna Bangunan",
          "HGB - Hak Guna Bangunan",
          "HGB - Hak Guna Bangunan",
          "HGB - Hak Guna Bangunan",
          "HGB - Hak Guna Bangunan",
          "HGB - Hak Guna Bangunan",
          "HGB - Hak Guna Bangunan",
          "HGB - Hak Guna Bangunan",
          "HGB - Hak Guna Bangunan",
          "HGB - Hak Guna Bangunan",
          "HGB - Hak Guna Bangunan",
          "HGB - Hak Guna Bangunan",
          "HGB - Hak Guna Bangunan",
          "HGB - Hak Guna Bangunan",
          "HGB - Hak Guna Bangunan",
          "HGB - Hak Guna Bangunan",
          "HGB - Hak Guna Bangunan",
          "HGB - Hak Guna Bangunan",
          "HGB - Hak Guna Bangunan",
          "HGB - Hak Guna Bangunan",
          "HGB - Hak Guna Bangunan",
          "HGB - Hak Guna Bangunan",
          "HGB - Hak Guna Bangunan",
          "HGB - Hak Guna Bangunan",
          "HGB - Hak Guna Bangunan",
          "HGB - Hak Guna Bangunan",
          "HGB - Hak Guna Bangunan",
          "HGB - Hak Guna Bangunan",
          "HGB - Hak Guna Bangunan",
          "HGB - Hak Guna Bangunan",
          "HGB - Hak Guna Bangunan",
          "HGB - Hak Guna Bangunan",
          "HGB - Hak Guna Bangunan",
          "HGB - Hak Guna Bangunan",
          "HGB - Hak Guna Bangunan",
          "HGB - Hak Guna Bangunan",
          "HGB - Hak Guna Bangunan",
          "HGB - Hak Guna Bangunan",
          "HGB - Hak Guna Bangunan",
          "HGB - Hak Guna Bangunan",
          "HGB - Hak Guna Bangunan",
          "HGB - Hak Guna Bangunan",
          "HGB - Hak Guna Bangunan",
          "HGB - Hak Guna Bangunan",
          "HGB - Hak Guna Bangunan",
          "HGB - Hak Guna Bangunan",
          "HGB - Hak Guna Bangunan",
          "HGB - Hak Guna Bangunan",
          "HGB - Hak Guna Bangunan",
          "HGB - Hak Guna Bangunan",
          "HGB - Hak Guna Bangunan",
          "HGB - Hak Guna Bangunan",
          "HGB - Hak Guna Bangunan",
          "HGB - Hak Guna Bangunan",
          "HGB - Hak Guna Bangunan",
          "HGB - Hak Guna Bangunan",
          "HGB - Hak Guna Bangunan",
          "HGB - Hak Guna Bangunan",
          "HGB - Hak Guna Bangunan",
          "HGB - Hak Guna Bangunan",
          "HGB - Hak Guna Bangunan",
          "HGB - Hak Guna Bangunan",
          "HGB - Hak Guna Bangunan",
          "HGB - Hak Guna Bangunan",
          "HGB - Hak Guna Bangunan",
          "HGB - Hak Guna Bangunan",
          "HGB - Hak Guna Bangunan",
          "HGB - Hak Guna Bangunan",
          "HGB - Hak Guna Bangunan",
          "HGB - Hak Guna Bangunan",
          "HGB - Hak Guna Bangunan",
          "HGB - Hak Guna Bangunan",
          "HGB - Hak Guna Bangunan",
          "HGB - Hak Guna Bangunan",
          "HGB - Hak Guna Bangunan",
          "HGB - Hak Guna Bangunan",
          "HGB - Hak Guna Bangunan",
          "HGB - Hak Guna Bangunan",
          "HGB - Hak Guna Bangunan",
          "HGB - Hak Guna Bangunan",
          "HGB - Hak Guna Bangunan",
          "HGB - Hak Guna Bangunan",
          "HGB - Hak Guna Bangunan",
          "HGB - Hak Guna Bangunan",
          "HGB - Hak Guna Bangunan",
          "HGB - Hak Guna Bangunan",
          "HGB - Hak Guna Bangunan",
          "HGB - Hak Guna Bangunan",
          "HGB - Hak Guna Bangunan",
          "HGB - Hak Guna Bangunan",
          "HGB - Hak Guna Bangunan",
          "HGB - Hak Guna Bangunan",
          "HGB - Hak Guna Bangunan",
          "HGB - Hak Guna Bangunan",
          "HGB - Hak Guna Bangunan",
          "HGB - Hak Guna Bangunan",
          "HGB - Hak Guna Bangunan",
          "HGB - Hak Guna Bangunan",
          "HGB - Hak Guna Bangunan",
          "HGB - Hak Guna Bangunan",
          "HGB - Hak Guna Bangunan",
          "HGB - Hak Guna Bangunan",
          "HGB - Hak Guna Bangunan",
          "HGB - Hak Guna Bangunan",
          "HGB - Hak Guna Bangunan",
          "HGB - Hak Guna Bangunan",
          "HGB - Hak Guna Bangunan",
          "HGB - Hak Guna Bangunan",
          "HGB - Hak Guna Bangunan",
          "HGB - Hak Guna Bangunan",
          "HGB - Hak Guna Bangunan",
          "HGB - Hak Guna Bangunan",
          "HGB - Hak Guna Bangunan",
          "HGB - Hak Guna Bangunan",
          "HGB - Hak Guna Bangunan",
          "HGB - Hak Guna Bangunan",
          "HGB - Hak Guna Bangunan",
          "HGB - Hak Guna Bangunan",
          "HGB - Hak Guna Bangunan",
          "HGB - Hak Guna Bangunan",
          "HGB - Hak Guna Bangunan",
          "HGB - Hak Guna Bangunan",
          "HGB - Hak Guna Bangunan",
          "HGB - Hak Guna Bangunan",
          "HGB - Hak Guna Bangunan",
          "HGB - Hak Guna Bangunan",
          "HGB - Hak Guna Bangunan",
          "HGB - Hak Guna Bangunan",
          "HGB - Hak Guna Bangunan",
          "HGB - Hak Guna Bangunan",
          "HGB - Hak Guna Bangunan",
          "HGB - Hak Guna Bangunan",
          "HGB - Hak Guna Bangunan",
          "HGB - Hak Guna Bangunan",
          "HGB - Hak Guna Bangunan",
          "HGB - Hak Guna Bangunan",
          "HGB - Hak Guna Bangunan",
          "HGB - Hak Guna Bangunan",
          "HGB - Hak Guna Bangunan",
          "HGB - Hak Guna Bangunan",
          "HGB - Hak Guna Bangunan",
          "HGB - Hak Guna Bangunan",
          "HGB - Hak Guna Bangunan",
          "HGB - Hak Guna Bangunan",
          "HGB - Hak Guna Bangunan",
          "HGB - Hak Guna Bangunan",
          "HGB - Hak Guna Bangunan",
          "HGB - Hak Guna Bangunan",
          "HGB - Hak Guna Bangunan",
          "HGB - Hak Guna Bangunan",
          "HGB - Hak Guna Bangunan",
          "HGB - Hak Guna Bangunan",
          "HGB - Hak Guna Bangunan",
          "HGB - Hak Guna Bangunan",
          "HGB - Hak Guna Bangunan",
          "HGB - Hak Guna Bangunan",
          "HGB - Hak Guna Bangunan",
          "HGB - Hak Guna Bangunan",
          "HGB - Hak Guna Bangunan",
          "HGB - Hak Guna Bangunan",
          "HGB - Hak Guna Bangunan",
          "HGB - Hak Guna Bangunan",
          "HGB - Hak Guna Bangunan",
          "HGB - Hak Guna Bangunan",
          "HGB - Hak Guna Bangunan",
          "HGB - Hak Guna Bangunan",
          "HGB - Hak Guna Bangunan",
          "HGB - Hak Guna Bangunan",
          "HGB - Hak Guna Bangunan",
          "HGB - Hak Guna Bangunan",
          "HGB - Hak Guna Bangunan",
          "HGB - Hak Guna Bangunan",
          "HGB - Hak Guna Bangunan",
          "HGB - Hak Guna Bangunan",
          "HGB - Hak Guna Bangunan",
          "HGB - Hak Guna Bangunan",
          "HGB - Hak Guna Bangunan",
          "HGB - Hak Guna Bangunan",
          "HGB - Hak Guna Bangunan",
          "HGB - Hak Guna Bangunan",
          "HGB - Hak Guna Bangunan",
          "HGB - Hak Guna Bangunan",
          "HGB - Hak Guna Bangunan",
          "HGB - Hak Guna Bangunan",
          "HGB - Hak Guna Bangunan",
          "HGB - Hak Guna Bangunan",
          "HGB - Hak Guna Bangunan",
          "HGB - Hak Guna Bangunan",
          "HGB - Hak Guna Bangunan",
          "HGB - Hak Guna Bangunan",
          "HGB - Hak Guna Bangunan",
          "HGB - Hak Guna Bangunan",
          "HGB - Hak Guna Bangunan",
          "HGB - Hak Guna Bangunan",
          "HGB - Hak Guna Bangunan",
          "HGB - Hak Guna Bangunan",
          "HGB - Hak Guna Bangunan",
          "HGB - Hak Guna Bangunan",
          "HGB - Hak Guna Bangunan",
          "HGB - Hak Guna Bangunan",
          "HGB - Hak Guna Bangunan",
          "HGB - Hak Guna Bangunan",
          "HGB - Hak Guna Bangunan",
          "HGB - Hak Guna Bangunan",
          "HGB - Hak Guna Bangunan",
          "HGB - Hak Guna Bangunan",
          "HGB - Hak Guna Bangunan",
          "HGB - Hak Guna Bangunan",
          "HGB - Hak Guna Bangunan",
          "HGB - Hak Guna Bangunan",
          "HGB - Hak Guna Bangunan",
          "HGB - Hak Guna Bangunan",
          "HGB - Hak Guna Bangunan",
          "HGB - Hak Guna Bangunan",
          "HGB - Hak Guna Bangunan",
          "HGB - Hak Guna Bangunan",
          "HGB - Hak Guna Bangunan",
          "HGB - Hak Guna Bangunan",
          "HGB - Hak Guna Bangunan",
          "HGB - Hak Guna Bangunan",
          "HGB - Hak Guna Bangunan",
          "HGB - Hak Guna Bangunan",
          "HGB - Hak Guna Bangunan",
          "HGB - Hak Guna Bangunan",
          "HGB - Hak Guna Bangunan",
          "HGB - Hak Guna Bangunan",
          "HGB - Hak Guna Bangunan",
          "HGB - Hak Guna Bangunan",
          "HGB - Hak Guna Bangunan",
          "HGB - Hak Guna Bangunan",
          "HGB - Hak Guna Bangunan",
          "HGB - Hak Guna Bangunan",
          "HGB - Hak Guna Bangunan",
          "HGB - Hak Guna Bangunan",
          "HGB - Hak Guna Bangunan",
          "HGB - Hak Guna Bangunan",
          "HGB - Hak Guna Bangunan",
          "HGB - Hak Guna Bangunan",
          "HGB - Hak Guna Bangunan",
          "HGB - Hak Guna Bangunan",
          "HGB - Hak Guna Bangunan",
          "HGB - Hak Guna Bangunan",
          "HGB - Hak Guna Bangunan",
          "HGB - Hak Guna Bangunan",
          "HGB - Hak Guna Bangunan",
          "HGB - Hak Guna Bangunan",
          "HGB - Hak Guna Bangunan",
          "HGB - Hak Guna Bangunan",
          "HGB - Hak Guna Bangunan",
          "HGB - Hak Guna Bangunan",
          "HGB - Hak Guna Bangunan",
          "HGB - Hak Guna Bangunan",
          "HGB - Hak Guna Bangunan",
          "HGB - Hak Guna Bangunan",
          "HGB - Hak Guna Bangunan",
          "HGB - Hak Guna Bangunan",
          "HGB - Hak Guna Bangunan",
          "HGB - Hak Guna Bangunan",
          "HGB - Hak Guna Bangunan",
          "HGB - Hak Guna Bangunan",
          "HGB - Hak Guna Bangunan",
          "HGB - Hak Guna Bangunan",
          "HGB - Hak Guna Bangunan",
          "HGB - Hak Guna Bangunan",
          "HGB - Hak Guna Bangunan",
          "HGB - Hak Guna Bangunan",
          "HGB - Hak Guna Bangunan",
          "HGB - Hak Guna Bangunan",
          "HGB - Hak Guna Bangunan",
          "HGB - Hak Guna Bangunan",
          "HGB - Hak Guna Bangunan",
          "HGB - Hak Guna Bangunan",
          "HGB - Hak Guna Bangunan",
          "HGB - Hak Guna Bangunan",
          "HGB - Hak Guna Bangunan",
          "HGB - Hak Guna Bangunan",
          "HGB - Hak Guna Bangunan",
          "HGB - Hak Guna Bangunan",
          "HGB - Hak Guna Bangunan",
          "HGB - Hak Guna Bangunan",
          "HGB - Hak Guna Bangunan",
          "HGB - Hak Guna Bangunan",
          "HGB - Hak Guna Bangunan",
          "HGB - Hak Guna Bangunan",
          "HGB - Hak Guna Bangunan",
          "HGB - Hak Guna Bangunan",
          "HGB - Hak Guna Bangunan",
          "HGB - Hak Guna Bangunan",
          "HGB - Hak Guna Bangunan",
          "HGB - Hak Guna Bangunan",
          "HGB - Hak Guna Bangunan",
          "HGB - Hak Guna Bangunan",
          "HGB - Hak Guna Bangunan",
          "HGB - Hak Guna Bangunan",
          "HGB - Hak Guna Bangunan",
          "HGB - Hak Guna Bangunan",
          "HGB - Hak Guna Bangunan",
          "HGB - Hak Guna Bangunan",
          "HGB - Hak Guna Bangunan",
          "HGB - Hak Guna Bangunan",
          "HGB - Hak Guna Bangunan",
          "HGB - Hak Guna Bangunan",
          "HGB - Hak Guna Bangunan",
          "HGB - Hak Guna Bangunan",
          "HGB - Hak Guna Bangunan",
          "HGB - Hak Guna Bangunan",
          "HGB - Hak Guna Bangunan",
          "HGB - Hak Guna Bangunan",
          "HGB - Hak Guna Bangunan",
          "HGB - Hak Guna Bangunan",
          "HGB - Hak Guna Bangunan",
          "HGB - Hak Guna Bangunan",
          "HGB - Hak Guna Bangunan",
          "HGB - Hak Guna Bangunan",
          "HGB - Hak Guna Bangunan",
          "HGB - Hak Guna Bangunan",
          "HGB - Hak Guna Bangunan",
          "HGB - Hak Guna Bangunan",
          "HGB - Hak Guna Bangunan",
          "HGB - Hak Guna Bangunan",
          "HGB - Hak Guna Bangunan",
          "HGB - Hak Guna Bangunan",
          "HGB - Hak Guna Bangunan",
          "HGB - Hak Guna Bangunan",
          "HGB - Hak Guna Bangunan",
          "HGB - Hak Guna Bangunan",
          "HGB - Hak Guna Bangunan",
          "HGB - Hak Guna Bangunan",
          "HGB - Hak Guna Bangunan",
          "HGB - Hak Guna Bangunan",
          "HGB - Hak Guna Bangunan",
          "HGB - Hak Guna Bangunan",
          "HGB - Hak Guna Bangunan",
          "HGB - Hak Guna Bangunan",
          "HGB - Hak Guna Bangunan",
          "HGB - Hak Guna Bangunan",
          "HGB - Hak Guna Bangunan",
          "HGB - Hak Guna Bangunan",
          "HGB - Hak Guna Bangunan",
          "HGB - Hak Guna Bangunan",
          "HGB - Hak Guna Bangunan",
          "HGB - Hak Guna Bangunan",
          "HGB - Hak Guna Bangunan",
          "HGB - Hak Guna Bangunan",
          "HGB - Hak Guna Bangunan",
          "HGB - Hak Guna Bangunan",
          "HGB - Hak Guna Bangunan",
          "HGB - Hak Guna Bangunan",
          "HGB - Hak Guna Bangunan",
          "HGB - Hak Guna Bangunan",
          "HGB - Hak Guna Bangunan",
          "HGB - Hak Guna Bangunan",
          "HGB - Hak Guna Bangunan",
          "HGB - Hak Guna Bangunan",
          "HGB - Hak Guna Bangunan",
          "HGB - Hak Guna Bangunan",
          "HGB - Hak Guna Bangunan",
          "HGB - Hak Guna Bangunan",
          "HGB - Hak Guna Bangunan",
          "HGB - Hak Guna Bangunan",
          "HGB - Hak Guna Bangunan",
          "HGB - Hak Guna Bangunan",
          "HGB - Hak Guna Bangunan",
          "HGB - Hak Guna Bangunan",
          "HGB - Hak Guna Bangunan",
          "HGB - Hak Guna Bangunan",
          "HGB - Hak Guna Bangunan",
          "HGB - Hak Guna Bangunan",
          "HGB - Hak Guna Bangunan",
          "HGB - Hak Guna Bangunan",
          "HGB - Hak Guna Bangunan",
          "HGB - Hak Guna Bangunan",
          "HGB - Hak Guna Bangunan",
          "HGB - Hak Guna Bangunan",
          "HGB - Hak Guna Bangunan",
          "HGB - Hak Guna Bangunan",
          "HGB - Hak Guna Bangunan",
          "HGB - Hak Guna Bangunan",
          "HGB - Hak Guna Bangunan",
          "HGB - Hak Guna Bangunan"
         ],
         "xaxis": "x",
         "y": [
          40000000,
          10000000,
          32100000,
          9000000,
          2000000,
          20900000,
          22600000,
          15000000,
          7500000,
          3583333.3333333335,
          47300000,
          42300000,
          4583333.333333333,
          3333333.3333333335,
          7500000,
          5000000,
          2666666.6666666665,
          14000000,
          4583333.333333333,
          16666666.666666666,
          8000000,
          5833333.333333333,
          6666666.666666667,
          3750000,
          1666666.6666666667,
          8500000,
          15000000,
          6666666.666666667,
          19400000,
          15000000,
          4583333.333333333,
          3083333.3333333335,
          42083333.333333336,
          5000000,
          4583333.333333333,
          6500000,
          14000000,
          3750000,
          8500000,
          7000000,
          6500000,
          26000000,
          21100000,
          61700000,
          24300000,
          3083333.3333333335,
          4166666.6666666665,
          10833333.333333334,
          29200000,
          13500000,
          34000000,
          45000000,
          8000000,
          57200000,
          5833333.333333333,
          4250000,
          1166666.6666666667,
          1500000,
          2083333.3333333333,
          4500000,
          1083333.3333333333,
          1500000,
          11000000,
          11000000,
          11000000,
          6500000,
          11000000,
          11000000,
          11000000,
          11000000,
          6000000,
          11000000,
          9000000,
          4000000,
          11000000,
          11000000,
          8333333.333333333,
          17000000,
          51250000,
          52500000,
          45900000,
          3583333.3333333335,
          8000000,
          8000000,
          8000000,
          8000000,
          8000000,
          2791666.6666666665,
          8000000,
          2750000,
          3333333.3333333335,
          3083333.3333333335,
          1666666.6666666667,
          4000000,
          6250000,
          7000000,
          12000000,
          1000000,
          6000000,
          7000000,
          3500000,
          2000000,
          6000000,
          6000000,
          6500000,
          6000000,
          13500000,
          9500000,
          6000000,
          6500000,
          6000000,
          13500000,
          7083333.333333333,
          6500000,
          14500000,
          4000000,
          43000000,
          45833333.333333336,
          6250000,
          5000000,
          29166666.666666668,
          48000000,
          2750000,
          34400000,
          24500000,
          3916666.6666666665,
          40900000,
          21300000,
          21300000,
          21200000,
          4000000,
          17000000,
          10000000,
          38000000,
          19000000,
          3750000,
          8333333.333333333,
          6000000,
          5300000,
          4000000,
          23000000,
          23000000,
          23000000,
          4833333.333333333,
          4333333.333333333,
          10833333.333333334,
          37500000,
          26000000,
          14000000,
          7000000,
          20833333.333333332,
          7000000,
          3333333.3333333335,
          25000000,
          13750000,
          6250000,
          22400000,
          3333333.3333333335,
          3000000,
          5000000,
          6250000,
          4166666.6666666665,
          6250000,
          18000000,
          7083333.333333333,
          6666666.666666667,
          5833333.333333333,
          1916666.6666666667,
          20833333.333333332,
          14000000,
          35000000,
          7000000,
          7000000,
          14000000,
          9583333.333333334,
          33500000,
          13333333.333333334,
          3333333.3333333335,
          13333333.333333334,
          38600000,
          7000000,
          13500000,
          4583333.333333333,
          70000000,
          6250000,
          70000000,
          4166666.6666666665,
          14166666.666666666,
          3000000,
          32500000,
          7083333.333333333,
          4583333.333333333,
          10000000,
          2916666.6666666665,
          4583333.333333333,
          7083333.333333333,
          14583333.333333334,
          4166666.6666666665,
          7083333.333333333,
          3750000,
          7083333.333333333,
          7000000,
          15000000,
          18000000,
          18000000,
          19600000,
          20000000,
          6250000,
          3333333.3333333335,
          25000000,
          7500000,
          49000000,
          11000000,
          4583333.333333333,
          13500000,
          3750000,
          37500000,
          15000000,
          9000000,
          7500000,
          6250000,
          5416666.666666667,
          3083333.3333333335,
          12500000,
          5000000,
          12083333.333333334,
          3300000000,
          40000000,
          4583333.333333333,
          16666666.666666666,
          9166666.666666666,
          8333333.333333333,
          3333333.3333333335,
          6666666.666666667,
          4166666.6666666665,
          5833333.333333333,
          7000000,
          16000000,
          7000000,
          23333333.333333332,
          8500000,
          8500000,
          8500000,
          8500000,
          8500000,
          8500000,
          8500000,
          8500000,
          10500000,
          56000000,
          5416666.666666667,
          16000000,
          56000000,
          9166666.666666666,
          48500000,
          4583333.333333333,
          4166666.6666666665,
          6666666.666666667,
          16666666.666666666,
          4583333.333333333,
          39000000,
          45000000,
          38000000,
          20000000,
          5416666.666666667,
          4583333.333333333,
          5000000,
          15000000,
          8500000,
          8500000,
          8500000,
          8500000,
          8500000,
          8500000,
          11666666.666666666,
          2250000,
          15000000,
          3333333.3333333335,
          10000000,
          3750000,
          3083333.3333333335,
          3083333.3333333335,
          3083333.3333333335,
          3333333.3333333335,
          3083333.3333333335,
          43000000,
          4583333333.333333,
          16500000,
          5500000,
          4583333.333333333,
          27500000,
          27500000,
          5500000,
          4583333.333333333,
          27500000,
          16500000,
          16500000,
          16500000,
          11000000,
          14000000,
          20000000,
          7500000,
          7000000,
          9000000,
          5500000,
          15000000,
          9500000,
          9000000,
          5500000,
          5500000,
          10000000,
          4333333.333333333,
          3750000,
          12083333.333333334,
          17000000,
          34000000,
          16666666.666666666,
          1750000,
          3333333.3333333335,
          5000000,
          3750000,
          2500000,
          2083333.3333333333,
          2750000,
          2250000,
          73000000,
          11000000,
          7083333.333333333,
          5208333.333333333,
          4583333.333333333,
          6500000,
          2250000,
          7083333.333333333,
          3666666.6666666665,
          25000000,
          3666666.6666666665,
          3500000,
          15000000,
          4583333.333333333,
          10833333.333333334,
          7500000,
          7000000,
          7000000,
          7000000,
          7000000,
          7000000,
          7000000,
          7000000,
          34000000,
          3333333.3333333335,
          3700000,
          13500000,
          8166666.666666667,
          7083333.333333333,
          8500000,
          6250000,
          2666666.6666666665,
          2666666.6666666665,
          50000000,
          3333333.3333333335,
          7500000,
          3500000,
          6666666.666666667,
          400000,
          9166666.666666666,
          15500000,
          6250000,
          20000000,
          13333333.333333334,
          6250000,
          5000000,
          52500000,
          6666666.666666667,
          6666666.666666667,
          12500000,
          3583333.3333333335,
          8000000,
          3750000,
          12500000,
          22500000,
          490000000
         ],
         "yaxis": "y"
        },
        {
         "hovertemplate": "sertifikat=%{x}<br>Price=%{y}<extra></extra>",
         "legendgroup": "SHM - Sertifikat Hak Milik",
         "marker": {
          "color": "#EF553B",
          "symbol": "circle"
         },
         "mode": "markers",
         "name": "SHM - Sertifikat Hak Milik",
         "showlegend": true,
         "type": "scattergl",
         "x": [
          "SHM - Sertifikat Hak Milik",
          "SHM - Sertifikat Hak Milik",
          "SHM - Sertifikat Hak Milik",
          "SHM - Sertifikat Hak Milik",
          "SHM - Sertifikat Hak Milik",
          "SHM - Sertifikat Hak Milik",
          "SHM - Sertifikat Hak Milik",
          "SHM - Sertifikat Hak Milik",
          "SHM - Sertifikat Hak Milik",
          "SHM - Sertifikat Hak Milik",
          "SHM - Sertifikat Hak Milik",
          "SHM - Sertifikat Hak Milik",
          "SHM - Sertifikat Hak Milik",
          "SHM - Sertifikat Hak Milik",
          "SHM - Sertifikat Hak Milik",
          "SHM - Sertifikat Hak Milik",
          "SHM - Sertifikat Hak Milik",
          "SHM - Sertifikat Hak Milik",
          "SHM - Sertifikat Hak Milik",
          "SHM - Sertifikat Hak Milik",
          "SHM - Sertifikat Hak Milik",
          "SHM - Sertifikat Hak Milik",
          "SHM - Sertifikat Hak Milik",
          "SHM - Sertifikat Hak Milik",
          "SHM - Sertifikat Hak Milik",
          "SHM - Sertifikat Hak Milik",
          "SHM - Sertifikat Hak Milik",
          "SHM - Sertifikat Hak Milik",
          "SHM - Sertifikat Hak Milik",
          "SHM - Sertifikat Hak Milik",
          "SHM - Sertifikat Hak Milik",
          "SHM - Sertifikat Hak Milik",
          "SHM - Sertifikat Hak Milik",
          "SHM - Sertifikat Hak Milik",
          "SHM - Sertifikat Hak Milik",
          "SHM - Sertifikat Hak Milik",
          "SHM - Sertifikat Hak Milik",
          "SHM - Sertifikat Hak Milik",
          "SHM - Sertifikat Hak Milik",
          "SHM - Sertifikat Hak Milik",
          "SHM - Sertifikat Hak Milik",
          "SHM - Sertifikat Hak Milik",
          "SHM - Sertifikat Hak Milik",
          "SHM - Sertifikat Hak Milik",
          "SHM - Sertifikat Hak Milik",
          "SHM - Sertifikat Hak Milik",
          "SHM - Sertifikat Hak Milik",
          "SHM - Sertifikat Hak Milik",
          "SHM - Sertifikat Hak Milik",
          "SHM - Sertifikat Hak Milik",
          "SHM - Sertifikat Hak Milik",
          "SHM - Sertifikat Hak Milik",
          "SHM - Sertifikat Hak Milik",
          "SHM - Sertifikat Hak Milik",
          "SHM - Sertifikat Hak Milik",
          "SHM - Sertifikat Hak Milik",
          "SHM - Sertifikat Hak Milik",
          "SHM - Sertifikat Hak Milik",
          "SHM - Sertifikat Hak Milik",
          "SHM - Sertifikat Hak Milik",
          "SHM - Sertifikat Hak Milik",
          "SHM - Sertifikat Hak Milik",
          "SHM - Sertifikat Hak Milik",
          "SHM - Sertifikat Hak Milik",
          "SHM - Sertifikat Hak Milik",
          "SHM - Sertifikat Hak Milik",
          "SHM - Sertifikat Hak Milik",
          "SHM - Sertifikat Hak Milik",
          "SHM - Sertifikat Hak Milik",
          "SHM - Sertifikat Hak Milik",
          "SHM - Sertifikat Hak Milik",
          "SHM - Sertifikat Hak Milik",
          "SHM - Sertifikat Hak Milik",
          "SHM - Sertifikat Hak Milik",
          "SHM - Sertifikat Hak Milik",
          "SHM - Sertifikat Hak Milik",
          "SHM - Sertifikat Hak Milik",
          "SHM - Sertifikat Hak Milik",
          "SHM - Sertifikat Hak Milik",
          "SHM - Sertifikat Hak Milik",
          "SHM - Sertifikat Hak Milik",
          "SHM - Sertifikat Hak Milik",
          "SHM - Sertifikat Hak Milik",
          "SHM - Sertifikat Hak Milik",
          "SHM - Sertifikat Hak Milik",
          "SHM - Sertifikat Hak Milik",
          "SHM - Sertifikat Hak Milik",
          "SHM - Sertifikat Hak Milik",
          "SHM - Sertifikat Hak Milik",
          "SHM - Sertifikat Hak Milik",
          "SHM - Sertifikat Hak Milik",
          "SHM - Sertifikat Hak Milik",
          "SHM - Sertifikat Hak Milik",
          "SHM - Sertifikat Hak Milik",
          "SHM - Sertifikat Hak Milik",
          "SHM - Sertifikat Hak Milik",
          "SHM - Sertifikat Hak Milik",
          "SHM - Sertifikat Hak Milik",
          "SHM - Sertifikat Hak Milik",
          "SHM - Sertifikat Hak Milik",
          "SHM - Sertifikat Hak Milik",
          "SHM - Sertifikat Hak Milik",
          "SHM - Sertifikat Hak Milik",
          "SHM - Sertifikat Hak Milik",
          "SHM - Sertifikat Hak Milik",
          "SHM - Sertifikat Hak Milik",
          "SHM - Sertifikat Hak Milik",
          "SHM - Sertifikat Hak Milik",
          "SHM - Sertifikat Hak Milik",
          "SHM - Sertifikat Hak Milik",
          "SHM - Sertifikat Hak Milik",
          "SHM - Sertifikat Hak Milik",
          "SHM - Sertifikat Hak Milik",
          "SHM - Sertifikat Hak Milik",
          "SHM - Sertifikat Hak Milik",
          "SHM - Sertifikat Hak Milik",
          "SHM - Sertifikat Hak Milik",
          "SHM - Sertifikat Hak Milik",
          "SHM - Sertifikat Hak Milik",
          "SHM - Sertifikat Hak Milik",
          "SHM - Sertifikat Hak Milik",
          "SHM - Sertifikat Hak Milik",
          "SHM - Sertifikat Hak Milik",
          "SHM - Sertifikat Hak Milik",
          "SHM - Sertifikat Hak Milik",
          "SHM - Sertifikat Hak Milik",
          "SHM - Sertifikat Hak Milik",
          "SHM - Sertifikat Hak Milik",
          "SHM - Sertifikat Hak Milik",
          "SHM - Sertifikat Hak Milik",
          "SHM - Sertifikat Hak Milik",
          "SHM - Sertifikat Hak Milik",
          "SHM - Sertifikat Hak Milik",
          "SHM - Sertifikat Hak Milik",
          "SHM - Sertifikat Hak Milik",
          "SHM - Sertifikat Hak Milik",
          "SHM - Sertifikat Hak Milik",
          "SHM - Sertifikat Hak Milik",
          "SHM - Sertifikat Hak Milik",
          "SHM - Sertifikat Hak Milik",
          "SHM - Sertifikat Hak Milik",
          "SHM - Sertifikat Hak Milik",
          "SHM - Sertifikat Hak Milik",
          "SHM - Sertifikat Hak Milik",
          "SHM - Sertifikat Hak Milik",
          "SHM - Sertifikat Hak Milik",
          "SHM - Sertifikat Hak Milik",
          "SHM - Sertifikat Hak Milik",
          "SHM - Sertifikat Hak Milik",
          "SHM - Sertifikat Hak Milik",
          "SHM - Sertifikat Hak Milik",
          "SHM - Sertifikat Hak Milik",
          "SHM - Sertifikat Hak Milik",
          "SHM - Sertifikat Hak Milik",
          "SHM - Sertifikat Hak Milik",
          "SHM - Sertifikat Hak Milik",
          "SHM - Sertifikat Hak Milik",
          "SHM - Sertifikat Hak Milik",
          "SHM - Sertifikat Hak Milik",
          "SHM - Sertifikat Hak Milik",
          "SHM - Sertifikat Hak Milik",
          "SHM - Sertifikat Hak Milik",
          "SHM - Sertifikat Hak Milik",
          "SHM - Sertifikat Hak Milik",
          "SHM - Sertifikat Hak Milik",
          "SHM - Sertifikat Hak Milik",
          "SHM - Sertifikat Hak Milik",
          "SHM - Sertifikat Hak Milik",
          "SHM - Sertifikat Hak Milik",
          "SHM - Sertifikat Hak Milik",
          "SHM - Sertifikat Hak Milik",
          "SHM - Sertifikat Hak Milik",
          "SHM - Sertifikat Hak Milik",
          "SHM - Sertifikat Hak Milik",
          "SHM - Sertifikat Hak Milik",
          "SHM - Sertifikat Hak Milik",
          "SHM - Sertifikat Hak Milik",
          "SHM - Sertifikat Hak Milik",
          "SHM - Sertifikat Hak Milik",
          "SHM - Sertifikat Hak Milik",
          "SHM - Sertifikat Hak Milik",
          "SHM - Sertifikat Hak Milik",
          "SHM - Sertifikat Hak Milik",
          "SHM - Sertifikat Hak Milik",
          "SHM - Sertifikat Hak Milik",
          "SHM - Sertifikat Hak Milik",
          "SHM - Sertifikat Hak Milik",
          "SHM - Sertifikat Hak Milik",
          "SHM - Sertifikat Hak Milik",
          "SHM - Sertifikat Hak Milik",
          "SHM - Sertifikat Hak Milik",
          "SHM - Sertifikat Hak Milik",
          "SHM - Sertifikat Hak Milik",
          "SHM - Sertifikat Hak Milik",
          "SHM - Sertifikat Hak Milik",
          "SHM - Sertifikat Hak Milik",
          "SHM - Sertifikat Hak Milik",
          "SHM - Sertifikat Hak Milik",
          "SHM - Sertifikat Hak Milik",
          "SHM - Sertifikat Hak Milik",
          "SHM - Sertifikat Hak Milik",
          "SHM - Sertifikat Hak Milik",
          "SHM - Sertifikat Hak Milik",
          "SHM - Sertifikat Hak Milik",
          "SHM - Sertifikat Hak Milik",
          "SHM - Sertifikat Hak Milik",
          "SHM - Sertifikat Hak Milik",
          "SHM - Sertifikat Hak Milik",
          "SHM - Sertifikat Hak Milik",
          "SHM - Sertifikat Hak Milik",
          "SHM - Sertifikat Hak Milik",
          "SHM - Sertifikat Hak Milik",
          "SHM - Sertifikat Hak Milik",
          "SHM - Sertifikat Hak Milik",
          "SHM - Sertifikat Hak Milik",
          "SHM - Sertifikat Hak Milik",
          "SHM - Sertifikat Hak Milik",
          "SHM - Sertifikat Hak Milik",
          "SHM - Sertifikat Hak Milik",
          "SHM - Sertifikat Hak Milik",
          "SHM - Sertifikat Hak Milik",
          "SHM - Sertifikat Hak Milik",
          "SHM - Sertifikat Hak Milik",
          "SHM - Sertifikat Hak Milik",
          "SHM - Sertifikat Hak Milik",
          "SHM - Sertifikat Hak Milik",
          "SHM - Sertifikat Hak Milik",
          "SHM - Sertifikat Hak Milik",
          "SHM - Sertifikat Hak Milik",
          "SHM - Sertifikat Hak Milik",
          "SHM - Sertifikat Hak Milik",
          "SHM - Sertifikat Hak Milik",
          "SHM - Sertifikat Hak Milik",
          "SHM - Sertifikat Hak Milik",
          "SHM - Sertifikat Hak Milik",
          "SHM - Sertifikat Hak Milik",
          "SHM - Sertifikat Hak Milik",
          "SHM - Sertifikat Hak Milik",
          "SHM - Sertifikat Hak Milik",
          "SHM - Sertifikat Hak Milik",
          "SHM - Sertifikat Hak Milik",
          "SHM - Sertifikat Hak Milik",
          "SHM - Sertifikat Hak Milik",
          "SHM - Sertifikat Hak Milik",
          "SHM - Sertifikat Hak Milik",
          "SHM - Sertifikat Hak Milik",
          "SHM - Sertifikat Hak Milik",
          "SHM - Sertifikat Hak Milik",
          "SHM - Sertifikat Hak Milik",
          "SHM - Sertifikat Hak Milik",
          "SHM - Sertifikat Hak Milik",
          "SHM - Sertifikat Hak Milik",
          "SHM - Sertifikat Hak Milik",
          "SHM - Sertifikat Hak Milik",
          "SHM - Sertifikat Hak Milik",
          "SHM - Sertifikat Hak Milik",
          "SHM - Sertifikat Hak Milik",
          "SHM - Sertifikat Hak Milik",
          "SHM - Sertifikat Hak Milik",
          "SHM - Sertifikat Hak Milik",
          "SHM - Sertifikat Hak Milik",
          "SHM - Sertifikat Hak Milik",
          "SHM - Sertifikat Hak Milik",
          "SHM - Sertifikat Hak Milik",
          "SHM - Sertifikat Hak Milik",
          "SHM - Sertifikat Hak Milik",
          "SHM - Sertifikat Hak Milik",
          "SHM - Sertifikat Hak Milik",
          "SHM - Sertifikat Hak Milik",
          "SHM - Sertifikat Hak Milik",
          "SHM - Sertifikat Hak Milik",
          "SHM - Sertifikat Hak Milik",
          "SHM - Sertifikat Hak Milik",
          "SHM - Sertifikat Hak Milik",
          "SHM - Sertifikat Hak Milik",
          "SHM - Sertifikat Hak Milik",
          "SHM - Sertifikat Hak Milik",
          "SHM - Sertifikat Hak Milik",
          "SHM - Sertifikat Hak Milik",
          "SHM - Sertifikat Hak Milik",
          "SHM - Sertifikat Hak Milik",
          "SHM - Sertifikat Hak Milik",
          "SHM - Sertifikat Hak Milik",
          "SHM - Sertifikat Hak Milik",
          "SHM - Sertifikat Hak Milik",
          "SHM - Sertifikat Hak Milik",
          "SHM - Sertifikat Hak Milik",
          "SHM - Sertifikat Hak Milik",
          "SHM - Sertifikat Hak Milik",
          "SHM - Sertifikat Hak Milik",
          "SHM - Sertifikat Hak Milik",
          "SHM - Sertifikat Hak Milik",
          "SHM - Sertifikat Hak Milik",
          "SHM - Sertifikat Hak Milik",
          "SHM - Sertifikat Hak Milik",
          "SHM - Sertifikat Hak Milik",
          "SHM - Sertifikat Hak Milik",
          "SHM - Sertifikat Hak Milik",
          "SHM - Sertifikat Hak Milik",
          "SHM - Sertifikat Hak Milik",
          "SHM - Sertifikat Hak Milik",
          "SHM - Sertifikat Hak Milik",
          "SHM - Sertifikat Hak Milik",
          "SHM - Sertifikat Hak Milik",
          "SHM - Sertifikat Hak Milik",
          "SHM - Sertifikat Hak Milik",
          "SHM - Sertifikat Hak Milik",
          "SHM - Sertifikat Hak Milik",
          "SHM - Sertifikat Hak Milik",
          "SHM - Sertifikat Hak Milik",
          "SHM - Sertifikat Hak Milik",
          "SHM - Sertifikat Hak Milik",
          "SHM - Sertifikat Hak Milik",
          "SHM - Sertifikat Hak Milik",
          "SHM - Sertifikat Hak Milik",
          "SHM - Sertifikat Hak Milik",
          "SHM - Sertifikat Hak Milik",
          "SHM - Sertifikat Hak Milik",
          "SHM - Sertifikat Hak Milik",
          "SHM - Sertifikat Hak Milik",
          "SHM - Sertifikat Hak Milik",
          "SHM - Sertifikat Hak Milik",
          "SHM - Sertifikat Hak Milik",
          "SHM - Sertifikat Hak Milik",
          "SHM - Sertifikat Hak Milik",
          "SHM - Sertifikat Hak Milik",
          "SHM - Sertifikat Hak Milik",
          "SHM - Sertifikat Hak Milik",
          "SHM - Sertifikat Hak Milik",
          "SHM - Sertifikat Hak Milik",
          "SHM - Sertifikat Hak Milik",
          "SHM - Sertifikat Hak Milik",
          "SHM - Sertifikat Hak Milik",
          "SHM - Sertifikat Hak Milik",
          "SHM - Sertifikat Hak Milik",
          "SHM - Sertifikat Hak Milik",
          "SHM - Sertifikat Hak Milik",
          "SHM - Sertifikat Hak Milik",
          "SHM - Sertifikat Hak Milik",
          "SHM - Sertifikat Hak Milik",
          "SHM - Sertifikat Hak Milik",
          "SHM - Sertifikat Hak Milik",
          "SHM - Sertifikat Hak Milik",
          "SHM - Sertifikat Hak Milik",
          "SHM - Sertifikat Hak Milik",
          "SHM - Sertifikat Hak Milik",
          "SHM - Sertifikat Hak Milik",
          "SHM - Sertifikat Hak Milik",
          "SHM - Sertifikat Hak Milik",
          "SHM - Sertifikat Hak Milik",
          "SHM - Sertifikat Hak Milik",
          "SHM - Sertifikat Hak Milik",
          "SHM - Sertifikat Hak Milik",
          "SHM - Sertifikat Hak Milik",
          "SHM - Sertifikat Hak Milik",
          "SHM - Sertifikat Hak Milik",
          "SHM - Sertifikat Hak Milik",
          "SHM - Sertifikat Hak Milik",
          "SHM - Sertifikat Hak Milik",
          "SHM - Sertifikat Hak Milik",
          "SHM - Sertifikat Hak Milik",
          "SHM - Sertifikat Hak Milik",
          "SHM - Sertifikat Hak Milik",
          "SHM - Sertifikat Hak Milik",
          "SHM - Sertifikat Hak Milik",
          "SHM - Sertifikat Hak Milik",
          "SHM - Sertifikat Hak Milik",
          "SHM - Sertifikat Hak Milik",
          "SHM - Sertifikat Hak Milik",
          "SHM - Sertifikat Hak Milik",
          "SHM - Sertifikat Hak Milik",
          "SHM - Sertifikat Hak Milik",
          "SHM - Sertifikat Hak Milik",
          "SHM - Sertifikat Hak Milik",
          "SHM - Sertifikat Hak Milik",
          "SHM - Sertifikat Hak Milik",
          "SHM - Sertifikat Hak Milik",
          "SHM - Sertifikat Hak Milik",
          "SHM - Sertifikat Hak Milik",
          "SHM - Sertifikat Hak Milik",
          "SHM - Sertifikat Hak Milik",
          "SHM - Sertifikat Hak Milik",
          "SHM - Sertifikat Hak Milik",
          "SHM - Sertifikat Hak Milik",
          "SHM - Sertifikat Hak Milik",
          "SHM - Sertifikat Hak Milik",
          "SHM - Sertifikat Hak Milik",
          "SHM - Sertifikat Hak Milik",
          "SHM - Sertifikat Hak Milik",
          "SHM - Sertifikat Hak Milik",
          "SHM - Sertifikat Hak Milik",
          "SHM - Sertifikat Hak Milik",
          "SHM - Sertifikat Hak Milik",
          "SHM - Sertifikat Hak Milik",
          "SHM - Sertifikat Hak Milik",
          "SHM - Sertifikat Hak Milik",
          "SHM - Sertifikat Hak Milik",
          "SHM - Sertifikat Hak Milik",
          "SHM - Sertifikat Hak Milik",
          "SHM - Sertifikat Hak Milik",
          "SHM - Sertifikat Hak Milik",
          "SHM - Sertifikat Hak Milik",
          "SHM - Sertifikat Hak Milik",
          "SHM - Sertifikat Hak Milik",
          "SHM - Sertifikat Hak Milik",
          "SHM - Sertifikat Hak Milik",
          "SHM - Sertifikat Hak Milik",
          "SHM - Sertifikat Hak Milik",
          "SHM - Sertifikat Hak Milik",
          "SHM - Sertifikat Hak Milik",
          "SHM - Sertifikat Hak Milik",
          "SHM - Sertifikat Hak Milik",
          "SHM - Sertifikat Hak Milik",
          "SHM - Sertifikat Hak Milik",
          "SHM - Sertifikat Hak Milik",
          "SHM - Sertifikat Hak Milik",
          "SHM - Sertifikat Hak Milik",
          "SHM - Sertifikat Hak Milik",
          "SHM - Sertifikat Hak Milik",
          "SHM - Sertifikat Hak Milik",
          "SHM - Sertifikat Hak Milik",
          "SHM - Sertifikat Hak Milik",
          "SHM - Sertifikat Hak Milik",
          "SHM - Sertifikat Hak Milik",
          "SHM - Sertifikat Hak Milik",
          "SHM - Sertifikat Hak Milik",
          "SHM - Sertifikat Hak Milik",
          "SHM - Sertifikat Hak Milik",
          "SHM - Sertifikat Hak Milik",
          "SHM - Sertifikat Hak Milik",
          "SHM - Sertifikat Hak Milik",
          "SHM - Sertifikat Hak Milik",
          "SHM - Sertifikat Hak Milik",
          "SHM - Sertifikat Hak Milik",
          "SHM - Sertifikat Hak Milik",
          "SHM - Sertifikat Hak Milik",
          "SHM - Sertifikat Hak Milik",
          "SHM - Sertifikat Hak Milik",
          "SHM - Sertifikat Hak Milik",
          "SHM - Sertifikat Hak Milik",
          "SHM - Sertifikat Hak Milik",
          "SHM - Sertifikat Hak Milik",
          "SHM - Sertifikat Hak Milik",
          "SHM - Sertifikat Hak Milik",
          "SHM - Sertifikat Hak Milik",
          "SHM - Sertifikat Hak Milik",
          "SHM - Sertifikat Hak Milik",
          "SHM - Sertifikat Hak Milik",
          "SHM - Sertifikat Hak Milik",
          "SHM - Sertifikat Hak Milik",
          "SHM - Sertifikat Hak Milik",
          "SHM - Sertifikat Hak Milik",
          "SHM - Sertifikat Hak Milik",
          "SHM - Sertifikat Hak Milik",
          "SHM - Sertifikat Hak Milik",
          "SHM - Sertifikat Hak Milik",
          "SHM - Sertifikat Hak Milik",
          "SHM - Sertifikat Hak Milik",
          "SHM - Sertifikat Hak Milik",
          "SHM - Sertifikat Hak Milik",
          "SHM - Sertifikat Hak Milik",
          "SHM - Sertifikat Hak Milik",
          "SHM - Sertifikat Hak Milik",
          "SHM - Sertifikat Hak Milik",
          "SHM - Sertifikat Hak Milik",
          "SHM - Sertifikat Hak Milik",
          "SHM - Sertifikat Hak Milik",
          "SHM - Sertifikat Hak Milik",
          "SHM - Sertifikat Hak Milik",
          "SHM - Sertifikat Hak Milik",
          "SHM - Sertifikat Hak Milik",
          "SHM - Sertifikat Hak Milik",
          "SHM - Sertifikat Hak Milik",
          "SHM - Sertifikat Hak Milik",
          "SHM - Sertifikat Hak Milik",
          "SHM - Sertifikat Hak Milik",
          "SHM - Sertifikat Hak Milik",
          "SHM - Sertifikat Hak Milik",
          "SHM - Sertifikat Hak Milik",
          "SHM - Sertifikat Hak Milik",
          "SHM - Sertifikat Hak Milik",
          "SHM - Sertifikat Hak Milik",
          "SHM - Sertifikat Hak Milik",
          "SHM - Sertifikat Hak Milik",
          "SHM - Sertifikat Hak Milik",
          "SHM - Sertifikat Hak Milik",
          "SHM - Sertifikat Hak Milik",
          "SHM - Sertifikat Hak Milik",
          "SHM - Sertifikat Hak Milik",
          "SHM - Sertifikat Hak Milik",
          "SHM - Sertifikat Hak Milik",
          "SHM - Sertifikat Hak Milik",
          "SHM - Sertifikat Hak Milik",
          "SHM - Sertifikat Hak Milik",
          "SHM - Sertifikat Hak Milik",
          "SHM - Sertifikat Hak Milik",
          "SHM - Sertifikat Hak Milik",
          "SHM - Sertifikat Hak Milik",
          "SHM - Sertifikat Hak Milik",
          "SHM - Sertifikat Hak Milik",
          "SHM - Sertifikat Hak Milik",
          "SHM - Sertifikat Hak Milik",
          "SHM - Sertifikat Hak Milik",
          "SHM - Sertifikat Hak Milik",
          "SHM - Sertifikat Hak Milik",
          "SHM - Sertifikat Hak Milik",
          "SHM - Sertifikat Hak Milik",
          "SHM - Sertifikat Hak Milik",
          "SHM - Sertifikat Hak Milik",
          "SHM - Sertifikat Hak Milik",
          "SHM - Sertifikat Hak Milik",
          "SHM - Sertifikat Hak Milik",
          "SHM - Sertifikat Hak Milik",
          "SHM - Sertifikat Hak Milik",
          "SHM - Sertifikat Hak Milik",
          "SHM - Sertifikat Hak Milik",
          "SHM - Sertifikat Hak Milik",
          "SHM - Sertifikat Hak Milik",
          "SHM - Sertifikat Hak Milik",
          "SHM - Sertifikat Hak Milik",
          "SHM - Sertifikat Hak Milik",
          "SHM - Sertifikat Hak Milik",
          "SHM - Sertifikat Hak Milik",
          "SHM - Sertifikat Hak Milik",
          "SHM - Sertifikat Hak Milik",
          "SHM - Sertifikat Hak Milik",
          "SHM - Sertifikat Hak Milik",
          "SHM - Sertifikat Hak Milik",
          "SHM - Sertifikat Hak Milik",
          "SHM - Sertifikat Hak Milik",
          "SHM - Sertifikat Hak Milik",
          "SHM - Sertifikat Hak Milik",
          "SHM - Sertifikat Hak Milik",
          "SHM - Sertifikat Hak Milik",
          "SHM - Sertifikat Hak Milik",
          "SHM - Sertifikat Hak Milik",
          "SHM - Sertifikat Hak Milik",
          "SHM - Sertifikat Hak Milik",
          "SHM - Sertifikat Hak Milik",
          "SHM - Sertifikat Hak Milik",
          "SHM - Sertifikat Hak Milik",
          "SHM - Sertifikat Hak Milik",
          "SHM - Sertifikat Hak Milik",
          "SHM - Sertifikat Hak Milik",
          "SHM - Sertifikat Hak Milik",
          "SHM - Sertifikat Hak Milik",
          "SHM - Sertifikat Hak Milik",
          "SHM - Sertifikat Hak Milik",
          "SHM - Sertifikat Hak Milik",
          "SHM - Sertifikat Hak Milik",
          "SHM - Sertifikat Hak Milik",
          "SHM - Sertifikat Hak Milik",
          "SHM - Sertifikat Hak Milik",
          "SHM - Sertifikat Hak Milik",
          "SHM - Sertifikat Hak Milik",
          "SHM - Sertifikat Hak Milik",
          "SHM - Sertifikat Hak Milik",
          "SHM - Sertifikat Hak Milik",
          "SHM - Sertifikat Hak Milik",
          "SHM - Sertifikat Hak Milik",
          "SHM - Sertifikat Hak Milik",
          "SHM - Sertifikat Hak Milik",
          "SHM - Sertifikat Hak Milik",
          "SHM - Sertifikat Hak Milik",
          "SHM - Sertifikat Hak Milik",
          "SHM - Sertifikat Hak Milik",
          "SHM - Sertifikat Hak Milik",
          "SHM - Sertifikat Hak Milik",
          "SHM - Sertifikat Hak Milik",
          "SHM - Sertifikat Hak Milik",
          "SHM - Sertifikat Hak Milik",
          "SHM - Sertifikat Hak Milik",
          "SHM - Sertifikat Hak Milik",
          "SHM - Sertifikat Hak Milik",
          "SHM - Sertifikat Hak Milik",
          "SHM - Sertifikat Hak Milik",
          "SHM - Sertifikat Hak Milik",
          "SHM - Sertifikat Hak Milik",
          "SHM - Sertifikat Hak Milik",
          "SHM - Sertifikat Hak Milik",
          "SHM - Sertifikat Hak Milik",
          "SHM - Sertifikat Hak Milik",
          "SHM - Sertifikat Hak Milik",
          "SHM - Sertifikat Hak Milik",
          "SHM - Sertifikat Hak Milik",
          "SHM - Sertifikat Hak Milik",
          "SHM - Sertifikat Hak Milik",
          "SHM - Sertifikat Hak Milik",
          "SHM - Sertifikat Hak Milik",
          "SHM - Sertifikat Hak Milik",
          "SHM - Sertifikat Hak Milik",
          "SHM - Sertifikat Hak Milik",
          "SHM - Sertifikat Hak Milik",
          "SHM - Sertifikat Hak Milik",
          "SHM - Sertifikat Hak Milik",
          "SHM - Sertifikat Hak Milik",
          "SHM - Sertifikat Hak Milik",
          "SHM - Sertifikat Hak Milik",
          "SHM - Sertifikat Hak Milik",
          "SHM - Sertifikat Hak Milik",
          "SHM - Sertifikat Hak Milik",
          "SHM - Sertifikat Hak Milik",
          "SHM - Sertifikat Hak Milik",
          "SHM - Sertifikat Hak Milik",
          "SHM - Sertifikat Hak Milik",
          "SHM - Sertifikat Hak Milik",
          "SHM - Sertifikat Hak Milik",
          "SHM - Sertifikat Hak Milik",
          "SHM - Sertifikat Hak Milik",
          "SHM - Sertifikat Hak Milik",
          "SHM - Sertifikat Hak Milik",
          "SHM - Sertifikat Hak Milik",
          "SHM - Sertifikat Hak Milik",
          "SHM - Sertifikat Hak Milik",
          "SHM - Sertifikat Hak Milik",
          "SHM - Sertifikat Hak Milik",
          "SHM - Sertifikat Hak Milik",
          "SHM - Sertifikat Hak Milik",
          "SHM - Sertifikat Hak Milik",
          "SHM - Sertifikat Hak Milik",
          "SHM - Sertifikat Hak Milik",
          "SHM - Sertifikat Hak Milik",
          "SHM - Sertifikat Hak Milik",
          "SHM - Sertifikat Hak Milik",
          "SHM - Sertifikat Hak Milik",
          "SHM - Sertifikat Hak Milik",
          "SHM - Sertifikat Hak Milik",
          "SHM - Sertifikat Hak Milik",
          "SHM - Sertifikat Hak Milik",
          "SHM - Sertifikat Hak Milik",
          "SHM - Sertifikat Hak Milik",
          "SHM - Sertifikat Hak Milik",
          "SHM - Sertifikat Hak Milik",
          "SHM - Sertifikat Hak Milik",
          "SHM - Sertifikat Hak Milik",
          "SHM - Sertifikat Hak Milik",
          "SHM - Sertifikat Hak Milik",
          "SHM - Sertifikat Hak Milik",
          "SHM - Sertifikat Hak Milik",
          "SHM - Sertifikat Hak Milik",
          "SHM - Sertifikat Hak Milik",
          "SHM - Sertifikat Hak Milik",
          "SHM - Sertifikat Hak Milik",
          "SHM - Sertifikat Hak Milik",
          "SHM - Sertifikat Hak Milik",
          "SHM - Sertifikat Hak Milik",
          "SHM - Sertifikat Hak Milik",
          "SHM - Sertifikat Hak Milik",
          "SHM - Sertifikat Hak Milik",
          "SHM - Sertifikat Hak Milik",
          "SHM - Sertifikat Hak Milik",
          "SHM - Sertifikat Hak Milik",
          "SHM - Sertifikat Hak Milik",
          "SHM - Sertifikat Hak Milik",
          "SHM - Sertifikat Hak Milik",
          "SHM - Sertifikat Hak Milik",
          "SHM - Sertifikat Hak Milik",
          "SHM - Sertifikat Hak Milik",
          "SHM - Sertifikat Hak Milik",
          "SHM - Sertifikat Hak Milik",
          "SHM - Sertifikat Hak Milik",
          "SHM - Sertifikat Hak Milik",
          "SHM - Sertifikat Hak Milik",
          "SHM - Sertifikat Hak Milik",
          "SHM - Sertifikat Hak Milik",
          "SHM - Sertifikat Hak Milik",
          "SHM - Sertifikat Hak Milik",
          "SHM - Sertifikat Hak Milik",
          "SHM - Sertifikat Hak Milik",
          "SHM - Sertifikat Hak Milik",
          "SHM - Sertifikat Hak Milik",
          "SHM - Sertifikat Hak Milik",
          "SHM - Sertifikat Hak Milik",
          "SHM - Sertifikat Hak Milik",
          "SHM - Sertifikat Hak Milik",
          "SHM - Sertifikat Hak Milik",
          "SHM - Sertifikat Hak Milik",
          "SHM - Sertifikat Hak Milik",
          "SHM - Sertifikat Hak Milik",
          "SHM - Sertifikat Hak Milik",
          "SHM - Sertifikat Hak Milik",
          "SHM - Sertifikat Hak Milik",
          "SHM - Sertifikat Hak Milik",
          "SHM - Sertifikat Hak Milik",
          "SHM - Sertifikat Hak Milik",
          "SHM - Sertifikat Hak Milik",
          "SHM - Sertifikat Hak Milik",
          "SHM - Sertifikat Hak Milik",
          "SHM - Sertifikat Hak Milik",
          "SHM - Sertifikat Hak Milik",
          "SHM - Sertifikat Hak Milik",
          "SHM - Sertifikat Hak Milik",
          "SHM - Sertifikat Hak Milik",
          "SHM - Sertifikat Hak Milik",
          "SHM - Sertifikat Hak Milik",
          "SHM - Sertifikat Hak Milik",
          "SHM - Sertifikat Hak Milik",
          "SHM - Sertifikat Hak Milik",
          "SHM - Sertifikat Hak Milik",
          "SHM - Sertifikat Hak Milik",
          "SHM - Sertifikat Hak Milik",
          "SHM - Sertifikat Hak Milik",
          "SHM - Sertifikat Hak Milik",
          "SHM - Sertifikat Hak Milik",
          "SHM - Sertifikat Hak Milik",
          "SHM - Sertifikat Hak Milik",
          "SHM - Sertifikat Hak Milik",
          "SHM - Sertifikat Hak Milik",
          "SHM - Sertifikat Hak Milik",
          "SHM - Sertifikat Hak Milik",
          "SHM - Sertifikat Hak Milik",
          "SHM - Sertifikat Hak Milik",
          "SHM - Sertifikat Hak Milik",
          "SHM - Sertifikat Hak Milik",
          "SHM - Sertifikat Hak Milik",
          "SHM - Sertifikat Hak Milik",
          "SHM - Sertifikat Hak Milik",
          "SHM - Sertifikat Hak Milik",
          "SHM - Sertifikat Hak Milik",
          "SHM - Sertifikat Hak Milik",
          "SHM - Sertifikat Hak Milik",
          "SHM - Sertifikat Hak Milik",
          "SHM - Sertifikat Hak Milik",
          "SHM - Sertifikat Hak Milik",
          "SHM - Sertifikat Hak Milik",
          "SHM - Sertifikat Hak Milik",
          "SHM - Sertifikat Hak Milik",
          "SHM - Sertifikat Hak Milik",
          "SHM - Sertifikat Hak Milik",
          "SHM - Sertifikat Hak Milik",
          "SHM - Sertifikat Hak Milik",
          "SHM - Sertifikat Hak Milik",
          "SHM - Sertifikat Hak Milik",
          "SHM - Sertifikat Hak Milik",
          "SHM - Sertifikat Hak Milik",
          "SHM - Sertifikat Hak Milik",
          "SHM - Sertifikat Hak Milik",
          "SHM - Sertifikat Hak Milik",
          "SHM - Sertifikat Hak Milik",
          "SHM - Sertifikat Hak Milik",
          "SHM - Sertifikat Hak Milik",
          "SHM - Sertifikat Hak Milik",
          "SHM - Sertifikat Hak Milik",
          "SHM - Sertifikat Hak Milik",
          "SHM - Sertifikat Hak Milik",
          "SHM - Sertifikat Hak Milik",
          "SHM - Sertifikat Hak Milik",
          "SHM - Sertifikat Hak Milik",
          "SHM - Sertifikat Hak Milik",
          "SHM - Sertifikat Hak Milik",
          "SHM - Sertifikat Hak Milik",
          "SHM - Sertifikat Hak Milik",
          "SHM - Sertifikat Hak Milik",
          "SHM - Sertifikat Hak Milik",
          "SHM - Sertifikat Hak Milik",
          "SHM - Sertifikat Hak Milik",
          "SHM - Sertifikat Hak Milik",
          "SHM - Sertifikat Hak Milik",
          "SHM - Sertifikat Hak Milik",
          "SHM - Sertifikat Hak Milik",
          "SHM - Sertifikat Hak Milik",
          "SHM - Sertifikat Hak Milik",
          "SHM - Sertifikat Hak Milik",
          "SHM - Sertifikat Hak Milik",
          "SHM - Sertifikat Hak Milik",
          "SHM - Sertifikat Hak Milik",
          "SHM - Sertifikat Hak Milik",
          "SHM - Sertifikat Hak Milik",
          "SHM - Sertifikat Hak Milik",
          "SHM - Sertifikat Hak Milik",
          "SHM - Sertifikat Hak Milik",
          "SHM - Sertifikat Hak Milik",
          "SHM - Sertifikat Hak Milik",
          "SHM - Sertifikat Hak Milik",
          "SHM - Sertifikat Hak Milik",
          "SHM - Sertifikat Hak Milik",
          "SHM - Sertifikat Hak Milik",
          "SHM - Sertifikat Hak Milik",
          "SHM - Sertifikat Hak Milik",
          "SHM - Sertifikat Hak Milik",
          "SHM - Sertifikat Hak Milik",
          "SHM - Sertifikat Hak Milik",
          "SHM - Sertifikat Hak Milik",
          "SHM - Sertifikat Hak Milik",
          "SHM - Sertifikat Hak Milik",
          "SHM - Sertifikat Hak Milik",
          "SHM - Sertifikat Hak Milik",
          "SHM - Sertifikat Hak Milik",
          "SHM - Sertifikat Hak Milik",
          "SHM - Sertifikat Hak Milik",
          "SHM - Sertifikat Hak Milik",
          "SHM - Sertifikat Hak Milik",
          "SHM - Sertifikat Hak Milik",
          "SHM - Sertifikat Hak Milik",
          "SHM - Sertifikat Hak Milik",
          "SHM - Sertifikat Hak Milik",
          "SHM - Sertifikat Hak Milik",
          "SHM - Sertifikat Hak Milik",
          "SHM - Sertifikat Hak Milik",
          "SHM - Sertifikat Hak Milik",
          "SHM - Sertifikat Hak Milik",
          "SHM - Sertifikat Hak Milik",
          "SHM - Sertifikat Hak Milik",
          "SHM - Sertifikat Hak Milik",
          "SHM - Sertifikat Hak Milik",
          "SHM - Sertifikat Hak Milik",
          "SHM - Sertifikat Hak Milik",
          "SHM - Sertifikat Hak Milik",
          "SHM - Sertifikat Hak Milik",
          "SHM - Sertifikat Hak Milik",
          "SHM - Sertifikat Hak Milik",
          "SHM - Sertifikat Hak Milik",
          "SHM - Sertifikat Hak Milik",
          "SHM - Sertifikat Hak Milik",
          "SHM - Sertifikat Hak Milik",
          "SHM - Sertifikat Hak Milik",
          "SHM - Sertifikat Hak Milik",
          "SHM - Sertifikat Hak Milik",
          "SHM - Sertifikat Hak Milik",
          "SHM - Sertifikat Hak Milik",
          "SHM - Sertifikat Hak Milik",
          "SHM - Sertifikat Hak Milik",
          "SHM - Sertifikat Hak Milik",
          "SHM - Sertifikat Hak Milik",
          "SHM - Sertifikat Hak Milik",
          "SHM - Sertifikat Hak Milik",
          "SHM - Sertifikat Hak Milik",
          "SHM - Sertifikat Hak Milik",
          "SHM - Sertifikat Hak Milik",
          "SHM - Sertifikat Hak Milik",
          "SHM - Sertifikat Hak Milik",
          "SHM - Sertifikat Hak Milik",
          "SHM - Sertifikat Hak Milik",
          "SHM - Sertifikat Hak Milik",
          "SHM - Sertifikat Hak Milik",
          "SHM - Sertifikat Hak Milik",
          "SHM - Sertifikat Hak Milik",
          "SHM - Sertifikat Hak Milik",
          "SHM - Sertifikat Hak Milik",
          "SHM - Sertifikat Hak Milik",
          "SHM - Sertifikat Hak Milik",
          "SHM - Sertifikat Hak Milik",
          "SHM - Sertifikat Hak Milik",
          "SHM - Sertifikat Hak Milik",
          "SHM - Sertifikat Hak Milik",
          "SHM - Sertifikat Hak Milik",
          "SHM - Sertifikat Hak Milik",
          "SHM - Sertifikat Hak Milik",
          "SHM - Sertifikat Hak Milik",
          "SHM - Sertifikat Hak Milik",
          "SHM - Sertifikat Hak Milik",
          "SHM - Sertifikat Hak Milik",
          "SHM - Sertifikat Hak Milik",
          "SHM - Sertifikat Hak Milik",
          "SHM - Sertifikat Hak Milik",
          "SHM - Sertifikat Hak Milik",
          "SHM - Sertifikat Hak Milik",
          "SHM - Sertifikat Hak Milik",
          "SHM - Sertifikat Hak Milik",
          "SHM - Sertifikat Hak Milik",
          "SHM - Sertifikat Hak Milik",
          "SHM - Sertifikat Hak Milik",
          "SHM - Sertifikat Hak Milik",
          "SHM - Sertifikat Hak Milik",
          "SHM - Sertifikat Hak Milik",
          "SHM - Sertifikat Hak Milik",
          "SHM - Sertifikat Hak Milik",
          "SHM - Sertifikat Hak Milik",
          "SHM - Sertifikat Hak Milik",
          "SHM - Sertifikat Hak Milik",
          "SHM - Sertifikat Hak Milik",
          "SHM - Sertifikat Hak Milik",
          "SHM - Sertifikat Hak Milik",
          "SHM - Sertifikat Hak Milik",
          "SHM - Sertifikat Hak Milik",
          "SHM - Sertifikat Hak Milik",
          "SHM - Sertifikat Hak Milik"
         ],
         "xaxis": "x",
         "y": [
          22000000,
          38000000,
          70833333.33333333,
          38000000,
          10000000,
          21000000,
          2916666.6666666665,
          3750000,
          93900000,
          20000000,
          50000000,
          22000000,
          23000000,
          38000000,
          37500000,
          13000000,
          40000000,
          6666666.666666667,
          32000000,
          70750000,
          48833333.333333336,
          48833333.333333336,
          31666666.666666668,
          6666666.666666667,
          32000000,
          32000000,
          65000000,
          31666666.666666668,
          31666666.666666668,
          48833333.333333336,
          32000000,
          48833333.333333336,
          6666666.666666667,
          6666666.666666667,
          31666666.666666668,
          17916666.666666668,
          17916666.666666668,
          16666666.666666666,
          28000000,
          17916666.666666668,
          7500000,
          17916666.666666668,
          7916666.666666667,
          50000000,
          9000000,
          16666666.666666666,
          16666666.666666666,
          14166666.666666666,
          19200000,
          20000000,
          10000000,
          86666666.66666667,
          86666666.66666667,
          6750000,
          8333333.333333333,
          5000000,
          86666666.66666667,
          8500000,
          3333333.3333333335,
          20000000,
          4583333.333333333,
          6750000,
          7083333.333333333,
          10250000,
          6000000,
          5833333.333333333,
          5000000,
          6250000,
          7500000,
          4250000,
          5291666.666666667,
          5000000,
          4583333.333333333,
          4166666.6666666665,
          3833333.3333333335,
          9166666.666666666,
          242500000,
          35000000,
          21000000,
          28900000,
          40000000,
          7916666.666666667,
          86000000,
          100000000,
          7000000,
          2500000,
          91666666.66666667,
          7500000,
          66666666.666666664,
          72250000,
          145000000,
          2500000,
          11000000,
          48000000,
          40500000,
          8333333.333333333,
          3333333.3333333335,
          9000000,
          40000000,
          53000000,
          125000000,
          9000000,
          25000000,
          7500000,
          10833333.333333334,
          9500000,
          6250000,
          10000000,
          9500000,
          7000000,
          10500000,
          5833333.333333333,
          8500000,
          9000000,
          7000000,
          9500000,
          9000000,
          8600000,
          13500000,
          7000000,
          22000000,
          150000000,
          166666666.66666666,
          41666666.666666664,
          27000000,
          25000000,
          7500000,
          70833333.33333333,
          14000000,
          8000000,
          70833333.33333333,
          3125000,
          87500000,
          5000000,
          179166666.66666666,
          66666666.666666664,
          46000000,
          5208333.333333333,
          4500000,
          207500000,
          5833333.333333333,
          90000000,
          20000000,
          8083333.333333333,
          15000000,
          10000000,
          22000000,
          16000000,
          4083333.3333333335,
          10000000,
          45000000,
          33000000,
          12500000,
          66666666.666666664,
          20833333.333333332,
          125000000,
          37500000,
          50000000,
          125000000,
          33333333.333333332,
          67900000,
          65000000,
          210000000,
          10416666.666666666,
          4833333.333333333,
          3750000,
          41666666.666666664,
          6250000,
          6250000,
          6250000,
          5000000,
          183333333.33333334,
          5000000,
          3333333.3333333335,
          7250000,
          3333333.3333333335,
          5000000,
          4166666.6666666665,
          5000000,
          8333333.333333333,
          4583333.333333333,
          108000000,
          7500000,
          3083333.3333333335,
          45833333.333333336,
          8166666.666666667,
          5066666.666666667,
          140000000,
          8333333.333333333,
          5750000,
          11500000,
          4166666.6666666665,
          15000000,
          7000000,
          7000000,
          15500000,
          12500000,
          14000000,
          41666666.666666664,
          6000000,
          5833333.333333333,
          41666666.666666664,
          9500000,
          125000000,
          5250000,
          60000000,
          39000000,
          4000000,
          4583333.333333333,
          6666666.666666667,
          82500000,
          45000000,
          8333333.333333333,
          13000000,
          5833333.333333333,
          9000000,
          33333333.333333332,
          13000000,
          54166666.666666664,
          10000000,
          7000000,
          14583333.333333334,
          15000000,
          9500000,
          9500000,
          158333333.33333334,
          40000000,
          42000000,
          12000000,
          6000000,
          48000000,
          37500000,
          170833333.25,
          6000000,
          10000000,
          16000000,
          13000000,
          8750000,
          8833333.333333334,
          8000000,
          6250000,
          7000000,
          155000000,
          16666666.666666666,
          16666666.666666666,
          183333333.33333334,
          4583333.333333333,
          10500000,
          15000000,
          13000000,
          71000000,
          7000000,
          15000000,
          58333333.333333336,
          62500000,
          7083333.333333333,
          300000000,
          71000000,
          100000000,
          7000000,
          183333333.33333334,
          143333333.33333334,
          9500000,
          300000000,
          100000000,
          9500000,
          12000000,
          58333333.333333336,
          50000000,
          7000000,
          9500000,
          58333333.333333336,
          10000000,
          7000000,
          125000000,
          9500000,
          74000000,
          3750000,
          7083333.333333333,
          5416666.666666667,
          20000000,
          120000000,
          34000000,
          6500000,
          7500000,
          28000000,
          20833333.333333332,
          36750000,
          48500000,
          5700000,
          25833333.333333332,
          39000000,
          57583333.333333336,
          4166666.6666666665,
          33000000,
          33000000,
          9500000,
          6000000,
          10000000,
          4500000,
          100000000,
          3333333.3333333335,
          5000000,
          4166666.6666666665,
          23000000,
          5000000,
          10000000,
          5833333.333333333,
          20000000,
          9000000,
          14000000,
          21000000,
          17000000,
          9000000,
          18000000,
          23000000,
          4166666.6666666665,
          8333333.333333333,
          5833333.333333333,
          29166666.666666668,
          15000000,
          458333333.3333333,
          54166666.666666664,
          195000000,
          150000000,
          125000000,
          58333333.333333336,
          95833333.33333333,
          115000000,
          50000000,
          310000000,
          70000000,
          10000000,
          36000000,
          4583333.333333333,
          8500000,
          7500000,
          150000000,
          6500000,
          95000000,
          16000000,
          6250000,
          19000000,
          10000000,
          58333333.333333336,
          21000000,
          34000000,
          57000000,
          71000000,
          95833333.33333333,
          78000000,
          200000000,
          21000000,
          56000000,
          3750000,
          49000000,
          11000000,
          21000000,
          7500000,
          11000000,
          16000000,
          7500000,
          26000000,
          24000000,
          16000000,
          8500000,
          8000000,
          16000000,
          11000000,
          7500000,
          9000000,
          14000000,
          7000000,
          6500000,
          11000000,
          10000000,
          8500000,
          80416666.66666667,
          7000000,
          7000000,
          7500000,
          2600000,
          9500000,
          2400000,
          7000000,
          10000000,
          14500000,
          37000000,
          6500000,
          2400000,
          29166666.666666668,
          5416666.666666667,
          69000000,
          13750000,
          2600000,
          28000000,
          11000000,
          40000000,
          66666666.666666664,
          23000000,
          200000000,
          13333333.333333334,
          33000000,
          7916666.666666667,
          22916666.666666668,
          315000000,
          3333333.3333333335,
          10416666.666666666,
          13750000,
          29166666.666666668,
          7083333.333333333,
          16000000,
          2166666.6666666665,
          23750000,
          20000000,
          10500000,
          45900000,
          108333333.33333333,
          45900000,
          45900000,
          4833333.333333333,
          40000000,
          79000000,
          12500000,
          20000000,
          9166666.666666666,
          10000000,
          45900000,
          10000000,
          79000000,
          39000000,
          13500000,
          70000000,
          14000000,
          9166666.666666666,
          56000000,
          25000000,
          11250000,
          6250000,
          10000000,
          64000000,
          7500000,
          6666666.666666667,
          16000000,
          5500000,
          93900000,
          16666666.666666666,
          25000000,
          8333333.333333333,
          5833333.333333333,
          362500000,
          4166666.6666666665,
          3980000,
          7000000,
          29166666.666666668,
          27083333.333333332,
          13750000,
          7000000,
          7000000,
          10000000,
          3750000,
          80000000,
          10500000,
          9500000,
          9000000,
          9000000,
          7000000,
          9500000,
          7000000,
          7000000,
          11500000,
          9500000,
          10000000,
          11000000,
          7000000,
          49916666.666666664,
          41666666.666666664,
          7000000,
          7000000,
          7200000,
          11000000,
          52416666.666666664,
          7000000,
          37416666.666666664,
          19000000,
          43400000,
          7500000,
          18333333.333333332,
          8500000,
          30583333.333333332,
          8000000,
          8500000,
          11000000,
          38833333.333333336,
          15000000,
          9000000,
          15000000,
          7000000,
          20083333.333333332,
          11250000,
          7500000,
          11000000,
          45300000,
          48600000,
          2916666.6666666665,
          4083333.3333333335,
          16000000,
          12000000,
          3500000,
          150000000,
          7000000,
          7000000,
          16666666.666666666,
          65000000,
          12083333.333333334,
          20000000,
          6666666.666666667,
          43400000,
          10416666.666666666,
          41666666.666666664,
          41666666.666666664,
          86666666.66666667,
          3500000,
          6000000,
          41666666.666666664,
          12500000,
          41666666.666666664,
          8000000,
          32083333.333333332,
          3750000,
          10000000,
          43333333.333333336,
          6000000,
          9000000,
          3750000,
          6000000,
          10833333.333333334,
          5833333.333333333,
          7000000,
          15000000,
          6000000,
          8000000,
          6000000,
          9000000,
          8500000,
          9200000,
          7000000,
          7000000,
          8000000,
          4800000,
          100000000,
          12000000,
          6666666.666666667,
          100000000,
          5500000,
          8000000,
          8000000,
          12000000,
          7500000,
          8000000,
          8000000,
          100000000,
          8000000,
          8000000,
          8000000,
          41666666.666666664,
          29166666.666666668,
          25000000,
          37500000,
          37500000,
          20750000,
          9000000,
          7000000,
          6000000,
          4166666.6666666665,
          8500000,
          7000000,
          6500000,
          6000000,
          6000000,
          8000000,
          5000000,
          6000000,
          8000000,
          8000000,
          11000000,
          21000000,
          10500000,
          18600000,
          11000000,
          110000000,
          12500000,
          7000000,
          7000000,
          25000000,
          44916666.666666664,
          12500000,
          15000000,
          70000000,
          4583333.333333333,
          83333333.33333333,
          125000000,
          29166666.666666668,
          54166666.666666664,
          2500000,
          15416666.666666666,
          40000000,
          2333333.3333333335,
          45000000,
          9166666.666666666,
          13000000,
          16666666.666666666,
          13500000,
          10000000,
          37500000,
          4166666.6666666665,
          6250000,
          3333333.3333333335,
          4166666.6666666665,
          70833333.33333333,
          4166666.6666666665,
          2916666.6666666665,
          250000000,
          125000000,
          4166666.6666666665,
          8166666.666666667,
          6000000,
          90000000,
          80000000,
          41666666.666666664,
          8166666.666666667,
          4416666.666666667,
          4833333.333333333,
          90000000,
          4166666.6666666665,
          41666666.666666664,
          4583333.333333333,
          1500000,
          14166666.666666666,
          21000000,
          14000000,
          7250000,
          5000000,
          37500000,
          9166666.666666666,
          6083333.333333333,
          70833333.33333333,
          29000000,
          21000000,
          3083333.3333333335,
          9000000,
          21500000,
          58333333.333333336,
          10416666.666666666,
          62500000,
          3958333.3333333335,
          5000000,
          5000000,
          5458333.333333333,
          5250000,
          7916666.666666667,
          18333333.333333332,
          22000000,
          22000000,
          72000000,
          22000000,
          53100000,
          3750000,
          9166666.666666666,
          40000000,
          10416666.666666666,
          100000000,
          5833333.333333333,
          10000000,
          10000000,
          7083333.333333333,
          72400000,
          14000000,
          9000000,
          41666666.666666664,
          37500000,
          12500000,
          43500000,
          2250000,
          72833333.33333333,
          35000000,
          7500000,
          7000000,
          7000000,
          11000000,
          41666666.666666664,
          12000000,
          20833333.333333332,
          10000000,
          11250000,
          6250000,
          78600000,
          7250000,
          3333333.3333333335,
          7000000,
          10000000,
          8000000,
          7500000,
          133333333.33333333,
          37500000,
          28333333.333333332,
          51000000,
          4583333.333333333,
          2833333.3333333335,
          5000000,
          708333333.3333334,
          4583333.333333333,
          33333333.333333332,
          27000000,
          145000000,
          125000000,
          175000000,
          125000000,
          29166666.666666668,
          71700000,
          7500000,
          125000000,
          70833333.33333333,
          37500000,
          54166666.666666664,
          141666666.66666666,
          100833333.33333333,
          6100000,
          40000000,
          78800000,
          12000000,
          96000000,
          16800000,
          4500000,
          13500000,
          4500000,
          6500000,
          13500000,
          27000000,
          150000000,
          6500000,
          11000000,
          29166666.666666668,
          2300000,
          5416666.666666667,
          64800000,
          12500000,
          4166666.6666666665,
          5250000,
          4166666.6666666665,
          6250000,
          3333333.3333333335,
          7083333.333333333,
          39000000,
          8000000,
          37000000,
          10000000,
          44000000,
          10000000,
          56000000,
          3250000,
          40000000,
          59200000,
          8500000,
          3750000,
          42166666.666666664,
          8500000,
          58333333.333333336,
          27500000,
          14500000,
          8333333.333333333,
          141666666.66666666,
          100000000,
          16666666.666666666,
          58333333.333333336,
          4500000,
          58333333.333333336,
          70833333.33333333,
          11416666.666666666,
          4083333.3333333335,
          42500000,
          3750000,
          42500000,
          7333333.333333333,
          12500000,
          78666666.66666667,
          6250000,
          4333333.333333333,
          40300000,
          10500000,
          4250000,
          9500000,
          41666666.666666664,
          157500000,
          63000000,
          6666666.666666667,
          3750000,
          59166666.666666664,
          6666666.666666667,
          15000000,
          63000000,
          18700000,
          5833333.333333333,
          15000000,
          15000000,
          77916666.66666667,
          3333333.3333333335,
          4833333.333333333,
          9000000,
          621000000,
          3916666.6666666665,
          15000000,
          100000000,
          77916666.66666667,
          100000000,
          15833333.333333334,
          15833333.333333334,
          9000000,
          45000000,
          125000000,
          20833333.333333332,
          30000000,
          125000000,
          11000000,
          125000000,
          7000000,
          8500000,
          7000000,
          16666666.666666666,
          35000000,
          3000000,
          7000000,
          21250000,
          8000000,
          20000000,
          20000000,
          37500000,
          28333333.333333332,
          325000000,
          19583333.333333332,
          38000000,
          6666666.666666667,
          4000000,
          5416666.666666667,
          15833333.333333334,
          8750000,
          45833333.333333336,
          4700000,
          12000000,
          4166666.6666666665,
          6666666.666666667,
          4500000,
          42000000,
          5000000,
          41000000,
          17500000,
          13333333.333333334,
          12000000,
          5500000,
          5000000,
          3500000,
          5000000,
          7000000,
          20000000,
          9500000,
          23000000,
          29166666.666666668,
          33333333.333333332,
          5000000,
          32000000,
          90000000,
          2600000,
          8333333.333333333,
          30000000,
          6000000,
          5900000,
          141666666.66666666
         ],
         "yaxis": "y"
        },
        {
         "hovertemplate": "sertifikat=%{x}<br>Price=%{y}<extra></extra>",
         "legendgroup": "Lainnya (PPJB,Girik,Adat,dll)",
         "marker": {
          "color": "#00cc96",
          "symbol": "circle"
         },
         "mode": "markers",
         "name": "Lainnya (PPJB,Girik,Adat,dll)",
         "showlegend": true,
         "type": "scattergl",
         "x": [
          "Lainnya (PPJB,Girik,Adat,dll)",
          "Lainnya (PPJB,Girik,Adat,dll)",
          "Lainnya (PPJB,Girik,Adat,dll)",
          "Lainnya (PPJB,Girik,Adat,dll)",
          "Lainnya (PPJB,Girik,Adat,dll)",
          "Lainnya (PPJB,Girik,Adat,dll)",
          "Lainnya (PPJB,Girik,Adat,dll)",
          "Lainnya (PPJB,Girik,Adat,dll)",
          "Lainnya (PPJB,Girik,Adat,dll)",
          "Lainnya (PPJB,Girik,Adat,dll)",
          "Lainnya (PPJB,Girik,Adat,dll)",
          "Lainnya (PPJB,Girik,Adat,dll)",
          "Lainnya (PPJB,Girik,Adat,dll)",
          "Lainnya (PPJB,Girik,Adat,dll)",
          "Lainnya (PPJB,Girik,Adat,dll)",
          "Lainnya (PPJB,Girik,Adat,dll)",
          "Lainnya (PPJB,Girik,Adat,dll)",
          "Lainnya (PPJB,Girik,Adat,dll)",
          "Lainnya (PPJB,Girik,Adat,dll)",
          "Lainnya (PPJB,Girik,Adat,dll)",
          "Lainnya (PPJB,Girik,Adat,dll)",
          "Lainnya (PPJB,Girik,Adat,dll)",
          "Lainnya (PPJB,Girik,Adat,dll)",
          "Lainnya (PPJB,Girik,Adat,dll)",
          "Lainnya (PPJB,Girik,Adat,dll)",
          "Lainnya (PPJB,Girik,Adat,dll)",
          "Lainnya (PPJB,Girik,Adat,dll)",
          "Lainnya (PPJB,Girik,Adat,dll)",
          "Lainnya (PPJB,Girik,Adat,dll)",
          "Lainnya (PPJB,Girik,Adat,dll)",
          "Lainnya (PPJB,Girik,Adat,dll)",
          "Lainnya (PPJB,Girik,Adat,dll)",
          "Lainnya (PPJB,Girik,Adat,dll)",
          "Lainnya (PPJB,Girik,Adat,dll)",
          "Lainnya (PPJB,Girik,Adat,dll)",
          "Lainnya (PPJB,Girik,Adat,dll)",
          "Lainnya (PPJB,Girik,Adat,dll)",
          "Lainnya (PPJB,Girik,Adat,dll)",
          "Lainnya (PPJB,Girik,Adat,dll)",
          "Lainnya (PPJB,Girik,Adat,dll)",
          "Lainnya (PPJB,Girik,Adat,dll)",
          "Lainnya (PPJB,Girik,Adat,dll)",
          "Lainnya (PPJB,Girik,Adat,dll)",
          "Lainnya (PPJB,Girik,Adat,dll)",
          "Lainnya (PPJB,Girik,Adat,dll)",
          "Lainnya (PPJB,Girik,Adat,dll)",
          "Lainnya (PPJB,Girik,Adat,dll)",
          "Lainnya (PPJB,Girik,Adat,dll)",
          "Lainnya (PPJB,Girik,Adat,dll)",
          "Lainnya (PPJB,Girik,Adat,dll)",
          "Lainnya (PPJB,Girik,Adat,dll)",
          "Lainnya (PPJB,Girik,Adat,dll)",
          "Lainnya (PPJB,Girik,Adat,dll)",
          "Lainnya (PPJB,Girik,Adat,dll)",
          "Lainnya (PPJB,Girik,Adat,dll)",
          "Lainnya (PPJB,Girik,Adat,dll)",
          "Lainnya (PPJB,Girik,Adat,dll)",
          "Lainnya (PPJB,Girik,Adat,dll)",
          "Lainnya (PPJB,Girik,Adat,dll)",
          "Lainnya (PPJB,Girik,Adat,dll)",
          "Lainnya (PPJB,Girik,Adat,dll)",
          "Lainnya (PPJB,Girik,Adat,dll)",
          "Lainnya (PPJB,Girik,Adat,dll)",
          "Lainnya (PPJB,Girik,Adat,dll)",
          "Lainnya (PPJB,Girik,Adat,dll)",
          "Lainnya (PPJB,Girik,Adat,dll)",
          "Lainnya (PPJB,Girik,Adat,dll)",
          "Lainnya (PPJB,Girik,Adat,dll)",
          "Lainnya (PPJB,Girik,Adat,dll)",
          "Lainnya (PPJB,Girik,Adat,dll)",
          "Lainnya (PPJB,Girik,Adat,dll)",
          "Lainnya (PPJB,Girik,Adat,dll)",
          "Lainnya (PPJB,Girik,Adat,dll)",
          "Lainnya (PPJB,Girik,Adat,dll)",
          "Lainnya (PPJB,Girik,Adat,dll)",
          "Lainnya (PPJB,Girik,Adat,dll)",
          "Lainnya (PPJB,Girik,Adat,dll)",
          "Lainnya (PPJB,Girik,Adat,dll)",
          "Lainnya (PPJB,Girik,Adat,dll)",
          "Lainnya (PPJB,Girik,Adat,dll)",
          "Lainnya (PPJB,Girik,Adat,dll)",
          "Lainnya (PPJB,Girik,Adat,dll)",
          "Lainnya (PPJB,Girik,Adat,dll)",
          "Lainnya (PPJB,Girik,Adat,dll)",
          "Lainnya (PPJB,Girik,Adat,dll)",
          "Lainnya (PPJB,Girik,Adat,dll)",
          "Lainnya (PPJB,Girik,Adat,dll)",
          "Lainnya (PPJB,Girik,Adat,dll)",
          "Lainnya (PPJB,Girik,Adat,dll)",
          "Lainnya (PPJB,Girik,Adat,dll)",
          "Lainnya (PPJB,Girik,Adat,dll)",
          "Lainnya (PPJB,Girik,Adat,dll)",
          "Lainnya (PPJB,Girik,Adat,dll)",
          "Lainnya (PPJB,Girik,Adat,dll)",
          "Lainnya (PPJB,Girik,Adat,dll)",
          "Lainnya (PPJB,Girik,Adat,dll)",
          "Lainnya (PPJB,Girik,Adat,dll)",
          "Lainnya (PPJB,Girik,Adat,dll)",
          "Lainnya (PPJB,Girik,Adat,dll)",
          "Lainnya (PPJB,Girik,Adat,dll)",
          "Lainnya (PPJB,Girik,Adat,dll)",
          "Lainnya (PPJB,Girik,Adat,dll)",
          "Lainnya (PPJB,Girik,Adat,dll)",
          "Lainnya (PPJB,Girik,Adat,dll)",
          "Lainnya (PPJB,Girik,Adat,dll)",
          "Lainnya (PPJB,Girik,Adat,dll)",
          "Lainnya (PPJB,Girik,Adat,dll)",
          "Lainnya (PPJB,Girik,Adat,dll)",
          "Lainnya (PPJB,Girik,Adat,dll)",
          "Lainnya (PPJB,Girik,Adat,dll)",
          "Lainnya (PPJB,Girik,Adat,dll)",
          "Lainnya (PPJB,Girik,Adat,dll)",
          "Lainnya (PPJB,Girik,Adat,dll)",
          "Lainnya (PPJB,Girik,Adat,dll)",
          "Lainnya (PPJB,Girik,Adat,dll)",
          "Lainnya (PPJB,Girik,Adat,dll)",
          "Lainnya (PPJB,Girik,Adat,dll)",
          "Lainnya (PPJB,Girik,Adat,dll)",
          "Lainnya (PPJB,Girik,Adat,dll)",
          "Lainnya (PPJB,Girik,Adat,dll)",
          "Lainnya (PPJB,Girik,Adat,dll)",
          "Lainnya (PPJB,Girik,Adat,dll)",
          "Lainnya (PPJB,Girik,Adat,dll)",
          "Lainnya (PPJB,Girik,Adat,dll)",
          "Lainnya (PPJB,Girik,Adat,dll)",
          "Lainnya (PPJB,Girik,Adat,dll)",
          "Lainnya (PPJB,Girik,Adat,dll)",
          "Lainnya (PPJB,Girik,Adat,dll)",
          "Lainnya (PPJB,Girik,Adat,dll)",
          "Lainnya (PPJB,Girik,Adat,dll)",
          "Lainnya (PPJB,Girik,Adat,dll)",
          "Lainnya (PPJB,Girik,Adat,dll)",
          "Lainnya (PPJB,Girik,Adat,dll)",
          "Lainnya (PPJB,Girik,Adat,dll)",
          "Lainnya (PPJB,Girik,Adat,dll)",
          "Lainnya (PPJB,Girik,Adat,dll)",
          "Lainnya (PPJB,Girik,Adat,dll)",
          "Lainnya (PPJB,Girik,Adat,dll)",
          "Lainnya (PPJB,Girik,Adat,dll)",
          "Lainnya (PPJB,Girik,Adat,dll)",
          "Lainnya (PPJB,Girik,Adat,dll)",
          "Lainnya (PPJB,Girik,Adat,dll)",
          "Lainnya (PPJB,Girik,Adat,dll)",
          "Lainnya (PPJB,Girik,Adat,dll)",
          "Lainnya (PPJB,Girik,Adat,dll)",
          "Lainnya (PPJB,Girik,Adat,dll)",
          "Lainnya (PPJB,Girik,Adat,dll)",
          "Lainnya (PPJB,Girik,Adat,dll)",
          "Lainnya (PPJB,Girik,Adat,dll)",
          "Lainnya (PPJB,Girik,Adat,dll)",
          "Lainnya (PPJB,Girik,Adat,dll)",
          "Lainnya (PPJB,Girik,Adat,dll)",
          "Lainnya (PPJB,Girik,Adat,dll)",
          "Lainnya (PPJB,Girik,Adat,dll)",
          "Lainnya (PPJB,Girik,Adat,dll)",
          "Lainnya (PPJB,Girik,Adat,dll)",
          "Lainnya (PPJB,Girik,Adat,dll)",
          "Lainnya (PPJB,Girik,Adat,dll)",
          "Lainnya (PPJB,Girik,Adat,dll)",
          "Lainnya (PPJB,Girik,Adat,dll)",
          "Lainnya (PPJB,Girik,Adat,dll)",
          "Lainnya (PPJB,Girik,Adat,dll)",
          "Lainnya (PPJB,Girik,Adat,dll)",
          "Lainnya (PPJB,Girik,Adat,dll)",
          "Lainnya (PPJB,Girik,Adat,dll)",
          "Lainnya (PPJB,Girik,Adat,dll)",
          "Lainnya (PPJB,Girik,Adat,dll)",
          "Lainnya (PPJB,Girik,Adat,dll)",
          "Lainnya (PPJB,Girik,Adat,dll)",
          "Lainnya (PPJB,Girik,Adat,dll)",
          "Lainnya (PPJB,Girik,Adat,dll)",
          "Lainnya (PPJB,Girik,Adat,dll)",
          "Lainnya (PPJB,Girik,Adat,dll)",
          "Lainnya (PPJB,Girik,Adat,dll)",
          "Lainnya (PPJB,Girik,Adat,dll)",
          "Lainnya (PPJB,Girik,Adat,dll)",
          "Lainnya (PPJB,Girik,Adat,dll)",
          "Lainnya (PPJB,Girik,Adat,dll)",
          "Lainnya (PPJB,Girik,Adat,dll)",
          "Lainnya (PPJB,Girik,Adat,dll)",
          "Lainnya (PPJB,Girik,Adat,dll)",
          "Lainnya (PPJB,Girik,Adat,dll)",
          "Lainnya (PPJB,Girik,Adat,dll)",
          "Lainnya (PPJB,Girik,Adat,dll)",
          "Lainnya (PPJB,Girik,Adat,dll)",
          "Lainnya (PPJB,Girik,Adat,dll)",
          "Lainnya (PPJB,Girik,Adat,dll)",
          "Lainnya (PPJB,Girik,Adat,dll)",
          "Lainnya (PPJB,Girik,Adat,dll)",
          "Lainnya (PPJB,Girik,Adat,dll)",
          "Lainnya (PPJB,Girik,Adat,dll)",
          "Lainnya (PPJB,Girik,Adat,dll)",
          "Lainnya (PPJB,Girik,Adat,dll)",
          "Lainnya (PPJB,Girik,Adat,dll)",
          "Lainnya (PPJB,Girik,Adat,dll)",
          "Lainnya (PPJB,Girik,Adat,dll)",
          "Lainnya (PPJB,Girik,Adat,dll)",
          "Lainnya (PPJB,Girik,Adat,dll)",
          "Lainnya (PPJB,Girik,Adat,dll)",
          "Lainnya (PPJB,Girik,Adat,dll)",
          "Lainnya (PPJB,Girik,Adat,dll)",
          "Lainnya (PPJB,Girik,Adat,dll)",
          "Lainnya (PPJB,Girik,Adat,dll)",
          "Lainnya (PPJB,Girik,Adat,dll)",
          "Lainnya (PPJB,Girik,Adat,dll)",
          "Lainnya (PPJB,Girik,Adat,dll)",
          "Lainnya (PPJB,Girik,Adat,dll)",
          "Lainnya (PPJB,Girik,Adat,dll)",
          "Lainnya (PPJB,Girik,Adat,dll)",
          "Lainnya (PPJB,Girik,Adat,dll)",
          "Lainnya (PPJB,Girik,Adat,dll)",
          "Lainnya (PPJB,Girik,Adat,dll)",
          "Lainnya (PPJB,Girik,Adat,dll)",
          "Lainnya (PPJB,Girik,Adat,dll)",
          "Lainnya (PPJB,Girik,Adat,dll)",
          "Lainnya (PPJB,Girik,Adat,dll)",
          "Lainnya (PPJB,Girik,Adat,dll)",
          "Lainnya (PPJB,Girik,Adat,dll)",
          "Lainnya (PPJB,Girik,Adat,dll)",
          "Lainnya (PPJB,Girik,Adat,dll)",
          "Lainnya (PPJB,Girik,Adat,dll)",
          "Lainnya (PPJB,Girik,Adat,dll)",
          "Lainnya (PPJB,Girik,Adat,dll)",
          "Lainnya (PPJB,Girik,Adat,dll)",
          "Lainnya (PPJB,Girik,Adat,dll)",
          "Lainnya (PPJB,Girik,Adat,dll)",
          "Lainnya (PPJB,Girik,Adat,dll)",
          "Lainnya (PPJB,Girik,Adat,dll)",
          "Lainnya (PPJB,Girik,Adat,dll)",
          "Lainnya (PPJB,Girik,Adat,dll)",
          "Lainnya (PPJB,Girik,Adat,dll)",
          "Lainnya (PPJB,Girik,Adat,dll)",
          "Lainnya (PPJB,Girik,Adat,dll)",
          "Lainnya (PPJB,Girik,Adat,dll)",
          "Lainnya (PPJB,Girik,Adat,dll)",
          "Lainnya (PPJB,Girik,Adat,dll)",
          "Lainnya (PPJB,Girik,Adat,dll)",
          "Lainnya (PPJB,Girik,Adat,dll)",
          "Lainnya (PPJB,Girik,Adat,dll)",
          "Lainnya (PPJB,Girik,Adat,dll)",
          "Lainnya (PPJB,Girik,Adat,dll)",
          "Lainnya (PPJB,Girik,Adat,dll)",
          "Lainnya (PPJB,Girik,Adat,dll)",
          "Lainnya (PPJB,Girik,Adat,dll)",
          "Lainnya (PPJB,Girik,Adat,dll)",
          "Lainnya (PPJB,Girik,Adat,dll)",
          "Lainnya (PPJB,Girik,Adat,dll)",
          "Lainnya (PPJB,Girik,Adat,dll)",
          "Lainnya (PPJB,Girik,Adat,dll)",
          "Lainnya (PPJB,Girik,Adat,dll)",
          "Lainnya (PPJB,Girik,Adat,dll)",
          "Lainnya (PPJB,Girik,Adat,dll)",
          "Lainnya (PPJB,Girik,Adat,dll)",
          "Lainnya (PPJB,Girik,Adat,dll)",
          "Lainnya (PPJB,Girik,Adat,dll)",
          "Lainnya (PPJB,Girik,Adat,dll)",
          "Lainnya (PPJB,Girik,Adat,dll)",
          "Lainnya (PPJB,Girik,Adat,dll)",
          "Lainnya (PPJB,Girik,Adat,dll)",
          "Lainnya (PPJB,Girik,Adat,dll)",
          "Lainnya (PPJB,Girik,Adat,dll)",
          "Lainnya (PPJB,Girik,Adat,dll)",
          "Lainnya (PPJB,Girik,Adat,dll)",
          "Lainnya (PPJB,Girik,Adat,dll)",
          "Lainnya (PPJB,Girik,Adat,dll)",
          "Lainnya (PPJB,Girik,Adat,dll)",
          "Lainnya (PPJB,Girik,Adat,dll)",
          "Lainnya (PPJB,Girik,Adat,dll)",
          "Lainnya (PPJB,Girik,Adat,dll)",
          "Lainnya (PPJB,Girik,Adat,dll)",
          "Lainnya (PPJB,Girik,Adat,dll)",
          "Lainnya (PPJB,Girik,Adat,dll)",
          "Lainnya (PPJB,Girik,Adat,dll)",
          "Lainnya (PPJB,Girik,Adat,dll)",
          "Lainnya (PPJB,Girik,Adat,dll)",
          "Lainnya (PPJB,Girik,Adat,dll)",
          "Lainnya (PPJB,Girik,Adat,dll)",
          "Lainnya (PPJB,Girik,Adat,dll)",
          "Lainnya (PPJB,Girik,Adat,dll)",
          "Lainnya (PPJB,Girik,Adat,dll)",
          "Lainnya (PPJB,Girik,Adat,dll)",
          "Lainnya (PPJB,Girik,Adat,dll)",
          "Lainnya (PPJB,Girik,Adat,dll)",
          "Lainnya (PPJB,Girik,Adat,dll)",
          "Lainnya (PPJB,Girik,Adat,dll)",
          "Lainnya (PPJB,Girik,Adat,dll)",
          "Lainnya (PPJB,Girik,Adat,dll)",
          "Lainnya (PPJB,Girik,Adat,dll)",
          "Lainnya (PPJB,Girik,Adat,dll)",
          "Lainnya (PPJB,Girik,Adat,dll)",
          "Lainnya (PPJB,Girik,Adat,dll)",
          "Lainnya (PPJB,Girik,Adat,dll)",
          "Lainnya (PPJB,Girik,Adat,dll)",
          "Lainnya (PPJB,Girik,Adat,dll)",
          "Lainnya (PPJB,Girik,Adat,dll)",
          "Lainnya (PPJB,Girik,Adat,dll)",
          "Lainnya (PPJB,Girik,Adat,dll)",
          "Lainnya (PPJB,Girik,Adat,dll)",
          "Lainnya (PPJB,Girik,Adat,dll)",
          "Lainnya (PPJB,Girik,Adat,dll)",
          "Lainnya (PPJB,Girik,Adat,dll)",
          "Lainnya (PPJB,Girik,Adat,dll)",
          "Lainnya (PPJB,Girik,Adat,dll)",
          "Lainnya (PPJB,Girik,Adat,dll)",
          "Lainnya (PPJB,Girik,Adat,dll)",
          "Lainnya (PPJB,Girik,Adat,dll)",
          "Lainnya (PPJB,Girik,Adat,dll)",
          "Lainnya (PPJB,Girik,Adat,dll)",
          "Lainnya (PPJB,Girik,Adat,dll)",
          "Lainnya (PPJB,Girik,Adat,dll)",
          "Lainnya (PPJB,Girik,Adat,dll)",
          "Lainnya (PPJB,Girik,Adat,dll)",
          "Lainnya (PPJB,Girik,Adat,dll)",
          "Lainnya (PPJB,Girik,Adat,dll)",
          "Lainnya (PPJB,Girik,Adat,dll)",
          "Lainnya (PPJB,Girik,Adat,dll)",
          "Lainnya (PPJB,Girik,Adat,dll)",
          "Lainnya (PPJB,Girik,Adat,dll)",
          "Lainnya (PPJB,Girik,Adat,dll)",
          "Lainnya (PPJB,Girik,Adat,dll)",
          "Lainnya (PPJB,Girik,Adat,dll)",
          "Lainnya (PPJB,Girik,Adat,dll)",
          "Lainnya (PPJB,Girik,Adat,dll)",
          "Lainnya (PPJB,Girik,Adat,dll)",
          "Lainnya (PPJB,Girik,Adat,dll)",
          "Lainnya (PPJB,Girik,Adat,dll)",
          "Lainnya (PPJB,Girik,Adat,dll)",
          "Lainnya (PPJB,Girik,Adat,dll)",
          "Lainnya (PPJB,Girik,Adat,dll)",
          "Lainnya (PPJB,Girik,Adat,dll)",
          "Lainnya (PPJB,Girik,Adat,dll)",
          "Lainnya (PPJB,Girik,Adat,dll)",
          "Lainnya (PPJB,Girik,Adat,dll)",
          "Lainnya (PPJB,Girik,Adat,dll)",
          "Lainnya (PPJB,Girik,Adat,dll)",
          "Lainnya (PPJB,Girik,Adat,dll)",
          "Lainnya (PPJB,Girik,Adat,dll)",
          "Lainnya (PPJB,Girik,Adat,dll)",
          "Lainnya (PPJB,Girik,Adat,dll)",
          "Lainnya (PPJB,Girik,Adat,dll)",
          "Lainnya (PPJB,Girik,Adat,dll)",
          "Lainnya (PPJB,Girik,Adat,dll)",
          "Lainnya (PPJB,Girik,Adat,dll)",
          "Lainnya (PPJB,Girik,Adat,dll)",
          "Lainnya (PPJB,Girik,Adat,dll)",
          "Lainnya (PPJB,Girik,Adat,dll)",
          "Lainnya (PPJB,Girik,Adat,dll)",
          "Lainnya (PPJB,Girik,Adat,dll)",
          "Lainnya (PPJB,Girik,Adat,dll)",
          "Lainnya (PPJB,Girik,Adat,dll)",
          "Lainnya (PPJB,Girik,Adat,dll)",
          "Lainnya (PPJB,Girik,Adat,dll)",
          "Lainnya (PPJB,Girik,Adat,dll)",
          "Lainnya (PPJB,Girik,Adat,dll)",
          "Lainnya (PPJB,Girik,Adat,dll)",
          "Lainnya (PPJB,Girik,Adat,dll)",
          "Lainnya (PPJB,Girik,Adat,dll)",
          "Lainnya (PPJB,Girik,Adat,dll)",
          "Lainnya (PPJB,Girik,Adat,dll)",
          "Lainnya (PPJB,Girik,Adat,dll)",
          "Lainnya (PPJB,Girik,Adat,dll)",
          "Lainnya (PPJB,Girik,Adat,dll)",
          "Lainnya (PPJB,Girik,Adat,dll)",
          "Lainnya (PPJB,Girik,Adat,dll)",
          "Lainnya (PPJB,Girik,Adat,dll)",
          "Lainnya (PPJB,Girik,Adat,dll)",
          "Lainnya (PPJB,Girik,Adat,dll)",
          "Lainnya (PPJB,Girik,Adat,dll)",
          "Lainnya (PPJB,Girik,Adat,dll)",
          "Lainnya (PPJB,Girik,Adat,dll)",
          "Lainnya (PPJB,Girik,Adat,dll)",
          "Lainnya (PPJB,Girik,Adat,dll)",
          "Lainnya (PPJB,Girik,Adat,dll)",
          "Lainnya (PPJB,Girik,Adat,dll)",
          "Lainnya (PPJB,Girik,Adat,dll)",
          "Lainnya (PPJB,Girik,Adat,dll)",
          "Lainnya (PPJB,Girik,Adat,dll)",
          "Lainnya (PPJB,Girik,Adat,dll)",
          "Lainnya (PPJB,Girik,Adat,dll)",
          "Lainnya (PPJB,Girik,Adat,dll)",
          "Lainnya (PPJB,Girik,Adat,dll)",
          "Lainnya (PPJB,Girik,Adat,dll)",
          "Lainnya (PPJB,Girik,Adat,dll)",
          "Lainnya (PPJB,Girik,Adat,dll)",
          "Lainnya (PPJB,Girik,Adat,dll)",
          "Lainnya (PPJB,Girik,Adat,dll)",
          "Lainnya (PPJB,Girik,Adat,dll)",
          "Lainnya (PPJB,Girik,Adat,dll)",
          "Lainnya (PPJB,Girik,Adat,dll)",
          "Lainnya (PPJB,Girik,Adat,dll)",
          "Lainnya (PPJB,Girik,Adat,dll)",
          "Lainnya (PPJB,Girik,Adat,dll)",
          "Lainnya (PPJB,Girik,Adat,dll)",
          "Lainnya (PPJB,Girik,Adat,dll)",
          "Lainnya (PPJB,Girik,Adat,dll)",
          "Lainnya (PPJB,Girik,Adat,dll)",
          "Lainnya (PPJB,Girik,Adat,dll)",
          "Lainnya (PPJB,Girik,Adat,dll)",
          "Lainnya (PPJB,Girik,Adat,dll)",
          "Lainnya (PPJB,Girik,Adat,dll)",
          "Lainnya (PPJB,Girik,Adat,dll)",
          "Lainnya (PPJB,Girik,Adat,dll)",
          "Lainnya (PPJB,Girik,Adat,dll)",
          "Lainnya (PPJB,Girik,Adat,dll)",
          "Lainnya (PPJB,Girik,Adat,dll)",
          "Lainnya (PPJB,Girik,Adat,dll)",
          "Lainnya (PPJB,Girik,Adat,dll)",
          "Lainnya (PPJB,Girik,Adat,dll)",
          "Lainnya (PPJB,Girik,Adat,dll)",
          "Lainnya (PPJB,Girik,Adat,dll)",
          "Lainnya (PPJB,Girik,Adat,dll)",
          "Lainnya (PPJB,Girik,Adat,dll)",
          "Lainnya (PPJB,Girik,Adat,dll)",
          "Lainnya (PPJB,Girik,Adat,dll)",
          "Lainnya (PPJB,Girik,Adat,dll)",
          "Lainnya (PPJB,Girik,Adat,dll)",
          "Lainnya (PPJB,Girik,Adat,dll)",
          "Lainnya (PPJB,Girik,Adat,dll)",
          "Lainnya (PPJB,Girik,Adat,dll)",
          "Lainnya (PPJB,Girik,Adat,dll)",
          "Lainnya (PPJB,Girik,Adat,dll)",
          "Lainnya (PPJB,Girik,Adat,dll)",
          "Lainnya (PPJB,Girik,Adat,dll)",
          "Lainnya (PPJB,Girik,Adat,dll)",
          "Lainnya (PPJB,Girik,Adat,dll)",
          "Lainnya (PPJB,Girik,Adat,dll)",
          "Lainnya (PPJB,Girik,Adat,dll)",
          "Lainnya (PPJB,Girik,Adat,dll)",
          "Lainnya (PPJB,Girik,Adat,dll)",
          "Lainnya (PPJB,Girik,Adat,dll)",
          "Lainnya (PPJB,Girik,Adat,dll)",
          "Lainnya (PPJB,Girik,Adat,dll)",
          "Lainnya (PPJB,Girik,Adat,dll)",
          "Lainnya (PPJB,Girik,Adat,dll)",
          "Lainnya (PPJB,Girik,Adat,dll)",
          "Lainnya (PPJB,Girik,Adat,dll)",
          "Lainnya (PPJB,Girik,Adat,dll)",
          "Lainnya (PPJB,Girik,Adat,dll)",
          "Lainnya (PPJB,Girik,Adat,dll)",
          "Lainnya (PPJB,Girik,Adat,dll)",
          "Lainnya (PPJB,Girik,Adat,dll)",
          "Lainnya (PPJB,Girik,Adat,dll)"
         ],
         "xaxis": "x",
         "y": [
          7000000,
          2916666.6666666665,
          7000000,
          8750000,
          7000000,
          2666666.6666666665,
          23500000,
          15416666666.666666,
          4583333.333333333,
          55000000,
          8333333.333333333,
          7500000,
          9000000,
          3900000,
          19000000,
          4083333.3333333335,
          7000000,
          12500000,
          8000000,
          9000000,
          7000000,
          7000000,
          12000000,
          9000000,
          7000000,
          69000000,
          7500000,
          18000000,
          22916666.666666668,
          6500000,
          9000000,
          5833333.333333333,
          4583333.333333333,
          18000000,
          16666666.666666666,
          66300000,
          3750000,
          16000000,
          6300000,
          9500000,
          9500000,
          67500000,
          17000000,
          10000000,
          36833333.333333336,
          43300000,
          64750000,
          6500000,
          11500000,
          9000000,
          8000000,
          9166666.666666666,
          9500000,
          8750000,
          18000000,
          12000000,
          7500000,
          24333333.333333332,
          12000000,
          7000000,
          3200000,
          5833333.333333333,
          3916666.6666666665,
          9166666.666666666,
          85833333.33333333,
          13000000,
          9500000,
          162500000,
          7083333.333333333,
          20200000,
          4166666.6666666665,
          3500000,
          4166666.6666666665,
          5000000,
          166666666.66666666,
          3500000,
          6250000,
          5416666.666666667,
          6000000,
          86666666.66666667,
          6500000,
          6500000,
          18750000,
          35000000,
          7250000,
          6250000,
          12500000,
          10833333.333333334,
          2083333.3333333333,
          12500000,
          4666666.666666667,
          16666666.666666666,
          10000000,
          10000000,
          7500000,
          7000000,
          16666666.666666666,
          8000000,
          14000000,
          13500000,
          14583333.333333334,
          41000000,
          10000000,
          72000000,
          6500000,
          64500000,
          35000000,
          7500000,
          6500000,
          9500000,
          9500000,
          8000000,
          6250000,
          37000000,
          4166666.6666666665,
          7000000,
          9500000,
          10416666.666666666,
          7500000,
          52000000,
          4166666.6666666665,
          6250000,
          43900000,
          5833333.333333333,
          5833333.333333333,
          5416666.666666667,
          14166666.666666666,
          52000000,
          52500000,
          65500000,
          35000000,
          22100000,
          62500000,
          3750000,
          6000000,
          12000000,
          44500000,
          8700000,
          7500000,
          41000000,
          7500000,
          21500000,
          7000000,
          3750000,
          3000000,
          4333333.333333333,
          7500000,
          7500000,
          7083333.333333333,
          3000000,
          38500000,
          59000000,
          3750000,
          32000000,
          42000000,
          14000000,
          30000000,
          5750000,
          35000000,
          39200000,
          37000000,
          22000000,
          37000000,
          37000000,
          55000000,
          10833333.333333334,
          6666666.666666667,
          31666666.666666668,
          23000000,
          63800000,
          7500000,
          18000000,
          7083333.333333333,
          20000000,
          4750000,
          9500000,
          5000000,
          5000000,
          5500000,
          5833333.333333333,
          13000000,
          43600000,
          8000000,
          4750000,
          12500000,
          4000000,
          11000000,
          20833333.333333332,
          30000000,
          16000000,
          67500000,
          13500000,
          6500000,
          14000000,
          40500000,
          8000000,
          7500000,
          7500000,
          45000000,
          13000000,
          7500000,
          10416666.666666666,
          6500000,
          8000000,
          10416666.666666666,
          3750000,
          9583333.333333334,
          2500000,
          5000000,
          15000000,
          4166666.6666666665,
          6500000,
          19166666.666666668,
          16666666.666666666,
          16000000,
          6250000,
          5416666.666666667,
          4083333.3333333335,
          11500000,
          15000000,
          40000000,
          9500000,
          14166666.666666666,
          3750000,
          53000000,
          7500000,
          9166666.666666666,
          11666666.666666666,
          14000000,
          4166666.6666666665,
          15000000,
          4166666.6666666665,
          3500000,
          7000000,
          7000000,
          7000000,
          9500000,
          8333333.333333333,
          9500000,
          3000000,
          12000000,
          20833333.333333332,
          5000000,
          18333333.333333332,
          16666666.666666666,
          6250000,
          11666666.666666666,
          4166666.6666666665,
          70833333.33333333,
          11666666.666666666,
          9583333.333333334,
          16000000,
          6500000,
          7916666.666666667,
          4500000,
          11250000,
          7500000,
          10500000,
          4583333.333333333,
          5500000,
          8333333.333333333,
          15000000,
          240000000,
          240000000,
          15000000,
          7500000,
          14500000,
          240000000,
          240000000,
          12000000,
          11000000,
          4166666.6666666665,
          14000000,
          7500000,
          14166666.666666666,
          7500000,
          10833333.333333334,
          12000000,
          18333333.333333332,
          22500000,
          8333333.333333333,
          7500000,
          8900000,
          8333333.333333333,
          7000000,
          7000000,
          9750000,
          10000000,
          27083333.333333332,
          7000000,
          9500000,
          6500000,
          7000000,
          13000000,
          6666666.666666667,
          9500000,
          7000000,
          450000000,
          7500000,
          9500000,
          9000000,
          15000000,
          16000000,
          77000000,
          30000000,
          10000000,
          8000000,
          8500000,
          7500000,
          7500000,
          6500000,
          2916666.6666666665,
          2500000,
          69000000,
          4166666.6666666665,
          2500000,
          7500000,
          3750000,
          4166666.6666666665,
          39000000,
          15000000,
          40000000,
          6250000,
          3030000,
          7500000,
          18000000,
          6250000,
          41300000,
          3000000,
          6250000,
          6250000,
          7500000,
          6250000,
          6250000,
          2500000,
          69300000,
          73700000,
          19100000,
          5000000,
          15000000,
          9500000,
          5833333.333333333,
          5000000,
          11000000,
          15416666.666666666,
          6500000,
          5000000,
          15000000,
          7500000,
          15000000,
          6500000,
          11250000,
          7500000,
          16000000,
          8500000,
          5000000,
          9583333.333333334,
          10000000,
          30000000,
          4833333.333333333,
          8000000,
          3833333.3333333335,
          15000000,
          13000000,
          131000000,
          54166666.666666664,
          7000000,
          208333333.33333334,
          10416666.666666666,
          9500000,
          7500000,
          78000000,
          7000000,
          6300000,
          3333333.3333333335,
          7500000,
          7500000,
          8000000,
          6200000,
          7500000,
          7500000,
          11000000,
          15000000,
          4000000,
          5833333.333333333,
          3000000,
          10500000,
          9166666.666666666,
          3916666.6666666665,
          3000000,
          7500000,
          3750000,
          45000000,
          5083333.333333333,
          7500000,
          5083333.333333333,
          5000000,
          13000000,
          3750000,
          5000000,
          9500000,
          13750000,
          16666666.666666666,
          16500000,
          8500000,
          29083333.333333332,
          7916666.666666667,
          120000000,
          4166666.6666666665,
          14000000,
          2291666.6666666665,
          6500000,
          13500000,
          44100000,
          11000000,
          13750000,
          10416666.666666666,
          8333333.333333333,
          1780000,
          35000000,
          50000000,
          11000000,
          4500000,
          225000000,
          175000000,
          7083333.333333333,
          5416666.666666667,
          16000000,
          10000000,
          37000000,
          51000000,
          60000000,
          9166666.666666666,
          5833333.333333333,
          36000000,
          6250000,
          8333333.333333333,
          2916666.6666666665,
          13333333.333333334,
          9500000,
          8333333.333333333,
          13333333.333333334
         ],
         "yaxis": "y"
        },
        {
         "hovertemplate": "sertifikat=%{x}<br>Price=%{y}<extra></extra>",
         "legendgroup": "Strata",
         "marker": {
          "color": "#ab63fa",
          "symbol": "circle"
         },
         "mode": "markers",
         "name": "Strata",
         "showlegend": true,
         "type": "scattergl",
         "x": [
          "Strata",
          "Strata",
          "Strata",
          "Strata",
          "Strata",
          "Strata",
          "Strata",
          "Strata",
          "Strata",
          "Strata",
          "Strata",
          "Strata",
          "Strata",
          "Strata",
          "Strata",
          "Strata",
          "Strata",
          "Strata",
          "Strata",
          "Strata",
          "Strata",
          "Strata",
          "Strata",
          "Strata",
          "Strata",
          "Strata",
          "Strata",
          "Strata",
          "Strata",
          "Strata",
          "Strata",
          "Strata",
          "Strata",
          "Strata"
         ],
         "xaxis": "x",
         "y": [
          2666666.6666666665,
          6500000,
          1500000,
          10000000,
          4916666.666666667,
          80000000,
          4916666.666666667,
          48833333.333333336,
          31666666.666666668,
          12000000,
          154000000,
          34000000,
          13000000,
          5625000,
          10000000,
          10000000,
          6000000,
          141000000,
          6000000,
          7083333.333333333,
          12100000,
          5000000,
          63166666.666666664,
          7500000,
          4666666.666666667,
          8500000,
          12500000,
          72000000,
          32000000,
          23333333.333333332,
          8000000,
          19500000,
          20000000,
          4166666.6666666665
         ],
         "yaxis": "y"
        },
        {
         "hovertemplate": "sertifikat=%{x}<br>Price=%{y}<extra></extra>",
         "legendgroup": "unknown",
         "marker": {
          "color": "#FFA15A",
          "symbol": "circle"
         },
         "mode": "markers",
         "name": "unknown",
         "showlegend": true,
         "type": "scattergl",
         "x": [
          "unknown",
          "unknown",
          "unknown",
          "unknown",
          "unknown",
          "unknown",
          "unknown",
          "unknown",
          "unknown",
          "unknown",
          "unknown",
          "unknown",
          "unknown",
          "unknown",
          "unknown",
          "unknown",
          "unknown",
          "unknown",
          "unknown",
          "unknown",
          "unknown",
          "unknown",
          "unknown",
          "unknown",
          "unknown",
          "unknown",
          "unknown",
          "unknown",
          "unknown",
          "unknown",
          "unknown",
          "unknown"
         ],
         "xaxis": "x",
         "y": [
          3333333.3333333335,
          14000000,
          49000000,
          3166666.6666666665,
          18333333.333333332,
          28000000,
          15416666.666666666,
          4166666.6666666665,
          6250000,
          104166666.66666667,
          6250000,
          49600000,
          50000000,
          8333333.333333333,
          81000000,
          20000000,
          42000000,
          20833333.333333332,
          7500000,
          4000000,
          8000000,
          7500000,
          27000000,
          3250000,
          63000000,
          68000000,
          12500000,
          10833333.333333334,
          70833333.33333333,
          80833333.33333333,
          5000000,
          8000000
         ],
         "yaxis": "y"
        },
        {
         "hovertemplate": "sertifikat=%{x}<br>Price=%{y}<extra></extra>",
         "legendgroup": "HS - Hak Sewa",
         "marker": {
          "color": "#19d3f3",
          "symbol": "circle"
         },
         "mode": "markers",
         "name": "HS - Hak Sewa",
         "showlegend": true,
         "type": "scattergl",
         "x": [
          "HS - Hak Sewa",
          "HS - Hak Sewa",
          "HS - Hak Sewa",
          "HS - Hak Sewa",
          "HS - Hak Sewa",
          "HS - Hak Sewa",
          "HS - Hak Sewa",
          "HS - Hak Sewa",
          "HS - Hak Sewa",
          "HS - Hak Sewa",
          "HS - Hak Sewa",
          "HS - Hak Sewa",
          "HS - Hak Sewa",
          "HS - Hak Sewa",
          "HS - Hak Sewa",
          "HS - Hak Sewa",
          "HS - Hak Sewa",
          "HS - Hak Sewa",
          "HS - Hak Sewa",
          "HS - Hak Sewa",
          "HS - Hak Sewa",
          "HS - Hak Sewa",
          "HS - Hak Sewa",
          "HS - Hak Sewa",
          "HS - Hak Sewa",
          "HS - Hak Sewa",
          "HS - Hak Sewa",
          "HS - Hak Sewa",
          "HS - Hak Sewa",
          "HS - Hak Sewa",
          "HS - Hak Sewa",
          "HS - Hak Sewa",
          "HS - Hak Sewa",
          "HS - Hak Sewa",
          "HS - Hak Sewa",
          "HS - Hak Sewa",
          "HS - Hak Sewa",
          "HS - Hak Sewa",
          "HS - Hak Sewa",
          "HS - Hak Sewa",
          "HS - Hak Sewa",
          "HS - Hak Sewa",
          "HS - Hak Sewa",
          "HS - Hak Sewa",
          "HS - Hak Sewa",
          "HS - Hak Sewa",
          "HS - Hak Sewa",
          "HS - Hak Sewa",
          "HS - Hak Sewa",
          "HS - Hak Sewa",
          "HS - Hak Sewa",
          "HS - Hak Sewa",
          "HS - Hak Sewa",
          "HS - Hak Sewa",
          "HS - Hak Sewa",
          "HS - Hak Sewa",
          "HS - Hak Sewa",
          "HS - Hak Sewa",
          "HS - Hak Sewa",
          "HS - Hak Sewa",
          "HS - Hak Sewa",
          "HS - Hak Sewa",
          "HS - Hak Sewa",
          "HS - Hak Sewa",
          "HS - Hak Sewa",
          "HS - Hak Sewa",
          "HS - Hak Sewa",
          "HS - Hak Sewa",
          "HS - Hak Sewa"
         ],
         "xaxis": "x",
         "y": [
          7000000,
          41000000,
          20000000,
          48000000,
          25000000,
          5833333.333333333,
          33333333.333333332,
          7500000,
          15000000,
          13500000,
          100000000,
          5833333.333333333,
          41000000,
          41000000,
          41000000,
          22000000,
          95600000,
          54600000,
          43800000,
          59400000,
          43800000,
          23300000,
          93300000,
          54900000,
          55000000,
          90600000,
          54700000,
          22900000,
          53300000,
          43800000,
          38000000,
          21200000,
          37900000,
          54000000,
          19000000,
          20000000,
          20000000,
          40000000,
          30900000,
          37300000,
          22900000,
          21300000,
          23700000,
          38100000,
          23000000,
          31000000,
          43000000,
          43000000,
          43000000,
          164000000,
          43000000,
          69000000,
          23000000,
          20000000,
          25000000,
          15000000,
          15000000,
          17000000,
          3166666.6666666665,
          100833333.33333333,
          58333333.333333336,
          58000000,
          2916666.6666666665,
          25000000,
          54200000,
          36000000,
          4750000,
          3083333.3333333335,
          4166666.6666666665
         ],
         "yaxis": "y"
        },
        {
         "hovertemplate": "sertifikat=%{x}<br>Price=%{y}<extra></extra>",
         "legendgroup": "HP - Hak Pakai",
         "marker": {
          "color": "#FF6692",
          "symbol": "circle"
         },
         "mode": "markers",
         "name": "HP - Hak Pakai",
         "showlegend": true,
         "type": "scattergl",
         "x": [
          "HP - Hak Pakai",
          "HP - Hak Pakai",
          "HP - Hak Pakai",
          "HP - Hak Pakai",
          "HP - Hak Pakai",
          "HP - Hak Pakai",
          "HP - Hak Pakai",
          "HP - Hak Pakai",
          "HP - Hak Pakai",
          "HP - Hak Pakai",
          "HP - Hak Pakai",
          "HP - Hak Pakai",
          "HP - Hak Pakai",
          "HP - Hak Pakai",
          "HP - Hak Pakai"
         ],
         "xaxis": "x",
         "y": [
          55000000,
          10000000,
          15000000,
          11666666.666666666,
          5000000,
          40750000,
          32200000,
          62000000,
          6666666.666666667,
          27000000,
          3333333.3333333335,
          6000000,
          59000000,
          3083333.3333333335,
          18750000
         ],
         "yaxis": "y"
        }
       ],
       "layout": {
        "legend": {
         "title": {
          "text": "sertifikat"
         },
         "tracegroupgap": 0
        },
        "template": {
         "data": {
          "bar": [
           {
            "error_x": {
             "color": "#2a3f5f"
            },
            "error_y": {
             "color": "#2a3f5f"
            },
            "marker": {
             "line": {
              "color": "#E5ECF6",
              "width": 0.5
             },
             "pattern": {
              "fillmode": "overlay",
              "size": 10,
              "solidity": 0.2
             }
            },
            "type": "bar"
           }
          ],
          "barpolar": [
           {
            "marker": {
             "line": {
              "color": "#E5ECF6",
              "width": 0.5
             },
             "pattern": {
              "fillmode": "overlay",
              "size": 10,
              "solidity": 0.2
             }
            },
            "type": "barpolar"
           }
          ],
          "carpet": [
           {
            "aaxis": {
             "endlinecolor": "#2a3f5f",
             "gridcolor": "white",
             "linecolor": "white",
             "minorgridcolor": "white",
             "startlinecolor": "#2a3f5f"
            },
            "baxis": {
             "endlinecolor": "#2a3f5f",
             "gridcolor": "white",
             "linecolor": "white",
             "minorgridcolor": "white",
             "startlinecolor": "#2a3f5f"
            },
            "type": "carpet"
           }
          ],
          "choropleth": [
           {
            "colorbar": {
             "outlinewidth": 0,
             "ticks": ""
            },
            "type": "choropleth"
           }
          ],
          "contour": [
           {
            "colorbar": {
             "outlinewidth": 0,
             "ticks": ""
            },
            "colorscale": [
             [
              0,
              "#0d0887"
             ],
             [
              0.1111111111111111,
              "#46039f"
             ],
             [
              0.2222222222222222,
              "#7201a8"
             ],
             [
              0.3333333333333333,
              "#9c179e"
             ],
             [
              0.4444444444444444,
              "#bd3786"
             ],
             [
              0.5555555555555556,
              "#d8576b"
             ],
             [
              0.6666666666666666,
              "#ed7953"
             ],
             [
              0.7777777777777778,
              "#fb9f3a"
             ],
             [
              0.8888888888888888,
              "#fdca26"
             ],
             [
              1,
              "#f0f921"
             ]
            ],
            "type": "contour"
           }
          ],
          "contourcarpet": [
           {
            "colorbar": {
             "outlinewidth": 0,
             "ticks": ""
            },
            "type": "contourcarpet"
           }
          ],
          "heatmap": [
           {
            "colorbar": {
             "outlinewidth": 0,
             "ticks": ""
            },
            "colorscale": [
             [
              0,
              "#0d0887"
             ],
             [
              0.1111111111111111,
              "#46039f"
             ],
             [
              0.2222222222222222,
              "#7201a8"
             ],
             [
              0.3333333333333333,
              "#9c179e"
             ],
             [
              0.4444444444444444,
              "#bd3786"
             ],
             [
              0.5555555555555556,
              "#d8576b"
             ],
             [
              0.6666666666666666,
              "#ed7953"
             ],
             [
              0.7777777777777778,
              "#fb9f3a"
             ],
             [
              0.8888888888888888,
              "#fdca26"
             ],
             [
              1,
              "#f0f921"
             ]
            ],
            "type": "heatmap"
           }
          ],
          "heatmapgl": [
           {
            "colorbar": {
             "outlinewidth": 0,
             "ticks": ""
            },
            "colorscale": [
             [
              0,
              "#0d0887"
             ],
             [
              0.1111111111111111,
              "#46039f"
             ],
             [
              0.2222222222222222,
              "#7201a8"
             ],
             [
              0.3333333333333333,
              "#9c179e"
             ],
             [
              0.4444444444444444,
              "#bd3786"
             ],
             [
              0.5555555555555556,
              "#d8576b"
             ],
             [
              0.6666666666666666,
              "#ed7953"
             ],
             [
              0.7777777777777778,
              "#fb9f3a"
             ],
             [
              0.8888888888888888,
              "#fdca26"
             ],
             [
              1,
              "#f0f921"
             ]
            ],
            "type": "heatmapgl"
           }
          ],
          "histogram": [
           {
            "marker": {
             "pattern": {
              "fillmode": "overlay",
              "size": 10,
              "solidity": 0.2
             }
            },
            "type": "histogram"
           }
          ],
          "histogram2d": [
           {
            "colorbar": {
             "outlinewidth": 0,
             "ticks": ""
            },
            "colorscale": [
             [
              0,
              "#0d0887"
             ],
             [
              0.1111111111111111,
              "#46039f"
             ],
             [
              0.2222222222222222,
              "#7201a8"
             ],
             [
              0.3333333333333333,
              "#9c179e"
             ],
             [
              0.4444444444444444,
              "#bd3786"
             ],
             [
              0.5555555555555556,
              "#d8576b"
             ],
             [
              0.6666666666666666,
              "#ed7953"
             ],
             [
              0.7777777777777778,
              "#fb9f3a"
             ],
             [
              0.8888888888888888,
              "#fdca26"
             ],
             [
              1,
              "#f0f921"
             ]
            ],
            "type": "histogram2d"
           }
          ],
          "histogram2dcontour": [
           {
            "colorbar": {
             "outlinewidth": 0,
             "ticks": ""
            },
            "colorscale": [
             [
              0,
              "#0d0887"
             ],
             [
              0.1111111111111111,
              "#46039f"
             ],
             [
              0.2222222222222222,
              "#7201a8"
             ],
             [
              0.3333333333333333,
              "#9c179e"
             ],
             [
              0.4444444444444444,
              "#bd3786"
             ],
             [
              0.5555555555555556,
              "#d8576b"
             ],
             [
              0.6666666666666666,
              "#ed7953"
             ],
             [
              0.7777777777777778,
              "#fb9f3a"
             ],
             [
              0.8888888888888888,
              "#fdca26"
             ],
             [
              1,
              "#f0f921"
             ]
            ],
            "type": "histogram2dcontour"
           }
          ],
          "mesh3d": [
           {
            "colorbar": {
             "outlinewidth": 0,
             "ticks": ""
            },
            "type": "mesh3d"
           }
          ],
          "parcoords": [
           {
            "line": {
             "colorbar": {
              "outlinewidth": 0,
              "ticks": ""
             }
            },
            "type": "parcoords"
           }
          ],
          "pie": [
           {
            "automargin": true,
            "type": "pie"
           }
          ],
          "scatter": [
           {
            "fillpattern": {
             "fillmode": "overlay",
             "size": 10,
             "solidity": 0.2
            },
            "type": "scatter"
           }
          ],
          "scatter3d": [
           {
            "line": {
             "colorbar": {
              "outlinewidth": 0,
              "ticks": ""
             }
            },
            "marker": {
             "colorbar": {
              "outlinewidth": 0,
              "ticks": ""
             }
            },
            "type": "scatter3d"
           }
          ],
          "scattercarpet": [
           {
            "marker": {
             "colorbar": {
              "outlinewidth": 0,
              "ticks": ""
             }
            },
            "type": "scattercarpet"
           }
          ],
          "scattergeo": [
           {
            "marker": {
             "colorbar": {
              "outlinewidth": 0,
              "ticks": ""
             }
            },
            "type": "scattergeo"
           }
          ],
          "scattergl": [
           {
            "marker": {
             "colorbar": {
              "outlinewidth": 0,
              "ticks": ""
             }
            },
            "type": "scattergl"
           }
          ],
          "scattermapbox": [
           {
            "marker": {
             "colorbar": {
              "outlinewidth": 0,
              "ticks": ""
             }
            },
            "type": "scattermapbox"
           }
          ],
          "scatterpolar": [
           {
            "marker": {
             "colorbar": {
              "outlinewidth": 0,
              "ticks": ""
             }
            },
            "type": "scatterpolar"
           }
          ],
          "scatterpolargl": [
           {
            "marker": {
             "colorbar": {
              "outlinewidth": 0,
              "ticks": ""
             }
            },
            "type": "scatterpolargl"
           }
          ],
          "scatterternary": [
           {
            "marker": {
             "colorbar": {
              "outlinewidth": 0,
              "ticks": ""
             }
            },
            "type": "scatterternary"
           }
          ],
          "surface": [
           {
            "colorbar": {
             "outlinewidth": 0,
             "ticks": ""
            },
            "colorscale": [
             [
              0,
              "#0d0887"
             ],
             [
              0.1111111111111111,
              "#46039f"
             ],
             [
              0.2222222222222222,
              "#7201a8"
             ],
             [
              0.3333333333333333,
              "#9c179e"
             ],
             [
              0.4444444444444444,
              "#bd3786"
             ],
             [
              0.5555555555555556,
              "#d8576b"
             ],
             [
              0.6666666666666666,
              "#ed7953"
             ],
             [
              0.7777777777777778,
              "#fb9f3a"
             ],
             [
              0.8888888888888888,
              "#fdca26"
             ],
             [
              1,
              "#f0f921"
             ]
            ],
            "type": "surface"
           }
          ],
          "table": [
           {
            "cells": {
             "fill": {
              "color": "#EBF0F8"
             },
             "line": {
              "color": "white"
             }
            },
            "header": {
             "fill": {
              "color": "#C8D4E3"
             },
             "line": {
              "color": "white"
             }
            },
            "type": "table"
           }
          ]
         },
         "layout": {
          "annotationdefaults": {
           "arrowcolor": "#2a3f5f",
           "arrowhead": 0,
           "arrowwidth": 1
          },
          "autotypenumbers": "strict",
          "coloraxis": {
           "colorbar": {
            "outlinewidth": 0,
            "ticks": ""
           }
          },
          "colorscale": {
           "diverging": [
            [
             0,
             "#8e0152"
            ],
            [
             0.1,
             "#c51b7d"
            ],
            [
             0.2,
             "#de77ae"
            ],
            [
             0.3,
             "#f1b6da"
            ],
            [
             0.4,
             "#fde0ef"
            ],
            [
             0.5,
             "#f7f7f7"
            ],
            [
             0.6,
             "#e6f5d0"
            ],
            [
             0.7,
             "#b8e186"
            ],
            [
             0.8,
             "#7fbc41"
            ],
            [
             0.9,
             "#4d9221"
            ],
            [
             1,
             "#276419"
            ]
           ],
           "sequential": [
            [
             0,
             "#0d0887"
            ],
            [
             0.1111111111111111,
             "#46039f"
            ],
            [
             0.2222222222222222,
             "#7201a8"
            ],
            [
             0.3333333333333333,
             "#9c179e"
            ],
            [
             0.4444444444444444,
             "#bd3786"
            ],
            [
             0.5555555555555556,
             "#d8576b"
            ],
            [
             0.6666666666666666,
             "#ed7953"
            ],
            [
             0.7777777777777778,
             "#fb9f3a"
            ],
            [
             0.8888888888888888,
             "#fdca26"
            ],
            [
             1,
             "#f0f921"
            ]
           ],
           "sequentialminus": [
            [
             0,
             "#0d0887"
            ],
            [
             0.1111111111111111,
             "#46039f"
            ],
            [
             0.2222222222222222,
             "#7201a8"
            ],
            [
             0.3333333333333333,
             "#9c179e"
            ],
            [
             0.4444444444444444,
             "#bd3786"
            ],
            [
             0.5555555555555556,
             "#d8576b"
            ],
            [
             0.6666666666666666,
             "#ed7953"
            ],
            [
             0.7777777777777778,
             "#fb9f3a"
            ],
            [
             0.8888888888888888,
             "#fdca26"
            ],
            [
             1,
             "#f0f921"
            ]
           ]
          },
          "colorway": [
           "#636efa",
           "#EF553B",
           "#00cc96",
           "#ab63fa",
           "#FFA15A",
           "#19d3f3",
           "#FF6692",
           "#B6E880",
           "#FF97FF",
           "#FECB52"
          ],
          "font": {
           "color": "#2a3f5f"
          },
          "geo": {
           "bgcolor": "white",
           "lakecolor": "white",
           "landcolor": "#E5ECF6",
           "showlakes": true,
           "showland": true,
           "subunitcolor": "white"
          },
          "hoverlabel": {
           "align": "left"
          },
          "hovermode": "closest",
          "mapbox": {
           "style": "light"
          },
          "paper_bgcolor": "white",
          "plot_bgcolor": "#E5ECF6",
          "polar": {
           "angularaxis": {
            "gridcolor": "white",
            "linecolor": "white",
            "ticks": ""
           },
           "bgcolor": "#E5ECF6",
           "radialaxis": {
            "gridcolor": "white",
            "linecolor": "white",
            "ticks": ""
           }
          },
          "scene": {
           "xaxis": {
            "backgroundcolor": "#E5ECF6",
            "gridcolor": "white",
            "gridwidth": 2,
            "linecolor": "white",
            "showbackground": true,
            "ticks": "",
            "zerolinecolor": "white"
           },
           "yaxis": {
            "backgroundcolor": "#E5ECF6",
            "gridcolor": "white",
            "gridwidth": 2,
            "linecolor": "white",
            "showbackground": true,
            "ticks": "",
            "zerolinecolor": "white"
           },
           "zaxis": {
            "backgroundcolor": "#E5ECF6",
            "gridcolor": "white",
            "gridwidth": 2,
            "linecolor": "white",
            "showbackground": true,
            "ticks": "",
            "zerolinecolor": "white"
           }
          },
          "shapedefaults": {
           "line": {
            "color": "#2a3f5f"
           }
          },
          "ternary": {
           "aaxis": {
            "gridcolor": "white",
            "linecolor": "white",
            "ticks": ""
           },
           "baxis": {
            "gridcolor": "white",
            "linecolor": "white",
            "ticks": ""
           },
           "bgcolor": "#E5ECF6",
           "caxis": {
            "gridcolor": "white",
            "linecolor": "white",
            "ticks": ""
           }
          },
          "title": {
           "x": 0.05
          },
          "xaxis": {
           "automargin": true,
           "gridcolor": "white",
           "linecolor": "white",
           "ticks": "",
           "title": {
            "standoff": 15
           },
           "zerolinecolor": "white",
           "zerolinewidth": 2
          },
          "yaxis": {
           "automargin": true,
           "gridcolor": "white",
           "linecolor": "white",
           "ticks": "",
           "title": {
            "standoff": 15
           },
           "zerolinecolor": "white",
           "zerolinewidth": 2
          }
         }
        },
        "title": {
         "text": "Price per Month vs Certificate (For Rent) - snip untuk zoom agar lebih jelas"
        },
        "xaxis": {
         "anchor": "y",
         "categoryarray": [
          "HGB - Hak Guna Bangunan",
          "SHM - Sertifikat Hak Milik",
          "Lainnya (PPJB,Girik,Adat,dll)",
          "Strata",
          "unknown",
          "HS - Hak Sewa",
          "HP - Hak Pakai"
         ],
         "categoryorder": "array",
         "domain": [
          0,
          1
         ],
         "title": {
          "text": "sertifikat"
         }
        },
        "yaxis": {
         "anchor": "x",
         "domain": [
          0,
          1
         ],
         "title": {
          "text": "Price"
         }
        }
       }
      }
     },
     "metadata": {},
     "output_type": "display_data"
    },
    {
     "data": {
      "text/markdown": [
       "<div align='center'><h2>====================</h2></div>"
      ],
      "text/plain": [
       "<IPython.core.display.Markdown object>"
      ]
     },
     "metadata": {},
     "output_type": "display_data"
    },
    {
     "data": {
      "text/markdown": [
       "<div align='center'><h2>Informasi Properti Dijual</h2></div>"
      ],
      "text/plain": [
       "<IPython.core.display.Markdown object>"
      ]
     },
     "metadata": {},
     "output_type": "display_data"
    },
    {
     "data": {
      "text/markdown": [
       "**Harga vs Luas Bangunan**"
      ],
      "text/plain": [
       "<IPython.core.display.Markdown object>"
      ]
     },
     "metadata": {},
     "output_type": "display_data"
    },
    {
     "data": {
      "application/vnd.plotly.v1+json": {
       "config": {
        "plotlyServerURL": "https://plot.ly"
       },
       "data": [
        {
         "hovertemplate": "Property Type=Apartemen<br>Building Area (m²)=%{x}<br>Price=%{y}<extra></extra>",
         "legendgroup": "Apartemen",
         "marker": {
          "color": "#636efa",
          "symbol": "circle"
         },
         "mode": "markers",
         "name": "Apartemen",
         "showlegend": true,
         "type": "scattergl",
         "x": [
          112,
          33,
          50,
          79,
          157,
          261,
          261,
          56,
          24,
          348,
          94,
          132,
          57,
          32,
          48,
          32,
          90,
          252,
          80,
          31,
          65,
          57,
          35,
          33,
          49,
          33,
          42,
          85,
          121,
          100,
          55,
          41,
          268,
          72,
          53,
          33,
          103,
          42,
          84,
          42,
          42,
          71,
          38,
          33,
          42,
          42,
          42,
          42,
          60,
          60,
          42,
          105,
          48,
          36,
          165,
          36,
          70,
          85,
          70,
          167,
          100,
          90,
          160,
          48,
          49,
          148,
          33,
          36,
          38,
          80,
          79,
          26,
          62,
          38,
          60,
          95,
          52,
          32,
          52,
          80,
          52,
          87,
          262,
          51,
          80,
          90,
          116,
          27,
          61,
          196,
          33,
          392,
          167,
          196,
          83,
          196,
          196,
          193,
          196,
          192,
          119,
          168,
          392,
          36,
          36,
          36,
          36,
          58,
          282,
          36,
          127,
          640,
          344,
          127,
          344,
          344,
          344,
          183,
          33,
          62,
          72,
          56,
          33,
          217,
          56,
          62,
          61,
          99,
          260,
          177,
          382,
          119,
          183,
          42,
          85,
          52,
          64,
          48,
          52,
          64,
          48,
          250,
          40,
          48,
          23,
          95,
          72,
          299,
          77,
          74,
          99,
          49,
          57,
          73,
          67,
          45,
          72,
          62,
          76,
          141,
          97,
          72,
          49,
          49,
          49,
          261,
          225,
          65,
          100,
          42,
          65,
          34,
          29,
          157,
          51,
          61,
          114,
          76,
          83,
          73,
          61,
          118,
          55,
          85,
          95,
          52,
          33,
          42,
          60,
          73,
          33,
          85,
          118,
          64,
          44,
          60,
          122,
          48,
          85,
          103,
          62,
          40,
          41,
          74,
          104,
          2478,
          24,
          62,
          97,
          38,
          126,
          42,
          38,
          73,
          38,
          81,
          30,
          206,
          76,
          60,
          48,
          76,
          123,
          105,
          58,
          58,
          58,
          382,
          101,
          27,
          58,
          55,
          67,
          65,
          105,
          165,
          122,
          62,
          115,
          94,
          49,
          76,
          132,
          150,
          170,
          80,
          35,
          60,
          48,
          49,
          28,
          53,
          72,
          83,
          105,
          225,
          35,
          36,
          36,
          76,
          38,
          120,
          31,
          64,
          43,
          260,
          33,
          100,
          58,
          96,
          45,
          58,
          73,
          61,
          61,
          61,
          56,
          61,
          85,
          36,
          61,
          61,
          157,
          30,
          73,
          150,
          299,
          56,
          61,
          365,
          186,
          193,
          103,
          76,
          151,
          351,
          327,
          75,
          35,
          74,
          65,
          193,
          48,
          33,
          90,
          22,
          63,
          55,
          38,
          103,
          77,
          33,
          114,
          96,
          65,
          60,
          225,
          65,
          38,
          74,
          38,
          77,
          48,
          72,
          300,
          87,
          90,
          64,
          33,
          64,
          36,
          57,
          55,
          44,
          33,
          23,
          42,
          76,
          74,
          44,
          60,
          222,
          44,
          44,
          44,
          78,
          97,
          382,
          85,
          44,
          33,
          42,
          30,
          23,
          147,
          44,
          63,
          222,
          73,
          52,
          58,
          33,
          45,
          260,
          33,
          35,
          94,
          66,
          363,
          64,
          33,
          52,
          29,
          127,
          380,
          51,
          81,
          35,
          193,
          45,
          640,
          49,
          224,
          60,
          125,
          33,
          217,
          73,
          35,
          72,
          45,
          33,
          212,
          80,
          50,
          53,
          64,
          42,
          42,
          80,
          80,
          33,
          64,
          74,
          100,
          47,
          82,
          42,
          95,
          42,
          168,
          28,
          76,
          76,
          46,
          49,
          40,
          49,
          95,
          45,
          70,
          47,
          60,
          75,
          42,
          35,
          40,
          47,
          47,
          141,
          34,
          88,
          162,
          193,
          64,
          55,
          115,
          39,
          52,
          97,
          225,
          52,
          52,
          230,
          261,
          38,
          28,
          115,
          35,
          261,
          88,
          21,
          81,
          44,
          115,
          65,
          120,
          27,
          38,
          112,
          33,
          73,
          65,
          98,
          60,
          76,
          34,
          33,
          60,
          71,
          54,
          46,
          103,
          182,
          218,
          104,
          165,
          138,
          225,
          225,
          60,
          5189,
          60,
          70,
          147,
          27,
          59,
          56,
          117,
          33,
          30,
          42,
          112,
          33,
          48,
          115,
          182,
          225,
          33,
          61,
          75,
          108,
          32,
          60,
          62,
          62,
          33,
          144,
          75,
          33,
          73,
          75,
          107,
          35,
          49,
          62,
          62,
          45,
          554,
          193,
          38,
          103,
          38,
          28,
          103,
          92,
          31,
          252,
          210,
          77,
          33,
          73,
          58,
          51,
          61,
          130,
          85,
          59,
          73,
          64,
          53,
          76,
          12431,
          103,
          252,
          64,
          99,
          97,
          252,
          157,
          252,
          279,
          49,
          225,
          103,
          72,
          38,
          59,
          100,
          95,
          35,
          77,
          48,
          108,
          60,
          70,
          36,
          141,
          75,
          104,
          49,
          94,
          76,
          60,
          57,
          120,
          99,
          70,
          77,
          72,
          56,
          363,
          85,
          99,
          78,
          35,
          85,
          42,
          57,
          7000,
          108,
          104,
          141,
          62,
          173,
          105,
          62,
          76,
          63,
          100,
          90,
          94,
          32,
          85,
          196,
          76,
          100,
          100,
          33,
          76,
          85,
          33,
          76,
          70,
          132,
          62,
          76,
          29,
          100,
          70,
          70,
          34,
          70,
          76,
          73
         ],
         "xaxis": "x",
         "y": [
          5500000000,
          550000000,
          800000000,
          2400000000,
          7000000000,
          10500000000,
          10500000000,
          2000000000,
          280000000,
          20000000000,
          780000000,
          3750000000,
          900000000,
          950000000,
          950000000,
          950000000,
          1500000000,
          11000000000,
          1800000000,
          600000000,
          2200000000,
          800000000,
          1050000000,
          1250000000,
          1000000000,
          450000000,
          1200000000,
          700000000,
          3800000000,
          1400000000,
          3000000000,
          450000000,
          22000000000,
          1100000000,
          2140000000,
          500000000,
          2400000000,
          900000000,
          1870000000,
          1100000000,
          950000000,
          3300000000,
          850000000,
          425000000,
          1100000000,
          750000000,
          750000000,
          750000000,
          3300000000,
          3300000000,
          850000000,
          3000000000,
          1150000000,
          850000000,
          6500000000,
          1450000000,
          1100000000,
          2300000000,
          1800000000,
          45000000000,
          1700000000,
          1800000000,
          1900000000,
          1100000000,
          900000000,
          7900000000,
          650000000,
          370000000,
          1900000000,
          1200000000,
          1350000000,
          290000000,
          950000000,
          1200000000,
          2000000000,
          2500000000,
          700000000,
          1400000000,
          700000000,
          1350000000,
          700000000,
          1900000000,
          8500000000,
          1150000000,
          2200000000,
          2000000000,
          1200000000,
          1100000000,
          4000000000,
          3300000000,
          1350000000,
          7000000000,
          7600000000,
          3500000000,
          1600000000,
          3000000000,
          3000000000,
          13000000000,
          3500000000,
          3200000000,
          2290000000,
          7500000000,
          7000000000,
          450000000,
          450000000,
          450000000,
          450000000,
          2800000000,
          21700000000,
          450000000,
          5000000000,
          49200000000,
          7000000000,
          6000000000,
          7000000000,
          7000000000,
          7000000000,
          11000000000,
          1350000000,
          1000000000,
          2700000000,
          1900000000,
          320000000,
          17500000000,
          1800000000,
          2300000000,
          2200000000,
          1700000000,
          15500000000,
          12500000000,
          18000000000,
          2500000000,
          13000000000,
          1400000000,
          1350000000,
          875000000,
          3000000000,
          975000000,
          900000000,
          3000000000,
          1000000000,
          3250000000,
          1480000000,
          1000000000,
          650000000,
          5500000000,
          2400000000,
          3500000000,
          2400000000,
          3500000000,
          1800000000,
          1200000000,
          700000000,
          2600000000,
          1500000000,
          950000000,
          3500000000,
          999000000,
          1000000000,
          5750000000,
          1200000000,
          2200000000,
          900000000,
          900000000,
          750000000,
          10000000000,
          7500000000,
          1650000000,
          3500000000,
          1350000000,
          2100000000,
          350000000,
          750000000,
          7000000000,
          1150000000,
          3000000000,
          1950000000,
          1000000000,
          3600000000,
          1500000000,
          2200000000,
          2500000000,
          3000000000,
          1700000000,
          990000000,
          1200000000,
          365000000,
          900000000,
          1650000000,
          2600000000,
          700000000,
          1800000000,
          900000000,
          2500000000,
          1100000000,
          1600000000,
          2300000000,
          1000000000,
          2300000000,
          2600000000,
          850000000,
          1000000000,
          1100000000,
          1100000000,
          3500000000,
          150000000000,
          750000000,
          800000000,
          2600000000,
          2900000000,
          4700000000,
          1050000000,
          2900000000,
          1300000000,
          2900000000,
          750000000,
          1200000000,
          6200000000,
          1750000000,
          2400000000,
          950000000,
          2000000000,
          4400000000,
          2350000000,
          1700000000,
          1800000000,
          2800000000,
          18000000000,
          2520000000,
          344000000,
          1700000000,
          4000000000,
          3000000000,
          100000000,
          2200000000,
          2500000000,
          2500000000,
          880000000,
          8500000000,
          1000000000,
          450000000,
          1000000000,
          4000000000,
          8500000000,
          8800000000,
          1150000000,
          1250000000,
          1200000000,
          750000000,
          900000000,
          1000000000,
          2300000000,
          3550000000,
          2000000000,
          2600000000,
          8000000000,
          600000000,
          438000000,
          900000000,
          1700000000,
          900000000,
          3000000000,
          600000000,
          3000000000,
          2800000000,
          15400000000,
          500000000,
          1170000000,
          2950000000,
          1900000000,
          1200000000,
          2950000000,
          2150000000,
          750000000,
          750000000,
          750000000,
          1100000000,
          750000000,
          1400000000,
          500000000,
          750000000,
          750000000,
          5000000000,
          500000000,
          1150000000,
          8100000000,
          3500000000,
          1100000000,
          750000000,
          30000000000,
          12000000000,
          15000000000,
          6200000000,
          1100000000,
          8800000000,
          22000000000,
          20100000000,
          1950000000,
          1000000000,
          599000000,
          1600000000,
          13500000000,
          1400000000,
          650000000,
          2000000000,
          900000000,
          650000000,
          3850000000,
          900000000,
          7300000000,
          900000000,
          460000000,
          2500000000,
          1600000000,
          1300000000,
          1200000000,
          7500000000,
          1300000000,
          950000000,
          3300000000,
          900000000,
          2500000000,
          600000000,
          3500000000,
          3200000000,
          2700000000,
          1800000000,
          3000000000,
          1500000000,
          3000000000,
          420000000,
          798000000,
          900000000,
          1700000000,
          490000000,
          425000000,
          2000000000,
          1060000000,
          1300000000,
          1700000000,
          1100000000,
          9000000000,
          1700000000,
          1700000000,
          1700000000,
          2200000000,
          1500000000,
          18000000000,
          1190000000,
          1700000000,
          450000000,
          2000000000,
          1400000000,
          425000000,
          6200000000,
          1700000000,
          1450000000,
          9000000000,
          1170000000,
          790000000,
          1300000000,
          380000000,
          580000000,
          18000000000,
          420000000,
          900000000,
          995000000,
          3250000000,
          29000000000,
          3000000000,
          395000000,
          1250000000,
          505000000,
          1290000000,
          6000000000,
          900000000,
          4600000000,
          600000000,
          15000000000,
          470000000,
          49700000000,
          725000000,
          5750000000,
          1100000000,
          2250000000,
          1750000000,
          17500000000,
          1100000000,
          1480000000,
          2400000000,
          1650000000,
          1000000000,
          2200000000,
          1550000000,
          1400000000,
          1600000000,
          3000000000,
          1070000000,
          900000000,
          1650000000,
          1650000000,
          1300000000,
          3000000000,
          1000000000,
          2500000000,
          1500000000,
          3500000000,
          1050000000,
          3500000000,
          950000000,
          8000000000,
          1200000000,
          3400000000,
          3100000000,
          1150000000,
          2200000000,
          1800000000,
          1750000000,
          780000000,
          2000000000,
          3200000000,
          900000000,
          1000000000,
          2920000000,
          2100000000,
          1500000000,
          1800000000,
          900000000,
          900000000,
          4200000000,
          1340000000,
          4099999999,
          3200000000,
          12500000000,
          2500000000,
          3500000000,
          12900000000,
          2800000000,
          1250000000,
          2250000000,
          7500000000,
          985000000,
          1000000000,
          6800000000,
          10500000000,
          1100000000,
          475000000,
          2900000000,
          1500000000,
          10800000000,
          2600000000,
          395000000,
          765000000,
          599000000,
          2900000000,
          2100000000,
          5800000000,
          950000000,
          500000000,
          5500000000,
          450000000,
          900000000,
          2300000000,
          750000000,
          1800000000,
          1500000000,
          330000000,
          470000000,
          550000000,
          725000000,
          450000000,
          1350000000,
          6400000000,
          11800000000,
          5000000000,
          5700000000,
          6500000000,
          5500000000,
          9900000000,
          5500000000,
          3300000000,
          1200000000,
          1200000000,
          2100000000,
          8000000000,
          950000000,
          2800000000,
          1500000000,
          5000000000,
          410000000,
          310000000,
          900000000,
          2900000000,
          410000000,
          1500000000,
          8500000000,
          12800000000,
          7500000000,
          395000000,
          3300000000,
          2920000000,
          6000000000,
          400000000,
          1000000000,
          700000000,
          700000000,
          700000000,
          4000000000,
          1950000000,
          400000000,
          1100000000,
          1950000000,
          2800000000,
          1200000000,
          1300000000,
          800000000,
          700000000,
          1250000000,
          38700000000,
          14000000000,
          750000000,
          7300000000,
          1250000000,
          475000000,
          3500000000,
          1700000000,
          1000000000,
          11500000000,
          16500000000,
          2200000000,
          450000000,
          1020000000,
          850000000,
          714000000,
          3250000000,
          1100000000,
          1190000000,
          2650000000,
          1020000000,
          3000000000,
          2600000000,
          1600000000,
          2500000000,
          7300000000,
          12000000000,
          3000000000,
          1100000000,
          1700000000,
          11000000000,
          6000000000,
          12500000000,
          13000000000,
          900000000,
          10500000000,
          7300000000,
          575000000,
          1000000000,
          2650000000,
          1100000000,
          1800000000,
          1000000000,
          750000000,
          750000000,
          1900000000,
          570000000,
          1650000000,
          400000000,
          5500000000,
          1600000000,
          2350000000,
          1200000000,
          1300000000,
          1650000000,
          1800000000,
          700000000,
          1600000000,
          1970000000,
          600000000,
          2200000000,
          3500000000,
          1600000000,
          27000000000,
          1500000000,
          1970000000,
          2000000000,
          1300000000,
          1900000000,
          860000000,
          850000000,
          1090000000,
          6000000000,
          6000000000,
          5500000000,
          800000000,
          6500000000,
          2500000000,
          700000000,
          1930000000,
          1250000000,
          2800000000,
          1450000000,
          670000000,
          1100000000,
          1050000000,
          3200000000,
          920000000,
          1200000000,
          1120000000,
          1250000000,
          920000000,
          1050000000,
          1250000000,
          925000000,
          975000000,
          1950000000,
          800000000,
          950000000,
          689000000,
          1150000000,
          1800000000,
          1200000000,
          400000000,
          975000000,
          950000000,
          920000000
         ],
         "yaxis": "y"
        },
        {
         "hovertemplate": "Property Type=Rumah<br>Building Area (m²)=%{x}<br>Price=%{y}<extra></extra>",
         "legendgroup": "Rumah",
         "marker": {
          "color": "#EF553B",
          "symbol": "circle"
         },
         "mode": "markers",
         "name": "Rumah",
         "showlegend": true,
         "type": "scattergl",
         "x": [
          80,
          200,
          800,
          6500,
          470,
          520,
          42,
          800,
          1305,
          1000,
          1000,
          260,
          283,
          42,
          1000,
          600,
          280,
          520,
          400,
          221,
          340,
          2000,
          1200,
          950,
          264,
          39,
          520,
          2000,
          213,
          619,
          548,
          520,
          197,
          756,
          160,
          657,
          1050,
          536,
          400,
          350,
          391,
          700,
          210,
          1600,
          2478,
          470,
          500,
          300,
          150,
          150,
          221,
          220,
          200,
          350,
          390,
          1000,
          125,
          250,
          400,
          85,
          950,
          300,
          247,
          650,
          85,
          150,
          297,
          275,
          280,
          297,
          200,
          50,
          50,
          363,
          48,
          214,
          800,
          85,
          680,
          888,
          85,
          298,
          500,
          600,
          650,
          841,
          841,
          275,
          100,
          600,
          1200,
          226,
          594,
          1200,
          550,
          880,
          462,
          800,
          180,
          200,
          265,
          180,
          200,
          980,
          39,
          95,
          150,
          285,
          1200,
          381,
          200,
          600,
          500,
          150,
          1000,
          500,
          520,
          335,
          400,
          900,
          488,
          400,
          800,
          160,
          200,
          282,
          500,
          490,
          500,
          920,
          450,
          600,
          450,
          800,
          1584,
          700,
          800,
          600,
          1040,
          1000,
          350,
          308,
          70,
          600,
          1046,
          400,
          84,
          125,
          220,
          280,
          340,
          430,
          600,
          2478,
          200,
          1500,
          200,
          1500,
          700,
          1500,
          800,
          700,
          500,
          150,
          1500,
          800,
          1000,
          500,
          600,
          700,
          1585,
          400,
          71,
          550,
          350,
          90,
          120,
          390,
          600,
          1553,
          400,
          650,
          385,
          1100,
          303,
          1000,
          1170,
          200,
          250,
          300,
          128,
          300,
          350,
          600,
          580,
          237,
          1000,
          250,
          1500,
          105,
          300,
          28,
          500,
          400,
          272,
          600,
          1200,
          820,
          414,
          290,
          40,
          350,
          550,
          64,
          400,
          400,
          1000,
          1000,
          150,
          500,
          1000,
          75,
          200,
          388,
          250,
          1200,
          800,
          450,
          350,
          364,
          800,
          450,
          1400,
          240,
          270,
          100,
          506,
          850,
          95,
          450,
          200,
          1100,
          522,
          506,
          450,
          506,
          224,
          120,
          285,
          100,
          240,
          1500,
          506,
          300,
          506,
          500,
          40,
          600,
          559,
          1553,
          80,
          72,
          200,
          200,
          200,
          600,
          200,
          150,
          275,
          800,
          522,
          325,
          424,
          348,
          60,
          800,
          600,
          1200,
          150,
          337,
          312,
          1020,
          60,
          500,
          1,
          800,
          400,
          1724,
          1400,
          1400,
          410,
          400,
          600,
          250,
          1000,
          200,
          1400,
          337,
          1400,
          1400,
          1400,
          350,
          160,
          324,
          600,
          350,
          720,
          736,
          150,
          200,
          300,
          127,
          250,
          600,
          210,
          106,
          200,
          548,
          600,
          506,
          186,
          134,
          150,
          200,
          506,
          1000,
          400,
          506,
          200,
          400,
          250,
          800,
          1000,
          800,
          1000,
          353,
          519,
          210,
          120,
          681,
          695,
          700,
          200,
          400,
          45,
          1500,
          144,
          45,
          45,
          225,
          45,
          370,
          45,
          45,
          45,
          45,
          45,
          550,
          300,
          45,
          250,
          204,
          300,
          271,
          700,
          250,
          160,
          150,
          275,
          400,
          86,
          155,
          200,
          1100,
          1000,
          550,
          390,
          1000,
          600,
          200,
          33,
          33,
          495,
          390,
          1585,
          1585,
          550,
          1585,
          200,
          220,
          420,
          400,
          260,
          200,
          2460,
          330,
          453,
          750,
          230,
          221,
          800,
          150,
          550,
          453,
          400,
          65,
          260,
          2,
          140,
          33,
          400,
          140,
          650,
          26000,
          500,
          550,
          68,
          240,
          360,
          508,
          180,
          1000,
          125,
          800,
          282,
          480,
          1500,
          400,
          96,
          500,
          70,
          750,
          348,
          180,
          300,
          300,
          231,
          400,
          308,
          285,
          400,
          120,
          450,
          400,
          300,
          700,
          480,
          400,
          378,
          400,
          389,
          290,
          194,
          180,
          700,
          275,
          200,
          700,
          455,
          180,
          308,
          800,
          185,
          750,
          530,
          389,
          657,
          100,
          100,
          276,
          1400,
          739,
          350,
          600,
          700,
          336,
          550,
          300,
          150,
          276,
          400,
          200,
          150,
          522,
          178,
          414,
          87,
          924,
          150,
          300,
          145,
          450,
          200,
          389,
          315,
          1400,
          475,
          160,
          280,
          450,
          300,
          522,
          650,
          271,
          300,
          231,
          300,
          800,
          522,
          650,
          231,
          150,
          380,
          380,
          400,
          280,
          400,
          282,
          800,
          297,
          600,
          198,
          800,
          500,
          150,
          450,
          200,
          150,
          800,
          390,
          73,
          800,
          1800,
          150,
          64,
          115,
          100,
          500,
          160,
          1000,
          94,
          400,
          200,
          140,
          350,
          250,
          400,
          400,
          100,
          152,
          800,
          39,
          280,
          138,
          270,
          324,
          239,
          265,
          150,
          280,
          650,
          1585,
          90,
          200,
          390,
          250,
          3000,
          650,
          320,
          209,
          450,
          196,
          380,
          440,
          450,
          150,
          234,
          250,
          160,
          250,
          800,
          250,
          150,
          175,
          122,
          98,
          200,
          440,
          231,
          500,
          250,
          120,
          102,
          300,
          180,
          150,
          280,
          160,
          300,
          250,
          200,
          150,
          212,
          1400,
          150,
          680,
          200,
          493,
          800,
          160,
          1100,
          500,
          80,
          600,
          120,
          1000,
          470,
          340,
          600,
          1000,
          600,
          209,
          402,
          450,
          1200,
          400,
          402,
          54,
          100,
          402,
          1200,
          402,
          150,
          402,
          402,
          420,
          48,
          375,
          1200,
          330,
          250,
          100,
          650,
          180,
          1170,
          350,
          350,
          200,
          500,
          300,
          500,
          790,
          180,
          500,
          686,
          153,
          200,
          200,
          1200,
          350,
          144,
          336,
          522,
          500,
          226,
          300,
          456,
          1500,
          450,
          300,
          200,
          150,
          230,
          105,
          200,
          400,
          292,
          148,
          128,
          341,
          88,
          220,
          185,
          500,
          185,
          360,
          170,
          300,
          300,
          280,
          2400,
          2000,
          1400,
          350,
          400,
          250,
          640,
          520,
          600,
          100,
          330,
          600,
          640,
          400,
          800,
          12000,
          170,
          522,
          60,
          200,
          240,
          391,
          140,
          140,
          153,
          1200,
          450,
          221,
          130,
          300,
          150,
          400,
          250,
          231,
          1000,
          500,
          402,
          85,
          1000,
          200,
          800,
          1100,
          200,
          400,
          400,
          327,
          300,
          150,
          150,
          350,
          70,
          350,
          80,
          640,
          97,
          350,
          556,
          402,
          1250,
          200,
          144,
          210,
          312,
          256,
          150,
          250,
          150,
          86,
          402,
          500,
          256,
          200,
          1200,
          360,
          402,
          402,
          402,
          200,
          150,
          66,
          375,
          200,
          105,
          900,
          105,
          402,
          900,
          250,
          402,
          194,
          73,
          280,
          420,
          300,
          256,
          180,
          90,
          800,
          400,
          402,
          1400,
          48,
          240,
          280,
          200,
          140,
          424,
          300,
          1585,
          620,
          200,
          1200,
          200,
          260,
          1500,
          332,
          350,
          150,
          788,
          181,
          250,
          400,
          1200,
          650,
          180,
          400,
          800,
          95,
          430,
          58,
          500,
          200,
          778,
          300,
          150,
          410,
          252,
          200,
          160,
          250,
          374,
          400,
          209,
          100,
          280,
          248,
          700,
          250,
          500,
          250,
          120,
          252,
          800,
          50,
          150,
          200,
          200,
          129,
          300,
          140,
          250,
          1000,
          150,
          750,
          365,
          843,
          800,
          542,
          788,
          600,
          250,
          220,
          1000,
          400,
          1000,
          100,
          300,
          21,
          100,
          1100,
          160,
          440,
          400,
          150,
          250,
          196,
          400,
          120,
          440,
          381,
          150,
          300,
          150,
          745,
          141,
          200,
          150,
          150,
          390,
          150,
          150,
          721,
          381,
          390,
          400,
          3000,
          800,
          96,
          518,
          436,
          800,
          286,
          350,
          350,
          1000,
          300,
          600,
          299,
          150,
          94,
          280,
          140,
          105,
          550,
          1400,
          250,
          650,
          200,
          372,
          580,
          300,
          1400,
          800,
          170,
          168,
          510,
          204,
          250,
          180,
          450,
          644,
          221,
          260,
          351,
          500,
          180,
          200,
          130,
          175,
          150,
          324,
          500,
          460,
          39,
          500,
          250,
          1585,
          500,
          500,
          300,
          640,
          800,
          156,
          250,
          1000,
          300,
          98,
          200,
          332,
          120,
          300,
          160,
          200,
          300,
          404,
          400,
          500,
          285,
          250,
          120,
          280,
          323,
          109,
          1200,
          170,
          120,
          323,
          300,
          600,
          520,
          96,
          144,
          210,
          220,
          300,
          110,
          657,
          41,
          85,
          300,
          450,
          330,
          680,
          380,
          600,
          234,
          73,
          330,
          198,
          560,
          250,
          200,
          212,
          450,
          300,
          700,
          240,
          39,
          1100,
          300,
          600,
          300,
          500,
          33,
          1200,
          115,
          239,
          96,
          250,
          350,
          300,
          1390,
          416,
          400,
          350,
          540,
          1388,
          300,
          220,
          120,
          327,
          450,
          445,
          120,
          300,
          650,
          600,
          375,
          700,
          1800,
          180,
          400,
          150,
          330,
          330,
          450,
          220,
          121,
          926,
          300,
          780,
          115,
          210,
          200,
          294,
          230,
          160,
          330,
          150,
          330,
          330,
          119,
          330,
          315,
          490,
          300,
          600,
          600,
          400,
          300,
          300,
          318,
          127,
          80,
          140,
          168,
          158,
          500,
          600,
          1000,
          216,
          450,
          270,
          300,
          389,
          389,
          251,
          500,
          396,
          330,
          90,
          1000,
          352,
          478,
          160,
          135,
          1100,
          295,
          500,
          150,
          150,
          180,
          500,
          292,
          500,
          600,
          402,
          180,
          282,
          200,
          200,
          700,
          600,
          180,
          400,
          450,
          289,
          130,
          200,
          225,
          600,
          256,
          298,
          150,
          300,
          70,
          612,
          275,
          180,
          100,
          220,
          400,
          400,
          100,
          925,
          84,
          300,
          508,
          90,
          220,
          400,
          90,
          140,
          200,
          495,
          341,
          300,
          650,
          72,
          220,
          180,
          300,
          1585,
          350,
          70,
          280,
          640,
          195,
          40,
          400,
          345,
          365,
          600,
          150,
          226,
          250,
          700,
          400,
          226,
          216,
          83,
          200,
          400,
          200,
          1585,
          800,
          2100,
          90,
          1200,
          220,
          200,
          200,
          180,
          150,
          1585,
          309,
          73,
          180,
          73,
          73,
          1500,
          220,
          400,
          391,
          380,
          173,
          575,
          600,
          150,
          120,
          226,
          100,
          200,
          460,
          391,
          600,
          150,
          260,
          493,
          300,
          1585,
          96,
          150,
          182,
          350,
          1724,
          500,
          250,
          600,
          500,
          250,
          300,
          315,
          780,
          300,
          600,
          450,
          405,
          1200,
          39,
          800,
          250,
          214,
          73,
          59,
          39,
          98,
          71,
          200,
          99,
          314,
          170,
          98,
          115,
          39,
          99,
          531,
          1000,
          600,
          41,
          94,
          1000,
          73,
          55,
          98,
          115,
          619,
          1585,
          763,
          322,
          522,
          94,
          39,
          94,
          96,
          119,
          97,
          94,
          97,
          73,
          94,
          71,
          99,
          69,
          73,
          1400,
          48,
          39,
          99,
          600,
          39,
          115,
          101,
          500,
          37,
          400,
          94,
          239,
          99,
          115,
          97,
          73,
          100,
          73,
          73,
          1585,
          185,
          73,
          94,
          900,
          120,
          109,
          350,
          48,
          500,
          99,
          44,
          41,
          517,
          97,
          115,
          548,
          99,
          73,
          255,
          225,
          94,
          100,
          375,
          120,
          650,
          94,
          37,
          115,
          115,
          255,
          650
         ],
         "xaxis": "x",
         "y": [
          1000000000,
          11000000000,
          35000000000,
          10500000000,
          39000000000,
          50000000000,
          799000000,
          35000000000,
          125000000000,
          30000000000,
          30000000000,
          3500000000,
          7000000000,
          934000000,
          48000000000,
          11000000000,
          9900000000,
          50000000000,
          60000000000,
          4500000000,
          6750000000,
          112000000000,
          60000000000,
          110000000000,
          5000000000,
          425000000,
          50000000000,
          90000000000,
          4980000000,
          39000000000,
          45000000000,
          50000000000,
          2600000000,
          6500000000,
          3500000000,
          45000000000,
          120000000000,
          57000000000,
          18000000000,
          6250000000,
          19000000000,
          8000000000,
          4200000000,
          65000000000,
          150000000000,
          7500000000,
          45000000000,
          6900000000,
          3600000000,
          1450000000,
          4800000000,
          2500000000,
          21600000000,
          7000000000,
          5390000000,
          30000000000,
          15000000000,
          4380000000,
          8500000000,
          1300000000,
          16000000000,
          5600000000,
          9000000000,
          28500000000,
          1300000000,
          1550000000,
          8500000000,
          7500000000,
          6000000000,
          8500000000,
          10500000000,
          750000000,
          750000000,
          58000000000,
          550000000,
          4500000000,
          68000000000,
          1300000000,
          45000000000,
          125000000000,
          1300000000,
          21000000000,
          31000000000,
          95000000000,
          28000000000,
          22000000000,
          22000000000,
          3950000000,
          2500000000,
          25000000000,
          32000000000,
          7000000000,
          15000000000,
          35000000000,
          70000000000,
          7800000000,
          35000000000,
          35000000000,
          3200000000,
          3500000000,
          11000000000,
          6500000000,
          6500000000,
          80000000000,
          463000000,
          3500000000,
          1750000000,
          10000000000,
          70000000000,
          70000000000,
          6500000000,
          12000000000,
          130000000000,
          8000000000,
          150000000000,
          36400000000,
          78000000000,
          7200000000,
          65000000000,
          55000000000,
          80000000000,
          44000000000,
          47900000000,
          2500000000,
          7000000000,
          20000000000,
          58000000000,
          47000000000,
          80000000000,
          120000000000,
          61500000000,
          33000000000,
          45000000000,
          80000000000,
          92000000000,
          55000000000,
          60000000000,
          75000000000,
          35000000000,
          15000000000,
          17000000000,
          12000000000,
          2000000000,
          8000000000,
          150000000000,
          4200000000,
          650000000,
          6000000000,
          4500000000,
          2800000000,
          13700000000,
          5200000000,
          30000000000,
          150000000000,
          6500000000,
          15500000000,
          6500000000,
          15500000000,
          55000000000,
          15500000000,
          58000000000,
          55000000000,
          49000000000,
          1600000000,
          15500000000,
          35000000000,
          15000000000,
          41000000000,
          8000000000,
          55000000000,
          70000000000,
          45000000000,
          750000000,
          82000000000,
          63000000000,
          1650000000,
          2900000000,
          32000000000,
          45000000000,
          25000000000,
          4500000000,
          17000000000,
          75000000000,
          52000000000,
          8250000000,
          120000000000,
          55000000000,
          8500000000,
          20000000000,
          14000000000,
          4500000000,
          9000000000,
          23000000000,
          45000000000,
          56000000000,
          3100000000,
          20000000000,
          4200000000,
          130000000000,
          1500000000,
          7500000000,
          4700000000,
          9000000000,
          20000000000,
          8000000000,
          65000000000,
          59000000000,
          33000000000,
          59000000000,
          4500000000,
          410000000,
          9500000000,
          82000000000,
          1850000000,
          9000000000,
          19500000000,
          355000000000,
          120000000000,
          7000000000,
          35000000000,
          120000000000,
          700000000,
          3200000000,
          30000000000,
          12500000000,
          37300000000,
          100000000000,
          57000000000,
          32400000000,
          15500000000,
          68000000000,
          30000000000,
          120000000000,
          3950000000,
          5700000000,
          2550000000,
          12700000000,
          15000000000,
          3000000000,
          4900000000,
          1800000000,
          45000000000,
          6400000000,
          12700000000,
          10000000000,
          12700000000,
          1700000000,
          2400000000,
          17000000000,
          3900000000,
          4950000000,
          15500000000,
          12700000000,
          7800000000,
          12700000000,
          7300000000,
          227000000,
          30000000000,
          55000000000,
          19000000000,
          650000000,
          3500000000,
          13900000000,
          6000000000,
          3500000000,
          36000000000,
          2600000000,
          3700000000,
          2900000000,
          60000000000,
          6400000000,
          5800000000,
          2460000000,
          17000000000,
          600000000,
          170000000000,
          20000000000,
          100000000000,
          2400000000,
          25000000000,
          43500000000,
          20000000000,
          600000000,
          13500000000,
          15500000000,
          90000000000,
          29500000000,
          297000000000,
          100000000000,
          100000000000,
          21000000000,
          30000000000,
          20000000000,
          2500000000,
          45000000000,
          5800000000,
          100000000000,
          25000000000,
          65000000000,
          16500000000,
          16500000000,
          8500000000,
          2900000000,
          21000000000,
          20000000000,
          9000000000,
          6400000000,
          16500000000,
          4700000000,
          2750000000,
          6000000000,
          2500000000,
          8500000000,
          15500000000,
          4000000000,
          12700000000,
          16000000000,
          45000000000,
          40000000000,
          12700000000,
          5000000000,
          2200000000,
          5000000000,
          16000000000,
          12700000000,
          57000000000,
          10500000000,
          12700000000,
          4500000000,
          36000000000,
          5300000000,
          95000000000,
          32000000000,
          20000000000,
          60000000000,
          26500000000,
          26000000000,
          13500000000,
          6500000000,
          10000000000,
          55000000000,
          7200000000,
          4500000000,
          32000000000,
          475000000,
          32000000000,
          5400000000,
          475000000,
          475000000,
          6700000000,
          450000000,
          8500000000,
          450000000,
          495000000,
          475000000,
          450000000,
          475000000,
          28000000000,
          14500000000,
          475000000,
          3560000000,
          3800000000,
          17500000000,
          15500000000,
          16000000000,
          3500000000,
          2200000000,
          4500000000,
          2900000000,
          9000000000,
          2500000000,
          3750000000,
          3500000000,
          45000000000,
          32000000000,
          28000000000,
          11000000000,
          13000000000,
          9900000000,
          22000000000,
          200000000,
          200000000,
          12500000000,
          3900000000,
          55000000000,
          55000000000,
          9700000000,
          55000000000,
          12000000000,
          4000000000,
          9000000000,
          3800000000,
          4500000000,
          15000000000,
          39500000000,
          20000000000,
          8500000000,
          33000000000,
          5000000000,
          2480000000,
          60000000000,
          3900000000,
          11500000000,
          8500000000,
          3800000000,
          1200000000,
          4500000000,
          2500000000,
          2600000000,
          200000000,
          3800000000,
          2600000000,
          28500000000,
          600000000000,
          35000000000,
          27000000000,
          2200000000,
          6000000000,
          5000000000,
          15500000000,
          5200000000,
          30000000000,
          15000000000,
          125000000000,
          18500000000,
          130000000000,
          298000000000,
          17500000000,
          2000000000,
          115000000000,
          1400000000,
          6500000000,
          32500000000,
          4500000000,
          6500000000,
          11000000000,
          11000000000,
          37500000000,
          6000000000,
          10000000000,
          37500000000,
          2800000000,
          14000000000,
          17500000000,
          8000000000,
          6900000000,
          6500000000,
          37500000000,
          5750000000,
          27500000000,
          19000000000,
          5200000000,
          19000000000,
          1700000000,
          85000000000,
          7200000000,
          4000000000,
          55000000000,
          28000000000,
          6500000000,
          6000000000,
          58000000000,
          3250000000,
          72800000000,
          22000000000,
          19000000000,
          60000000000,
          14100000000,
          14100000000,
          30000000000,
          90000000000,
          39000000000,
          9000000000,
          65000000000,
          55000000000,
          16000000000,
          28500000000,
          13500000000,
          4590000000,
          30000000000,
          9500000000,
          4500000000,
          4590000000,
          6250000000,
          1800000000,
          8750000000,
          700000000,
          22000000000,
          2850000000,
          23000000000,
          1700000000,
          6950000000,
          23800000000,
          19000000000,
          2500000000,
          90000000000,
          21200000000,
          2750000000,
          7200000000,
          13000000000,
          7500000000,
          6250000000,
          17000000000,
          15000000000,
          3800000000,
          11000000000,
          3900000000,
          80000000000,
          6250000000,
          17000000000,
          11000000000,
          4590000000,
          7500000000,
          4300000000,
          7500000000,
          7200000000,
          42000000000,
          15000000000,
          80000000000,
          17000000000,
          115000000000,
          4000000000,
          80000000000,
          15000000000,
          2200000000,
          14900000000,
          5500000000,
          4590000000,
          67000000000,
          35000000000,
          972000000,
          55000000000,
          100000000000,
          12700000000,
          950000000,
          1610000000,
          5000000000,
          9500000000,
          7500000000,
          49500000000,
          2400000000,
          4000000000,
          6600000000,
          6500000000,
          37000000000,
          799000000,
          52000000000,
          52000000000,
          3650000000,
          1500000000,
          80000000000,
          470000000,
          7200000000,
          2400000000,
          8000000000,
          10000000000,
          5500000000,
          11000000000,
          4590000000,
          18000000000,
          17000000000,
          65000000000,
          2800000000,
          6500000000,
          7950000000,
          5600000000,
          150000000000,
          17000000000,
          4500000000,
          4590000000,
          25000000000,
          2950000000,
          3500000000,
          8000000000,
          15000000000,
          2850000000,
          2600000000,
          2500000000,
          1750000000,
          3000000000,
          50000000000,
          5390000000,
          1450000000,
          2000000000,
          1100000000,
          1500000000,
          1200000000,
          8000000000,
          11000000000,
          24000000000,
          5390000000,
          6500000000,
          1800000000,
          3900000000,
          2200000000,
          1200000000,
          7500000000,
          9000000000,
          3100000000,
          5500000000,
          5500000000,
          1200000000,
          2750000000,
          90000000000,
          1200000000,
          45000000000,
          6500000000,
          25000000000,
          38000000000,
          6200000000,
          44100000000,
          38000000000,
          2300000000,
          13500000000,
          7000000000,
          135000000000,
          39000000000,
          40000000000,
          75000000000,
          80000000000,
          73000000000,
          6000000000,
          8500000000,
          6700000000,
          70000000000,
          5500000000,
          8500000000,
          900000000,
          4500000000,
          8500000000,
          70000000000,
          8500000000,
          6000000000,
          8500000000,
          8500000000,
          6700000000,
          550000000,
          14900000000,
          9000000000,
          7000000000,
          5700000000,
          1750000000,
          17800000000,
          1600000000,
          55000000000,
          23000000000,
          23000000000,
          18000000000,
          4000000000,
          3800000000,
          4500000000,
          19500000000,
          17800000000,
          85000000000,
          27000000000,
          3000000000,
          7200000000,
          5600000000,
          67000000000,
          12500000000,
          2400000000,
          16000000000,
          12000000000,
          5500000000,
          7000000000,
          8400000000,
          55000000000,
          100000000000,
          31000000000,
          13000000000,
          12000000000,
          2000000000,
          1800000000,
          1800000000,
          8000000000,
          14500000000,
          18500000000,
          7300000000,
          5000000000,
          9000000000,
          890000000,
          12000000000,
          8000000000,
          60000000000,
          8000000000,
          7000000000,
          1550000000,
          8500000000,
          7200000000,
          5900000000,
          15000000000,
          140000000000,
          72000000000,
          18500000000,
          31000000000,
          2600000000,
          51000000000,
          12500000000,
          9000000000,
          3700000000,
          7000000000,
          10900000000,
          51000000000,
          51000000000,
          11000000000,
          57000000000,
          6500000000,
          6400000000,
          385000000,
          5200000000,
          4500000000,
          30000000000,
          8500000000,
          6500000000,
          5300000000,
          37300000000,
          12500000000,
          4800000000,
          3000000000,
          6500000000,
          4600000000,
          4800000000,
          5000000000,
          11000000000,
          65000000000,
          11000000000,
          8500000000,
          1950000000,
          85000000000,
          3300000000,
          13800000000,
          45000000000,
          3500000000,
          10500000000,
          7500000000,
          4000000000,
          8500000000,
          5100000000,
          4600000000,
          2500000000,
          1400000000,
          7000000000,
          1350000000,
          10000000000,
          2200000000,
          5000000000,
          45000000000,
          8500000000,
          59000000000,
          3500000000,
          4000000000,
          9000000000,
          43500000000,
          6500000000,
          3500000000,
          9500000000,
          2000000000,
          2060000000,
          8500000000,
          9000000000,
          6500000000,
          3500000000,
          20900000000,
          5600000000,
          8500000000,
          8500000000,
          8500000000,
          4000000000,
          2800000000,
          1170000000,
          22500000000,
          3300000000,
          2410000000,
          19500000000,
          2410000000,
          8500000000,
          19500000000,
          5500000000,
          8500000000,
          2100000000,
          972000000,
          3800000000,
          5900000000,
          27000000000,
          6500000000,
          1850000000,
          1500000000,
          47900000000,
          47000000000,
          8500000000,
          95000000000,
          550000000,
          13500000000,
          3300000000,
          2600000000,
          1900000000,
          2460000000,
          14000000000,
          65000000000,
          28500000000,
          11000000000,
          67000000000,
          3500000000,
          8000000000,
          300000000000,
          15000000000,
          11000000000,
          40000000000,
          33000000000,
          2500000000,
          3700000000,
          17500000000,
          8500000000,
          17000000000,
          3000000000,
          50000000000,
          38000000000,
          2300000000,
          15000000000,
          1600000000,
          16500000000,
          5500000000,
          33000000000,
          6500000000,
          17600000000,
          4500000000,
          10000000000,
          3250000000,
          2400000000,
          3500000000,
          23500000000,
          50000000000,
          5000000000,
          5000000000,
          5900000000,
          12000000000,
          6990000000,
          4250000000,
          60000000000,
          9500000000,
          4200000000,
          10000000000,
          35000000000,
          1600000000,
          17600000000,
          12000000000,
          35000000000,
          1200000000,
          20000000000,
          1900000000,
          5500000000,
          30000000000,
          8000000000,
          49000000000,
          48000000000,
          6250000000,
          37300000000,
          10600000000,
          33000000000,
          19000000000,
          11000000000,
          13000000000,
          42000000000,
          17500000000,
          275000000000,
          2200000000,
          19800000000,
          853000000,
          6850000000,
          22000000000,
          3500000000,
          6000000000,
          9000000000,
          4600000000,
          3200000000,
          6000000000,
          20000000000,
          1700000000,
          6000000000,
          5500000000,
          4600000000,
          4000000000,
          14000000000,
          20000000000,
          3500000000,
          15000000000,
          4590000000,
          4600000000,
          9000000000,
          4600000000,
          14000000000,
          13500000000,
          5490000000,
          9000000000,
          17500000000,
          400000000000,
          19500000000,
          6000000000,
          30000000000,
          12000000000,
          56000000000,
          5300000000,
          3300000000,
          32000000000,
          50000000000,
          4000000000,
          85000000000,
          5800000000,
          4600000000,
          1300000000,
          5000000000,
          1900000000,
          4600000000,
          14500000000,
          70000000000,
          3000000000,
          20000000000,
          2700000000,
          10000000000,
          16000000000,
          8000000000,
          99900000000,
          180000000000,
          2700000000,
          1350000000,
          19000000000,
          2990000000,
          5800000000,
          12500000000,
          7800000000,
          39500000000,
          2480000000,
          2800000000,
          14500000000,
          11300000000,
          4250000000,
          15000000000,
          2950000000,
          1500000000,
          2200000000,
          3700000000,
          39500000000,
          8500000000,
          451000000,
          37500000000,
          60000000000,
          55000000000,
          6700000000,
          60000000000,
          3800000000,
          51000000000,
          30000000000,
          1600000000,
          4500000000,
          59000000000,
          4700000000,
          2500000000,
          9500000000,
          11000000000,
          3500000000,
          5000000000,
          2500000000,
          975000000,
          3000000000,
          40000000000,
          11000000000,
          17200000000,
          3700000000,
          6500000000,
          670000000,
          7200000000,
          5000000000,
          950000000,
          20800000000,
          1800000000,
          2800000000,
          5000000000,
          9300000000,
          9000000000,
          48000000000,
          2400000000,
          2500000000,
          2800000000,
          4000000000,
          19700000000,
          3900000000,
          45000000000,
          497000000,
          2000000000,
          7500000000,
          15000000000,
          20000000000,
          45000000000,
          4930000000,
          13000000000,
          2600000000,
          972000000,
          20000000000,
          2700000000,
          8300000000,
          3500000000,
          3700000000,
          2700000000,
          14000000000,
          8000000000,
          52000000000,
          3000000000,
          432000000,
          40000000000,
          11500000000,
          50000000000,
          3000000000,
          128000000000,
          200000000,
          100000000000,
          1650000000,
          3500000000,
          2400000000,
          3000000000,
          51900000000,
          3900000000,
          70000000000,
          16800000000,
          38500000000,
          35500000000,
          35000000000,
          67000000000,
          8500000000,
          4000000000,
          11500000000,
          4000000000,
          45000000000,
          99000000000,
          6500000000,
          3000000000,
          45000000000,
          7500000000,
          60000000000,
          55000000000,
          100000000000,
          2300000000,
          28400000000,
          2000000000,
          20000000000,
          20000000000,
          20000000000,
          2500000000,
          2500000000,
          100000000000,
          7200000000,
          66000000000,
          1400000000,
          2750000000,
          21600000000,
          18000000000,
          12500000000,
          6200000000,
          7000000000,
          6500000000,
          7000000000,
          7000000000,
          4000000000,
          7000000000,
          4500000000,
          75000000000,
          5900000000,
          8199999999,
          19900000000,
          57000000000,
          3900000000,
          28000000000,
          72000000000,
          2300000000,
          2210000000,
          3200000000,
          1600000000,
          2200000000,
          5500000000,
          80000000000,
          100000000000,
          2800000000,
          60000000000,
          2500000000,
          3500000000,
          21000000000,
          19000000000,
          7500000000,
          5900000000,
          7900000000,
          7000000000,
          1290000000,
          59000000000,
          15200000000,
          11500000000,
          4900000000,
          1600000000,
          70000000000,
          3750000000,
          15000000000,
          5100000000,
          20000000000,
          1600000000,
          47600000000,
          2300000000,
          7300000000,
          37000000000,
          8500000000,
          15000000000,
          19000000000,
          3500000000,
          4000000000,
          55000000000,
          15500000000,
          12500000000,
          4800000000,
          14000000000,
          31000000000,
          1800000000,
          3700000000,
          7800000000,
          70000000000,
          7900000000,
          19000000000,
          2750000000,
          8250000000,
          1400000000,
          5300000000,
          24000000000,
          12500000000,
          1950000000,
          4000000000,
          3800000000,
          3800000000,
          4200000000,
          44100000000,
          1610000000,
          3700000000,
          19000000000,
          1650000000,
          2300000000,
          4800000000,
          1500000000,
          2600000000,
          899000000,
          17500000000,
          10600000000,
          12500000000,
          12500000000,
          1780000000,
          4500000000,
          12500000000,
          38000000000,
          55000000000,
          13500000000,
          1400000000,
          5900000000,
          7500000000,
          6300000000,
          450000000,
          5100000000,
          5250000000,
          3900000000,
          7000000000,
          2950000000,
          3300000000,
          3500000000,
          76000000000,
          4250000000,
          3300000000,
          19000000000,
          2550000000,
          4500000000,
          19000000000,
          5800000000,
          52000000000,
          53000000000,
          58000000000,
          2700000000,
          58000000000,
          3500000000,
          6500000000,
          6500000000,
          14000000000,
          6000000000,
          55000000000,
          6200000000,
          900000000,
          8500000000,
          900000000,
          900000000,
          100000000000,
          2500000000,
          18500000000,
          35000000000,
          56000000000,
          13500000000,
          68400000000,
          29000000000,
          2500000000,
          1500000000,
          3300000000,
          3500000000,
          3300000000,
          8500000000,
          35000000000,
          50000000000,
          4590000000,
          3500000000,
          25000000000,
          4000000000,
          70000000000,
          1250000000,
          1700000000,
          19000000000,
          14000000000,
          350000000000,
          38000000000,
          3450000000,
          80000000000,
          38000000000,
          5250000000,
          8000000000,
          4800000000,
          66000000000,
          3900000000,
          80000000000,
          25000000000,
          8500000000,
          60000000000,
          593000000,
          18200000000,
          5200000000,
          5500000000,
          950000000,
          2049999999,
          473000000,
          2510000000,
          1020000000,
          2550000000,
          2049999999,
          2900000000,
          4250000000,
          2089999999,
          1650000000,
          425000000,
          2049999999,
          31000000000,
          30000000000,
          57000000000,
          513000000,
          2160000000,
          100000000000,
          972000000,
          550000000,
          2100000000,
          1410000000,
          39000000000,
          55000000000,
          59000000000,
          10500000000,
          6500000000,
          2160000000,
          593000000,
          2160000000,
          2590000000,
          3110000000,
          2470000000,
          2160000000,
          2200000000,
          1020000000,
          2400000000,
          895000000,
          2049999999,
          1530000000,
          1040000000,
          90000000000,
          599000000,
          451000000,
          2049999999,
          29000000000,
          453000000,
          1410000000,
          1410000000,
          37500000000,
          408000000,
          15500000000,
          2160000000,
          3300000000,
          2049999999,
          1650000000,
          2470000000,
          1020000000,
          1800000000,
          1020000000,
          1040000000,
          55000000000,
          2500000000,
          1010000000,
          2160000000,
          12000000000,
          675000000,
          1590000000,
          70000000000,
          599000000,
          15000000000,
          2210000000,
          425000000,
          425000000,
          5000000000,
          2470000000,
          1650000000,
          49000000000,
          2049999999,
          1020000000,
          7900000000,
          3000000000,
          2160000000,
          2280000000,
          14900000000,
          1750000000,
          31000000000,
          2400000000,
          408000000,
          1610000000,
          1410000000,
          8000000000,
          56000000000
         ],
         "yaxis": "y"
        }
       ],
       "layout": {
        "legend": {
         "title": {
          "text": "Property Type"
         },
         "tracegroupgap": 0
        },
        "template": {
         "data": {
          "bar": [
           {
            "error_x": {
             "color": "#2a3f5f"
            },
            "error_y": {
             "color": "#2a3f5f"
            },
            "marker": {
             "line": {
              "color": "#E5ECF6",
              "width": 0.5
             },
             "pattern": {
              "fillmode": "overlay",
              "size": 10,
              "solidity": 0.2
             }
            },
            "type": "bar"
           }
          ],
          "barpolar": [
           {
            "marker": {
             "line": {
              "color": "#E5ECF6",
              "width": 0.5
             },
             "pattern": {
              "fillmode": "overlay",
              "size": 10,
              "solidity": 0.2
             }
            },
            "type": "barpolar"
           }
          ],
          "carpet": [
           {
            "aaxis": {
             "endlinecolor": "#2a3f5f",
             "gridcolor": "white",
             "linecolor": "white",
             "minorgridcolor": "white",
             "startlinecolor": "#2a3f5f"
            },
            "baxis": {
             "endlinecolor": "#2a3f5f",
             "gridcolor": "white",
             "linecolor": "white",
             "minorgridcolor": "white",
             "startlinecolor": "#2a3f5f"
            },
            "type": "carpet"
           }
          ],
          "choropleth": [
           {
            "colorbar": {
             "outlinewidth": 0,
             "ticks": ""
            },
            "type": "choropleth"
           }
          ],
          "contour": [
           {
            "colorbar": {
             "outlinewidth": 0,
             "ticks": ""
            },
            "colorscale": [
             [
              0,
              "#0d0887"
             ],
             [
              0.1111111111111111,
              "#46039f"
             ],
             [
              0.2222222222222222,
              "#7201a8"
             ],
             [
              0.3333333333333333,
              "#9c179e"
             ],
             [
              0.4444444444444444,
              "#bd3786"
             ],
             [
              0.5555555555555556,
              "#d8576b"
             ],
             [
              0.6666666666666666,
              "#ed7953"
             ],
             [
              0.7777777777777778,
              "#fb9f3a"
             ],
             [
              0.8888888888888888,
              "#fdca26"
             ],
             [
              1,
              "#f0f921"
             ]
            ],
            "type": "contour"
           }
          ],
          "contourcarpet": [
           {
            "colorbar": {
             "outlinewidth": 0,
             "ticks": ""
            },
            "type": "contourcarpet"
           }
          ],
          "heatmap": [
           {
            "colorbar": {
             "outlinewidth": 0,
             "ticks": ""
            },
            "colorscale": [
             [
              0,
              "#0d0887"
             ],
             [
              0.1111111111111111,
              "#46039f"
             ],
             [
              0.2222222222222222,
              "#7201a8"
             ],
             [
              0.3333333333333333,
              "#9c179e"
             ],
             [
              0.4444444444444444,
              "#bd3786"
             ],
             [
              0.5555555555555556,
              "#d8576b"
             ],
             [
              0.6666666666666666,
              "#ed7953"
             ],
             [
              0.7777777777777778,
              "#fb9f3a"
             ],
             [
              0.8888888888888888,
              "#fdca26"
             ],
             [
              1,
              "#f0f921"
             ]
            ],
            "type": "heatmap"
           }
          ],
          "heatmapgl": [
           {
            "colorbar": {
             "outlinewidth": 0,
             "ticks": ""
            },
            "colorscale": [
             [
              0,
              "#0d0887"
             ],
             [
              0.1111111111111111,
              "#46039f"
             ],
             [
              0.2222222222222222,
              "#7201a8"
             ],
             [
              0.3333333333333333,
              "#9c179e"
             ],
             [
              0.4444444444444444,
              "#bd3786"
             ],
             [
              0.5555555555555556,
              "#d8576b"
             ],
             [
              0.6666666666666666,
              "#ed7953"
             ],
             [
              0.7777777777777778,
              "#fb9f3a"
             ],
             [
              0.8888888888888888,
              "#fdca26"
             ],
             [
              1,
              "#f0f921"
             ]
            ],
            "type": "heatmapgl"
           }
          ],
          "histogram": [
           {
            "marker": {
             "pattern": {
              "fillmode": "overlay",
              "size": 10,
              "solidity": 0.2
             }
            },
            "type": "histogram"
           }
          ],
          "histogram2d": [
           {
            "colorbar": {
             "outlinewidth": 0,
             "ticks": ""
            },
            "colorscale": [
             [
              0,
              "#0d0887"
             ],
             [
              0.1111111111111111,
              "#46039f"
             ],
             [
              0.2222222222222222,
              "#7201a8"
             ],
             [
              0.3333333333333333,
              "#9c179e"
             ],
             [
              0.4444444444444444,
              "#bd3786"
             ],
             [
              0.5555555555555556,
              "#d8576b"
             ],
             [
              0.6666666666666666,
              "#ed7953"
             ],
             [
              0.7777777777777778,
              "#fb9f3a"
             ],
             [
              0.8888888888888888,
              "#fdca26"
             ],
             [
              1,
              "#f0f921"
             ]
            ],
            "type": "histogram2d"
           }
          ],
          "histogram2dcontour": [
           {
            "colorbar": {
             "outlinewidth": 0,
             "ticks": ""
            },
            "colorscale": [
             [
              0,
              "#0d0887"
             ],
             [
              0.1111111111111111,
              "#46039f"
             ],
             [
              0.2222222222222222,
              "#7201a8"
             ],
             [
              0.3333333333333333,
              "#9c179e"
             ],
             [
              0.4444444444444444,
              "#bd3786"
             ],
             [
              0.5555555555555556,
              "#d8576b"
             ],
             [
              0.6666666666666666,
              "#ed7953"
             ],
             [
              0.7777777777777778,
              "#fb9f3a"
             ],
             [
              0.8888888888888888,
              "#fdca26"
             ],
             [
              1,
              "#f0f921"
             ]
            ],
            "type": "histogram2dcontour"
           }
          ],
          "mesh3d": [
           {
            "colorbar": {
             "outlinewidth": 0,
             "ticks": ""
            },
            "type": "mesh3d"
           }
          ],
          "parcoords": [
           {
            "line": {
             "colorbar": {
              "outlinewidth": 0,
              "ticks": ""
             }
            },
            "type": "parcoords"
           }
          ],
          "pie": [
           {
            "automargin": true,
            "type": "pie"
           }
          ],
          "scatter": [
           {
            "fillpattern": {
             "fillmode": "overlay",
             "size": 10,
             "solidity": 0.2
            },
            "type": "scatter"
           }
          ],
          "scatter3d": [
           {
            "line": {
             "colorbar": {
              "outlinewidth": 0,
              "ticks": ""
             }
            },
            "marker": {
             "colorbar": {
              "outlinewidth": 0,
              "ticks": ""
             }
            },
            "type": "scatter3d"
           }
          ],
          "scattercarpet": [
           {
            "marker": {
             "colorbar": {
              "outlinewidth": 0,
              "ticks": ""
             }
            },
            "type": "scattercarpet"
           }
          ],
          "scattergeo": [
           {
            "marker": {
             "colorbar": {
              "outlinewidth": 0,
              "ticks": ""
             }
            },
            "type": "scattergeo"
           }
          ],
          "scattergl": [
           {
            "marker": {
             "colorbar": {
              "outlinewidth": 0,
              "ticks": ""
             }
            },
            "type": "scattergl"
           }
          ],
          "scattermapbox": [
           {
            "marker": {
             "colorbar": {
              "outlinewidth": 0,
              "ticks": ""
             }
            },
            "type": "scattermapbox"
           }
          ],
          "scatterpolar": [
           {
            "marker": {
             "colorbar": {
              "outlinewidth": 0,
              "ticks": ""
             }
            },
            "type": "scatterpolar"
           }
          ],
          "scatterpolargl": [
           {
            "marker": {
             "colorbar": {
              "outlinewidth": 0,
              "ticks": ""
             }
            },
            "type": "scatterpolargl"
           }
          ],
          "scatterternary": [
           {
            "marker": {
             "colorbar": {
              "outlinewidth": 0,
              "ticks": ""
             }
            },
            "type": "scatterternary"
           }
          ],
          "surface": [
           {
            "colorbar": {
             "outlinewidth": 0,
             "ticks": ""
            },
            "colorscale": [
             [
              0,
              "#0d0887"
             ],
             [
              0.1111111111111111,
              "#46039f"
             ],
             [
              0.2222222222222222,
              "#7201a8"
             ],
             [
              0.3333333333333333,
              "#9c179e"
             ],
             [
              0.4444444444444444,
              "#bd3786"
             ],
             [
              0.5555555555555556,
              "#d8576b"
             ],
             [
              0.6666666666666666,
              "#ed7953"
             ],
             [
              0.7777777777777778,
              "#fb9f3a"
             ],
             [
              0.8888888888888888,
              "#fdca26"
             ],
             [
              1,
              "#f0f921"
             ]
            ],
            "type": "surface"
           }
          ],
          "table": [
           {
            "cells": {
             "fill": {
              "color": "#EBF0F8"
             },
             "line": {
              "color": "white"
             }
            },
            "header": {
             "fill": {
              "color": "#C8D4E3"
             },
             "line": {
              "color": "white"
             }
            },
            "type": "table"
           }
          ]
         },
         "layout": {
          "annotationdefaults": {
           "arrowcolor": "#2a3f5f",
           "arrowhead": 0,
           "arrowwidth": 1
          },
          "autotypenumbers": "strict",
          "coloraxis": {
           "colorbar": {
            "outlinewidth": 0,
            "ticks": ""
           }
          },
          "colorscale": {
           "diverging": [
            [
             0,
             "#8e0152"
            ],
            [
             0.1,
             "#c51b7d"
            ],
            [
             0.2,
             "#de77ae"
            ],
            [
             0.3,
             "#f1b6da"
            ],
            [
             0.4,
             "#fde0ef"
            ],
            [
             0.5,
             "#f7f7f7"
            ],
            [
             0.6,
             "#e6f5d0"
            ],
            [
             0.7,
             "#b8e186"
            ],
            [
             0.8,
             "#7fbc41"
            ],
            [
             0.9,
             "#4d9221"
            ],
            [
             1,
             "#276419"
            ]
           ],
           "sequential": [
            [
             0,
             "#0d0887"
            ],
            [
             0.1111111111111111,
             "#46039f"
            ],
            [
             0.2222222222222222,
             "#7201a8"
            ],
            [
             0.3333333333333333,
             "#9c179e"
            ],
            [
             0.4444444444444444,
             "#bd3786"
            ],
            [
             0.5555555555555556,
             "#d8576b"
            ],
            [
             0.6666666666666666,
             "#ed7953"
            ],
            [
             0.7777777777777778,
             "#fb9f3a"
            ],
            [
             0.8888888888888888,
             "#fdca26"
            ],
            [
             1,
             "#f0f921"
            ]
           ],
           "sequentialminus": [
            [
             0,
             "#0d0887"
            ],
            [
             0.1111111111111111,
             "#46039f"
            ],
            [
             0.2222222222222222,
             "#7201a8"
            ],
            [
             0.3333333333333333,
             "#9c179e"
            ],
            [
             0.4444444444444444,
             "#bd3786"
            ],
            [
             0.5555555555555556,
             "#d8576b"
            ],
            [
             0.6666666666666666,
             "#ed7953"
            ],
            [
             0.7777777777777778,
             "#fb9f3a"
            ],
            [
             0.8888888888888888,
             "#fdca26"
            ],
            [
             1,
             "#f0f921"
            ]
           ]
          },
          "colorway": [
           "#636efa",
           "#EF553B",
           "#00cc96",
           "#ab63fa",
           "#FFA15A",
           "#19d3f3",
           "#FF6692",
           "#B6E880",
           "#FF97FF",
           "#FECB52"
          ],
          "font": {
           "color": "#2a3f5f"
          },
          "geo": {
           "bgcolor": "white",
           "lakecolor": "white",
           "landcolor": "#E5ECF6",
           "showlakes": true,
           "showland": true,
           "subunitcolor": "white"
          },
          "hoverlabel": {
           "align": "left"
          },
          "hovermode": "closest",
          "mapbox": {
           "style": "light"
          },
          "paper_bgcolor": "white",
          "plot_bgcolor": "#E5ECF6",
          "polar": {
           "angularaxis": {
            "gridcolor": "white",
            "linecolor": "white",
            "ticks": ""
           },
           "bgcolor": "#E5ECF6",
           "radialaxis": {
            "gridcolor": "white",
            "linecolor": "white",
            "ticks": ""
           }
          },
          "scene": {
           "xaxis": {
            "backgroundcolor": "#E5ECF6",
            "gridcolor": "white",
            "gridwidth": 2,
            "linecolor": "white",
            "showbackground": true,
            "ticks": "",
            "zerolinecolor": "white"
           },
           "yaxis": {
            "backgroundcolor": "#E5ECF6",
            "gridcolor": "white",
            "gridwidth": 2,
            "linecolor": "white",
            "showbackground": true,
            "ticks": "",
            "zerolinecolor": "white"
           },
           "zaxis": {
            "backgroundcolor": "#E5ECF6",
            "gridcolor": "white",
            "gridwidth": 2,
            "linecolor": "white",
            "showbackground": true,
            "ticks": "",
            "zerolinecolor": "white"
           }
          },
          "shapedefaults": {
           "line": {
            "color": "#2a3f5f"
           }
          },
          "ternary": {
           "aaxis": {
            "gridcolor": "white",
            "linecolor": "white",
            "ticks": ""
           },
           "baxis": {
            "gridcolor": "white",
            "linecolor": "white",
            "ticks": ""
           },
           "bgcolor": "#E5ECF6",
           "caxis": {
            "gridcolor": "white",
            "linecolor": "white",
            "ticks": ""
           }
          },
          "title": {
           "x": 0.05
          },
          "xaxis": {
           "automargin": true,
           "gridcolor": "white",
           "linecolor": "white",
           "ticks": "",
           "title": {
            "standoff": 15
           },
           "zerolinecolor": "white",
           "zerolinewidth": 2
          },
          "yaxis": {
           "automargin": true,
           "gridcolor": "white",
           "linecolor": "white",
           "ticks": "",
           "title": {
            "standoff": 15
           },
           "zerolinecolor": "white",
           "zerolinewidth": 2
          }
         }
        },
        "title": {
         "text": "Price vs Building Area by Property Type (For Sale) - snip untuk zoom agar lebih jelas"
        },
        "xaxis": {
         "anchor": "y",
         "domain": [
          0,
          1
         ],
         "title": {
          "text": "Building Area (m²)"
         }
        },
        "yaxis": {
         "anchor": "x",
         "domain": [
          0,
          1
         ],
         "title": {
          "text": "Price"
         }
        }
       }
      }
     },
     "metadata": {},
     "output_type": "display_data"
    },
    {
     "data": {
      "application/vnd.plotly.v1+json": {
       "config": {
        "plotlyServerURL": "https://plot.ly"
       },
       "data": [
        {
         "hovertemplate": "sertifikat=%{x}<br>Price=%{y}<extra></extra>",
         "legendgroup": "SHM - Sertifikat Hak Milik",
         "marker": {
          "color": "#636efa",
          "symbol": "circle"
         },
         "mode": "markers",
         "name": "SHM - Sertifikat Hak Milik",
         "showlegend": true,
         "type": "scattergl",
         "x": [
          "SHM - Sertifikat Hak Milik",
          "SHM - Sertifikat Hak Milik",
          "SHM - Sertifikat Hak Milik",
          "SHM - Sertifikat Hak Milik",
          "SHM - Sertifikat Hak Milik",
          "SHM - Sertifikat Hak Milik",
          "SHM - Sertifikat Hak Milik",
          "SHM - Sertifikat Hak Milik",
          "SHM - Sertifikat Hak Milik",
          "SHM - Sertifikat Hak Milik",
          "SHM - Sertifikat Hak Milik",
          "SHM - Sertifikat Hak Milik",
          "SHM - Sertifikat Hak Milik",
          "SHM - Sertifikat Hak Milik",
          "SHM - Sertifikat Hak Milik",
          "SHM - Sertifikat Hak Milik",
          "SHM - Sertifikat Hak Milik",
          "SHM - Sertifikat Hak Milik",
          "SHM - Sertifikat Hak Milik",
          "SHM - Sertifikat Hak Milik",
          "SHM - Sertifikat Hak Milik",
          "SHM - Sertifikat Hak Milik",
          "SHM - Sertifikat Hak Milik",
          "SHM - Sertifikat Hak Milik",
          "SHM - Sertifikat Hak Milik",
          "SHM - Sertifikat Hak Milik",
          "SHM - Sertifikat Hak Milik",
          "SHM - Sertifikat Hak Milik",
          "SHM - Sertifikat Hak Milik",
          "SHM - Sertifikat Hak Milik",
          "SHM - Sertifikat Hak Milik",
          "SHM - Sertifikat Hak Milik",
          "SHM - Sertifikat Hak Milik",
          "SHM - Sertifikat Hak Milik",
          "SHM - Sertifikat Hak Milik",
          "SHM - Sertifikat Hak Milik",
          "SHM - Sertifikat Hak Milik",
          "SHM - Sertifikat Hak Milik",
          "SHM - Sertifikat Hak Milik",
          "SHM - Sertifikat Hak Milik",
          "SHM - Sertifikat Hak Milik",
          "SHM - Sertifikat Hak Milik",
          "SHM - Sertifikat Hak Milik",
          "SHM - Sertifikat Hak Milik",
          "SHM - Sertifikat Hak Milik",
          "SHM - Sertifikat Hak Milik",
          "SHM - Sertifikat Hak Milik",
          "SHM - Sertifikat Hak Milik",
          "SHM - Sertifikat Hak Milik",
          "SHM - Sertifikat Hak Milik",
          "SHM - Sertifikat Hak Milik",
          "SHM - Sertifikat Hak Milik",
          "SHM - Sertifikat Hak Milik",
          "SHM - Sertifikat Hak Milik",
          "SHM - Sertifikat Hak Milik",
          "SHM - Sertifikat Hak Milik",
          "SHM - Sertifikat Hak Milik",
          "SHM - Sertifikat Hak Milik",
          "SHM - Sertifikat Hak Milik",
          "SHM - Sertifikat Hak Milik",
          "SHM - Sertifikat Hak Milik",
          "SHM - Sertifikat Hak Milik",
          "SHM - Sertifikat Hak Milik",
          "SHM - Sertifikat Hak Milik",
          "SHM - Sertifikat Hak Milik",
          "SHM - Sertifikat Hak Milik",
          "SHM - Sertifikat Hak Milik",
          "SHM - Sertifikat Hak Milik",
          "SHM - Sertifikat Hak Milik",
          "SHM - Sertifikat Hak Milik",
          "SHM - Sertifikat Hak Milik",
          "SHM - Sertifikat Hak Milik",
          "SHM - Sertifikat Hak Milik",
          "SHM - Sertifikat Hak Milik",
          "SHM - Sertifikat Hak Milik",
          "SHM - Sertifikat Hak Milik",
          "SHM - Sertifikat Hak Milik",
          "SHM - Sertifikat Hak Milik",
          "SHM - Sertifikat Hak Milik",
          "SHM - Sertifikat Hak Milik",
          "SHM - Sertifikat Hak Milik",
          "SHM - Sertifikat Hak Milik",
          "SHM - Sertifikat Hak Milik",
          "SHM - Sertifikat Hak Milik",
          "SHM - Sertifikat Hak Milik",
          "SHM - Sertifikat Hak Milik",
          "SHM - Sertifikat Hak Milik",
          "SHM - Sertifikat Hak Milik",
          "SHM - Sertifikat Hak Milik",
          "SHM - Sertifikat Hak Milik",
          "SHM - Sertifikat Hak Milik",
          "SHM - Sertifikat Hak Milik",
          "SHM - Sertifikat Hak Milik",
          "SHM - Sertifikat Hak Milik",
          "SHM - Sertifikat Hak Milik",
          "SHM - Sertifikat Hak Milik",
          "SHM - Sertifikat Hak Milik",
          "SHM - Sertifikat Hak Milik",
          "SHM - Sertifikat Hak Milik",
          "SHM - Sertifikat Hak Milik",
          "SHM - Sertifikat Hak Milik",
          "SHM - Sertifikat Hak Milik",
          "SHM - Sertifikat Hak Milik",
          "SHM - Sertifikat Hak Milik",
          "SHM - Sertifikat Hak Milik",
          "SHM - Sertifikat Hak Milik",
          "SHM - Sertifikat Hak Milik",
          "SHM - Sertifikat Hak Milik",
          "SHM - Sertifikat Hak Milik",
          "SHM - Sertifikat Hak Milik",
          "SHM - Sertifikat Hak Milik",
          "SHM - Sertifikat Hak Milik",
          "SHM - Sertifikat Hak Milik",
          "SHM - Sertifikat Hak Milik",
          "SHM - Sertifikat Hak Milik",
          "SHM - Sertifikat Hak Milik",
          "SHM - Sertifikat Hak Milik",
          "SHM - Sertifikat Hak Milik",
          "SHM - Sertifikat Hak Milik",
          "SHM - Sertifikat Hak Milik",
          "SHM - Sertifikat Hak Milik",
          "SHM - Sertifikat Hak Milik",
          "SHM - Sertifikat Hak Milik",
          "SHM - Sertifikat Hak Milik",
          "SHM - Sertifikat Hak Milik",
          "SHM - Sertifikat Hak Milik",
          "SHM - Sertifikat Hak Milik",
          "SHM - Sertifikat Hak Milik",
          "SHM - Sertifikat Hak Milik",
          "SHM - Sertifikat Hak Milik",
          "SHM - Sertifikat Hak Milik",
          "SHM - Sertifikat Hak Milik",
          "SHM - Sertifikat Hak Milik",
          "SHM - Sertifikat Hak Milik",
          "SHM - Sertifikat Hak Milik",
          "SHM - Sertifikat Hak Milik",
          "SHM - Sertifikat Hak Milik",
          "SHM - Sertifikat Hak Milik",
          "SHM - Sertifikat Hak Milik",
          "SHM - Sertifikat Hak Milik",
          "SHM - Sertifikat Hak Milik",
          "SHM - Sertifikat Hak Milik",
          "SHM - Sertifikat Hak Milik",
          "SHM - Sertifikat Hak Milik",
          "SHM - Sertifikat Hak Milik",
          "SHM - Sertifikat Hak Milik",
          "SHM - Sertifikat Hak Milik",
          "SHM - Sertifikat Hak Milik",
          "SHM - Sertifikat Hak Milik",
          "SHM - Sertifikat Hak Milik",
          "SHM - Sertifikat Hak Milik",
          "SHM - Sertifikat Hak Milik",
          "SHM - Sertifikat Hak Milik",
          "SHM - Sertifikat Hak Milik",
          "SHM - Sertifikat Hak Milik",
          "SHM - Sertifikat Hak Milik",
          "SHM - Sertifikat Hak Milik",
          "SHM - Sertifikat Hak Milik",
          "SHM - Sertifikat Hak Milik",
          "SHM - Sertifikat Hak Milik",
          "SHM - Sertifikat Hak Milik",
          "SHM - Sertifikat Hak Milik",
          "SHM - Sertifikat Hak Milik",
          "SHM - Sertifikat Hak Milik",
          "SHM - Sertifikat Hak Milik",
          "SHM - Sertifikat Hak Milik",
          "SHM - Sertifikat Hak Milik",
          "SHM - Sertifikat Hak Milik",
          "SHM - Sertifikat Hak Milik",
          "SHM - Sertifikat Hak Milik",
          "SHM - Sertifikat Hak Milik",
          "SHM - Sertifikat Hak Milik",
          "SHM - Sertifikat Hak Milik",
          "SHM - Sertifikat Hak Milik",
          "SHM - Sertifikat Hak Milik",
          "SHM - Sertifikat Hak Milik",
          "SHM - Sertifikat Hak Milik",
          "SHM - Sertifikat Hak Milik",
          "SHM - Sertifikat Hak Milik",
          "SHM - Sertifikat Hak Milik",
          "SHM - Sertifikat Hak Milik",
          "SHM - Sertifikat Hak Milik",
          "SHM - Sertifikat Hak Milik",
          "SHM - Sertifikat Hak Milik",
          "SHM - Sertifikat Hak Milik",
          "SHM - Sertifikat Hak Milik",
          "SHM - Sertifikat Hak Milik",
          "SHM - Sertifikat Hak Milik",
          "SHM - Sertifikat Hak Milik",
          "SHM - Sertifikat Hak Milik",
          "SHM - Sertifikat Hak Milik",
          "SHM - Sertifikat Hak Milik",
          "SHM - Sertifikat Hak Milik",
          "SHM - Sertifikat Hak Milik",
          "SHM - Sertifikat Hak Milik",
          "SHM - Sertifikat Hak Milik",
          "SHM - Sertifikat Hak Milik",
          "SHM - Sertifikat Hak Milik",
          "SHM - Sertifikat Hak Milik",
          "SHM - Sertifikat Hak Milik",
          "SHM - Sertifikat Hak Milik",
          "SHM - Sertifikat Hak Milik",
          "SHM - Sertifikat Hak Milik",
          "SHM - Sertifikat Hak Milik",
          "SHM - Sertifikat Hak Milik",
          "SHM - Sertifikat Hak Milik",
          "SHM - Sertifikat Hak Milik",
          "SHM - Sertifikat Hak Milik",
          "SHM - Sertifikat Hak Milik",
          "SHM - Sertifikat Hak Milik",
          "SHM - Sertifikat Hak Milik",
          "SHM - Sertifikat Hak Milik",
          "SHM - Sertifikat Hak Milik",
          "SHM - Sertifikat Hak Milik",
          "SHM - Sertifikat Hak Milik",
          "SHM - Sertifikat Hak Milik",
          "SHM - Sertifikat Hak Milik",
          "SHM - Sertifikat Hak Milik",
          "SHM - Sertifikat Hak Milik",
          "SHM - Sertifikat Hak Milik",
          "SHM - Sertifikat Hak Milik",
          "SHM - Sertifikat Hak Milik",
          "SHM - Sertifikat Hak Milik",
          "SHM - Sertifikat Hak Milik",
          "SHM - Sertifikat Hak Milik",
          "SHM - Sertifikat Hak Milik",
          "SHM - Sertifikat Hak Milik",
          "SHM - Sertifikat Hak Milik",
          "SHM - Sertifikat Hak Milik",
          "SHM - Sertifikat Hak Milik",
          "SHM - Sertifikat Hak Milik",
          "SHM - Sertifikat Hak Milik",
          "SHM - Sertifikat Hak Milik",
          "SHM - Sertifikat Hak Milik",
          "SHM - Sertifikat Hak Milik",
          "SHM - Sertifikat Hak Milik",
          "SHM - Sertifikat Hak Milik",
          "SHM - Sertifikat Hak Milik",
          "SHM - Sertifikat Hak Milik",
          "SHM - Sertifikat Hak Milik",
          "SHM - Sertifikat Hak Milik",
          "SHM - Sertifikat Hak Milik",
          "SHM - Sertifikat Hak Milik",
          "SHM - Sertifikat Hak Milik",
          "SHM - Sertifikat Hak Milik",
          "SHM - Sertifikat Hak Milik",
          "SHM - Sertifikat Hak Milik",
          "SHM - Sertifikat Hak Milik",
          "SHM - Sertifikat Hak Milik",
          "SHM - Sertifikat Hak Milik",
          "SHM - Sertifikat Hak Milik",
          "SHM - Sertifikat Hak Milik",
          "SHM - Sertifikat Hak Milik",
          "SHM - Sertifikat Hak Milik",
          "SHM - Sertifikat Hak Milik",
          "SHM - Sertifikat Hak Milik",
          "SHM - Sertifikat Hak Milik",
          "SHM - Sertifikat Hak Milik",
          "SHM - Sertifikat Hak Milik",
          "SHM - Sertifikat Hak Milik",
          "SHM - Sertifikat Hak Milik",
          "SHM - Sertifikat Hak Milik",
          "SHM - Sertifikat Hak Milik",
          "SHM - Sertifikat Hak Milik",
          "SHM - Sertifikat Hak Milik",
          "SHM - Sertifikat Hak Milik",
          "SHM - Sertifikat Hak Milik",
          "SHM - Sertifikat Hak Milik",
          "SHM - Sertifikat Hak Milik",
          "SHM - Sertifikat Hak Milik",
          "SHM - Sertifikat Hak Milik",
          "SHM - Sertifikat Hak Milik",
          "SHM - Sertifikat Hak Milik",
          "SHM - Sertifikat Hak Milik",
          "SHM - Sertifikat Hak Milik",
          "SHM - Sertifikat Hak Milik",
          "SHM - Sertifikat Hak Milik",
          "SHM - Sertifikat Hak Milik",
          "SHM - Sertifikat Hak Milik",
          "SHM - Sertifikat Hak Milik",
          "SHM - Sertifikat Hak Milik",
          "SHM - Sertifikat Hak Milik",
          "SHM - Sertifikat Hak Milik",
          "SHM - Sertifikat Hak Milik",
          "SHM - Sertifikat Hak Milik",
          "SHM - Sertifikat Hak Milik",
          "SHM - Sertifikat Hak Milik",
          "SHM - Sertifikat Hak Milik",
          "SHM - Sertifikat Hak Milik",
          "SHM - Sertifikat Hak Milik",
          "SHM - Sertifikat Hak Milik",
          "SHM - Sertifikat Hak Milik",
          "SHM - Sertifikat Hak Milik",
          "SHM - Sertifikat Hak Milik",
          "SHM - Sertifikat Hak Milik",
          "SHM - Sertifikat Hak Milik",
          "SHM - Sertifikat Hak Milik",
          "SHM - Sertifikat Hak Milik",
          "SHM - Sertifikat Hak Milik",
          "SHM - Sertifikat Hak Milik",
          "SHM - Sertifikat Hak Milik",
          "SHM - Sertifikat Hak Milik",
          "SHM - Sertifikat Hak Milik",
          "SHM - Sertifikat Hak Milik",
          "SHM - Sertifikat Hak Milik",
          "SHM - Sertifikat Hak Milik",
          "SHM - Sertifikat Hak Milik",
          "SHM - Sertifikat Hak Milik",
          "SHM - Sertifikat Hak Milik",
          "SHM - Sertifikat Hak Milik",
          "SHM - Sertifikat Hak Milik",
          "SHM - Sertifikat Hak Milik",
          "SHM - Sertifikat Hak Milik",
          "SHM - Sertifikat Hak Milik",
          "SHM - Sertifikat Hak Milik",
          "SHM - Sertifikat Hak Milik",
          "SHM - Sertifikat Hak Milik",
          "SHM - Sertifikat Hak Milik",
          "SHM - Sertifikat Hak Milik",
          "SHM - Sertifikat Hak Milik",
          "SHM - Sertifikat Hak Milik",
          "SHM - Sertifikat Hak Milik",
          "SHM - Sertifikat Hak Milik",
          "SHM - Sertifikat Hak Milik",
          "SHM - Sertifikat Hak Milik",
          "SHM - Sertifikat Hak Milik",
          "SHM - Sertifikat Hak Milik",
          "SHM - Sertifikat Hak Milik",
          "SHM - Sertifikat Hak Milik",
          "SHM - Sertifikat Hak Milik",
          "SHM - Sertifikat Hak Milik",
          "SHM - Sertifikat Hak Milik",
          "SHM - Sertifikat Hak Milik",
          "SHM - Sertifikat Hak Milik",
          "SHM - Sertifikat Hak Milik",
          "SHM - Sertifikat Hak Milik",
          "SHM - Sertifikat Hak Milik",
          "SHM - Sertifikat Hak Milik",
          "SHM - Sertifikat Hak Milik",
          "SHM - Sertifikat Hak Milik",
          "SHM - Sertifikat Hak Milik",
          "SHM - Sertifikat Hak Milik",
          "SHM - Sertifikat Hak Milik",
          "SHM - Sertifikat Hak Milik",
          "SHM - Sertifikat Hak Milik",
          "SHM - Sertifikat Hak Milik",
          "SHM - Sertifikat Hak Milik",
          "SHM - Sertifikat Hak Milik",
          "SHM - Sertifikat Hak Milik",
          "SHM - Sertifikat Hak Milik",
          "SHM - Sertifikat Hak Milik",
          "SHM - Sertifikat Hak Milik",
          "SHM - Sertifikat Hak Milik",
          "SHM - Sertifikat Hak Milik",
          "SHM - Sertifikat Hak Milik",
          "SHM - Sertifikat Hak Milik",
          "SHM - Sertifikat Hak Milik",
          "SHM - Sertifikat Hak Milik",
          "SHM - Sertifikat Hak Milik",
          "SHM - Sertifikat Hak Milik",
          "SHM - Sertifikat Hak Milik",
          "SHM - Sertifikat Hak Milik",
          "SHM - Sertifikat Hak Milik",
          "SHM - Sertifikat Hak Milik",
          "SHM - Sertifikat Hak Milik",
          "SHM - Sertifikat Hak Milik",
          "SHM - Sertifikat Hak Milik",
          "SHM - Sertifikat Hak Milik",
          "SHM - Sertifikat Hak Milik",
          "SHM - Sertifikat Hak Milik",
          "SHM - Sertifikat Hak Milik",
          "SHM - Sertifikat Hak Milik",
          "SHM - Sertifikat Hak Milik",
          "SHM - Sertifikat Hak Milik",
          "SHM - Sertifikat Hak Milik",
          "SHM - Sertifikat Hak Milik",
          "SHM - Sertifikat Hak Milik",
          "SHM - Sertifikat Hak Milik",
          "SHM - Sertifikat Hak Milik",
          "SHM - Sertifikat Hak Milik",
          "SHM - Sertifikat Hak Milik",
          "SHM - Sertifikat Hak Milik",
          "SHM - Sertifikat Hak Milik",
          "SHM - Sertifikat Hak Milik",
          "SHM - Sertifikat Hak Milik",
          "SHM - Sertifikat Hak Milik",
          "SHM - Sertifikat Hak Milik",
          "SHM - Sertifikat Hak Milik",
          "SHM - Sertifikat Hak Milik",
          "SHM - Sertifikat Hak Milik",
          "SHM - Sertifikat Hak Milik",
          "SHM - Sertifikat Hak Milik",
          "SHM - Sertifikat Hak Milik",
          "SHM - Sertifikat Hak Milik",
          "SHM - Sertifikat Hak Milik",
          "SHM - Sertifikat Hak Milik",
          "SHM - Sertifikat Hak Milik",
          "SHM - Sertifikat Hak Milik",
          "SHM - Sertifikat Hak Milik",
          "SHM - Sertifikat Hak Milik",
          "SHM - Sertifikat Hak Milik",
          "SHM - Sertifikat Hak Milik",
          "SHM - Sertifikat Hak Milik",
          "SHM - Sertifikat Hak Milik",
          "SHM - Sertifikat Hak Milik",
          "SHM - Sertifikat Hak Milik",
          "SHM - Sertifikat Hak Milik",
          "SHM - Sertifikat Hak Milik",
          "SHM - Sertifikat Hak Milik",
          "SHM - Sertifikat Hak Milik",
          "SHM - Sertifikat Hak Milik",
          "SHM - Sertifikat Hak Milik",
          "SHM - Sertifikat Hak Milik",
          "SHM - Sertifikat Hak Milik",
          "SHM - Sertifikat Hak Milik",
          "SHM - Sertifikat Hak Milik",
          "SHM - Sertifikat Hak Milik",
          "SHM - Sertifikat Hak Milik",
          "SHM - Sertifikat Hak Milik",
          "SHM - Sertifikat Hak Milik",
          "SHM - Sertifikat Hak Milik",
          "SHM - Sertifikat Hak Milik",
          "SHM - Sertifikat Hak Milik",
          "SHM - Sertifikat Hak Milik",
          "SHM - Sertifikat Hak Milik",
          "SHM - Sertifikat Hak Milik",
          "SHM - Sertifikat Hak Milik",
          "SHM - Sertifikat Hak Milik",
          "SHM - Sertifikat Hak Milik",
          "SHM - Sertifikat Hak Milik",
          "SHM - Sertifikat Hak Milik",
          "SHM - Sertifikat Hak Milik",
          "SHM - Sertifikat Hak Milik",
          "SHM - Sertifikat Hak Milik",
          "SHM - Sertifikat Hak Milik",
          "SHM - Sertifikat Hak Milik",
          "SHM - Sertifikat Hak Milik",
          "SHM - Sertifikat Hak Milik",
          "SHM - Sertifikat Hak Milik",
          "SHM - Sertifikat Hak Milik",
          "SHM - Sertifikat Hak Milik",
          "SHM - Sertifikat Hak Milik",
          "SHM - Sertifikat Hak Milik",
          "SHM - Sertifikat Hak Milik",
          "SHM - Sertifikat Hak Milik",
          "SHM - Sertifikat Hak Milik",
          "SHM - Sertifikat Hak Milik",
          "SHM - Sertifikat Hak Milik",
          "SHM - Sertifikat Hak Milik",
          "SHM - Sertifikat Hak Milik",
          "SHM - Sertifikat Hak Milik",
          "SHM - Sertifikat Hak Milik",
          "SHM - Sertifikat Hak Milik",
          "SHM - Sertifikat Hak Milik",
          "SHM - Sertifikat Hak Milik",
          "SHM - Sertifikat Hak Milik",
          "SHM - Sertifikat Hak Milik",
          "SHM - Sertifikat Hak Milik",
          "SHM - Sertifikat Hak Milik",
          "SHM - Sertifikat Hak Milik",
          "SHM - Sertifikat Hak Milik",
          "SHM - Sertifikat Hak Milik",
          "SHM - Sertifikat Hak Milik",
          "SHM - Sertifikat Hak Milik",
          "SHM - Sertifikat Hak Milik",
          "SHM - Sertifikat Hak Milik",
          "SHM - Sertifikat Hak Milik",
          "SHM - Sertifikat Hak Milik",
          "SHM - Sertifikat Hak Milik",
          "SHM - Sertifikat Hak Milik",
          "SHM - Sertifikat Hak Milik",
          "SHM - Sertifikat Hak Milik",
          "SHM - Sertifikat Hak Milik",
          "SHM - Sertifikat Hak Milik",
          "SHM - Sertifikat Hak Milik",
          "SHM - Sertifikat Hak Milik",
          "SHM - Sertifikat Hak Milik",
          "SHM - Sertifikat Hak Milik",
          "SHM - Sertifikat Hak Milik",
          "SHM - Sertifikat Hak Milik",
          "SHM - Sertifikat Hak Milik",
          "SHM - Sertifikat Hak Milik",
          "SHM - Sertifikat Hak Milik",
          "SHM - Sertifikat Hak Milik",
          "SHM - Sertifikat Hak Milik",
          "SHM - Sertifikat Hak Milik",
          "SHM - Sertifikat Hak Milik",
          "SHM - Sertifikat Hak Milik",
          "SHM - Sertifikat Hak Milik",
          "SHM - Sertifikat Hak Milik",
          "SHM - Sertifikat Hak Milik",
          "SHM - Sertifikat Hak Milik",
          "SHM - Sertifikat Hak Milik",
          "SHM - Sertifikat Hak Milik",
          "SHM - Sertifikat Hak Milik",
          "SHM - Sertifikat Hak Milik",
          "SHM - Sertifikat Hak Milik",
          "SHM - Sertifikat Hak Milik",
          "SHM - Sertifikat Hak Milik",
          "SHM - Sertifikat Hak Milik",
          "SHM - Sertifikat Hak Milik",
          "SHM - Sertifikat Hak Milik",
          "SHM - Sertifikat Hak Milik",
          "SHM - Sertifikat Hak Milik",
          "SHM - Sertifikat Hak Milik",
          "SHM - Sertifikat Hak Milik",
          "SHM - Sertifikat Hak Milik",
          "SHM - Sertifikat Hak Milik",
          "SHM - Sertifikat Hak Milik",
          "SHM - Sertifikat Hak Milik",
          "SHM - Sertifikat Hak Milik",
          "SHM - Sertifikat Hak Milik",
          "SHM - Sertifikat Hak Milik",
          "SHM - Sertifikat Hak Milik",
          "SHM - Sertifikat Hak Milik",
          "SHM - Sertifikat Hak Milik",
          "SHM - Sertifikat Hak Milik",
          "SHM - Sertifikat Hak Milik",
          "SHM - Sertifikat Hak Milik",
          "SHM - Sertifikat Hak Milik",
          "SHM - Sertifikat Hak Milik",
          "SHM - Sertifikat Hak Milik",
          "SHM - Sertifikat Hak Milik",
          "SHM - Sertifikat Hak Milik",
          "SHM - Sertifikat Hak Milik",
          "SHM - Sertifikat Hak Milik",
          "SHM - Sertifikat Hak Milik",
          "SHM - Sertifikat Hak Milik",
          "SHM - Sertifikat Hak Milik",
          "SHM - Sertifikat Hak Milik",
          "SHM - Sertifikat Hak Milik",
          "SHM - Sertifikat Hak Milik",
          "SHM - Sertifikat Hak Milik",
          "SHM - Sertifikat Hak Milik",
          "SHM - Sertifikat Hak Milik",
          "SHM - Sertifikat Hak Milik",
          "SHM - Sertifikat Hak Milik",
          "SHM - Sertifikat Hak Milik",
          "SHM - Sertifikat Hak Milik",
          "SHM - Sertifikat Hak Milik",
          "SHM - Sertifikat Hak Milik",
          "SHM - Sertifikat Hak Milik",
          "SHM - Sertifikat Hak Milik",
          "SHM - Sertifikat Hak Milik",
          "SHM - Sertifikat Hak Milik",
          "SHM - Sertifikat Hak Milik",
          "SHM - Sertifikat Hak Milik",
          "SHM - Sertifikat Hak Milik",
          "SHM - Sertifikat Hak Milik",
          "SHM - Sertifikat Hak Milik",
          "SHM - Sertifikat Hak Milik",
          "SHM - Sertifikat Hak Milik",
          "SHM - Sertifikat Hak Milik",
          "SHM - Sertifikat Hak Milik",
          "SHM - Sertifikat Hak Milik",
          "SHM - Sertifikat Hak Milik",
          "SHM - Sertifikat Hak Milik",
          "SHM - Sertifikat Hak Milik",
          "SHM - Sertifikat Hak Milik",
          "SHM - Sertifikat Hak Milik",
          "SHM - Sertifikat Hak Milik",
          "SHM - Sertifikat Hak Milik",
          "SHM - Sertifikat Hak Milik",
          "SHM - Sertifikat Hak Milik",
          "SHM - Sertifikat Hak Milik",
          "SHM - Sertifikat Hak Milik",
          "SHM - Sertifikat Hak Milik",
          "SHM - Sertifikat Hak Milik",
          "SHM - Sertifikat Hak Milik",
          "SHM - Sertifikat Hak Milik",
          "SHM - Sertifikat Hak Milik",
          "SHM - Sertifikat Hak Milik",
          "SHM - Sertifikat Hak Milik",
          "SHM - Sertifikat Hak Milik",
          "SHM - Sertifikat Hak Milik",
          "SHM - Sertifikat Hak Milik",
          "SHM - Sertifikat Hak Milik",
          "SHM - Sertifikat Hak Milik",
          "SHM - Sertifikat Hak Milik",
          "SHM - Sertifikat Hak Milik",
          "SHM - Sertifikat Hak Milik",
          "SHM - Sertifikat Hak Milik",
          "SHM - Sertifikat Hak Milik",
          "SHM - Sertifikat Hak Milik",
          "SHM - Sertifikat Hak Milik",
          "SHM - Sertifikat Hak Milik",
          "SHM - Sertifikat Hak Milik",
          "SHM - Sertifikat Hak Milik",
          "SHM - Sertifikat Hak Milik",
          "SHM - Sertifikat Hak Milik",
          "SHM - Sertifikat Hak Milik",
          "SHM - Sertifikat Hak Milik",
          "SHM - Sertifikat Hak Milik",
          "SHM - Sertifikat Hak Milik",
          "SHM - Sertifikat Hak Milik",
          "SHM - Sertifikat Hak Milik",
          "SHM - Sertifikat Hak Milik",
          "SHM - Sertifikat Hak Milik",
          "SHM - Sertifikat Hak Milik",
          "SHM - Sertifikat Hak Milik",
          "SHM - Sertifikat Hak Milik",
          "SHM - Sertifikat Hak Milik",
          "SHM - Sertifikat Hak Milik",
          "SHM - Sertifikat Hak Milik",
          "SHM - Sertifikat Hak Milik",
          "SHM - Sertifikat Hak Milik",
          "SHM - Sertifikat Hak Milik",
          "SHM - Sertifikat Hak Milik",
          "SHM - Sertifikat Hak Milik",
          "SHM - Sertifikat Hak Milik",
          "SHM - Sertifikat Hak Milik",
          "SHM - Sertifikat Hak Milik",
          "SHM - Sertifikat Hak Milik",
          "SHM - Sertifikat Hak Milik",
          "SHM - Sertifikat Hak Milik",
          "SHM - Sertifikat Hak Milik",
          "SHM - Sertifikat Hak Milik",
          "SHM - Sertifikat Hak Milik",
          "SHM - Sertifikat Hak Milik",
          "SHM - Sertifikat Hak Milik",
          "SHM - Sertifikat Hak Milik",
          "SHM - Sertifikat Hak Milik",
          "SHM - Sertifikat Hak Milik",
          "SHM - Sertifikat Hak Milik",
          "SHM - Sertifikat Hak Milik",
          "SHM - Sertifikat Hak Milik",
          "SHM - Sertifikat Hak Milik",
          "SHM - Sertifikat Hak Milik",
          "SHM - Sertifikat Hak Milik",
          "SHM - Sertifikat Hak Milik",
          "SHM - Sertifikat Hak Milik",
          "SHM - Sertifikat Hak Milik",
          "SHM - Sertifikat Hak Milik",
          "SHM - Sertifikat Hak Milik",
          "SHM - Sertifikat Hak Milik",
          "SHM - Sertifikat Hak Milik",
          "SHM - Sertifikat Hak Milik",
          "SHM - Sertifikat Hak Milik",
          "SHM - Sertifikat Hak Milik",
          "SHM - Sertifikat Hak Milik",
          "SHM - Sertifikat Hak Milik",
          "SHM - Sertifikat Hak Milik",
          "SHM - Sertifikat Hak Milik",
          "SHM - Sertifikat Hak Milik",
          "SHM - Sertifikat Hak Milik",
          "SHM - Sertifikat Hak Milik",
          "SHM - Sertifikat Hak Milik",
          "SHM - Sertifikat Hak Milik",
          "SHM - Sertifikat Hak Milik",
          "SHM - Sertifikat Hak Milik",
          "SHM - Sertifikat Hak Milik",
          "SHM - Sertifikat Hak Milik",
          "SHM - Sertifikat Hak Milik",
          "SHM - Sertifikat Hak Milik",
          "SHM - Sertifikat Hak Milik",
          "SHM - Sertifikat Hak Milik",
          "SHM - Sertifikat Hak Milik",
          "SHM - Sertifikat Hak Milik",
          "SHM - Sertifikat Hak Milik",
          "SHM - Sertifikat Hak Milik",
          "SHM - Sertifikat Hak Milik",
          "SHM - Sertifikat Hak Milik",
          "SHM - Sertifikat Hak Milik",
          "SHM - Sertifikat Hak Milik",
          "SHM - Sertifikat Hak Milik",
          "SHM - Sertifikat Hak Milik",
          "SHM - Sertifikat Hak Milik",
          "SHM - Sertifikat Hak Milik",
          "SHM - Sertifikat Hak Milik",
          "SHM - Sertifikat Hak Milik",
          "SHM - Sertifikat Hak Milik",
          "SHM - Sertifikat Hak Milik",
          "SHM - Sertifikat Hak Milik",
          "SHM - Sertifikat Hak Milik",
          "SHM - Sertifikat Hak Milik",
          "SHM - Sertifikat Hak Milik",
          "SHM - Sertifikat Hak Milik",
          "SHM - Sertifikat Hak Milik",
          "SHM - Sertifikat Hak Milik",
          "SHM - Sertifikat Hak Milik",
          "SHM - Sertifikat Hak Milik",
          "SHM - Sertifikat Hak Milik",
          "SHM - Sertifikat Hak Milik",
          "SHM - Sertifikat Hak Milik",
          "SHM - Sertifikat Hak Milik",
          "SHM - Sertifikat Hak Milik",
          "SHM - Sertifikat Hak Milik",
          "SHM - Sertifikat Hak Milik",
          "SHM - Sertifikat Hak Milik",
          "SHM - Sertifikat Hak Milik",
          "SHM - Sertifikat Hak Milik",
          "SHM - Sertifikat Hak Milik",
          "SHM - Sertifikat Hak Milik",
          "SHM - Sertifikat Hak Milik",
          "SHM - Sertifikat Hak Milik",
          "SHM - Sertifikat Hak Milik",
          "SHM - Sertifikat Hak Milik",
          "SHM - Sertifikat Hak Milik",
          "SHM - Sertifikat Hak Milik",
          "SHM - Sertifikat Hak Milik",
          "SHM - Sertifikat Hak Milik",
          "SHM - Sertifikat Hak Milik",
          "SHM - Sertifikat Hak Milik",
          "SHM - Sertifikat Hak Milik",
          "SHM - Sertifikat Hak Milik",
          "SHM - Sertifikat Hak Milik",
          "SHM - Sertifikat Hak Milik",
          "SHM - Sertifikat Hak Milik",
          "SHM - Sertifikat Hak Milik",
          "SHM - Sertifikat Hak Milik",
          "SHM - Sertifikat Hak Milik",
          "SHM - Sertifikat Hak Milik",
          "SHM - Sertifikat Hak Milik",
          "SHM - Sertifikat Hak Milik",
          "SHM - Sertifikat Hak Milik",
          "SHM - Sertifikat Hak Milik",
          "SHM - Sertifikat Hak Milik",
          "SHM - Sertifikat Hak Milik",
          "SHM - Sertifikat Hak Milik",
          "SHM - Sertifikat Hak Milik",
          "SHM - Sertifikat Hak Milik",
          "SHM - Sertifikat Hak Milik",
          "SHM - Sertifikat Hak Milik",
          "SHM - Sertifikat Hak Milik",
          "SHM - Sertifikat Hak Milik",
          "SHM - Sertifikat Hak Milik",
          "SHM - Sertifikat Hak Milik",
          "SHM - Sertifikat Hak Milik",
          "SHM - Sertifikat Hak Milik",
          "SHM - Sertifikat Hak Milik",
          "SHM - Sertifikat Hak Milik",
          "SHM - Sertifikat Hak Milik",
          "SHM - Sertifikat Hak Milik",
          "SHM - Sertifikat Hak Milik",
          "SHM - Sertifikat Hak Milik",
          "SHM - Sertifikat Hak Milik",
          "SHM - Sertifikat Hak Milik",
          "SHM - Sertifikat Hak Milik",
          "SHM - Sertifikat Hak Milik",
          "SHM - Sertifikat Hak Milik",
          "SHM - Sertifikat Hak Milik",
          "SHM - Sertifikat Hak Milik",
          "SHM - Sertifikat Hak Milik",
          "SHM - Sertifikat Hak Milik",
          "SHM - Sertifikat Hak Milik",
          "SHM - Sertifikat Hak Milik",
          "SHM - Sertifikat Hak Milik",
          "SHM - Sertifikat Hak Milik",
          "SHM - Sertifikat Hak Milik",
          "SHM - Sertifikat Hak Milik",
          "SHM - Sertifikat Hak Milik",
          "SHM - Sertifikat Hak Milik",
          "SHM - Sertifikat Hak Milik",
          "SHM - Sertifikat Hak Milik",
          "SHM - Sertifikat Hak Milik",
          "SHM - Sertifikat Hak Milik",
          "SHM - Sertifikat Hak Milik",
          "SHM - Sertifikat Hak Milik",
          "SHM - Sertifikat Hak Milik",
          "SHM - Sertifikat Hak Milik",
          "SHM - Sertifikat Hak Milik",
          "SHM - Sertifikat Hak Milik",
          "SHM - Sertifikat Hak Milik",
          "SHM - Sertifikat Hak Milik",
          "SHM - Sertifikat Hak Milik",
          "SHM - Sertifikat Hak Milik",
          "SHM - Sertifikat Hak Milik",
          "SHM - Sertifikat Hak Milik",
          "SHM - Sertifikat Hak Milik",
          "SHM - Sertifikat Hak Milik",
          "SHM - Sertifikat Hak Milik",
          "SHM - Sertifikat Hak Milik",
          "SHM - Sertifikat Hak Milik",
          "SHM - Sertifikat Hak Milik",
          "SHM - Sertifikat Hak Milik",
          "SHM - Sertifikat Hak Milik",
          "SHM - Sertifikat Hak Milik",
          "SHM - Sertifikat Hak Milik",
          "SHM - Sertifikat Hak Milik",
          "SHM - Sertifikat Hak Milik",
          "SHM - Sertifikat Hak Milik",
          "SHM - Sertifikat Hak Milik",
          "SHM - Sertifikat Hak Milik",
          "SHM - Sertifikat Hak Milik",
          "SHM - Sertifikat Hak Milik",
          "SHM - Sertifikat Hak Milik",
          "SHM - Sertifikat Hak Milik",
          "SHM - Sertifikat Hak Milik",
          "SHM - Sertifikat Hak Milik",
          "SHM - Sertifikat Hak Milik",
          "SHM - Sertifikat Hak Milik",
          "SHM - Sertifikat Hak Milik",
          "SHM - Sertifikat Hak Milik",
          "SHM - Sertifikat Hak Milik",
          "SHM - Sertifikat Hak Milik",
          "SHM - Sertifikat Hak Milik",
          "SHM - Sertifikat Hak Milik",
          "SHM - Sertifikat Hak Milik",
          "SHM - Sertifikat Hak Milik",
          "SHM - Sertifikat Hak Milik",
          "SHM - Sertifikat Hak Milik",
          "SHM - Sertifikat Hak Milik",
          "SHM - Sertifikat Hak Milik",
          "SHM - Sertifikat Hak Milik",
          "SHM - Sertifikat Hak Milik",
          "SHM - Sertifikat Hak Milik",
          "SHM - Sertifikat Hak Milik",
          "SHM - Sertifikat Hak Milik",
          "SHM - Sertifikat Hak Milik",
          "SHM - Sertifikat Hak Milik",
          "SHM - Sertifikat Hak Milik",
          "SHM - Sertifikat Hak Milik",
          "SHM - Sertifikat Hak Milik",
          "SHM - Sertifikat Hak Milik",
          "SHM - Sertifikat Hak Milik",
          "SHM - Sertifikat Hak Milik",
          "SHM - Sertifikat Hak Milik",
          "SHM - Sertifikat Hak Milik",
          "SHM - Sertifikat Hak Milik",
          "SHM - Sertifikat Hak Milik",
          "SHM - Sertifikat Hak Milik",
          "SHM - Sertifikat Hak Milik",
          "SHM - Sertifikat Hak Milik",
          "SHM - Sertifikat Hak Milik",
          "SHM - Sertifikat Hak Milik",
          "SHM - Sertifikat Hak Milik",
          "SHM - Sertifikat Hak Milik",
          "SHM - Sertifikat Hak Milik",
          "SHM - Sertifikat Hak Milik",
          "SHM - Sertifikat Hak Milik",
          "SHM - Sertifikat Hak Milik",
          "SHM - Sertifikat Hak Milik",
          "SHM - Sertifikat Hak Milik",
          "SHM - Sertifikat Hak Milik",
          "SHM - Sertifikat Hak Milik",
          "SHM - Sertifikat Hak Milik",
          "SHM - Sertifikat Hak Milik",
          "SHM - Sertifikat Hak Milik",
          "SHM - Sertifikat Hak Milik",
          "SHM - Sertifikat Hak Milik",
          "SHM - Sertifikat Hak Milik",
          "SHM - Sertifikat Hak Milik",
          "SHM - Sertifikat Hak Milik",
          "SHM - Sertifikat Hak Milik",
          "SHM - Sertifikat Hak Milik",
          "SHM - Sertifikat Hak Milik",
          "SHM - Sertifikat Hak Milik",
          "SHM - Sertifikat Hak Milik",
          "SHM - Sertifikat Hak Milik",
          "SHM - Sertifikat Hak Milik",
          "SHM - Sertifikat Hak Milik",
          "SHM - Sertifikat Hak Milik",
          "SHM - Sertifikat Hak Milik",
          "SHM - Sertifikat Hak Milik",
          "SHM - Sertifikat Hak Milik",
          "SHM - Sertifikat Hak Milik",
          "SHM - Sertifikat Hak Milik",
          "SHM - Sertifikat Hak Milik",
          "SHM - Sertifikat Hak Milik",
          "SHM - Sertifikat Hak Milik",
          "SHM - Sertifikat Hak Milik",
          "SHM - Sertifikat Hak Milik",
          "SHM - Sertifikat Hak Milik",
          "SHM - Sertifikat Hak Milik",
          "SHM - Sertifikat Hak Milik",
          "SHM - Sertifikat Hak Milik",
          "SHM - Sertifikat Hak Milik",
          "SHM - Sertifikat Hak Milik",
          "SHM - Sertifikat Hak Milik",
          "SHM - Sertifikat Hak Milik",
          "SHM - Sertifikat Hak Milik",
          "SHM - Sertifikat Hak Milik",
          "SHM - Sertifikat Hak Milik",
          "SHM - Sertifikat Hak Milik",
          "SHM - Sertifikat Hak Milik",
          "SHM - Sertifikat Hak Milik",
          "SHM - Sertifikat Hak Milik",
          "SHM - Sertifikat Hak Milik",
          "SHM - Sertifikat Hak Milik",
          "SHM - Sertifikat Hak Milik",
          "SHM - Sertifikat Hak Milik",
          "SHM - Sertifikat Hak Milik",
          "SHM - Sertifikat Hak Milik",
          "SHM - Sertifikat Hak Milik",
          "SHM - Sertifikat Hak Milik",
          "SHM - Sertifikat Hak Milik",
          "SHM - Sertifikat Hak Milik",
          "SHM - Sertifikat Hak Milik",
          "SHM - Sertifikat Hak Milik",
          "SHM - Sertifikat Hak Milik",
          "SHM - Sertifikat Hak Milik",
          "SHM - Sertifikat Hak Milik",
          "SHM - Sertifikat Hak Milik",
          "SHM - Sertifikat Hak Milik",
          "SHM - Sertifikat Hak Milik",
          "SHM - Sertifikat Hak Milik",
          "SHM - Sertifikat Hak Milik",
          "SHM - Sertifikat Hak Milik",
          "SHM - Sertifikat Hak Milik",
          "SHM - Sertifikat Hak Milik",
          "SHM - Sertifikat Hak Milik",
          "SHM - Sertifikat Hak Milik",
          "SHM - Sertifikat Hak Milik",
          "SHM - Sertifikat Hak Milik",
          "SHM - Sertifikat Hak Milik",
          "SHM - Sertifikat Hak Milik",
          "SHM - Sertifikat Hak Milik",
          "SHM - Sertifikat Hak Milik",
          "SHM - Sertifikat Hak Milik",
          "SHM - Sertifikat Hak Milik",
          "SHM - Sertifikat Hak Milik",
          "SHM - Sertifikat Hak Milik",
          "SHM - Sertifikat Hak Milik",
          "SHM - Sertifikat Hak Milik",
          "SHM - Sertifikat Hak Milik",
          "SHM - Sertifikat Hak Milik",
          "SHM - Sertifikat Hak Milik",
          "SHM - Sertifikat Hak Milik",
          "SHM - Sertifikat Hak Milik",
          "SHM - Sertifikat Hak Milik",
          "SHM - Sertifikat Hak Milik",
          "SHM - Sertifikat Hak Milik",
          "SHM - Sertifikat Hak Milik",
          "SHM - Sertifikat Hak Milik",
          "SHM - Sertifikat Hak Milik",
          "SHM - Sertifikat Hak Milik",
          "SHM - Sertifikat Hak Milik",
          "SHM - Sertifikat Hak Milik",
          "SHM - Sertifikat Hak Milik",
          "SHM - Sertifikat Hak Milik",
          "SHM - Sertifikat Hak Milik",
          "SHM - Sertifikat Hak Milik",
          "SHM - Sertifikat Hak Milik",
          "SHM - Sertifikat Hak Milik",
          "SHM - Sertifikat Hak Milik",
          "SHM - Sertifikat Hak Milik",
          "SHM - Sertifikat Hak Milik",
          "SHM - Sertifikat Hak Milik",
          "SHM - Sertifikat Hak Milik",
          "SHM - Sertifikat Hak Milik",
          "SHM - Sertifikat Hak Milik",
          "SHM - Sertifikat Hak Milik",
          "SHM - Sertifikat Hak Milik",
          "SHM - Sertifikat Hak Milik",
          "SHM - Sertifikat Hak Milik",
          "SHM - Sertifikat Hak Milik",
          "SHM - Sertifikat Hak Milik",
          "SHM - Sertifikat Hak Milik",
          "SHM - Sertifikat Hak Milik",
          "SHM - Sertifikat Hak Milik",
          "SHM - Sertifikat Hak Milik",
          "SHM - Sertifikat Hak Milik",
          "SHM - Sertifikat Hak Milik",
          "SHM - Sertifikat Hak Milik",
          "SHM - Sertifikat Hak Milik",
          "SHM - Sertifikat Hak Milik",
          "SHM - Sertifikat Hak Milik",
          "SHM - Sertifikat Hak Milik",
          "SHM - Sertifikat Hak Milik",
          "SHM - Sertifikat Hak Milik",
          "SHM - Sertifikat Hak Milik",
          "SHM - Sertifikat Hak Milik",
          "SHM - Sertifikat Hak Milik",
          "SHM - Sertifikat Hak Milik",
          "SHM - Sertifikat Hak Milik",
          "SHM - Sertifikat Hak Milik",
          "SHM - Sertifikat Hak Milik",
          "SHM - Sertifikat Hak Milik",
          "SHM - Sertifikat Hak Milik",
          "SHM - Sertifikat Hak Milik",
          "SHM - Sertifikat Hak Milik",
          "SHM - Sertifikat Hak Milik",
          "SHM - Sertifikat Hak Milik",
          "SHM - Sertifikat Hak Milik",
          "SHM - Sertifikat Hak Milik",
          "SHM - Sertifikat Hak Milik",
          "SHM - Sertifikat Hak Milik",
          "SHM - Sertifikat Hak Milik",
          "SHM - Sertifikat Hak Milik",
          "SHM - Sertifikat Hak Milik",
          "SHM - Sertifikat Hak Milik",
          "SHM - Sertifikat Hak Milik",
          "SHM - Sertifikat Hak Milik",
          "SHM - Sertifikat Hak Milik",
          "SHM - Sertifikat Hak Milik",
          "SHM - Sertifikat Hak Milik",
          "SHM - Sertifikat Hak Milik",
          "SHM - Sertifikat Hak Milik",
          "SHM - Sertifikat Hak Milik",
          "SHM - Sertifikat Hak Milik",
          "SHM - Sertifikat Hak Milik",
          "SHM - Sertifikat Hak Milik",
          "SHM - Sertifikat Hak Milik",
          "SHM - Sertifikat Hak Milik",
          "SHM - Sertifikat Hak Milik",
          "SHM - Sertifikat Hak Milik",
          "SHM - Sertifikat Hak Milik",
          "SHM - Sertifikat Hak Milik",
          "SHM - Sertifikat Hak Milik",
          "SHM - Sertifikat Hak Milik",
          "SHM - Sertifikat Hak Milik",
          "SHM - Sertifikat Hak Milik",
          "SHM - Sertifikat Hak Milik",
          "SHM - Sertifikat Hak Milik",
          "SHM - Sertifikat Hak Milik",
          "SHM - Sertifikat Hak Milik",
          "SHM - Sertifikat Hak Milik",
          "SHM - Sertifikat Hak Milik",
          "SHM - Sertifikat Hak Milik",
          "SHM - Sertifikat Hak Milik",
          "SHM - Sertifikat Hak Milik",
          "SHM - Sertifikat Hak Milik",
          "SHM - Sertifikat Hak Milik",
          "SHM - Sertifikat Hak Milik",
          "SHM - Sertifikat Hak Milik",
          "SHM - Sertifikat Hak Milik",
          "SHM - Sertifikat Hak Milik",
          "SHM - Sertifikat Hak Milik",
          "SHM - Sertifikat Hak Milik",
          "SHM - Sertifikat Hak Milik",
          "SHM - Sertifikat Hak Milik",
          "SHM - Sertifikat Hak Milik",
          "SHM - Sertifikat Hak Milik",
          "SHM - Sertifikat Hak Milik",
          "SHM - Sertifikat Hak Milik",
          "SHM - Sertifikat Hak Milik",
          "SHM - Sertifikat Hak Milik",
          "SHM - Sertifikat Hak Milik",
          "SHM - Sertifikat Hak Milik",
          "SHM - Sertifikat Hak Milik",
          "SHM - Sertifikat Hak Milik",
          "SHM - Sertifikat Hak Milik",
          "SHM - Sertifikat Hak Milik",
          "SHM - Sertifikat Hak Milik",
          "SHM - Sertifikat Hak Milik",
          "SHM - Sertifikat Hak Milik",
          "SHM - Sertifikat Hak Milik",
          "SHM - Sertifikat Hak Milik",
          "SHM - Sertifikat Hak Milik",
          "SHM - Sertifikat Hak Milik",
          "SHM - Sertifikat Hak Milik",
          "SHM - Sertifikat Hak Milik",
          "SHM - Sertifikat Hak Milik",
          "SHM - Sertifikat Hak Milik",
          "SHM - Sertifikat Hak Milik",
          "SHM - Sertifikat Hak Milik",
          "SHM - Sertifikat Hak Milik",
          "SHM - Sertifikat Hak Milik",
          "SHM - Sertifikat Hak Milik",
          "SHM - Sertifikat Hak Milik",
          "SHM - Sertifikat Hak Milik",
          "SHM - Sertifikat Hak Milik",
          "SHM - Sertifikat Hak Milik",
          "SHM - Sertifikat Hak Milik",
          "SHM - Sertifikat Hak Milik",
          "SHM - Sertifikat Hak Milik",
          "SHM - Sertifikat Hak Milik",
          "SHM - Sertifikat Hak Milik",
          "SHM - Sertifikat Hak Milik",
          "SHM - Sertifikat Hak Milik",
          "SHM - Sertifikat Hak Milik",
          "SHM - Sertifikat Hak Milik",
          "SHM - Sertifikat Hak Milik",
          "SHM - Sertifikat Hak Milik",
          "SHM - Sertifikat Hak Milik",
          "SHM - Sertifikat Hak Milik",
          "SHM - Sertifikat Hak Milik",
          "SHM - Sertifikat Hak Milik",
          "SHM - Sertifikat Hak Milik",
          "SHM - Sertifikat Hak Milik",
          "SHM - Sertifikat Hak Milik",
          "SHM - Sertifikat Hak Milik",
          "SHM - Sertifikat Hak Milik",
          "SHM - Sertifikat Hak Milik",
          "SHM - Sertifikat Hak Milik",
          "SHM - Sertifikat Hak Milik",
          "SHM - Sertifikat Hak Milik",
          "SHM - Sertifikat Hak Milik",
          "SHM - Sertifikat Hak Milik",
          "SHM - Sertifikat Hak Milik",
          "SHM - Sertifikat Hak Milik",
          "SHM - Sertifikat Hak Milik",
          "SHM - Sertifikat Hak Milik",
          "SHM - Sertifikat Hak Milik",
          "SHM - Sertifikat Hak Milik",
          "SHM - Sertifikat Hak Milik",
          "SHM - Sertifikat Hak Milik",
          "SHM - Sertifikat Hak Milik",
          "SHM - Sertifikat Hak Milik",
          "SHM - Sertifikat Hak Milik",
          "SHM - Sertifikat Hak Milik",
          "SHM - Sertifikat Hak Milik",
          "SHM - Sertifikat Hak Milik",
          "SHM - Sertifikat Hak Milik",
          "SHM - Sertifikat Hak Milik",
          "SHM - Sertifikat Hak Milik",
          "SHM - Sertifikat Hak Milik",
          "SHM - Sertifikat Hak Milik",
          "SHM - Sertifikat Hak Milik",
          "SHM - Sertifikat Hak Milik",
          "SHM - Sertifikat Hak Milik",
          "SHM - Sertifikat Hak Milik",
          "SHM - Sertifikat Hak Milik",
          "SHM - Sertifikat Hak Milik",
          "SHM - Sertifikat Hak Milik",
          "SHM - Sertifikat Hak Milik",
          "SHM - Sertifikat Hak Milik",
          "SHM - Sertifikat Hak Milik",
          "SHM - Sertifikat Hak Milik",
          "SHM - Sertifikat Hak Milik",
          "SHM - Sertifikat Hak Milik",
          "SHM - Sertifikat Hak Milik",
          "SHM - Sertifikat Hak Milik",
          "SHM - Sertifikat Hak Milik",
          "SHM - Sertifikat Hak Milik",
          "SHM - Sertifikat Hak Milik",
          "SHM - Sertifikat Hak Milik",
          "SHM - Sertifikat Hak Milik",
          "SHM - Sertifikat Hak Milik",
          "SHM - Sertifikat Hak Milik",
          "SHM - Sertifikat Hak Milik",
          "SHM - Sertifikat Hak Milik",
          "SHM - Sertifikat Hak Milik",
          "SHM - Sertifikat Hak Milik",
          "SHM - Sertifikat Hak Milik",
          "SHM - Sertifikat Hak Milik",
          "SHM - Sertifikat Hak Milik",
          "SHM - Sertifikat Hak Milik",
          "SHM - Sertifikat Hak Milik",
          "SHM - Sertifikat Hak Milik",
          "SHM - Sertifikat Hak Milik",
          "SHM - Sertifikat Hak Milik",
          "SHM - Sertifikat Hak Milik",
          "SHM - Sertifikat Hak Milik",
          "SHM - Sertifikat Hak Milik",
          "SHM - Sertifikat Hak Milik",
          "SHM - Sertifikat Hak Milik",
          "SHM - Sertifikat Hak Milik",
          "SHM - Sertifikat Hak Milik",
          "SHM - Sertifikat Hak Milik",
          "SHM - Sertifikat Hak Milik",
          "SHM - Sertifikat Hak Milik",
          "SHM - Sertifikat Hak Milik",
          "SHM - Sertifikat Hak Milik",
          "SHM - Sertifikat Hak Milik",
          "SHM - Sertifikat Hak Milik",
          "SHM - Sertifikat Hak Milik",
          "SHM - Sertifikat Hak Milik",
          "SHM - Sertifikat Hak Milik",
          "SHM - Sertifikat Hak Milik",
          "SHM - Sertifikat Hak Milik",
          "SHM - Sertifikat Hak Milik",
          "SHM - Sertifikat Hak Milik",
          "SHM - Sertifikat Hak Milik",
          "SHM - Sertifikat Hak Milik",
          "SHM - Sertifikat Hak Milik",
          "SHM - Sertifikat Hak Milik",
          "SHM - Sertifikat Hak Milik",
          "SHM - Sertifikat Hak Milik",
          "SHM - Sertifikat Hak Milik",
          "SHM - Sertifikat Hak Milik",
          "SHM - Sertifikat Hak Milik",
          "SHM - Sertifikat Hak Milik",
          "SHM - Sertifikat Hak Milik",
          "SHM - Sertifikat Hak Milik",
          "SHM - Sertifikat Hak Milik",
          "SHM - Sertifikat Hak Milik",
          "SHM - Sertifikat Hak Milik",
          "SHM - Sertifikat Hak Milik",
          "SHM - Sertifikat Hak Milik",
          "SHM - Sertifikat Hak Milik",
          "SHM - Sertifikat Hak Milik",
          "SHM - Sertifikat Hak Milik",
          "SHM - Sertifikat Hak Milik",
          "SHM - Sertifikat Hak Milik",
          "SHM - Sertifikat Hak Milik",
          "SHM - Sertifikat Hak Milik",
          "SHM - Sertifikat Hak Milik",
          "SHM - Sertifikat Hak Milik",
          "SHM - Sertifikat Hak Milik",
          "SHM - Sertifikat Hak Milik",
          "SHM - Sertifikat Hak Milik",
          "SHM - Sertifikat Hak Milik",
          "SHM - Sertifikat Hak Milik",
          "SHM - Sertifikat Hak Milik",
          "SHM - Sertifikat Hak Milik",
          "SHM - Sertifikat Hak Milik",
          "SHM - Sertifikat Hak Milik",
          "SHM - Sertifikat Hak Milik",
          "SHM - Sertifikat Hak Milik",
          "SHM - Sertifikat Hak Milik",
          "SHM - Sertifikat Hak Milik",
          "SHM - Sertifikat Hak Milik",
          "SHM - Sertifikat Hak Milik",
          "SHM - Sertifikat Hak Milik",
          "SHM - Sertifikat Hak Milik",
          "SHM - Sertifikat Hak Milik",
          "SHM - Sertifikat Hak Milik",
          "SHM - Sertifikat Hak Milik",
          "SHM - Sertifikat Hak Milik",
          "SHM - Sertifikat Hak Milik",
          "SHM - Sertifikat Hak Milik",
          "SHM - Sertifikat Hak Milik",
          "SHM - Sertifikat Hak Milik",
          "SHM - Sertifikat Hak Milik",
          "SHM - Sertifikat Hak Milik",
          "SHM - Sertifikat Hak Milik",
          "SHM - Sertifikat Hak Milik",
          "SHM - Sertifikat Hak Milik",
          "SHM - Sertifikat Hak Milik",
          "SHM - Sertifikat Hak Milik",
          "SHM - Sertifikat Hak Milik",
          "SHM - Sertifikat Hak Milik",
          "SHM - Sertifikat Hak Milik",
          "SHM - Sertifikat Hak Milik",
          "SHM - Sertifikat Hak Milik",
          "SHM - Sertifikat Hak Milik",
          "SHM - Sertifikat Hak Milik",
          "SHM - Sertifikat Hak Milik",
          "SHM - Sertifikat Hak Milik",
          "SHM - Sertifikat Hak Milik",
          "SHM - Sertifikat Hak Milik",
          "SHM - Sertifikat Hak Milik",
          "SHM - Sertifikat Hak Milik",
          "SHM - Sertifikat Hak Milik",
          "SHM - Sertifikat Hak Milik",
          "SHM - Sertifikat Hak Milik",
          "SHM - Sertifikat Hak Milik",
          "SHM - Sertifikat Hak Milik",
          "SHM - Sertifikat Hak Milik",
          "SHM - Sertifikat Hak Milik",
          "SHM - Sertifikat Hak Milik",
          "SHM - Sertifikat Hak Milik",
          "SHM - Sertifikat Hak Milik",
          "SHM - Sertifikat Hak Milik",
          "SHM - Sertifikat Hak Milik",
          "SHM - Sertifikat Hak Milik",
          "SHM - Sertifikat Hak Milik",
          "SHM - Sertifikat Hak Milik",
          "SHM - Sertifikat Hak Milik",
          "SHM - Sertifikat Hak Milik",
          "SHM - Sertifikat Hak Milik",
          "SHM - Sertifikat Hak Milik",
          "SHM - Sertifikat Hak Milik",
          "SHM - Sertifikat Hak Milik",
          "SHM - Sertifikat Hak Milik",
          "SHM - Sertifikat Hak Milik",
          "SHM - Sertifikat Hak Milik",
          "SHM - Sertifikat Hak Milik",
          "SHM - Sertifikat Hak Milik",
          "SHM - Sertifikat Hak Milik",
          "SHM - Sertifikat Hak Milik",
          "SHM - Sertifikat Hak Milik",
          "SHM - Sertifikat Hak Milik",
          "SHM - Sertifikat Hak Milik",
          "SHM - Sertifikat Hak Milik",
          "SHM - Sertifikat Hak Milik",
          "SHM - Sertifikat Hak Milik",
          "SHM - Sertifikat Hak Milik",
          "SHM - Sertifikat Hak Milik",
          "SHM - Sertifikat Hak Milik",
          "SHM - Sertifikat Hak Milik",
          "SHM - Sertifikat Hak Milik",
          "SHM - Sertifikat Hak Milik",
          "SHM - Sertifikat Hak Milik",
          "SHM - Sertifikat Hak Milik",
          "SHM - Sertifikat Hak Milik",
          "SHM - Sertifikat Hak Milik",
          "SHM - Sertifikat Hak Milik",
          "SHM - Sertifikat Hak Milik",
          "SHM - Sertifikat Hak Milik",
          "SHM - Sertifikat Hak Milik",
          "SHM - Sertifikat Hak Milik",
          "SHM - Sertifikat Hak Milik",
          "SHM - Sertifikat Hak Milik",
          "SHM - Sertifikat Hak Milik",
          "SHM - Sertifikat Hak Milik",
          "SHM - Sertifikat Hak Milik",
          "SHM - Sertifikat Hak Milik",
          "SHM - Sertifikat Hak Milik",
          "SHM - Sertifikat Hak Milik",
          "SHM - Sertifikat Hak Milik",
          "SHM - Sertifikat Hak Milik",
          "SHM - Sertifikat Hak Milik",
          "SHM - Sertifikat Hak Milik",
          "SHM - Sertifikat Hak Milik",
          "SHM - Sertifikat Hak Milik",
          "SHM - Sertifikat Hak Milik",
          "SHM - Sertifikat Hak Milik",
          "SHM - Sertifikat Hak Milik",
          "SHM - Sertifikat Hak Milik",
          "SHM - Sertifikat Hak Milik",
          "SHM - Sertifikat Hak Milik",
          "SHM - Sertifikat Hak Milik",
          "SHM - Sertifikat Hak Milik",
          "SHM - Sertifikat Hak Milik",
          "SHM - Sertifikat Hak Milik",
          "SHM - Sertifikat Hak Milik",
          "SHM - Sertifikat Hak Milik",
          "SHM - Sertifikat Hak Milik",
          "SHM - Sertifikat Hak Milik",
          "SHM - Sertifikat Hak Milik",
          "SHM - Sertifikat Hak Milik",
          "SHM - Sertifikat Hak Milik",
          "SHM - Sertifikat Hak Milik",
          "SHM - Sertifikat Hak Milik",
          "SHM - Sertifikat Hak Milik",
          "SHM - Sertifikat Hak Milik",
          "SHM - Sertifikat Hak Milik",
          "SHM - Sertifikat Hak Milik",
          "SHM - Sertifikat Hak Milik",
          "SHM - Sertifikat Hak Milik",
          "SHM - Sertifikat Hak Milik",
          "SHM - Sertifikat Hak Milik",
          "SHM - Sertifikat Hak Milik",
          "SHM - Sertifikat Hak Milik",
          "SHM - Sertifikat Hak Milik",
          "SHM - Sertifikat Hak Milik",
          "SHM - Sertifikat Hak Milik",
          "SHM - Sertifikat Hak Milik",
          "SHM - Sertifikat Hak Milik",
          "SHM - Sertifikat Hak Milik",
          "SHM - Sertifikat Hak Milik",
          "SHM - Sertifikat Hak Milik",
          "SHM - Sertifikat Hak Milik",
          "SHM - Sertifikat Hak Milik",
          "SHM - Sertifikat Hak Milik",
          "SHM - Sertifikat Hak Milik",
          "SHM - Sertifikat Hak Milik",
          "SHM - Sertifikat Hak Milik",
          "SHM - Sertifikat Hak Milik",
          "SHM - Sertifikat Hak Milik",
          "SHM - Sertifikat Hak Milik",
          "SHM - Sertifikat Hak Milik",
          "SHM - Sertifikat Hak Milik",
          "SHM - Sertifikat Hak Milik",
          "SHM - Sertifikat Hak Milik",
          "SHM - Sertifikat Hak Milik",
          "SHM - Sertifikat Hak Milik",
          "SHM - Sertifikat Hak Milik",
          "SHM - Sertifikat Hak Milik",
          "SHM - Sertifikat Hak Milik",
          "SHM - Sertifikat Hak Milik",
          "SHM - Sertifikat Hak Milik",
          "SHM - Sertifikat Hak Milik",
          "SHM - Sertifikat Hak Milik",
          "SHM - Sertifikat Hak Milik",
          "SHM - Sertifikat Hak Milik",
          "SHM - Sertifikat Hak Milik",
          "SHM - Sertifikat Hak Milik",
          "SHM - Sertifikat Hak Milik",
          "SHM - Sertifikat Hak Milik",
          "SHM - Sertifikat Hak Milik",
          "SHM - Sertifikat Hak Milik",
          "SHM - Sertifikat Hak Milik",
          "SHM - Sertifikat Hak Milik",
          "SHM - Sertifikat Hak Milik",
          "SHM - Sertifikat Hak Milik",
          "SHM - Sertifikat Hak Milik",
          "SHM - Sertifikat Hak Milik",
          "SHM - Sertifikat Hak Milik",
          "SHM - Sertifikat Hak Milik",
          "SHM - Sertifikat Hak Milik",
          "SHM - Sertifikat Hak Milik",
          "SHM - Sertifikat Hak Milik",
          "SHM - Sertifikat Hak Milik",
          "SHM - Sertifikat Hak Milik",
          "SHM - Sertifikat Hak Milik",
          "SHM - Sertifikat Hak Milik",
          "SHM - Sertifikat Hak Milik",
          "SHM - Sertifikat Hak Milik",
          "SHM - Sertifikat Hak Milik",
          "SHM - Sertifikat Hak Milik",
          "SHM - Sertifikat Hak Milik",
          "SHM - Sertifikat Hak Milik",
          "SHM - Sertifikat Hak Milik",
          "SHM - Sertifikat Hak Milik",
          "SHM - Sertifikat Hak Milik",
          "SHM - Sertifikat Hak Milik",
          "SHM - Sertifikat Hak Milik",
          "SHM - Sertifikat Hak Milik",
          "SHM - Sertifikat Hak Milik",
          "SHM - Sertifikat Hak Milik",
          "SHM - Sertifikat Hak Milik",
          "SHM - Sertifikat Hak Milik",
          "SHM - Sertifikat Hak Milik",
          "SHM - Sertifikat Hak Milik",
          "SHM - Sertifikat Hak Milik",
          "SHM - Sertifikat Hak Milik",
          "SHM - Sertifikat Hak Milik",
          "SHM - Sertifikat Hak Milik",
          "SHM - Sertifikat Hak Milik",
          "SHM - Sertifikat Hak Milik",
          "SHM - Sertifikat Hak Milik",
          "SHM - Sertifikat Hak Milik",
          "SHM - Sertifikat Hak Milik",
          "SHM - Sertifikat Hak Milik",
          "SHM - Sertifikat Hak Milik",
          "SHM - Sertifikat Hak Milik",
          "SHM - Sertifikat Hak Milik",
          "SHM - Sertifikat Hak Milik",
          "SHM - Sertifikat Hak Milik",
          "SHM - Sertifikat Hak Milik",
          "SHM - Sertifikat Hak Milik",
          "SHM - Sertifikat Hak Milik",
          "SHM - Sertifikat Hak Milik",
          "SHM - Sertifikat Hak Milik",
          "SHM - Sertifikat Hak Milik",
          "SHM - Sertifikat Hak Milik",
          "SHM - Sertifikat Hak Milik",
          "SHM - Sertifikat Hak Milik",
          "SHM - Sertifikat Hak Milik",
          "SHM - Sertifikat Hak Milik",
          "SHM - Sertifikat Hak Milik",
          "SHM - Sertifikat Hak Milik",
          "SHM - Sertifikat Hak Milik"
         ],
         "xaxis": "x",
         "y": [
          5500000000,
          2400000000,
          1000000000,
          11000000000,
          35000000000,
          10500000000,
          39000000000,
          50000000000,
          799000000,
          35000000000,
          125000000000,
          30000000000,
          30000000000,
          3500000000,
          7000000000,
          280000000,
          934000000,
          48000000000,
          11000000000,
          9900000000,
          50000000000,
          60000000000,
          4500000000,
          6750000000,
          112000000000,
          780000000,
          3750000000,
          60000000000,
          110000000000,
          5000000000,
          425000000,
          950000000,
          50000000000,
          90000000000,
          4980000000,
          950000000,
          45000000000,
          50000000000,
          2600000000,
          6500000000,
          3500000000,
          45000000000,
          120000000000,
          1500000000,
          57000000000,
          18000000000,
          11000000000,
          6250000000,
          1800000000,
          19000000000,
          600000000,
          2200000000,
          8000000000,
          4200000000,
          65000000000,
          150000000000,
          7500000000,
          45000000000,
          6900000000,
          3600000000,
          1450000000,
          4800000000,
          1000000000,
          2500000000,
          21600000000,
          7000000000,
          5390000000,
          30000000000,
          15000000000,
          4380000000,
          1300000000,
          450000000,
          16000000000,
          28500000000,
          1300000000,
          22000000000,
          1100000000,
          1550000000,
          2140000000,
          8500000000,
          7500000000,
          950000000,
          8500000000,
          10500000000,
          750000000,
          750000000,
          3300000000,
          58000000000,
          550000000,
          3300000000,
          4500000000,
          68000000000,
          3000000000,
          1300000000,
          850000000,
          6500000000,
          125000000000,
          1300000000,
          21000000000,
          31000000000,
          95000000000,
          28000000000,
          22000000000,
          22000000000,
          3950000000,
          2500000000,
          25000000000,
          32000000000,
          7000000000,
          15000000000,
          35000000000,
          70000000000,
          7800000000,
          35000000000,
          35000000000,
          3200000000,
          2300000000,
          45000000000,
          3500000000,
          1800000000,
          1900000000,
          6500000000,
          6500000000,
          80000000000,
          463000000,
          3500000000,
          1750000000,
          10000000000,
          70000000000,
          7900000000,
          70000000000,
          6500000000,
          12000000000,
          130000000000,
          370000000,
          150000000000,
          36400000000,
          78000000000,
          7200000000,
          65000000000,
          55000000000,
          1900000000,
          80000000000,
          1200000000,
          44000000000,
          47900000000,
          2500000000,
          7000000000,
          20000000000,
          58000000000,
          47000000000,
          80000000000,
          120000000000,
          61500000000,
          45000000000,
          80000000000,
          1350000000,
          92000000000,
          55000000000,
          60000000000,
          75000000000,
          35000000000,
          15000000000,
          1200000000,
          17000000000,
          12000000000,
          2000000000,
          8000000000,
          4200000000,
          6000000000,
          4500000000,
          2800000000,
          13700000000,
          5200000000,
          30000000000,
          150000000000,
          6500000000,
          15500000000,
          6500000000,
          15500000000,
          55000000000,
          15500000000,
          58000000000,
          55000000000,
          49000000000,
          1600000000,
          15500000000,
          35000000000,
          15000000000,
          41000000000,
          8000000000,
          55000000000,
          70000000000,
          8500000000,
          45000000000,
          63000000000,
          1650000000,
          2900000000,
          45000000000,
          25000000000,
          4500000000,
          17000000000,
          75000000000,
          52000000000,
          120000000000,
          55000000000,
          8500000000,
          2200000000,
          14000000000,
          4500000000,
          9000000000,
          23000000000,
          45000000000,
          3100000000,
          20000000000,
          4200000000,
          1100000000,
          4000000000,
          130000000000,
          1500000000,
          7500000000,
          4700000000,
          20000000000,
          65000000000,
          59000000000,
          33000000000,
          59000000000,
          4500000000,
          410000000,
          7600000000,
          9500000000,
          1850000000,
          355000000000,
          120000000000,
          7000000000,
          35000000000,
          120000000000,
          700000000,
          3200000000,
          30000000000,
          12500000000,
          37300000000,
          100000000000,
          57000000000,
          32400000000,
          15500000000,
          68000000000,
          30000000000,
          120000000000,
          7500000000,
          3950000000,
          5700000000,
          450000000,
          450000000,
          2550000000,
          450000000,
          450000000,
          21700000000,
          12700000000,
          15000000000,
          450000000,
          5000000000,
          3000000000,
          4900000000,
          49200000000,
          1800000000,
          45000000000,
          6400000000,
          12700000000,
          10000000000,
          12700000000,
          2400000000,
          17000000000,
          3900000000,
          6000000000,
          4950000000,
          15500000000,
          12700000000,
          7800000000,
          12700000000,
          227000000,
          30000000000,
          55000000000,
          19000000000,
          3500000000,
          13900000000,
          6000000000,
          3500000000,
          36000000000,
          2700000000,
          1900000000,
          2600000000,
          320000000,
          17500000000,
          1800000000,
          3700000000,
          2900000000,
          60000000000,
          6400000000,
          5800000000,
          2200000000,
          2460000000,
          17000000000,
          600000000,
          170000000000,
          20000000000,
          15500000000,
          100000000000,
          2400000000,
          12500000000,
          25000000000,
          43500000000,
          18000000000,
          600000000,
          13500000000,
          15500000000,
          90000000000,
          29500000000,
          13000000000,
          100000000000,
          100000000000,
          21000000000,
          30000000000,
          20000000000,
          1400000000,
          1350000000,
          2500000000,
          45000000000,
          5800000000,
          100000000000,
          25000000000,
          875000000,
          65000000000,
          16500000000,
          16500000000,
          975000000,
          8500000000,
          2900000000,
          21000000000,
          20000000000,
          9000000000,
          6400000000,
          16500000000,
          4700000000,
          2750000000,
          6000000000,
          2500000000,
          15500000000,
          4000000000,
          1000000000,
          12700000000,
          16000000000,
          45000000000,
          40000000000,
          12700000000,
          5000000000,
          2200000000,
          5000000000,
          16000000000,
          12700000000,
          57000000000,
          10500000000,
          12700000000,
          36000000000,
          5300000000,
          32000000000,
          20000000000,
          60000000000,
          26500000000,
          13500000000,
          10000000000,
          55000000000,
          7200000000,
          4500000000,
          32000000000,
          475000000,
          32000000000,
          5400000000,
          2400000000,
          3500000000,
          475000000,
          475000000,
          6700000000,
          450000000,
          2400000000,
          8500000000,
          450000000,
          495000000,
          475000000,
          3500000000,
          450000000,
          475000000,
          28000000000,
          14500000000,
          475000000,
          3560000000,
          3800000000,
          17500000000,
          15500000000,
          16000000000,
          3500000000,
          2200000000,
          4500000000,
          2900000000,
          9000000000,
          2500000000,
          3750000000,
          3500000000,
          45000000000,
          28000000000,
          11000000000,
          13000000000,
          22000000000,
          950000000,
          200000000,
          1000000000,
          200000000,
          12500000000,
          3900000000,
          55000000000,
          55000000000,
          9700000000,
          55000000000,
          12000000000,
          4000000000,
          1200000000,
          9000000000,
          3800000000,
          4500000000,
          15000000000,
          39500000000,
          20000000000,
          8500000000,
          33000000000,
          750000000,
          5000000000,
          1650000000,
          2480000000,
          60000000000,
          3900000000,
          11500000000,
          8500000000,
          1350000000,
          3800000000,
          2100000000,
          350000000,
          1150000000,
          1200000000,
          1000000000,
          2600000000,
          200000000,
          3800000000,
          2600000000,
          28500000000,
          600000000000,
          35000000000,
          2200000000,
          3000000000,
          2600000000,
          5000000000,
          900000000,
          5200000000,
          30000000000,
          15000000000,
          125000000000,
          130000000000,
          2000000000,
          2300000000,
          115000000000,
          1000000000,
          1400000000,
          2300000000,
          6500000000,
          32500000000,
          4500000000,
          6500000000,
          11000000000,
          37500000000,
          6000000000,
          850000000,
          1000000000,
          37500000000,
          2800000000,
          14000000000,
          6900000000,
          1100000000,
          37500000000,
          1100000000,
          5750000000,
          27500000000,
          19000000000,
          5200000000,
          19000000000,
          1700000000,
          85000000000,
          7200000000,
          150000000000,
          4000000000,
          750000000,
          55000000000,
          2600000000,
          28000000000,
          6500000000,
          6000000000,
          58000000000,
          4700000000,
          3250000000,
          22000000000,
          19000000000,
          60000000000,
          1050000000,
          90000000000,
          39000000000,
          9000000000,
          65000000000,
          55000000000,
          16000000000,
          28500000000,
          13500000000,
          4590000000,
          9500000000,
          4500000000,
          4590000000,
          6250000000,
          1800000000,
          8750000000,
          1300000000,
          22000000000,
          2850000000,
          1700000000,
          23800000000,
          19000000000,
          90000000000,
          21200000000,
          6200000000,
          2750000000,
          7200000000,
          13000000000,
          7500000000,
          6250000000,
          17000000000,
          15000000000,
          3800000000,
          11000000000,
          3900000000,
          80000000000,
          6250000000,
          17000000000,
          11000000000,
          4590000000,
          7500000000,
          4300000000,
          7200000000,
          42000000000,
          80000000000,
          17000000000,
          115000000000,
          4000000000,
          80000000000,
          15000000000,
          2200000000,
          2400000000,
          14900000000,
          950000000,
          2000000000,
          4590000000,
          67000000000,
          35000000000,
          972000000,
          100000000000,
          12700000000,
          950000000,
          1610000000,
          7500000000,
          49500000000,
          2400000000,
          6600000000,
          2350000000,
          1700000000,
          6500000000,
          37000000000,
          52000000000,
          52000000000,
          1800000000,
          2800000000,
          18000000000,
          2520000000,
          1500000000,
          80000000000,
          470000000,
          1700000000,
          7200000000,
          2400000000,
          100000000,
          8000000000,
          10000000000,
          5500000000,
          11000000000,
          4590000000,
          18000000000,
          17000000000,
          65000000000,
          2800000000,
          6500000000,
          7950000000,
          5600000000,
          2200000000,
          17000000000,
          2500000000,
          4500000000,
          4590000000,
          25000000000,
          2950000000,
          3500000000,
          8000000000,
          15000000000,
          1000000000,
          2850000000,
          2600000000,
          2500000000,
          3000000000,
          450000000,
          50000000000,
          5390000000,
          1450000000,
          2000000000,
          1100000000,
          1200000000,
          8000000000,
          8500000000,
          11000000000,
          5390000000,
          6500000000,
          1800000000,
          3900000000,
          1150000000,
          1200000000,
          7500000000,
          3100000000,
          5500000000,
          1200000000,
          2750000000,
          90000000000,
          1200000000,
          45000000000,
          6500000000,
          38000000000,
          6200000000,
          44100000000,
          750000000,
          38000000000,
          2300000000,
          7000000000,
          135000000000,
          1000000000,
          39000000000,
          40000000000,
          75000000000,
          73000000000,
          6000000000,
          6700000000,
          70000000000,
          5500000000,
          900000000,
          4500000000,
          70000000000,
          6000000000,
          2600000000,
          6700000000,
          550000000,
          14900000000,
          438000000,
          7000000000,
          5700000000,
          900000000,
          1750000000,
          17800000000,
          1600000000,
          55000000000,
          600000000,
          2800000000,
          23000000000,
          1170000000,
          23000000000,
          4000000000,
          1900000000,
          3800000000,
          1200000000,
          4500000000,
          19500000000,
          17800000000,
          85000000000,
          27000000000,
          3000000000,
          7200000000,
          2150000000,
          5600000000,
          750000000,
          750000000,
          67000000000,
          750000000,
          12500000000,
          2400000000,
          16000000000,
          12000000000,
          750000000,
          1400000000,
          750000000,
          5500000000,
          750000000,
          7000000000,
          8400000000,
          55000000000,
          100000000000,
          31000000000,
          13000000000,
          12000000000,
          8100000000,
          2000000000,
          1800000000,
          8000000000,
          3500000000,
          14500000000,
          18500000000,
          750000000,
          7300000000,
          5000000000,
          9000000000,
          890000000,
          12000000000,
          8000000000,
          60000000000,
          8000000000,
          7000000000,
          1550000000,
          8500000000,
          7200000000,
          1100000000,
          15000000000,
          140000000000,
          72000000000,
          18500000000,
          31000000000,
          2600000000,
          1000000000,
          12500000000,
          9000000000,
          3700000000,
          7000000000,
          10900000000,
          1400000000,
          650000000,
          11000000000,
          57000000000,
          6500000000,
          6400000000,
          385000000,
          5200000000,
          4500000000,
          30000000000,
          8500000000,
          2000000000,
          6500000000,
          650000000,
          37300000000,
          12500000000,
          4800000000,
          3000000000,
          6500000000,
          4600000000,
          4800000000,
          5000000000,
          11000000000,
          1600000000,
          1300000000,
          65000000000,
          1200000000,
          11000000000,
          1300000000,
          3300000000,
          1950000000,
          85000000000,
          3300000000,
          13800000000,
          45000000000,
          3500000000,
          3200000000,
          4000000000,
          8500000000,
          5100000000,
          1800000000,
          4600000000,
          3000000000,
          1400000000,
          7000000000,
          1350000000,
          10000000000,
          2200000000,
          5000000000,
          798000000,
          45000000000,
          8500000000,
          900000000,
          59000000000,
          490000000,
          425000000,
          2000000000,
          3500000000,
          1060000000,
          4000000000,
          1300000000,
          9000000000,
          43500000000,
          6500000000,
          3500000000,
          9500000000,
          2000000000,
          2060000000,
          8500000000,
          9000000000,
          6500000000,
          3500000000,
          20900000000,
          5600000000,
          2200000000,
          1500000000,
          18000000000,
          1190000000,
          8500000000,
          4000000000,
          2800000000,
          1170000000,
          22500000000,
          3300000000,
          2410000000,
          19500000000,
          2410000000,
          8500000000,
          19500000000,
          1170000000,
          790000000,
          2100000000,
          972000000,
          3800000000,
          5900000000,
          18000000000,
          6500000000,
          1850000000,
          29000000000,
          1500000000,
          395000000,
          47900000000,
          47000000000,
          95000000000,
          1290000000,
          550000000,
          13500000000,
          3300000000,
          2600000000,
          1900000000,
          2460000000,
          14000000000,
          65000000000,
          28500000000,
          11000000000,
          470000000,
          67000000000,
          3500000000,
          8000000000,
          300000000000,
          15000000000,
          11000000000,
          40000000000,
          725000000,
          33000000000,
          2500000000,
          3700000000,
          8500000000,
          17000000000,
          3000000000,
          50000000000,
          38000000000,
          2300000000,
          15000000000,
          1600000000,
          16500000000,
          1100000000,
          5500000000,
          33000000000,
          6500000000,
          4500000000,
          10000000000,
          2400000000,
          3500000000,
          23500000000,
          50000000000,
          5000000000,
          5000000000,
          12000000000,
          6990000000,
          9500000000,
          4200000000,
          1480000000,
          10000000000,
          2400000000,
          35000000000,
          1600000000,
          1000000000,
          17600000000,
          12000000000,
          35000000000,
          1200000000,
          20000000000,
          1900000000,
          5500000000,
          30000000000,
          8000000000,
          2200000000,
          1550000000,
          49000000000,
          48000000000,
          6250000000,
          37300000000,
          10600000000,
          33000000000,
          19000000000,
          11000000000,
          13000000000,
          42000000000,
          275000000000,
          2200000000,
          19800000000,
          853000000,
          6850000000,
          22000000000,
          3500000000,
          6000000000,
          9000000000,
          4600000000,
          3200000000,
          1600000000,
          6000000000,
          1700000000,
          6000000000,
          1070000000,
          900000000,
          5500000000,
          4600000000,
          4000000000,
          14000000000,
          20000000000,
          3500000000,
          15000000000,
          4590000000,
          4600000000,
          1650000000,
          9000000000,
          4600000000,
          1300000000,
          14000000000,
          13500000000,
          5490000000,
          9000000000,
          400000000000,
          1000000000,
          19500000000,
          6000000000,
          1500000000,
          30000000000,
          3500000000,
          12000000000,
          56000000000,
          8000000000,
          5300000000,
          3300000000,
          32000000000,
          4000000000,
          5800000000,
          4600000000,
          1300000000,
          5000000000,
          1900000000,
          4600000000,
          14500000000,
          70000000000,
          3000000000,
          20000000000,
          2700000000,
          10000000000,
          16000000000,
          8000000000,
          99900000000,
          180000000000,
          2700000000,
          1350000000,
          19000000000,
          2990000000,
          5800000000,
          12500000000,
          7800000000,
          39500000000,
          2500000000,
          2480000000,
          14500000000,
          11300000000,
          4250000000,
          15000000000,
          2950000000,
          1500000000,
          2200000000,
          12900000000,
          3700000000,
          39500000000,
          8500000000,
          2800000000,
          2250000000,
          451000000,
          37500000000,
          60000000000,
          55000000000,
          3800000000,
          1000000000,
          1100000000,
          1500000000,
          2600000000,
          1600000000,
          4500000000,
          59000000000,
          4700000000,
          2500000000,
          11000000000,
          5800000000,
          5000000000,
          950000000,
          2500000000,
          975000000,
          3000000000,
          40000000000,
          750000000,
          11000000000,
          1800000000,
          17200000000,
          3700000000,
          6500000000,
          670000000,
          7200000000,
          5000000000,
          950000000,
          20800000000,
          1800000000,
          2800000000,
          5000000000,
          9300000000,
          9000000000,
          550000000,
          48000000000,
          2400000000,
          725000000,
          450000000,
          2500000000,
          2800000000,
          1350000000,
          4000000000,
          11800000000,
          3900000000,
          45000000000,
          497000000,
          7500000000,
          5500000000,
          15000000000,
          20000000000,
          3300000000,
          4930000000,
          13000000000,
          2600000000,
          972000000,
          20000000000,
          2700000000,
          3500000000,
          1200000000,
          3700000000,
          2700000000,
          14000000000,
          52000000000,
          3000000000,
          2100000000,
          432000000,
          40000000000,
          11500000000,
          8000000000,
          50000000000,
          3000000000,
          200000000,
          100000000000,
          1500000000,
          1650000000,
          3500000000,
          2400000000,
          3000000000,
          51900000000,
          3900000000,
          70000000000,
          16800000000,
          38500000000,
          35500000000,
          67000000000,
          8500000000,
          4000000000,
          11500000000,
          900000000,
          45000000000,
          2900000000,
          99000000000,
          6500000000,
          3000000000,
          45000000000,
          7500000000,
          60000000000,
          55000000000,
          100000000000,
          2300000000,
          28400000000,
          2000000000,
          20000000000,
          20000000000,
          20000000000,
          2500000000,
          2500000000,
          7200000000,
          66000000000,
          1400000000,
          2750000000,
          21600000000,
          18000000000,
          12500000000,
          6200000000,
          7000000000,
          6500000000,
          7000000000,
          7000000000,
          4000000000,
          7000000000,
          4500000000,
          75000000000,
          1950000000,
          5900000000,
          19900000000,
          57000000000,
          3900000000,
          28000000000,
          2800000000,
          72000000000,
          1200000000,
          2210000000,
          3200000000,
          1600000000,
          2200000000,
          80000000000,
          100000000000,
          2800000000,
          60000000000,
          2500000000,
          3500000000,
          21000000000,
          19000000000,
          7500000000,
          5900000000,
          7900000000,
          7000000000,
          1290000000,
          59000000000,
          15200000000,
          11500000000,
          4900000000,
          1600000000,
          70000000000,
          3750000000,
          1250000000,
          15000000000,
          5100000000,
          20000000000,
          1600000000,
          47600000000,
          3500000000,
          1700000000,
          2300000000,
          37000000000,
          450000000,
          8500000000,
          15000000000,
          850000000,
          3500000000,
          4000000000,
          2650000000,
          55000000000,
          15500000000,
          12500000000,
          3000000000,
          4800000000,
          2600000000,
          14000000000,
          31000000000,
          1800000000,
          2500000000,
          3700000000,
          12000000000,
          3000000000,
          7800000000,
          70000000000,
          7900000000,
          19000000000,
          1700000000,
          2750000000,
          11000000000,
          6000000000,
          8250000000,
          12500000000,
          13000000000,
          1400000000,
          24000000000,
          12500000000,
          1950000000,
          10500000000,
          4000000000,
          3800000000,
          3800000000,
          575000000,
          4200000000,
          44100000000,
          1610000000,
          3700000000,
          1650000000,
          2300000000,
          4800000000,
          1500000000,
          2600000000,
          899000000,
          12500000000,
          12500000000,
          1780000000,
          12500000000,
          38000000000,
          55000000000,
          1400000000,
          750000000,
          6300000000,
          450000000,
          5100000000,
          3900000000,
          1900000000,
          7000000000,
          2950000000,
          3500000000,
          76000000000,
          4250000000,
          1800000000,
          19000000000,
          2550000000,
          4500000000,
          19000000000,
          52000000000,
          53000000000,
          58000000000,
          2700000000,
          27000000000,
          58000000000,
          3500000000,
          6500000000,
          6500000000,
          14000000000,
          6000000000,
          55000000000,
          6200000000,
          900000000,
          8500000000,
          900000000,
          900000000,
          860000000,
          100000000000,
          2500000000,
          18500000000,
          1090000000,
          56000000000,
          13500000000,
          68400000000,
          29000000000,
          1500000000,
          3500000000,
          3300000000,
          8500000000,
          50000000000,
          4590000000,
          3500000000,
          4000000000,
          70000000000,
          1250000000,
          1700000000,
          19000000000,
          14000000000,
          350000000000,
          38000000000,
          3450000000,
          80000000000,
          38000000000,
          5250000000,
          8000000000,
          4800000000,
          66000000000,
          3900000000,
          80000000000,
          25000000000,
          60000000000,
          2800000000,
          593000000,
          18200000000,
          5200000000,
          5500000000,
          950000000,
          2049999999,
          473000000,
          2510000000,
          1020000000,
          2550000000,
          2049999999,
          2900000000,
          4250000000,
          2089999999,
          1650000000,
          425000000,
          2049999999,
          31000000000,
          30000000000,
          57000000000,
          513000000,
          2160000000,
          100000000000,
          972000000,
          550000000,
          2100000000,
          1410000000,
          39000000000,
          55000000000,
          59000000000,
          10500000000,
          6500000000,
          2160000000,
          593000000,
          2160000000,
          2590000000,
          3110000000,
          2470000000,
          2160000000,
          2200000000,
          1020000000,
          2400000000,
          895000000,
          2049999999,
          1530000000,
          1040000000,
          90000000000,
          599000000,
          1250000000,
          451000000,
          2049999999,
          29000000000,
          453000000,
          1410000000,
          1410000000,
          37500000000,
          408000000,
          15500000000,
          2160000000,
          3300000000,
          2049999999,
          1650000000,
          2470000000,
          1020000000,
          925000000,
          1800000000,
          1020000000,
          1040000000,
          55000000000,
          2500000000,
          1010000000,
          2160000000,
          675000000,
          1590000000,
          70000000000,
          599000000,
          689000000,
          15000000000,
          1150000000,
          2210000000,
          425000000,
          425000000,
          1800000000,
          5000000000,
          1200000000,
          2470000000,
          1650000000,
          49000000000,
          2049999999,
          1020000000,
          7900000000,
          3000000000,
          2160000000,
          2280000000,
          14900000000,
          1750000000,
          31000000000,
          2400000000,
          408000000,
          1610000000,
          1410000000,
          8000000000,
          56000000000
         ],
         "yaxis": "y"
        },
        {
         "hovertemplate": "sertifikat=%{x}<br>Price=%{y}<extra></extra>",
         "legendgroup": "Lainnya (PPJB,Girik,Adat,dll)",
         "marker": {
          "color": "#EF553B",
          "symbol": "circle"
         },
         "mode": "markers",
         "name": "Lainnya (PPJB,Girik,Adat,dll)",
         "showlegend": true,
         "type": "scattergl",
         "x": [
          "Lainnya (PPJB,Girik,Adat,dll)",
          "Lainnya (PPJB,Girik,Adat,dll)",
          "Lainnya (PPJB,Girik,Adat,dll)",
          "Lainnya (PPJB,Girik,Adat,dll)",
          "Lainnya (PPJB,Girik,Adat,dll)",
          "Lainnya (PPJB,Girik,Adat,dll)",
          "Lainnya (PPJB,Girik,Adat,dll)",
          "Lainnya (PPJB,Girik,Adat,dll)",
          "Lainnya (PPJB,Girik,Adat,dll)",
          "Lainnya (PPJB,Girik,Adat,dll)",
          "Lainnya (PPJB,Girik,Adat,dll)",
          "Lainnya (PPJB,Girik,Adat,dll)",
          "Lainnya (PPJB,Girik,Adat,dll)",
          "Lainnya (PPJB,Girik,Adat,dll)",
          "Lainnya (PPJB,Girik,Adat,dll)",
          "Lainnya (PPJB,Girik,Adat,dll)",
          "Lainnya (PPJB,Girik,Adat,dll)",
          "Lainnya (PPJB,Girik,Adat,dll)",
          "Lainnya (PPJB,Girik,Adat,dll)",
          "Lainnya (PPJB,Girik,Adat,dll)",
          "Lainnya (PPJB,Girik,Adat,dll)",
          "Lainnya (PPJB,Girik,Adat,dll)",
          "Lainnya (PPJB,Girik,Adat,dll)",
          "Lainnya (PPJB,Girik,Adat,dll)",
          "Lainnya (PPJB,Girik,Adat,dll)",
          "Lainnya (PPJB,Girik,Adat,dll)",
          "Lainnya (PPJB,Girik,Adat,dll)",
          "Lainnya (PPJB,Girik,Adat,dll)",
          "Lainnya (PPJB,Girik,Adat,dll)",
          "Lainnya (PPJB,Girik,Adat,dll)",
          "Lainnya (PPJB,Girik,Adat,dll)",
          "Lainnya (PPJB,Girik,Adat,dll)",
          "Lainnya (PPJB,Girik,Adat,dll)",
          "Lainnya (PPJB,Girik,Adat,dll)",
          "Lainnya (PPJB,Girik,Adat,dll)",
          "Lainnya (PPJB,Girik,Adat,dll)",
          "Lainnya (PPJB,Girik,Adat,dll)",
          "Lainnya (PPJB,Girik,Adat,dll)",
          "Lainnya (PPJB,Girik,Adat,dll)",
          "Lainnya (PPJB,Girik,Adat,dll)",
          "Lainnya (PPJB,Girik,Adat,dll)",
          "Lainnya (PPJB,Girik,Adat,dll)",
          "Lainnya (PPJB,Girik,Adat,dll)",
          "Lainnya (PPJB,Girik,Adat,dll)",
          "Lainnya (PPJB,Girik,Adat,dll)",
          "Lainnya (PPJB,Girik,Adat,dll)",
          "Lainnya (PPJB,Girik,Adat,dll)",
          "Lainnya (PPJB,Girik,Adat,dll)",
          "Lainnya (PPJB,Girik,Adat,dll)",
          "Lainnya (PPJB,Girik,Adat,dll)",
          "Lainnya (PPJB,Girik,Adat,dll)",
          "Lainnya (PPJB,Girik,Adat,dll)",
          "Lainnya (PPJB,Girik,Adat,dll)",
          "Lainnya (PPJB,Girik,Adat,dll)",
          "Lainnya (PPJB,Girik,Adat,dll)",
          "Lainnya (PPJB,Girik,Adat,dll)",
          "Lainnya (PPJB,Girik,Adat,dll)",
          "Lainnya (PPJB,Girik,Adat,dll)",
          "Lainnya (PPJB,Girik,Adat,dll)",
          "Lainnya (PPJB,Girik,Adat,dll)",
          "Lainnya (PPJB,Girik,Adat,dll)",
          "Lainnya (PPJB,Girik,Adat,dll)",
          "Lainnya (PPJB,Girik,Adat,dll)",
          "Lainnya (PPJB,Girik,Adat,dll)",
          "Lainnya (PPJB,Girik,Adat,dll)",
          "Lainnya (PPJB,Girik,Adat,dll)",
          "Lainnya (PPJB,Girik,Adat,dll)",
          "Lainnya (PPJB,Girik,Adat,dll)",
          "Lainnya (PPJB,Girik,Adat,dll)",
          "Lainnya (PPJB,Girik,Adat,dll)",
          "Lainnya (PPJB,Girik,Adat,dll)",
          "Lainnya (PPJB,Girik,Adat,dll)",
          "Lainnya (PPJB,Girik,Adat,dll)",
          "Lainnya (PPJB,Girik,Adat,dll)",
          "Lainnya (PPJB,Girik,Adat,dll)",
          "Lainnya (PPJB,Girik,Adat,dll)",
          "Lainnya (PPJB,Girik,Adat,dll)",
          "Lainnya (PPJB,Girik,Adat,dll)",
          "Lainnya (PPJB,Girik,Adat,dll)",
          "Lainnya (PPJB,Girik,Adat,dll)",
          "Lainnya (PPJB,Girik,Adat,dll)",
          "Lainnya (PPJB,Girik,Adat,dll)",
          "Lainnya (PPJB,Girik,Adat,dll)",
          "Lainnya (PPJB,Girik,Adat,dll)",
          "Lainnya (PPJB,Girik,Adat,dll)",
          "Lainnya (PPJB,Girik,Adat,dll)",
          "Lainnya (PPJB,Girik,Adat,dll)",
          "Lainnya (PPJB,Girik,Adat,dll)",
          "Lainnya (PPJB,Girik,Adat,dll)",
          "Lainnya (PPJB,Girik,Adat,dll)",
          "Lainnya (PPJB,Girik,Adat,dll)",
          "Lainnya (PPJB,Girik,Adat,dll)",
          "Lainnya (PPJB,Girik,Adat,dll)",
          "Lainnya (PPJB,Girik,Adat,dll)",
          "Lainnya (PPJB,Girik,Adat,dll)",
          "Lainnya (PPJB,Girik,Adat,dll)",
          "Lainnya (PPJB,Girik,Adat,dll)",
          "Lainnya (PPJB,Girik,Adat,dll)",
          "Lainnya (PPJB,Girik,Adat,dll)",
          "Lainnya (PPJB,Girik,Adat,dll)",
          "Lainnya (PPJB,Girik,Adat,dll)",
          "Lainnya (PPJB,Girik,Adat,dll)",
          "Lainnya (PPJB,Girik,Adat,dll)",
          "Lainnya (PPJB,Girik,Adat,dll)",
          "Lainnya (PPJB,Girik,Adat,dll)",
          "Lainnya (PPJB,Girik,Adat,dll)",
          "Lainnya (PPJB,Girik,Adat,dll)",
          "Lainnya (PPJB,Girik,Adat,dll)",
          "Lainnya (PPJB,Girik,Adat,dll)",
          "Lainnya (PPJB,Girik,Adat,dll)",
          "Lainnya (PPJB,Girik,Adat,dll)",
          "Lainnya (PPJB,Girik,Adat,dll)",
          "Lainnya (PPJB,Girik,Adat,dll)",
          "Lainnya (PPJB,Girik,Adat,dll)",
          "Lainnya (PPJB,Girik,Adat,dll)",
          "Lainnya (PPJB,Girik,Adat,dll)",
          "Lainnya (PPJB,Girik,Adat,dll)",
          "Lainnya (PPJB,Girik,Adat,dll)",
          "Lainnya (PPJB,Girik,Adat,dll)",
          "Lainnya (PPJB,Girik,Adat,dll)",
          "Lainnya (PPJB,Girik,Adat,dll)",
          "Lainnya (PPJB,Girik,Adat,dll)",
          "Lainnya (PPJB,Girik,Adat,dll)",
          "Lainnya (PPJB,Girik,Adat,dll)",
          "Lainnya (PPJB,Girik,Adat,dll)",
          "Lainnya (PPJB,Girik,Adat,dll)",
          "Lainnya (PPJB,Girik,Adat,dll)",
          "Lainnya (PPJB,Girik,Adat,dll)",
          "Lainnya (PPJB,Girik,Adat,dll)",
          "Lainnya (PPJB,Girik,Adat,dll)",
          "Lainnya (PPJB,Girik,Adat,dll)",
          "Lainnya (PPJB,Girik,Adat,dll)",
          "Lainnya (PPJB,Girik,Adat,dll)",
          "Lainnya (PPJB,Girik,Adat,dll)",
          "Lainnya (PPJB,Girik,Adat,dll)",
          "Lainnya (PPJB,Girik,Adat,dll)",
          "Lainnya (PPJB,Girik,Adat,dll)",
          "Lainnya (PPJB,Girik,Adat,dll)",
          "Lainnya (PPJB,Girik,Adat,dll)",
          "Lainnya (PPJB,Girik,Adat,dll)",
          "Lainnya (PPJB,Girik,Adat,dll)",
          "Lainnya (PPJB,Girik,Adat,dll)",
          "Lainnya (PPJB,Girik,Adat,dll)",
          "Lainnya (PPJB,Girik,Adat,dll)",
          "Lainnya (PPJB,Girik,Adat,dll)",
          "Lainnya (PPJB,Girik,Adat,dll)",
          "Lainnya (PPJB,Girik,Adat,dll)",
          "Lainnya (PPJB,Girik,Adat,dll)",
          "Lainnya (PPJB,Girik,Adat,dll)",
          "Lainnya (PPJB,Girik,Adat,dll)",
          "Lainnya (PPJB,Girik,Adat,dll)",
          "Lainnya (PPJB,Girik,Adat,dll)",
          "Lainnya (PPJB,Girik,Adat,dll)",
          "Lainnya (PPJB,Girik,Adat,dll)",
          "Lainnya (PPJB,Girik,Adat,dll)",
          "Lainnya (PPJB,Girik,Adat,dll)",
          "Lainnya (PPJB,Girik,Adat,dll)",
          "Lainnya (PPJB,Girik,Adat,dll)",
          "Lainnya (PPJB,Girik,Adat,dll)",
          "Lainnya (PPJB,Girik,Adat,dll)",
          "Lainnya (PPJB,Girik,Adat,dll)",
          "Lainnya (PPJB,Girik,Adat,dll)",
          "Lainnya (PPJB,Girik,Adat,dll)",
          "Lainnya (PPJB,Girik,Adat,dll)",
          "Lainnya (PPJB,Girik,Adat,dll)",
          "Lainnya (PPJB,Girik,Adat,dll)",
          "Lainnya (PPJB,Girik,Adat,dll)",
          "Lainnya (PPJB,Girik,Adat,dll)",
          "Lainnya (PPJB,Girik,Adat,dll)",
          "Lainnya (PPJB,Girik,Adat,dll)",
          "Lainnya (PPJB,Girik,Adat,dll)",
          "Lainnya (PPJB,Girik,Adat,dll)",
          "Lainnya (PPJB,Girik,Adat,dll)",
          "Lainnya (PPJB,Girik,Adat,dll)",
          "Lainnya (PPJB,Girik,Adat,dll)",
          "Lainnya (PPJB,Girik,Adat,dll)",
          "Lainnya (PPJB,Girik,Adat,dll)",
          "Lainnya (PPJB,Girik,Adat,dll)",
          "Lainnya (PPJB,Girik,Adat,dll)",
          "Lainnya (PPJB,Girik,Adat,dll)",
          "Lainnya (PPJB,Girik,Adat,dll)",
          "Lainnya (PPJB,Girik,Adat,dll)",
          "Lainnya (PPJB,Girik,Adat,dll)",
          "Lainnya (PPJB,Girik,Adat,dll)",
          "Lainnya (PPJB,Girik,Adat,dll)",
          "Lainnya (PPJB,Girik,Adat,dll)",
          "Lainnya (PPJB,Girik,Adat,dll)",
          "Lainnya (PPJB,Girik,Adat,dll)",
          "Lainnya (PPJB,Girik,Adat,dll)",
          "Lainnya (PPJB,Girik,Adat,dll)",
          "Lainnya (PPJB,Girik,Adat,dll)",
          "Lainnya (PPJB,Girik,Adat,dll)"
         ],
         "xaxis": "x",
         "y": [
          550000000,
          800000000,
          7000000000,
          1050000000,
          1250000000,
          1200000000,
          1400000000,
          3000000000,
          500000000,
          425000000,
          850000000,
          1450000000,
          1800000000,
          1700000000,
          900000000,
          650000000,
          33000000000,
          290000000,
          150000000000,
          2000000000,
          2500000000,
          700000000,
          1400000000,
          700000000,
          1900000000,
          32000000000,
          1150000000,
          8250000000,
          8000000000,
          9000000000,
          2800000000,
          1350000000,
          2300000000,
          1700000000,
          2500000000,
          3000000000,
          1480000000,
          1000000000,
          650000000,
          5500000000,
          95000000000,
          32000000000,
          1200000000,
          700000000,
          5750000000,
          10000000000,
          7500000000,
          2500000000,
          365000000,
          18500000000,
          298000000000,
          11000000000,
          10000000000,
          2900000000,
          2900000000,
          2900000000,
          750000000,
          1200000000,
          55000000000,
          9500000000,
          344000000,
          4000000000,
          2500000000,
          880000000,
          8500000000,
          1000000000,
          1500000000,
          8800000000,
          1250000000,
          900000000,
          3550000000,
          80000000000,
          8500000000,
          600000000,
          1700000000,
          900000000,
          3000000000,
          3000000000,
          1100000000,
          5000000000,
          1100000000,
          30000000000,
          12000000000,
          15000000000,
          6200000000,
          22000000000,
          20100000000,
          13500000000,
          900000000,
          3850000000,
          7300000000,
          460000000,
          2500000000,
          900000000,
          3500000000,
          10500000000,
          2700000000,
          450000000,
          2000000000,
          425000000,
          9000000000,
          380000000,
          420000000,
          27000000000,
          900000000,
          600000000,
          15000000000,
          49700000000,
          5750000000,
          1750000000,
          3000000000,
          1650000000,
          3000000000,
          3500000000,
          85000000000,
          1150000000,
          1750000000,
          780000000,
          900000000,
          1000000000,
          900000000,
          900000000,
          2800000000,
          475000000,
          2900000000,
          30000000000,
          395000000,
          2900000000,
          2100000000,
          9500000000,
          5500000000,
          900000000,
          1500000000,
          330000000,
          470000000,
          6400000000,
          5000000000,
          5700000000,
          6500000000,
          2000000000,
          2800000000,
          5000000000,
          410000000,
          310000000,
          410000000,
          1500000000,
          395000000,
          3300000000,
          2920000000,
          400000000,
          700000000,
          700000000,
          5500000000,
          800000000,
          700000000,
          1250000000,
          38700000000,
          14000000000,
          11500000000,
          2200000000,
          1020000000,
          714000000,
          3250000000,
          1190000000,
          1020000000,
          19000000000,
          1800000000,
          2350000000,
          1200000000,
          1300000000,
          1650000000,
          700000000,
          1970000000,
          3500000000,
          1500000000,
          1970000000,
          1300000000,
          1900000000,
          6000000000,
          800000000,
          6500000000,
          2500000000,
          700000000,
          1050000000,
          920000000,
          1200000000,
          920000000,
          1050000000,
          1250000000,
          950000000,
          400000000,
          920000000
         ],
         "yaxis": "y"
        },
        {
         "hovertemplate": "sertifikat=%{x}<br>Price=%{y}<extra></extra>",
         "legendgroup": "HGB - Hak Guna Bangunan",
         "marker": {
          "color": "#00cc96",
          "symbol": "circle"
         },
         "mode": "markers",
         "name": "HGB - Hak Guna Bangunan",
         "showlegend": true,
         "type": "scattergl",
         "x": [
          "HGB - Hak Guna Bangunan",
          "HGB - Hak Guna Bangunan",
          "HGB - Hak Guna Bangunan",
          "HGB - Hak Guna Bangunan",
          "HGB - Hak Guna Bangunan",
          "HGB - Hak Guna Bangunan",
          "HGB - Hak Guna Bangunan",
          "HGB - Hak Guna Bangunan",
          "HGB - Hak Guna Bangunan",
          "HGB - Hak Guna Bangunan",
          "HGB - Hak Guna Bangunan",
          "HGB - Hak Guna Bangunan",
          "HGB - Hak Guna Bangunan",
          "HGB - Hak Guna Bangunan",
          "HGB - Hak Guna Bangunan",
          "HGB - Hak Guna Bangunan",
          "HGB - Hak Guna Bangunan",
          "HGB - Hak Guna Bangunan",
          "HGB - Hak Guna Bangunan",
          "HGB - Hak Guna Bangunan",
          "HGB - Hak Guna Bangunan",
          "HGB - Hak Guna Bangunan",
          "HGB - Hak Guna Bangunan",
          "HGB - Hak Guna Bangunan",
          "HGB - Hak Guna Bangunan",
          "HGB - Hak Guna Bangunan",
          "HGB - Hak Guna Bangunan",
          "HGB - Hak Guna Bangunan",
          "HGB - Hak Guna Bangunan",
          "HGB - Hak Guna Bangunan",
          "HGB - Hak Guna Bangunan",
          "HGB - Hak Guna Bangunan",
          "HGB - Hak Guna Bangunan",
          "HGB - Hak Guna Bangunan",
          "HGB - Hak Guna Bangunan",
          "HGB - Hak Guna Bangunan",
          "HGB - Hak Guna Bangunan",
          "HGB - Hak Guna Bangunan",
          "HGB - Hak Guna Bangunan",
          "HGB - Hak Guna Bangunan",
          "HGB - Hak Guna Bangunan",
          "HGB - Hak Guna Bangunan",
          "HGB - Hak Guna Bangunan",
          "HGB - Hak Guna Bangunan",
          "HGB - Hak Guna Bangunan",
          "HGB - Hak Guna Bangunan",
          "HGB - Hak Guna Bangunan",
          "HGB - Hak Guna Bangunan",
          "HGB - Hak Guna Bangunan",
          "HGB - Hak Guna Bangunan",
          "HGB - Hak Guna Bangunan",
          "HGB - Hak Guna Bangunan",
          "HGB - Hak Guna Bangunan",
          "HGB - Hak Guna Bangunan",
          "HGB - Hak Guna Bangunan",
          "HGB - Hak Guna Bangunan",
          "HGB - Hak Guna Bangunan",
          "HGB - Hak Guna Bangunan",
          "HGB - Hak Guna Bangunan",
          "HGB - Hak Guna Bangunan",
          "HGB - Hak Guna Bangunan",
          "HGB - Hak Guna Bangunan",
          "HGB - Hak Guna Bangunan",
          "HGB - Hak Guna Bangunan",
          "HGB - Hak Guna Bangunan",
          "HGB - Hak Guna Bangunan",
          "HGB - Hak Guna Bangunan",
          "HGB - Hak Guna Bangunan",
          "HGB - Hak Guna Bangunan",
          "HGB - Hak Guna Bangunan",
          "HGB - Hak Guna Bangunan",
          "HGB - Hak Guna Bangunan",
          "HGB - Hak Guna Bangunan",
          "HGB - Hak Guna Bangunan",
          "HGB - Hak Guna Bangunan",
          "HGB - Hak Guna Bangunan",
          "HGB - Hak Guna Bangunan",
          "HGB - Hak Guna Bangunan",
          "HGB - Hak Guna Bangunan",
          "HGB - Hak Guna Bangunan",
          "HGB - Hak Guna Bangunan",
          "HGB - Hak Guna Bangunan",
          "HGB - Hak Guna Bangunan",
          "HGB - Hak Guna Bangunan",
          "HGB - Hak Guna Bangunan",
          "HGB - Hak Guna Bangunan",
          "HGB - Hak Guna Bangunan",
          "HGB - Hak Guna Bangunan",
          "HGB - Hak Guna Bangunan",
          "HGB - Hak Guna Bangunan",
          "HGB - Hak Guna Bangunan",
          "HGB - Hak Guna Bangunan",
          "HGB - Hak Guna Bangunan",
          "HGB - Hak Guna Bangunan",
          "HGB - Hak Guna Bangunan",
          "HGB - Hak Guna Bangunan",
          "HGB - Hak Guna Bangunan",
          "HGB - Hak Guna Bangunan",
          "HGB - Hak Guna Bangunan",
          "HGB - Hak Guna Bangunan",
          "HGB - Hak Guna Bangunan",
          "HGB - Hak Guna Bangunan",
          "HGB - Hak Guna Bangunan",
          "HGB - Hak Guna Bangunan",
          "HGB - Hak Guna Bangunan",
          "HGB - Hak Guna Bangunan",
          "HGB - Hak Guna Bangunan",
          "HGB - Hak Guna Bangunan",
          "HGB - Hak Guna Bangunan",
          "HGB - Hak Guna Bangunan",
          "HGB - Hak Guna Bangunan",
          "HGB - Hak Guna Bangunan",
          "HGB - Hak Guna Bangunan",
          "HGB - Hak Guna Bangunan",
          "HGB - Hak Guna Bangunan",
          "HGB - Hak Guna Bangunan",
          "HGB - Hak Guna Bangunan",
          "HGB - Hak Guna Bangunan",
          "HGB - Hak Guna Bangunan",
          "HGB - Hak Guna Bangunan",
          "HGB - Hak Guna Bangunan",
          "HGB - Hak Guna Bangunan",
          "HGB - Hak Guna Bangunan",
          "HGB - Hak Guna Bangunan",
          "HGB - Hak Guna Bangunan",
          "HGB - Hak Guna Bangunan",
          "HGB - Hak Guna Bangunan",
          "HGB - Hak Guna Bangunan",
          "HGB - Hak Guna Bangunan",
          "HGB - Hak Guna Bangunan",
          "HGB - Hak Guna Bangunan",
          "HGB - Hak Guna Bangunan",
          "HGB - Hak Guna Bangunan",
          "HGB - Hak Guna Bangunan",
          "HGB - Hak Guna Bangunan",
          "HGB - Hak Guna Bangunan",
          "HGB - Hak Guna Bangunan",
          "HGB - Hak Guna Bangunan",
          "HGB - Hak Guna Bangunan",
          "HGB - Hak Guna Bangunan",
          "HGB - Hak Guna Bangunan",
          "HGB - Hak Guna Bangunan",
          "HGB - Hak Guna Bangunan",
          "HGB - Hak Guna Bangunan",
          "HGB - Hak Guna Bangunan",
          "HGB - Hak Guna Bangunan",
          "HGB - Hak Guna Bangunan",
          "HGB - Hak Guna Bangunan",
          "HGB - Hak Guna Bangunan",
          "HGB - Hak Guna Bangunan",
          "HGB - Hak Guna Bangunan",
          "HGB - Hak Guna Bangunan",
          "HGB - Hak Guna Bangunan",
          "HGB - Hak Guna Bangunan",
          "HGB - Hak Guna Bangunan",
          "HGB - Hak Guna Bangunan",
          "HGB - Hak Guna Bangunan",
          "HGB - Hak Guna Bangunan",
          "HGB - Hak Guna Bangunan",
          "HGB - Hak Guna Bangunan",
          "HGB - Hak Guna Bangunan",
          "HGB - Hak Guna Bangunan",
          "HGB - Hak Guna Bangunan",
          "HGB - Hak Guna Bangunan",
          "HGB - Hak Guna Bangunan",
          "HGB - Hak Guna Bangunan",
          "HGB - Hak Guna Bangunan",
          "HGB - Hak Guna Bangunan",
          "HGB - Hak Guna Bangunan",
          "HGB - Hak Guna Bangunan",
          "HGB - Hak Guna Bangunan",
          "HGB - Hak Guna Bangunan",
          "HGB - Hak Guna Bangunan",
          "HGB - Hak Guna Bangunan",
          "HGB - Hak Guna Bangunan",
          "HGB - Hak Guna Bangunan",
          "HGB - Hak Guna Bangunan",
          "HGB - Hak Guna Bangunan",
          "HGB - Hak Guna Bangunan",
          "HGB - Hak Guna Bangunan",
          "HGB - Hak Guna Bangunan",
          "HGB - Hak Guna Bangunan",
          "HGB - Hak Guna Bangunan",
          "HGB - Hak Guna Bangunan",
          "HGB - Hak Guna Bangunan",
          "HGB - Hak Guna Bangunan",
          "HGB - Hak Guna Bangunan",
          "HGB - Hak Guna Bangunan",
          "HGB - Hak Guna Bangunan",
          "HGB - Hak Guna Bangunan",
          "HGB - Hak Guna Bangunan",
          "HGB - Hak Guna Bangunan",
          "HGB - Hak Guna Bangunan",
          "HGB - Hak Guna Bangunan",
          "HGB - Hak Guna Bangunan",
          "HGB - Hak Guna Bangunan",
          "HGB - Hak Guna Bangunan",
          "HGB - Hak Guna Bangunan",
          "HGB - Hak Guna Bangunan",
          "HGB - Hak Guna Bangunan",
          "HGB - Hak Guna Bangunan",
          "HGB - Hak Guna Bangunan",
          "HGB - Hak Guna Bangunan",
          "HGB - Hak Guna Bangunan",
          "HGB - Hak Guna Bangunan",
          "HGB - Hak Guna Bangunan",
          "HGB - Hak Guna Bangunan",
          "HGB - Hak Guna Bangunan",
          "HGB - Hak Guna Bangunan",
          "HGB - Hak Guna Bangunan",
          "HGB - Hak Guna Bangunan",
          "HGB - Hak Guna Bangunan",
          "HGB - Hak Guna Bangunan",
          "HGB - Hak Guna Bangunan",
          "HGB - Hak Guna Bangunan",
          "HGB - Hak Guna Bangunan",
          "HGB - Hak Guna Bangunan",
          "HGB - Hak Guna Bangunan",
          "HGB - Hak Guna Bangunan",
          "HGB - Hak Guna Bangunan",
          "HGB - Hak Guna Bangunan",
          "HGB - Hak Guna Bangunan",
          "HGB - Hak Guna Bangunan",
          "HGB - Hak Guna Bangunan",
          "HGB - Hak Guna Bangunan",
          "HGB - Hak Guna Bangunan",
          "HGB - Hak Guna Bangunan",
          "HGB - Hak Guna Bangunan",
          "HGB - Hak Guna Bangunan",
          "HGB - Hak Guna Bangunan",
          "HGB - Hak Guna Bangunan",
          "HGB - Hak Guna Bangunan",
          "HGB - Hak Guna Bangunan",
          "HGB - Hak Guna Bangunan",
          "HGB - Hak Guna Bangunan",
          "HGB - Hak Guna Bangunan",
          "HGB - Hak Guna Bangunan",
          "HGB - Hak Guna Bangunan",
          "HGB - Hak Guna Bangunan",
          "HGB - Hak Guna Bangunan",
          "HGB - Hak Guna Bangunan",
          "HGB - Hak Guna Bangunan",
          "HGB - Hak Guna Bangunan",
          "HGB - Hak Guna Bangunan",
          "HGB - Hak Guna Bangunan",
          "HGB - Hak Guna Bangunan",
          "HGB - Hak Guna Bangunan",
          "HGB - Hak Guna Bangunan",
          "HGB - Hak Guna Bangunan",
          "HGB - Hak Guna Bangunan",
          "HGB - Hak Guna Bangunan",
          "HGB - Hak Guna Bangunan",
          "HGB - Hak Guna Bangunan",
          "HGB - Hak Guna Bangunan",
          "HGB - Hak Guna Bangunan",
          "HGB - Hak Guna Bangunan",
          "HGB - Hak Guna Bangunan",
          "HGB - Hak Guna Bangunan",
          "HGB - Hak Guna Bangunan",
          "HGB - Hak Guna Bangunan",
          "HGB - Hak Guna Bangunan",
          "HGB - Hak Guna Bangunan",
          "HGB - Hak Guna Bangunan",
          "HGB - Hak Guna Bangunan",
          "HGB - Hak Guna Bangunan",
          "HGB - Hak Guna Bangunan",
          "HGB - Hak Guna Bangunan",
          "HGB - Hak Guna Bangunan",
          "HGB - Hak Guna Bangunan",
          "HGB - Hak Guna Bangunan",
          "HGB - Hak Guna Bangunan",
          "HGB - Hak Guna Bangunan",
          "HGB - Hak Guna Bangunan",
          "HGB - Hak Guna Bangunan",
          "HGB - Hak Guna Bangunan"
         ],
         "xaxis": "x",
         "y": [
          10500000000,
          10500000000,
          20000000000,
          900000000,
          950000000,
          39000000000,
          800000000,
          450000000,
          700000000,
          3800000000,
          8500000000,
          5600000000,
          9000000000,
          2400000000,
          900000000,
          6000000000,
          1870000000,
          1100000000,
          3300000000,
          850000000,
          1100000000,
          750000000,
          750000000,
          750000000,
          1150000000,
          45000000000,
          1100000000,
          11000000000,
          1100000000,
          8000000000,
          950000000,
          650000000,
          700000000,
          1350000000,
          82000000000,
          20000000000,
          2000000000,
          1200000000,
          3300000000,
          9000000000,
          82000000000,
          3200000000,
          1700000000,
          7000000000,
          7000000000,
          7000000000,
          7000000000,
          7300000000,
          11000000000,
          650000000,
          1000000000,
          297000000000,
          3000000000,
          900000000,
          8500000000,
          3250000000,
          4500000000,
          26000000000,
          6500000000,
          1800000000,
          2600000000,
          3500000000,
          2200000000,
          900000000,
          900000000,
          3500000000,
          750000000,
          7000000000,
          4500000000,
          3000000000,
          2200000000,
          990000000,
          6000000000,
          15500000000,
          2500000000,
          17500000000,
          2600000000,
          17500000000,
          8000000000,
          6500000000,
          3500000000,
          800000000,
          72800000000,
          14100000000,
          14100000000,
          30000000000,
          30000000000,
          700000000,
          23000000000,
          6950000000,
          2500000000,
          1750000000,
          7500000000,
          15000000000,
          5500000000,
          4400000000,
          5000000000,
          4000000000,
          799000000,
          3650000000,
          3000000000,
          150000000000,
          1750000000,
          4000000000,
          24000000000,
          2200000000,
          9000000000,
          5500000000,
          25000000000,
          1200000000,
          13500000000,
          2300000000,
          2000000000,
          8500000000,
          8500000000,
          8500000000,
          8000000000,
          8500000000,
          8500000000,
          9000000000,
          15400000000,
          500000000,
          18000000000,
          2950000000,
          2950000000,
          500000000,
          500000000,
          1150000000,
          1800000000,
          5900000000,
          51000000000,
          599000000,
          1600000000,
          51000000000,
          51000000000,
          5300000000,
          900000000,
          900000000,
          8500000000,
          7500000000,
          3000000000,
          1500000000,
          2500000000,
          420000000,
          1700000000,
          1700000000,
          1100000000,
          9000000000,
          1700000000,
          1700000000,
          1700000000,
          8500000000,
          1700000000,
          8500000000,
          1400000000,
          6200000000,
          1700000000,
          5500000000,
          1300000000,
          8500000000,
          580000000,
          995000000,
          3250000000,
          3000000000,
          1250000000,
          505000000,
          8500000000,
          900000000,
          4600000000,
          17500000000,
          17600000000,
          2250000000,
          3250000000,
          17500000000,
          1100000000,
          5900000000,
          4250000000,
          60000000000,
          1650000000,
          1400000000,
          17500000000,
          20000000000,
          17500000000,
          2500000000,
          1050000000,
          950000000,
          1200000000,
          50000000000,
          3400000000,
          3100000000,
          2200000000,
          1800000000,
          2000000000,
          3200000000,
          2920000000,
          2100000000,
          1500000000,
          1800000000,
          4200000000,
          1340000000,
          4099999999,
          3200000000,
          1250000000,
          6700000000,
          60000000000,
          985000000,
          51000000000,
          10800000000,
          3500000000,
          500000000,
          450000000,
          2300000000,
          19700000000,
          45000000000,
          8300000000,
          8000000000,
          128000000000,
          950000000,
          35000000000,
          4000000000,
          8500000000,
          12800000000,
          100000000000,
          6000000000,
          1000000000,
          700000000,
          4000000000,
          8199999999,
          400000000,
          1100000000,
          2300000000,
          1300000000,
          750000000,
          7300000000,
          1000000000,
          16500000000,
          1100000000,
          19000000000,
          1600000000,
          1100000000,
          5300000000,
          900000000,
          1100000000,
          13500000000,
          5900000000,
          5250000000,
          570000000,
          3300000000,
          1650000000,
          400000000,
          5500000000,
          1600000000,
          3300000000,
          1600000000,
          5800000000,
          2200000000,
          1600000000,
          850000000,
          6000000000,
          35000000000,
          5500000000,
          2500000000,
          3300000000,
          35000000000,
          25000000000,
          8500000000,
          1250000000,
          1450000000,
          670000000,
          3200000000,
          1120000000,
          975000000,
          1950000000,
          975000000,
          950000000
         ],
         "yaxis": "y"
        },
        {
         "hovertemplate": "sertifikat=%{x}<br>Price=%{y}<extra></extra>",
         "legendgroup": "unknown",
         "marker": {
          "color": "#ab63fa",
          "symbol": "circle"
         },
         "mode": "markers",
         "name": "unknown",
         "showlegend": true,
         "type": "scattergl",
         "x": [
          "unknown",
          "unknown",
          "unknown",
          "unknown",
          "unknown",
          "unknown",
          "unknown",
          "unknown",
          "unknown",
          "unknown",
          "unknown",
          "unknown",
          "unknown",
          "unknown",
          "unknown",
          "unknown",
          "unknown",
          "unknown",
          "unknown",
          "unknown",
          "unknown",
          "unknown",
          "unknown",
          "unknown"
         ],
         "xaxis": "x",
         "y": [
          2000000000,
          750000000,
          56000000000,
          1350000000,
          19500000000,
          13000000000,
          20000000000,
          2500000000,
          1950000000,
          1500000000,
          27000000000,
          1700000000,
          1200000000,
          900000000,
          1650000000,
          700000000,
          1800000000,
          1100000000,
          1600000000,
          17500000000,
          10600000000,
          4500000000,
          7500000000,
          12000000000
         ],
         "yaxis": "y"
        },
        {
         "hovertemplate": "sertifikat=%{x}<br>Price=%{y}<extra></extra>",
         "legendgroup": "Strata",
         "marker": {
          "color": "#FFA15A",
          "symbol": "circle"
         },
         "mode": "markers",
         "name": "Strata",
         "showlegend": true,
         "type": "scattergl",
         "x": [
          "Strata",
          "Strata",
          "Strata",
          "Strata",
          "Strata",
          "Strata",
          "Strata",
          "Strata",
          "Strata",
          "Strata",
          "Strata",
          "Strata",
          "Strata",
          "Strata",
          "Strata",
          "Strata",
          "Strata",
          "Strata",
          "Strata",
          "Strata",
          "Strata",
          "Strata",
          "Strata",
          "Strata",
          "Strata",
          "Strata",
          "Strata",
          "Strata",
          "Strata",
          "Strata",
          "Strata",
          "Strata",
          "Strata"
         ],
         "xaxis": "x",
         "y": [
          7000000000,
          3500000000,
          1600000000,
          3000000000,
          3000000000,
          3500000000,
          7000000000,
          1500000000,
          999000000,
          3600000000,
          8800000000,
          1950000000,
          950000000,
          2500000000,
          600000000,
          1450000000,
          12500000000,
          3500000000,
          765000000,
          599000000,
          1950000000,
          7300000000,
          475000000,
          7300000000,
          7300000000,
          1000000000,
          2650000000,
          1000000000,
          600000000,
          2000000000,
          1930000000,
          1100000000,
          800000000
         ],
         "yaxis": "y"
        },
        {
         "hovertemplate": "sertifikat=%{x}<br>Price=%{y}<extra></extra>",
         "legendgroup": "HP - Hak Pakai",
         "marker": {
          "color": "#19d3f3",
          "symbol": "circle"
         },
         "mode": "markers",
         "name": "HP - Hak Pakai",
         "showlegend": true,
         "type": "scattergl",
         "x": [
          "HP - Hak Pakai",
          "HP - Hak Pakai",
          "HP - Hak Pakai",
          "HP - Hak Pakai",
          "HP - Hak Pakai",
          "HP - Hak Pakai",
          "HP - Hak Pakai",
          "HP - Hak Pakai",
          "HP - Hak Pakai",
          "HP - Hak Pakai",
          "HP - Hak Pakai"
         ],
         "xaxis": "x",
         "y": [
          2290000000,
          9900000000,
          7500000000,
          6000000000,
          7500000000,
          10500000000,
          9900000000,
          5500000000,
          1200000000,
          7500000000,
          750000000
         ],
         "yaxis": "y"
        },
        {
         "hovertemplate": "sertifikat=%{x}<br>Price=%{y}<extra></extra>",
         "legendgroup": "HS - Hak Sewa",
         "marker": {
          "color": "#FF6692",
          "symbol": "circle"
         },
         "mode": "markers",
         "name": "HS - Hak Sewa",
         "showlegend": true,
         "type": "scattergl",
         "x": [
          "HS - Hak Sewa"
         ],
         "xaxis": "x",
         "y": [
          6800000000
         ],
         "yaxis": "y"
        }
       ],
       "layout": {
        "legend": {
         "title": {
          "text": "sertifikat"
         },
         "tracegroupgap": 0
        },
        "template": {
         "data": {
          "bar": [
           {
            "error_x": {
             "color": "#2a3f5f"
            },
            "error_y": {
             "color": "#2a3f5f"
            },
            "marker": {
             "line": {
              "color": "#E5ECF6",
              "width": 0.5
             },
             "pattern": {
              "fillmode": "overlay",
              "size": 10,
              "solidity": 0.2
             }
            },
            "type": "bar"
           }
          ],
          "barpolar": [
           {
            "marker": {
             "line": {
              "color": "#E5ECF6",
              "width": 0.5
             },
             "pattern": {
              "fillmode": "overlay",
              "size": 10,
              "solidity": 0.2
             }
            },
            "type": "barpolar"
           }
          ],
          "carpet": [
           {
            "aaxis": {
             "endlinecolor": "#2a3f5f",
             "gridcolor": "white",
             "linecolor": "white",
             "minorgridcolor": "white",
             "startlinecolor": "#2a3f5f"
            },
            "baxis": {
             "endlinecolor": "#2a3f5f",
             "gridcolor": "white",
             "linecolor": "white",
             "minorgridcolor": "white",
             "startlinecolor": "#2a3f5f"
            },
            "type": "carpet"
           }
          ],
          "choropleth": [
           {
            "colorbar": {
             "outlinewidth": 0,
             "ticks": ""
            },
            "type": "choropleth"
           }
          ],
          "contour": [
           {
            "colorbar": {
             "outlinewidth": 0,
             "ticks": ""
            },
            "colorscale": [
             [
              0,
              "#0d0887"
             ],
             [
              0.1111111111111111,
              "#46039f"
             ],
             [
              0.2222222222222222,
              "#7201a8"
             ],
             [
              0.3333333333333333,
              "#9c179e"
             ],
             [
              0.4444444444444444,
              "#bd3786"
             ],
             [
              0.5555555555555556,
              "#d8576b"
             ],
             [
              0.6666666666666666,
              "#ed7953"
             ],
             [
              0.7777777777777778,
              "#fb9f3a"
             ],
             [
              0.8888888888888888,
              "#fdca26"
             ],
             [
              1,
              "#f0f921"
             ]
            ],
            "type": "contour"
           }
          ],
          "contourcarpet": [
           {
            "colorbar": {
             "outlinewidth": 0,
             "ticks": ""
            },
            "type": "contourcarpet"
           }
          ],
          "heatmap": [
           {
            "colorbar": {
             "outlinewidth": 0,
             "ticks": ""
            },
            "colorscale": [
             [
              0,
              "#0d0887"
             ],
             [
              0.1111111111111111,
              "#46039f"
             ],
             [
              0.2222222222222222,
              "#7201a8"
             ],
             [
              0.3333333333333333,
              "#9c179e"
             ],
             [
              0.4444444444444444,
              "#bd3786"
             ],
             [
              0.5555555555555556,
              "#d8576b"
             ],
             [
              0.6666666666666666,
              "#ed7953"
             ],
             [
              0.7777777777777778,
              "#fb9f3a"
             ],
             [
              0.8888888888888888,
              "#fdca26"
             ],
             [
              1,
              "#f0f921"
             ]
            ],
            "type": "heatmap"
           }
          ],
          "heatmapgl": [
           {
            "colorbar": {
             "outlinewidth": 0,
             "ticks": ""
            },
            "colorscale": [
             [
              0,
              "#0d0887"
             ],
             [
              0.1111111111111111,
              "#46039f"
             ],
             [
              0.2222222222222222,
              "#7201a8"
             ],
             [
              0.3333333333333333,
              "#9c179e"
             ],
             [
              0.4444444444444444,
              "#bd3786"
             ],
             [
              0.5555555555555556,
              "#d8576b"
             ],
             [
              0.6666666666666666,
              "#ed7953"
             ],
             [
              0.7777777777777778,
              "#fb9f3a"
             ],
             [
              0.8888888888888888,
              "#fdca26"
             ],
             [
              1,
              "#f0f921"
             ]
            ],
            "type": "heatmapgl"
           }
          ],
          "histogram": [
           {
            "marker": {
             "pattern": {
              "fillmode": "overlay",
              "size": 10,
              "solidity": 0.2
             }
            },
            "type": "histogram"
           }
          ],
          "histogram2d": [
           {
            "colorbar": {
             "outlinewidth": 0,
             "ticks": ""
            },
            "colorscale": [
             [
              0,
              "#0d0887"
             ],
             [
              0.1111111111111111,
              "#46039f"
             ],
             [
              0.2222222222222222,
              "#7201a8"
             ],
             [
              0.3333333333333333,
              "#9c179e"
             ],
             [
              0.4444444444444444,
              "#bd3786"
             ],
             [
              0.5555555555555556,
              "#d8576b"
             ],
             [
              0.6666666666666666,
              "#ed7953"
             ],
             [
              0.7777777777777778,
              "#fb9f3a"
             ],
             [
              0.8888888888888888,
              "#fdca26"
             ],
             [
              1,
              "#f0f921"
             ]
            ],
            "type": "histogram2d"
           }
          ],
          "histogram2dcontour": [
           {
            "colorbar": {
             "outlinewidth": 0,
             "ticks": ""
            },
            "colorscale": [
             [
              0,
              "#0d0887"
             ],
             [
              0.1111111111111111,
              "#46039f"
             ],
             [
              0.2222222222222222,
              "#7201a8"
             ],
             [
              0.3333333333333333,
              "#9c179e"
             ],
             [
              0.4444444444444444,
              "#bd3786"
             ],
             [
              0.5555555555555556,
              "#d8576b"
             ],
             [
              0.6666666666666666,
              "#ed7953"
             ],
             [
              0.7777777777777778,
              "#fb9f3a"
             ],
             [
              0.8888888888888888,
              "#fdca26"
             ],
             [
              1,
              "#f0f921"
             ]
            ],
            "type": "histogram2dcontour"
           }
          ],
          "mesh3d": [
           {
            "colorbar": {
             "outlinewidth": 0,
             "ticks": ""
            },
            "type": "mesh3d"
           }
          ],
          "parcoords": [
           {
            "line": {
             "colorbar": {
              "outlinewidth": 0,
              "ticks": ""
             }
            },
            "type": "parcoords"
           }
          ],
          "pie": [
           {
            "automargin": true,
            "type": "pie"
           }
          ],
          "scatter": [
           {
            "fillpattern": {
             "fillmode": "overlay",
             "size": 10,
             "solidity": 0.2
            },
            "type": "scatter"
           }
          ],
          "scatter3d": [
           {
            "line": {
             "colorbar": {
              "outlinewidth": 0,
              "ticks": ""
             }
            },
            "marker": {
             "colorbar": {
              "outlinewidth": 0,
              "ticks": ""
             }
            },
            "type": "scatter3d"
           }
          ],
          "scattercarpet": [
           {
            "marker": {
             "colorbar": {
              "outlinewidth": 0,
              "ticks": ""
             }
            },
            "type": "scattercarpet"
           }
          ],
          "scattergeo": [
           {
            "marker": {
             "colorbar": {
              "outlinewidth": 0,
              "ticks": ""
             }
            },
            "type": "scattergeo"
           }
          ],
          "scattergl": [
           {
            "marker": {
             "colorbar": {
              "outlinewidth": 0,
              "ticks": ""
             }
            },
            "type": "scattergl"
           }
          ],
          "scattermapbox": [
           {
            "marker": {
             "colorbar": {
              "outlinewidth": 0,
              "ticks": ""
             }
            },
            "type": "scattermapbox"
           }
          ],
          "scatterpolar": [
           {
            "marker": {
             "colorbar": {
              "outlinewidth": 0,
              "ticks": ""
             }
            },
            "type": "scatterpolar"
           }
          ],
          "scatterpolargl": [
           {
            "marker": {
             "colorbar": {
              "outlinewidth": 0,
              "ticks": ""
             }
            },
            "type": "scatterpolargl"
           }
          ],
          "scatterternary": [
           {
            "marker": {
             "colorbar": {
              "outlinewidth": 0,
              "ticks": ""
             }
            },
            "type": "scatterternary"
           }
          ],
          "surface": [
           {
            "colorbar": {
             "outlinewidth": 0,
             "ticks": ""
            },
            "colorscale": [
             [
              0,
              "#0d0887"
             ],
             [
              0.1111111111111111,
              "#46039f"
             ],
             [
              0.2222222222222222,
              "#7201a8"
             ],
             [
              0.3333333333333333,
              "#9c179e"
             ],
             [
              0.4444444444444444,
              "#bd3786"
             ],
             [
              0.5555555555555556,
              "#d8576b"
             ],
             [
              0.6666666666666666,
              "#ed7953"
             ],
             [
              0.7777777777777778,
              "#fb9f3a"
             ],
             [
              0.8888888888888888,
              "#fdca26"
             ],
             [
              1,
              "#f0f921"
             ]
            ],
            "type": "surface"
           }
          ],
          "table": [
           {
            "cells": {
             "fill": {
              "color": "#EBF0F8"
             },
             "line": {
              "color": "white"
             }
            },
            "header": {
             "fill": {
              "color": "#C8D4E3"
             },
             "line": {
              "color": "white"
             }
            },
            "type": "table"
           }
          ]
         },
         "layout": {
          "annotationdefaults": {
           "arrowcolor": "#2a3f5f",
           "arrowhead": 0,
           "arrowwidth": 1
          },
          "autotypenumbers": "strict",
          "coloraxis": {
           "colorbar": {
            "outlinewidth": 0,
            "ticks": ""
           }
          },
          "colorscale": {
           "diverging": [
            [
             0,
             "#8e0152"
            ],
            [
             0.1,
             "#c51b7d"
            ],
            [
             0.2,
             "#de77ae"
            ],
            [
             0.3,
             "#f1b6da"
            ],
            [
             0.4,
             "#fde0ef"
            ],
            [
             0.5,
             "#f7f7f7"
            ],
            [
             0.6,
             "#e6f5d0"
            ],
            [
             0.7,
             "#b8e186"
            ],
            [
             0.8,
             "#7fbc41"
            ],
            [
             0.9,
             "#4d9221"
            ],
            [
             1,
             "#276419"
            ]
           ],
           "sequential": [
            [
             0,
             "#0d0887"
            ],
            [
             0.1111111111111111,
             "#46039f"
            ],
            [
             0.2222222222222222,
             "#7201a8"
            ],
            [
             0.3333333333333333,
             "#9c179e"
            ],
            [
             0.4444444444444444,
             "#bd3786"
            ],
            [
             0.5555555555555556,
             "#d8576b"
            ],
            [
             0.6666666666666666,
             "#ed7953"
            ],
            [
             0.7777777777777778,
             "#fb9f3a"
            ],
            [
             0.8888888888888888,
             "#fdca26"
            ],
            [
             1,
             "#f0f921"
            ]
           ],
           "sequentialminus": [
            [
             0,
             "#0d0887"
            ],
            [
             0.1111111111111111,
             "#46039f"
            ],
            [
             0.2222222222222222,
             "#7201a8"
            ],
            [
             0.3333333333333333,
             "#9c179e"
            ],
            [
             0.4444444444444444,
             "#bd3786"
            ],
            [
             0.5555555555555556,
             "#d8576b"
            ],
            [
             0.6666666666666666,
             "#ed7953"
            ],
            [
             0.7777777777777778,
             "#fb9f3a"
            ],
            [
             0.8888888888888888,
             "#fdca26"
            ],
            [
             1,
             "#f0f921"
            ]
           ]
          },
          "colorway": [
           "#636efa",
           "#EF553B",
           "#00cc96",
           "#ab63fa",
           "#FFA15A",
           "#19d3f3",
           "#FF6692",
           "#B6E880",
           "#FF97FF",
           "#FECB52"
          ],
          "font": {
           "color": "#2a3f5f"
          },
          "geo": {
           "bgcolor": "white",
           "lakecolor": "white",
           "landcolor": "#E5ECF6",
           "showlakes": true,
           "showland": true,
           "subunitcolor": "white"
          },
          "hoverlabel": {
           "align": "left"
          },
          "hovermode": "closest",
          "mapbox": {
           "style": "light"
          },
          "paper_bgcolor": "white",
          "plot_bgcolor": "#E5ECF6",
          "polar": {
           "angularaxis": {
            "gridcolor": "white",
            "linecolor": "white",
            "ticks": ""
           },
           "bgcolor": "#E5ECF6",
           "radialaxis": {
            "gridcolor": "white",
            "linecolor": "white",
            "ticks": ""
           }
          },
          "scene": {
           "xaxis": {
            "backgroundcolor": "#E5ECF6",
            "gridcolor": "white",
            "gridwidth": 2,
            "linecolor": "white",
            "showbackground": true,
            "ticks": "",
            "zerolinecolor": "white"
           },
           "yaxis": {
            "backgroundcolor": "#E5ECF6",
            "gridcolor": "white",
            "gridwidth": 2,
            "linecolor": "white",
            "showbackground": true,
            "ticks": "",
            "zerolinecolor": "white"
           },
           "zaxis": {
            "backgroundcolor": "#E5ECF6",
            "gridcolor": "white",
            "gridwidth": 2,
            "linecolor": "white",
            "showbackground": true,
            "ticks": "",
            "zerolinecolor": "white"
           }
          },
          "shapedefaults": {
           "line": {
            "color": "#2a3f5f"
           }
          },
          "ternary": {
           "aaxis": {
            "gridcolor": "white",
            "linecolor": "white",
            "ticks": ""
           },
           "baxis": {
            "gridcolor": "white",
            "linecolor": "white",
            "ticks": ""
           },
           "bgcolor": "#E5ECF6",
           "caxis": {
            "gridcolor": "white",
            "linecolor": "white",
            "ticks": ""
           }
          },
          "title": {
           "x": 0.05
          },
          "xaxis": {
           "automargin": true,
           "gridcolor": "white",
           "linecolor": "white",
           "ticks": "",
           "title": {
            "standoff": 15
           },
           "zerolinecolor": "white",
           "zerolinewidth": 2
          },
          "yaxis": {
           "automargin": true,
           "gridcolor": "white",
           "linecolor": "white",
           "ticks": "",
           "title": {
            "standoff": 15
           },
           "zerolinecolor": "white",
           "zerolinewidth": 2
          }
         }
        },
        "title": {
         "text": "Price vs Certificate (For Sale) - snip untuk zoom agar lebih jelas"
        },
        "xaxis": {
         "anchor": "y",
         "categoryarray": [
          "SHM - Sertifikat Hak Milik",
          "Lainnya (PPJB,Girik,Adat,dll)",
          "HGB - Hak Guna Bangunan",
          "unknown",
          "Strata",
          "HP - Hak Pakai",
          "HS - Hak Sewa"
         ],
         "categoryorder": "array",
         "domain": [
          0,
          1
         ],
         "title": {
          "text": "sertifikat"
         }
        },
        "yaxis": {
         "anchor": "x",
         "domain": [
          0,
          1
         ],
         "title": {
          "text": "Price"
         }
        }
       }
      }
     },
     "metadata": {},
     "output_type": "display_data"
    }
   ],
   "source": [
    "df = pd.read_json('../Data Scraping/data/data_clean.json') \n",
    "\n",
    "# HUNIAN\n",
    "display(Markdown(\"<div align='center'><h2>====================</h2></div>\"))\n",
    "display(Markdown(\"<div align='center'><h2>Informasi Hunian</h2></div>\"))\n",
    "\n",
    "title = 'Boxplot Luas Bangunan Hunian'\n",
    "boxplot(df, 'luas_bangunan', title)\n",
    "\n",
    "title = 'Distribusi Jumlah Kamar Tidur di Hunian'\n",
    "bar(df, 'kamar_tidur', 'tipe_properti', 'Bedrooms', title)\n",
    "\n",
    "title = 'Distribusi Jumlah Kamar Mandi di Hunian'\n",
    "bar(df, 'kamar_mandi', 'tipe_properti', 'Bathrooms', title)\n",
    "\n",
    "title = 'Distribusi Sertifikat Hunian'\n",
    "bar(df, 'sertifikat', 'tipe_properti', 'Certificate', title)\n",
    "\n",
    "# RUMAH\n",
    "display(Markdown(\"<div align='center'><h2>====================</h2></div>\"))\n",
    "display(Markdown(\"<div align='center'><h2>Informasi Rumah</h2></div>\"))\n",
    "rumah = df[df['tipe_properti'] == 'Rumah']\n",
    "\n",
    "title = 'Boxplot Luas Tanah Rumah'\n",
    "boxplot(df, 'luas_tanah', title)\n",
    "\n",
    "title = 'Distribusi Ketersediaan Taman di Rumah'\n",
    "pie(rumah, 'taman', 'Garden', title)\n",
    "\n",
    "title = 'Distribusi Jumlah Carport di Rumah'\n",
    "dist = rumah.groupby('carport').size().reset_index(name='count')\n",
    "fig = px.bar(dist, x='carport', y='count', title=title + ' - snip untuk zoom agar lebih jelas',\n",
    "            labels={'count': 'Count'},\n",
    "            color_discrete_sequence=px.colors.qualitative.Pastel1)\n",
    "fig.show()\n",
    "\n",
    "# APARTEMEN\n",
    "display(Markdown(\"<div align='center'><h2>====================</h2></div>\"))\n",
    "display(Markdown(\"<div align='center'><h2>Informasi Apartemen</h2></div>\"))\n",
    "apartemen = df[df['tipe_properti'] == 'Apartemen']\n",
    "\n",
    "title = 'Distribusi Kondisi Properti'\n",
    "pie(apartemen, 'kondisi_properti', 'Condition', title)\n",
    "\n",
    "title = 'Distribusi Kondisi Perabotan'\n",
    "pie(apartemen, 'kondisi_perabotan', 'Furniture', title)\n",
    "\n",
    "# AGEN\n",
    "display(Markdown(\"<div align='center'><h2>====================</h2></div>\"))\n",
    "display(Markdown(\"<div align='center'><h2>Informasi Agen</h2></div>\"))\n",
    "df['affiliate'] = np.where(df['nama_perusahaan'].notnull(), 'affiliated', 'independent')\n",
    "title = 'Distribusi Status Agen'\n",
    "pie(df, 'affiliate', 'Affiliation', title)\n",
    "\n",
    "# TOP 5 AGEN\n",
    "display(Markdown(\"<div align='center'><h2>====================</h2></div>\"))\n",
    "agen_summary = pd.read_json('../Data Scraping/data/agen.json')\n",
    "agen_summary['total'] = agen_summary['terjual'] + agen_summary['tersewa']\n",
    "top_5_agen = agen_summary.sort_values(by='total', ascending=False).head(5)\n",
    "styled_df = top_5_agen[['nama_agen', 'nama_perusahaan', 'terjual', 'tersewa']].style.hide(axis='index')\n",
    "display(Markdown(\"<div align='center'><h3>Top 5 Agents by Total Sales and Rentals</h3></div>\"))\n",
    "display(styled_df)\n",
    "\n",
    "# DISEWAKAN\n",
    "display(Markdown(\"<div align='center'><h2>====================</h2></div>\"))\n",
    "display(Markdown(\"<div align='center'><h2>Informasi Properti Disewakan</h2></div>\"))\n",
    "df['harga_per_bulan'] = df.apply(calculate_harga_per_bulan, axis=1)\n",
    "sewa_df = df[df['tipe_iklan'] == 'sewa']\n",
    "title = 'Distribusi Periode Sewa'\n",
    "pie(sewa_df, 'periode_kepemilikan', 'period', title)\n",
    "display(Markdown(\"**Harga per Bulan vs Luas Bangunan**\"))\n",
    "scatter(sewa_df, title='Price per Month vs Building Area by Property Type (For Rent)', x_='luas_bangunan', color_='tipe_properti')\n",
    "scatter(sewa_df, title='Price per Month vs Certificate (For Rent)', x_='sertifikat', color_='sertifikat')\n",
    "\n",
    "# DIJUAL\n",
    "display(Markdown(\"<div align='center'><h2>====================</h2></div>\"))\n",
    "display(Markdown(\"<div align='center'><h2>Informasi Properti Dijual</h2></div>\"))\n",
    "jual_df = df[df['tipe_iklan'] == 'jual']\n",
    "display(Markdown(\"**Harga vs Luas Bangunan**\"))\n",
    "scatter(jual_df, title='Price vs Building Area by Property Type (For Sale)', x_='luas_bangunan', color_='tipe_properti')\n",
    "scatter(jual_df, title='Price vs Certificate (For Sale)', x_='sertifikat', color_='sertifikat')"
   ]
  }
 ],
 "metadata": {
  "kernelspec": {
   "display_name": "Python 3",
   "language": "python",
   "name": "python3"
  },
  "language_info": {
   "codemirror_mode": {
    "name": "ipython",
    "version": 3
   },
   "file_extension": ".py",
   "mimetype": "text/x-python",
   "name": "python",
   "nbconvert_exporter": "python",
   "pygments_lexer": "ipython3",
   "version": "3.12.0"
  }
 },
 "nbformat": 4,
 "nbformat_minor": 2
}
