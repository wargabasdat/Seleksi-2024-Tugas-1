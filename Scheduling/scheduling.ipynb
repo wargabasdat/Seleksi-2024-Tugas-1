{
 "cells": [
  {
   "cell_type": "markdown",
   "metadata": {},
   "source": [
    "<div align=\"center\">\n",
    "  <h1>Scheduling</h1>\n",
    "  <h2>Data Hunian Rumah dan Apartemen di Jakarta Pusat</h2>\n",
    "</div>"
   ]
  },
  {
   "cell_type": "markdown",
   "metadata": {},
   "source": [
    "- Install dan import library"
   ]
  },
  {
   "cell_type": "code",
   "execution_count": 1,
   "metadata": {},
   "outputs": [],
   "source": [
    "# # jika packages berikut belum terinstall, un-comment dan jalankan cell ini untuk menginstallnya\n",
    "# %pip install nbformat --quiet\n",
    "# %pip install schedule --quiet\n",
    "\n",
    "# note: jika ada yang belum terinstall lakukan command di cell baru:\n",
    "# %pip install <nama package>"
   ]
  },
  {
   "cell_type": "code",
   "execution_count": 2,
   "metadata": {},
   "outputs": [],
   "source": [
    "import nbformat, os, schedule\n",
    "from datetime import datetime"
   ]
  },
  {
   "cell_type": "markdown",
   "metadata": {},
   "source": [
    "- Membuat job untuk dijalankan"
   ]
  },
  {
   "cell_type": "code",
   "execution_count": 3,
   "metadata": {},
   "outputs": [],
   "source": [
    "def execute_notebook(notebook_path):\n",
    "    notebook = nbformat.read(notebook_path, as_version=4)\n",
    "    for cell in notebook.cells:\n",
    "        if cell.cell_type == 'code':\n",
    "            exec(cell.source, globals())\n",
    "\n",
    "def job():\n",
    "    timestamp = datetime.now().strftime('%Y-%m-%d %H:%M:%S')\n",
    "    os.environ['CURRENT_DIR'] = os.path.abspath('../Data Scraping/src')\n",
    "\n",
    "    scraping_in = os.path.abspath(os.path.join(os.environ['CURRENT_DIR'], 'scraping.ipynb'))\n",
    "    preprocessing_in = os.path.abspath(os.path.join(os.environ['CURRENT_DIR'], 'preprocessing.ipynb'))\n",
    "    storing_in = os.path.abspath(os.path.join(os.environ['CURRENT_DIR'], 'storing.ipynb'))\n",
    "\n",
    "    execute_notebook(scraping_in)\n",
    "    execute_notebook(preprocessing_in)\n",
    "    execute_notebook(storing_in)\n",
    "    print('\\nJOB START RUNNING AT: ', timestamp)"
   ]
  },
  {
   "cell_type": "markdown",
   "metadata": {},
   "source": [
    "- Menjadwalkan keseluruhan proses setiap hari"
   ]
  },
  {
   "cell_type": "code",
   "execution_count": 4,
   "metadata": {},
   "outputs": [
    {
     "name": "stdout",
     "output_type": "stream",
     "text": [
      "==> scraping in process: (\u001b[91m200\u001b[0m/\u001b[92m200\u001b[0m)\n",
      "\n",
      "\u001b[91m............................\u001b[0m\n",
      "............................\n",
      "\u001b[92m............................\u001b[0m\n",
      "==== scraping completed ====\n",
      "\n",
      "-> data obtained\t\t: (\u001b[92m200\u001b[0m/\u001b[92m200\u001b[0m)\n",
      "-> timestamp (started at)\t: 2024-07-31 01:55:01\n",
      "\n",
      "\u001b[91m.................................\u001b[0m\n",
      ".................................\n",
      "\u001b[92m.................................\u001b[0m\n",
      "==== preprocessing completed ====\n",
      "\n",
      "-> total raw data\t: 3721\n",
      "-> total data deleted\t: \u001b[91m191\u001b[0m\n",
      "-> total clean data\t: \u001b[92m3530\u001b[0m\n",
      "\n",
      "\u001b[91m............................\u001b[0m\n",
      "............................\n",
      "\u001b[92m............................\u001b[0m\n",
      "\u001b[92mData storing has been completed!\u001b[0m\n",
      "\n",
      "Database property has been dumped to:\n",
      " 'c:\\Users\\naufn\\Documents\\gitHub\\Seleksi-2024-Tugas-1\\Data Scraping\\src\\..\\..\\Data Storing\\export\\property.sql'\n",
      "\n",
      "JOB START RUNNING AT:  2024-07-31 01:55:00\n"
     ]
    }
   ],
   "source": [
    "schedule.every().day.at(\"01:55\").do(job)\n",
    "\n",
    "while True:\n",
    "    schedule.run_pending()"
   ]
  }
 ],
 "metadata": {
  "kernelspec": {
   "display_name": "Python 3",
   "language": "python",
   "name": "python3"
  },
  "language_info": {
   "codemirror_mode": {
    "name": "ipython",
    "version": 3
   },
   "file_extension": ".py",
   "mimetype": "text/x-python",
   "name": "python",
   "nbconvert_exporter": "python",
   "pygments_lexer": "ipython3",
   "version": "3.12.0"
  }
 },
 "nbformat": 4,
 "nbformat_minor": 2
}
